{
  "nbformat": 4,
  "nbformat_minor": 0,
  "metadata": {
    "colab": {
      "provenance": []
    },
    "kernelspec": {
      "name": "python3",
      "display_name": "Python 3"
    }
  },
  "cells": [
    {
      "cell_type": "markdown",
      "metadata": {
        "id": "47zhKygt16DR"
      },
      "source": [
        "## <font color='blue' face='Helvetica'>Introduction to Natural Language Processing</font>"
      ]
    },
    {
      "cell_type": "markdown",
      "metadata": {
        "id": "GeSccFn3kPfE"
      },
      "source": [
        "<font color='crimson'>**Objective:** use speech and words along with computer run algorithms.\n",
        "\n",
        "<span style=\"font-family:Calibri; color:darkblue; font-size:18pt;\">Examples of projects/research with NLP:</span>\n",
        "\n",
        "<font color='blue'>*Sentiment Analysis*</font> - How positive or negative is text about a topic?\n",
        "\n",
        "<font color='blue'>*Prediction*</font> - What genres should Netflix classify a movie as to maximize views? Based on product reviews, can we predict the star rating of a product?\n",
        "\n",
        "<font color='blue'>*Translation*</font> - Recognize words in one language to provide similar words in another.\n",
        "\n",
        "**Playground:** https://www.deepl.com/translator\n",
        "\n",
        "\n",
        "<font color='blue'>*Summarization*</font> - Take a long document and produce a shorter one (a synthesis) without losing meaningful information.\n",
        "\n",
        "\n",
        "<font color='forestgreen'>**Methods:**</font> <span style=\"font-family:Calibri; color:red; font-size:12pt;\">The main idea is to quantify the occurrence of relevant words and, based on the context, to map them into vectors. That is to say that we want to create mathematically representable quantities from words and text; they will serve as features for data analysis. One approach is separate the text data into sentences and then sentences can be used to extract (key) words and expressions.</span>\n",
        "\n",
        "### <font color='blue'> Regular Expressions (regex) </font>\n",
        "\n",
        "Goal: provide a language that allows us to search for different text strings.\n",
        "\n",
        "For example, Regular Expressions (frequently called “regex”) allows us to label all tweets with a “1” if they contain the following list of words:\n",
        "\n",
        "- college\n",
        "- College of\n",
        "- colleges\n",
        "- The College\n",
        "\n",
        "The idea is to detect that in all expressions above we have the same concept \"college\".\n",
        "\n",
        "\n",
        "\n",
        "<font color='blue' face='Calibri' size=5pt>Examples of common REGEX patterns</font>\n",
        "\n",
        "**[tT]**imber  - would match lower or uppercase T\n",
        "\n",
        "**[A-Z]** - would match any capital character\n",
        "\n",
        "**[a-z]** - would match any lowercase character\n",
        "\n",
        "**[0-9]** - would match any single number (i.e., 9)\n",
        "\n",
        "**[^A-Z]** - would match anything that isn’t an uppercase letter.\n",
        "\n",
        "**\\w** - would match any letter.\n",
        "\n",
        "A comprehensive manual on regex can be found here:\n",
        "https://www3.ntu.edu.sg/home/ehchua/programming/howto/Regexe.html"
      ]
    },
    {
      "cell_type": "markdown",
      "metadata": {
        "id": "PccWWofSiCMO"
      },
      "source": [
        "###Example:\n",
        "\n",
        "<figure>\n",
        "<center>\n",
        "<img src='https://drive.google.com/uc?id=1AMHbSgq3MHcv8Q8ljnHvl5IkxTKkzGkx'\n",
        "width='600px' />\n",
        "<figcaption>Data from (old) Twitter</figcaption></center>\n",
        "</figure>\n"
      ]
    },
    {
      "cell_type": "markdown",
      "metadata": {
        "id": "0WE1A7C8AeVy"
      },
      "source": [
        "### <font face='Calibri' color='blue' size=5pt>The Bag of Words model (BoW)</font>\n",
        "\n",
        "**Main Goal:** use concurrences within context and counts of keywords to make predictions.\n",
        "\n",
        "**Observation:** there are many words that do not matter (such as prepositions or definite and indefinite articles).\n",
        "\n",
        "**Important:** each word can be translated into a binary value of occurrence.\n",
        "\n",
        "<span style=\"font-family:Calibri; color:darkblue; font-size:5pt;\">Analog Example:</span>\n",
        "\n",
        "*Statement 1*: Jurassic World was the pinnacle of human achievement.\n",
        "\n",
        "*Statement 2*: Human kind would be better without Jurassic World.\n",
        "\n",
        "\n",
        "<figure>\n",
        "<center>\n",
        "<img src='https://drive.google.com/uc?id=1EUGNgop58BOOhFGHR3iKs5gXbrji6jEM'\n",
        "width='600px' />\n",
        "<figcaption>What is the difference in the statements above?</figcaption></center>\n",
        "</figure>\n",
        "\n",
        "\n",
        "\n",
        "**Method**: we discard the *stopwords* such as articles, prepositions, verbs and retain the *corpus* (important words or *roots* of important words).\n",
        "\n",
        "\n",
        "\n",
        "A simple model based on this data:\n",
        "\n",
        "<figure>\n",
        "<center>\n",
        "<img src='https://drive.google.com/uc?id=1-uuXfXiYlmub8DauhxhYYCP2TKqfdvoB'\n",
        "width='600px' />\n",
        "<figcaption>The differences can be highlighted by using a count/vectorizer method</figcaption></center>\n",
        "</figure>\n",
        "\n",
        "**Main idea:** analyze differences and co-occurrencies.\n",
        "\n",
        "**Known Problems:**\n",
        "\n",
        " - If some sentences are much longer in length, the vocabulary would increase and as such, the length of the vectors would increase; this is a dimensionality problem.\n",
        " - The new sentences may contain more different words from the previous sentences.\n",
        " - The vectors would also contain many zeros, thereby resulting in a sparse matrix.\n",
        " - No information on the grammatical structure or the actual ordering of the words is being used.\n",
        "\n",
        "**Possible Solution:** Term Frequency-Inverse Document Frequency (TF-IDF)\n",
        "\n",
        "The term frequency-inverse document frequency is a measure that quantifies the importance of a word in the context of a document or a *corpus*.\n",
        "\n",
        "The *term-frequency* of a word is the relative frequency of the term in the context of the document.\n",
        "\n",
        "$$\\text{TF}(t,d):=\\frac{\\text{# of times the term appears in the document}}{\\text{# of terms in the document }}$$\n",
        "\n",
        "\n",
        "The *inverse document frequency* is defined as:\n",
        "\n",
        "$$\\text{IDF}(t,d):=\\log\\left(\\frac{\\text{# of documents}}{\\text{# of documents with term } t}\\right)$$\n",
        "\n",
        "Our quantification of relative importance is defined as the product between TF and IDF.\n",
        "\n",
        "TF-IDF gives larger values for less frequent words and is high when both IDF and TF values are high, for instance the word is rare in all the documents combined but frequent in a single document.\n",
        "\n",
        "A good Python example can be found here:\n",
        "\n",
        "https://towardsdatascience.com/natural-language-processing-feature-engineering-using-tf-idf-e8b9d00e7e76\n"
      ]
    },
    {
      "cell_type": "markdown",
      "source": [
        "### <font color='blue'> Pre-Processing </font>\n",
        "\n",
        "We assume that, up to this point, we imported the data (both reviews and corresponding start ratings.) The reviews are stored in a variable that has the same name.\n",
        "\n",
        "We are considering a step process:\n",
        "\n",
        "\n",
        "\n",
        "*   change all characters to lower case\n",
        "*   remove punctuation\n",
        "*   separate the different words in each review\n",
        "*   discard the \"stopwords\"\n",
        "*   lemmatize or stem the remaining words\n"
      ],
      "metadata": {
        "id": "VPyC_Hub1k86"
      }
    },
    {
      "cell_type": "markdown",
      "metadata": {
        "id": "RkA8T6AltEMI"
      },
      "source": [
        "## <font color='blue'> Probabilistic Language Modeling\n",
        "\n",
        "**IMPORTANT** The conditional probability rule:\n",
        "\n",
        "$$\\large P(A\\cap B) = P(A) \\cdot P(B|A)$$\n",
        "\n",
        "**Goal:** Assign the probability that a sequence of words such as $(w_1,w_2,w_3,...w_n)$ occurs:\n",
        "\n",
        "$$\\text{P}(\\text{Sentence})=\\text{P}(w_1,w_2,w_3,...w_n)=\\text{P}(w_1)\\cdot\\text{P}(w_2,w_3,w_4...w_n|w_1)=$$\n",
        "\n",
        "Smartphones use this information to predict what the next word you will type will be, for example:\n",
        "\n",
        "$$\\text{P}(w_1,w_2,w_3,w_4)=\\text{P}(w_1)\\cdot\\text{P}(w_4,w_3,w_2|w_1)=\\text{P}(w_1)\\cdot\\text{P}(w_2|w_1)\\cdot\\text{P}(w_4,w_3|w_2,w_1)=\\text{P}(w_1)\\cdot\\text{P}(w_2|w_1)\\cdot\\text{P}(w_3|w_1,w_2)\\cdot\\text{P}(w_4|w_1,w_2,w_3)$$\n",
        "\n",
        "which mean the probability of word $w_4$ provided the words $w_1, w_2$ and $w_3$ occurred.\n",
        "\n",
        "<font face='Calibri' color='blue' size=4pt>Critical thinking:</span> How do we compute these probability values?</font>\n",
        "\n",
        "<span style=\"font-family:Calibri; color:red; font-size:14pt;\">Reasoning:</span> We compute the frequency of occurrence for different sequences of words.\n",
        "\n",
        "\n",
        "<span style=\"font-family:Calibri; color:darkgreen; font-size:12pt;\"> P(today | It, is, sunny) = 50%\n",
        "The model you use to predict is called the “language model” </span>\n",
        "\n",
        "\n",
        "<span style=\"font-family:Calibri; color:purple; font-size:14pt;\"> Important Concept:</span> The Conditional Probability Rule states that probabilities of an events in the future are defined by the multiplication of all (conditional) probabilities leading to that given event.\n",
        "\n",
        "P(Today, it, was, sunny) = P(Today)  P(it | Today) P(was | Today, it)  P(sunny | Today, it, was)\n",
        "\n",
        "P(Today, is, the, fiftennth) = P(Today) P(is | Today) P(the | Today, is) P(fifteenth | Today, is, the)\n",
        "\n",
        "1. Unigram Models:\n",
        "        a. P(rainy | Today, it, was) ~ P(Today) P(it) P(was)\n",
        "2. Bigram Models:\n",
        "        a. P(rainy| Today, it, was) ~ P(rainy | was)\n",
        "3. N-gram models:\n",
        "        a. Same as the above, but for arbitrary distances.\n",
        "        b. For example a tri-gram: P(rainy | Today, it, was)\n",
        "            \n",
        "Often used in nested ways (i.e., a 3-gram model + unigram).\n",
        "\n",
        "\n",
        "### <font color='blue'>  Evaluating NLP </font>\n",
        "\n",
        "• The goal of any NLP activity is important in deciding how to evaluate it.\n",
        "\n",
        "• In a Bag of Words model, evaluation can come from classification accuracy (i.e., you have a training and test dataset).\n",
        "\n",
        "• But what if you’re writing an algorithm that predicts the next word for a texting app?\n",
        "\n",
        "### <font color='blue'> Perplexity an evaluative measure for NLP </font>\n",
        "\n",
        "One might expect a model to be good at predicting cold in this sentence:\n",
        "\n",
        "“It is cold.”\n",
        "\n",
        "And not as good at predicting:\n",
        "\n",
        "“It is very cool outside when the winter is cold”\n",
        "\n",
        "For a variety of reasons; the biggest is the complexity/length of the sentence.\n",
        "\n",
        "• Perplexity is a measurement of how well a probability model predicts a test data. In the context of Natural Language Processing, perplexity is one way to evaluate language models.\n",
        "\n",
        "• Perplexity is an exponentiation of the entropy.\n",
        "\n",
        "• Low perplexity is good and high perplexity is bad since the perplexity is the exponentiation of an \\cdotentropy\\cdot.\n",
        "\n",
        "• The goal is to minimize Perplexity(W).\n",
        "\n",
        "Calculation of perplexity for a full a sequence of words:\n",
        "\n",
        "$$\\sqrt[n]{\\prod_{i=1}^{n}\\frac{1}{P(w_i|w_{1}w_{2}...w_{i-1})}}$$\n",
        "\n",
        "Important applciations for Natural Language Processing:\n",
        "\n",
        "    • Sentiment Analysis\n",
        "\n",
        "    • Speech Recognition\n",
        "\n",
        "    • Information Retrieval\n",
        "\n",
        "    • Question Answering\n",
        "\n",
        "<span style=\"font-family:Calibri; color:blue; font-size:14pt;\">Big Idea:</span> Represent words as vectors: GloVe, Word2Vec algorithms (both are based on neural networks)."
      ]
    },
    {
      "cell_type": "markdown",
      "metadata": {
        "id": "KCVGm4mKJ3Kg"
      },
      "source": [
        "### <font color='blue'> Global Vectors for Word Representations (GloVe) </font>\n",
        "\n",
        "Reference: https://nlp.stanford.edu/projects/glove/\n",
        "\n",
        "Example for using the vector words:  <font color='red'>monarch - man = queen.</font>\n",
        "\n",
        "The main idea is that we can do more than just counting occurences but rather represent the words from the vocabulary of a language as vectors whose entries are real numbers. As such, the GloVe algorithm is analysing word \\cdotco-occurrencies\\cdot within a text corpus; the steps are as follows:\n",
        "\n",
        "1.   A *co-occurence* matrix $X$ is created where its entries $X_{ij}$ represent how often word $i$ is present in the context of the word $j$. Thus there is a parsing of the corpus for building the matrix $X$ and then the model is constructed based on this matrix.\n",
        "2.   For the words $i$ and $j$ we create vectors $\\vec{w}_i$ and $\\vec{w}_j$ such that $$\\vec{w}_i^T\\cdot\\vec{w}_j+b_i+b_j=\\log (X_{ij})$$ where $b_i$ and $b_j$ are bias terms (i.e. intercept terms for a regression model). We want to build word vectors that retain useful information of how words $i$ and $j$ co-occur.\n",
        "3.   In order to determine the entries for the $\\vec{w}_i$, we minimize the following objective function $$J:=\\sum_{i=1}^{V}\\sum_{j=1}^{V}f(X_{ij}) \\left(\\vec{w}_i^T\\cdot\\vec{w}_j+b_i+b_j-\\log (X_{ij})\\right)^2$$\n",
        "4.   The function $f$ is chosen in order to prevent the skewing of the objective function by the words that co-occur too often. In this sense a choice for the function $f$ could be $$f(X_{ij}):=\\begin{cases}\n",
        "\\left(\\frac{X_{ij}}{x_{max}}\\right)^{\\alpha} \\text{if} \\;\\; X_{ij}<x_{max} \\\\\n",
        "1 \\;\\;\\; \\text{otherwise}\n",
        "\\end{cases}\n",
        "$$ where $\\alpha$ and $x_{max}$ can be adjusted by the user.\n",
        "\n",
        "\n",
        "\n",
        "\n"
      ]
    },
    {
      "cell_type": "markdown",
      "source": [
        "### <font color='blue'> Code Applications </font>\n",
        "---"
      ],
      "metadata": {
        "id": "zL758vqvjfi-"
      }
    },
    {
      "cell_type": "markdown",
      "source": [
        "### <font color='blue'> Setup </font>"
      ],
      "metadata": {
        "id": "j-QriDd0keJy"
      }
    },
    {
      "cell_type": "code",
      "metadata": {
        "id": "qjXxyULYjYT9",
        "colab": {
          "base_uri": "https://localhost:8080/"
        },
        "outputId": "3cf6cd5c-6a95-4f4d-f373-78353ac91b7e"
      },
      "source": [
        "# import libraries\n",
        "import re\n",
        "import heapq\n",
        "import numpy as np\n",
        "import pandas as pd\n",
        "from urllib.request import urlopen\n",
        "\n",
        "# if you need to plot anything\n",
        "%matplotlib inline\n",
        "%config InlineBackend.figure_format = 'retina'\n",
        "import matplotlib.pyplot as plt\n",
        "\n",
        "# Stopword dictionary\n",
        "import nltk\n",
        "from nltk.corpus import stopwords\n",
        "nltk.download('stopwords')\n",
        "from nltk import download, wordnet\n",
        "nltk.download('omw-1.4')\n",
        "download('punkt')\n",
        "download('stopwords')\n",
        "download(\"wordnet\")\n",
        "\n",
        "# For stemming\n",
        "from nltk.stem.porter import PorterStemmer\n",
        "from nltk.stem import WordNetLemmatizer\n",
        "stemmer = PorterStemmer()\n",
        "lemmatizer = WordNetLemmatizer()\n",
        "\n",
        "\n",
        "from sklearn.feature_extraction.text import CountVectorizer, TfidfVectorizer\n",
        "cv = CountVectorizer()\n",
        "tfidf = TfidfVectorizer()\n",
        "\n",
        "# let's import ML algorithms for classification\n",
        "from sklearn.svm import SVC\n",
        "from sklearn.linear_model import LogisticRegression\n",
        "from sklearn.neighbors import KNeighborsClassifier\n",
        "from sklearn.ensemble import RandomForestClassifier\n",
        "from sklearn.model_selection import train_test_split as tts, KFold, StratifiedKFold\n",
        "from sklearn.metrics import accuracy_score as ac, confusion_matrix as cm, ConfusionMatrixDisplay as CMD"
      ],
      "execution_count": 17,
      "outputs": [
        {
          "output_type": "stream",
          "name": "stderr",
          "text": [
            "[nltk_data] Downloading package stopwords to /root/nltk_data...\n",
            "[nltk_data]   Package stopwords is already up-to-date!\n",
            "[nltk_data] Downloading package omw-1.4 to /root/nltk_data...\n",
            "[nltk_data]   Package omw-1.4 is already up-to-date!\n",
            "[nltk_data] Downloading package punkt to /root/nltk_data...\n",
            "[nltk_data]   Package punkt is already up-to-date!\n",
            "[nltk_data] Downloading package stopwords to /root/nltk_data...\n",
            "[nltk_data]   Package stopwords is already up-to-date!\n",
            "[nltk_data] Downloading package wordnet to /root/nltk_data...\n",
            "[nltk_data]   Package wordnet is already up-to-date!\n"
          ]
        }
      ]
    },
    {
      "cell_type": "markdown",
      "source": [
        "What is a pattern for NLP? Answer: A pattern is a sequence of ASCII characters."
      ],
      "metadata": {
        "id": "Ke-uPG9ecGfg"
      }
    },
    {
      "cell_type": "code",
      "metadata": {
        "id": "_XnTsc2O60Ol",
        "colab": {
          "base_uri": "https://localhost:8080/"
        },
        "outputId": "96be3f48-148f-4187-b402-8c8a977b0e74"
      },
      "source": [
        "pattern = \"[cC]hoco\"\n",
        "pattern2 = \"[cC]ustard\"\n",
        "pattern3 = \"icecream\"\n",
        "sentence1 = \"Chocolate is very delicious.\"\n",
        "sentence2 = \"This new recipe deliciously implemented a new idea about the texture of the chocolate.\"\n",
        "sentence3 = \"Chocolate has too many calories and we have to be careful.\"\n",
        "if re.search(pattern3, sentence3):\n",
        "  print(\"Match!\")\n",
        "else: print(\"Not a match!\")"
      ],
      "execution_count": null,
      "outputs": [
        {
          "output_type": "stream",
          "name": "stdout",
          "text": [
            "Not a match!\n"
          ]
        }
      ]
    },
    {
      "cell_type": "code",
      "metadata": {
        "colab": {
          "base_uri": "https://localhost:8080/",
          "height": 35
        },
        "id": "c7uzyAEoroFB",
        "outputId": "8a546b35-e541-48c5-ea1f-863169d513a6"
      },
      "source": [
        "pattern"
      ],
      "execution_count": null,
      "outputs": [
        {
          "output_type": "execute_result",
          "data": {
            "text/plain": [
              "'[cC]hoco'"
            ],
            "application/vnd.google.colaboratory.intrinsic+json": {
              "type": "string"
            }
          },
          "metadata": {},
          "execution_count": 3
        }
      ]
    },
    {
      "cell_type": "markdown",
      "metadata": {
        "id": "2BaUHIou70ez"
      },
      "source": [
        "###An example for replacing the spaces between words:"
      ]
    },
    {
      "cell_type": "code",
      "metadata": {
        "id": "EKtrHwsD65vM",
        "colab": {
          "base_uri": "https://localhost:8080/",
          "height": 35
        },
        "outputId": "b8555b77-af08-4021-fc33-c3e2c20c8a19"
      },
      "source": [
        "text = \"This chocolate is delicious but it may have too many calories, such as 400.\"\n",
        "re.sub('[^a-zA-Z0-9]','&',text)"
      ],
      "execution_count": null,
      "outputs": [
        {
          "output_type": "execute_result",
          "data": {
            "text/plain": [
              "'This&chocolate&is&delicious&but&it&may&have&too&many&calories&&such&as&400&'"
            ],
            "application/vnd.google.colaboratory.intrinsic+json": {
              "type": "string"
            }
          },
          "metadata": {},
          "execution_count": 6
        }
      ]
    },
    {
      "cell_type": "code",
      "metadata": {
        "id": "SnJyZUQ5D_Uj"
      },
      "source": [
        "text = \"This chocolate is delicious but it may have too many calories, such as five hundred.\""
      ],
      "execution_count": null,
      "outputs": []
    },
    {
      "cell_type": "code",
      "source": [
        "# here we can separate the different words\n",
        "text.split()"
      ],
      "metadata": {
        "colab": {
          "base_uri": "https://localhost:8080/"
        },
        "id": "E8alHKVvSKAZ",
        "outputId": "9c358d46-c2c1-4401-cc28-6abc0dd4ec23"
      },
      "execution_count": null,
      "outputs": [
        {
          "output_type": "execute_result",
          "data": {
            "text/plain": [
              "['This',\n",
              " 'chocolate',\n",
              " 'is',\n",
              " 'delicious',\n",
              " 'but',\n",
              " 'it',\n",
              " 'may',\n",
              " 'have',\n",
              " 'too',\n",
              " 'many',\n",
              " 'calories,',\n",
              " 'such',\n",
              " 'as',\n",
              " 'five',\n",
              " 'hundred.']"
            ]
          },
          "metadata": {},
          "execution_count": 9
        }
      ]
    },
    {
      "cell_type": "code",
      "metadata": {
        "id": "xYZnVLP7D_bo"
      },
      "source": [
        "info = text.split(sep=' ')"
      ],
      "execution_count": null,
      "outputs": []
    },
    {
      "cell_type": "code",
      "metadata": {
        "colab": {
          "base_uri": "https://localhost:8080/",
          "height": 35
        },
        "id": "J3FhdSloEXyl",
        "outputId": "aa1c0b5f-c418-44cf-e1ba-7d4ec77dacec"
      },
      "source": [
        "# info is now an array of different words\n",
        "info[2]"
      ],
      "execution_count": null,
      "outputs": [
        {
          "output_type": "execute_result",
          "data": {
            "application/vnd.google.colaboratory.intrinsic+json": {
              "type": "string"
            },
            "text/plain": [
              "'is'"
            ]
          },
          "metadata": {},
          "execution_count": 13
        }
      ]
    },
    {
      "cell_type": "markdown",
      "metadata": {
        "id": "3dk4zqK08L7y"
      },
      "source": [
        "###An example for matching a patttern (a sequence of characters)"
      ]
    },
    {
      "cell_type": "code",
      "metadata": {
        "id": "cL91n3Zy7x08",
        "colab": {
          "base_uri": "https://localhost:8080/"
        },
        "outputId": "3d534673-0772-4799-851e-7f046c9405d7"
      },
      "source": [
        "pattern = r\"[cC]hoco\"\n",
        "sequence = \"Chocolate is delicious\"\n",
        "if re.match(pattern, sequence):\n",
        "  print(\"Match!\")\n",
        "else: print(\"Not a match!\")"
      ],
      "execution_count": null,
      "outputs": [
        {
          "output_type": "stream",
          "name": "stdout",
          "text": [
            "Match!\n"
          ]
        }
      ]
    },
    {
      "cell_type": "markdown",
      "metadata": {
        "id": "sxp0kAGuMc2y"
      },
      "source": [
        "### Rooting words is very important ! (in short, an identifier of the meaning of the word)"
      ]
    },
    {
      "cell_type": "code",
      "metadata": {
        "id": "dAp3N5p88Wwc",
        "colab": {
          "base_uri": "https://localhost:8080/"
        },
        "outputId": "16feeed9-835d-4f08-d621-efc73115b9f2"
      },
      "source": [
        "pattern = r\"good for you\"\n",
        "sentence = \"Chocolate is delicious and good for you\"\n",
        "if re.search(pattern, sentence):\n",
        "  print(\"Match!\")\n",
        "else: print(\"Not a match!\")"
      ],
      "execution_count": null,
      "outputs": [
        {
          "output_type": "stream",
          "text": [
            "Match!\n"
          ],
          "name": "stdout"
        }
      ]
    },
    {
      "cell_type": "markdown",
      "metadata": {
        "id": "HeXHM2fn9zil"
      },
      "source": [
        "###Example:\n",
        "\n",
        "<figure>\n",
        "<center>\n",
        "<img src='https://drive.google.com/uc?id=1AMHbSgq3MHcv8Q8ljnHvl5IkxTKkzGkx'\n",
        "width='600px' />\n",
        "<figcaption>Data from Twitter</figcaption></center>\n",
        "</figure>\n"
      ]
    },
    {
      "cell_type": "code",
      "metadata": {
        "id": "Fr1AOY-18eRD"
      },
      "source": [
        "text = \"\"\"Rep. Stephanie Murphy Verified account @RepStephMurphy Aug 30 More Celebrating 100yrs of coeducation at @williamandmary,\n",
        "        it was a true honor to return to my alma mater & join its first female president, Katherine Rowe, to welcome students at their convocation.\n",
        "        I spoke about the power of patriotism & the urgent need for active, engaged citizens.\"\"\""
      ],
      "execution_count": null,
      "outputs": []
    },
    {
      "cell_type": "code",
      "metadata": {
        "id": "51YBSini_hUb",
        "colab": {
          "base_uri": "https://localhost:8080/"
        },
        "outputId": "1074d19c-e356-4a20-cd51-e27819296565"
      },
      "source": [
        "pattern = r\"[cC]elebrat\"\n",
        "if re.search(pattern, text):\n",
        "  print(\"Match!\")\n",
        "else: print(\"Not a match!\")"
      ],
      "execution_count": null,
      "outputs": [
        {
          "output_type": "stream",
          "name": "stdout",
          "text": [
            "Match!\n"
          ]
        }
      ]
    },
    {
      "cell_type": "code",
      "metadata": {
        "id": "FfxPZBsd_mXj",
        "colab": {
          "base_uri": "https://localhost:8080/"
        },
        "outputId": "f3014188-5867-4763-c4de-8f3d8a6d56ed"
      },
      "source": [
        "pattern = r\"\\welebrat[a-z]+\"\n",
        "if re.search(pattern, text):\n",
        "  print(\"Match!\")\n",
        "else: print(\"Not a match!\")"
      ],
      "execution_count": null,
      "outputs": [
        {
          "output_type": "stream",
          "text": [
            "Match!\n"
          ],
          "name": "stdout"
        }
      ]
    },
    {
      "cell_type": "markdown",
      "source": [
        "### Abundence of Data\n",
        "\n",
        "Source : www.gutenberg.org\n"
      ],
      "metadata": {
        "id": "rfpcpCk6bnlU"
      }
    },
    {
      "cell_type": "code",
      "metadata": {
        "id": "wcgT03h3BW-t"
      },
      "source": [
        "text = open(\"Great_Gatsby.txt\").read()"
      ],
      "execution_count": 22,
      "outputs": []
    },
    {
      "cell_type": "code",
      "source": [
        "text = urlopen(\"https://github.com/dvasiliu/AML/blob/main/Data%20Sets/Great_Gatsby.txt?raw=true\").read().decode('utf-8')"
      ],
      "metadata": {
        "id": "Yk6nsUl-jVEj"
      },
      "execution_count": 27,
      "outputs": []
    },
    {
      "cell_type": "code",
      "source": [
        "text[455:555]"
      ],
      "metadata": {
        "colab": {
          "base_uri": "https://localhost:8080/",
          "height": 35
        },
        "id": "8k65HGrSbPa0",
        "outputId": "484c04fa-c3d6-4231-f926-4bcb4db8f9f8"
      },
      "execution_count": 28,
      "outputs": [
        {
          "output_type": "execute_result",
          "data": {
            "text/plain": [
              "'of the country where you are located before\\nusing this eBook.\\n\\nTitle: The Great Gatsby\\n\\nAuthor: F. S'"
            ],
            "application/vnd.google.colaboratory.intrinsic+json": {
              "type": "string"
            }
          },
          "metadata": {},
          "execution_count": 28
        }
      ]
    },
    {
      "cell_type": "code",
      "metadata": {
        "id": "WmmUvIi4YTSy",
        "colab": {
          "base_uri": "https://localhost:8080/"
        },
        "outputId": "d3461b9a-d07f-4a0c-e04d-9ebad40b66eb"
      },
      "source": [
        "len(text)"
      ],
      "execution_count": 25,
      "outputs": [
        {
          "output_type": "execute_result",
          "data": {
            "text/plain": [
              "299455"
            ]
          },
          "metadata": {},
          "execution_count": 25
        }
      ]
    },
    {
      "cell_type": "markdown",
      "metadata": {
        "id": "RwPgD4RsBeVS"
      },
      "source": [
        "<font face=\"Calibri\" color='navy' size=4pt>We can extract all the sentences (based on punctuation):</font>"
      ]
    },
    {
      "cell_type": "code",
      "metadata": {
        "id": "PobVsJyzB9mJ"
      },
      "source": [
        "# an important step of Text pre-processing\n",
        "dataset = nltk.sent_tokenize(text)\n",
        "for i in range(len(dataset)):\n",
        "    dataset[i] = dataset[i].lower()\n",
        "    dataset[i] = re.sub(r'\\W', ' ', dataset[i])\n",
        "    dataset[i] = re.sub(r'\\s+', ' ', dataset[i])"
      ],
      "execution_count": 29,
      "outputs": []
    },
    {
      "cell_type": "code",
      "metadata": {
        "id": "InfAZVegJWFY",
        "colab": {
          "base_uri": "https://localhost:8080/",
          "height": 36
        },
        "outputId": "097b7180-9b3a-4ae5-9e95-043f9039357d"
      },
      "source": [
        "dataset[233]"
      ],
      "execution_count": null,
      "outputs": [
        {
          "output_type": "execute_result",
          "data": {
            "text/plain": [
              "'besides nick s going to look after her aren t you nick '"
            ],
            "application/vnd.google.colaboratory.intrinsic+json": {
              "type": "string"
            }
          },
          "metadata": {},
          "execution_count": 16
        }
      ]
    },
    {
      "cell_type": "code",
      "metadata": {
        "id": "iIAkuuEdCEZ5",
        "colab": {
          "base_uri": "https://localhost:8080/",
          "height": 36
        },
        "outputId": "e8821ad7-e6a6-4e7f-8466-b9cb4bc27206"
      },
      "source": [
        "# this is the 100th sentence\n",
        "dataset[99]"
      ],
      "execution_count": null,
      "outputs": [
        {
          "output_type": "execute_result",
          "data": {
            "text/plain": [
              "' the whole town is desolate '"
            ],
            "application/vnd.google.colaboratory.intrinsic+json": {
              "type": "string"
            }
          },
          "metadata": {},
          "execution_count": 17
        }
      ]
    },
    {
      "cell_type": "markdown",
      "metadata": {
        "id": "-VbuMt_-3gNt"
      },
      "source": [
        "What do you notice? There are no capital letters, no punctuation (because the computer does not need them).\n",
        "\n",
        "We can also determine how frequent are the different words."
      ]
    },
    {
      "cell_type": "code",
      "metadata": {
        "id": "Liv9PCWGCOp7"
      },
      "source": [
        "# we can count the occurrencies of different words\n",
        "# Creating the Bag of Words model\n",
        "word2count = {} # this is a list\n",
        "for data in dataset:\n",
        "    words = nltk.word_tokenize(data)\n",
        "    for word in words:\n",
        "        if word not in word2count.keys():\n",
        "            word2count[word] = 1\n",
        "        else:\n",
        "            word2count[word] += 1"
      ],
      "execution_count": 9,
      "outputs": []
    },
    {
      "cell_type": "code",
      "metadata": {
        "id": "LdglAkPpCZp8",
        "colab": {
          "base_uri": "https://localhost:8080/"
        },
        "outputId": "4f44fb31-dbdf-4617-ab9f-82dbda3505cf"
      },
      "source": [
        "word2count.get('friend')"
      ],
      "execution_count": 12,
      "outputs": [
        {
          "output_type": "execute_result",
          "data": {
            "text/plain": [
              "18"
            ]
          },
          "metadata": {},
          "execution_count": 12
        }
      ]
    },
    {
      "cell_type": "code",
      "metadata": {
        "id": "m7AscS7Z2FnJ",
        "colab": {
          "base_uri": "https://localhost:8080/"
        },
        "outputId": "408ef77f-bcde-4c9f-b000-f47e5f552aaa"
      },
      "source": [
        "word2count.get('computer')"
      ],
      "execution_count": null,
      "outputs": [
        {
          "output_type": "execute_result",
          "data": {
            "text/plain": [
              "2"
            ]
          },
          "metadata": {},
          "execution_count": 24
        }
      ]
    },
    {
      "cell_type": "markdown",
      "metadata": {
        "id": "OpgPnOqmDOzp"
      },
      "source": [
        "This means that the word \"ghost\" appeared 95 time."
      ]
    },
    {
      "cell_type": "code",
      "metadata": {
        "id": "icqKTzLnCaZl",
        "colab": {
          "base_uri": "https://localhost:8080/"
        },
        "outputId": "f00ea535-e836-4d8f-88ba-28205f241cd7"
      },
      "source": [
        "word2count.get('the') # however 'the' is a stopword so it should NOT be counted!!"
      ],
      "execution_count": 13,
      "outputs": [
        {
          "output_type": "execute_result",
          "data": {
            "text/plain": [
              "2594"
            ]
          },
          "metadata": {},
          "execution_count": 13
        }
      ]
    },
    {
      "cell_type": "markdown",
      "metadata": {
        "id": "a81WOQYhDQn5"
      },
      "source": [
        "<font face=\"Calibri\" color='navy' size=4pt>We can determine what are the most frequent words, for example:</font>"
      ]
    },
    {
      "cell_type": "code",
      "metadata": {
        "id": "wT3CP1V4DhxL",
        "colab": {
          "base_uri": "https://localhost:8080/"
        },
        "outputId": "bd9b5497-4615-46a6-b77a-cc38fd5f351b"
      },
      "source": [
        "# the top 100 most frequent words\n",
        "\n",
        "freq_words = heapq.nlargest(100, word2count, key=word2count.get)\n",
        "freq_words"
      ],
      "execution_count": null,
      "outputs": [
        {
          "output_type": "execute_result",
          "data": {
            "text/plain": [
              "['the',\n",
              " 'and',\n",
              " 'a',\n",
              " 'i',\n",
              " 'of',\n",
              " 'to',\n",
              " 'in',\n",
              " 'he',\n",
              " 'was',\n",
              " 'that',\n",
              " 'it',\n",
              " 'you',\n",
              " 'his',\n",
              " 's',\n",
              " 'with',\n",
              " 'at',\n",
              " 't',\n",
              " 'she',\n",
              " 'her',\n",
              " 'had',\n",
              " 'on',\n",
              " 'for',\n",
              " 'me',\n",
              " 'as',\n",
              " 'him',\n",
              " 'gatsby',\n",
              " 'but',\n",
              " 'from',\n",
              " 'my',\n",
              " 'we',\n",
              " 'all',\n",
              " 'said',\n",
              " 'there',\n",
              " 'out',\n",
              " 'this',\n",
              " 'up',\n",
              " 'an',\n",
              " 'tom',\n",
              " 'daisy',\n",
              " 'or',\n",
              " 'were',\n",
              " 'they',\n",
              " 'if',\n",
              " 'into',\n",
              " 'about',\n",
              " 'one',\n",
              " 'by',\n",
              " 'when',\n",
              " 'what',\n",
              " 'have',\n",
              " 'then',\n",
              " 'over',\n",
              " 'be',\n",
              " 'so',\n",
              " 'is',\n",
              " 'like',\n",
              " 'down',\n",
              " 'who',\n",
              " 'man',\n",
              " 'no',\n",
              " 'back',\n",
              " 'came',\n",
              " 'not',\n",
              " 'been',\n",
              " 'any',\n",
              " 'some',\n",
              " 'do',\n",
              " 'd',\n",
              " 'just',\n",
              " 'little',\n",
              " 'now',\n",
              " 'know',\n",
              " 'don',\n",
              " 'gutenberg',\n",
              " 'house',\n",
              " 'before',\n",
              " 'went',\n",
              " 'after',\n",
              " 'eyes',\n",
              " 'project',\n",
              " 'old',\n",
              " 'didn',\n",
              " 'come',\n",
              " 'looked',\n",
              " 'got',\n",
              " 'mr',\n",
              " 'see',\n",
              " 'time',\n",
              " 'other',\n",
              " 'them',\n",
              " 'can',\n",
              " 'away',\n",
              " 'your',\n",
              " 'way',\n",
              " 'll',\n",
              " 'wilson',\n",
              " 'm',\n",
              " 'more',\n",
              " 'get',\n",
              " 'new']"
            ]
          },
          "metadata": {},
          "execution_count": 26
        }
      ]
    },
    {
      "cell_type": "markdown",
      "metadata": {
        "id": "ldxUtPD_EIZs"
      },
      "source": [
        "Indeed this is a story about \"Gatsby\" and \"money\"\n",
        "\n",
        "Important: we want to discard all the unimportant words (as known as \"stopwords\")."
      ]
    },
    {
      "cell_type": "code",
      "source": [
        "dataset[300]"
      ],
      "metadata": {
        "colab": {
          "base_uri": "https://localhost:8080/",
          "height": 53
        },
        "id": "82d2UY6Dd7aC",
        "outputId": "920dda6e-4faa-453b-ea9b-6d350f57c954"
      },
      "execution_count": null,
      "outputs": [
        {
          "output_type": "execute_result",
          "data": {
            "text/plain": [
              "'she smiled slowly and walking through her husband as if he were a ghost shook hands with tom looking him flush in the eye '"
            ],
            "application/vnd.google.colaboratory.intrinsic+json": {
              "type": "string"
            }
          },
          "metadata": {},
          "execution_count": 28
        }
      ]
    },
    {
      "cell_type": "code",
      "metadata": {
        "id": "3cv4uf8jEmfY",
        "colab": {
          "base_uri": "https://localhost:8080/",
          "height": 35
        },
        "outputId": "244c03e5-be52-427d-9659-80d0f43c6f20"
      },
      "source": [
        "txt = re.sub('[^a-zA-Z0-9 ]','',dataset[300])\n",
        "# Make everything lower case\n",
        "txt = txt.lower()\n",
        "# Make it a list of words\n",
        "txt = txt.split()\n",
        "# Get all the stop words out\n",
        "txt = [word for word in txt if not word in set(stopwords.words('english'))]\n",
        "# Stem the words\n",
        "#txt = [stemmer.stem(word) for word in txt]\n",
        "# Put it all back together and look at the result\n",
        "' '.join(txt)"
      ],
      "execution_count": 14,
      "outputs": [
        {
          "output_type": "execute_result",
          "data": {
            "text/plain": [
              "'face spotted dress dark blue crpe de chine contained facet gleam beauty immediately perceptible vitality nerves body continually smouldering'"
            ],
            "application/vnd.google.colaboratory.intrinsic+json": {
              "type": "string"
            }
          },
          "metadata": {},
          "execution_count": 14
        }
      ]
    },
    {
      "cell_type": "markdown",
      "metadata": {
        "id": "cShN8rfsEyL5"
      },
      "source": [
        "..and we want to do this for every sentence in the book:"
      ]
    },
    {
      "cell_type": "code",
      "metadata": {
        "id": "WZkkVIhVExLH"
      },
      "source": [
        "corpus = [] # the name 'corpus' refers to the sentences after we throwed all stopwords and we rooted the remaining ones\n",
        "for i in range(len(dataset)):\n",
        "    txt = re.sub('[^a-zA-Z0-9 ]','',dataset[i])\n",
        "    txt = txt.lower()\n",
        "    txt = txt.split()\n",
        "    txt = [word for word in txt if not word in set(stopwords.words('english'))]\n",
        "    txt = [lemmatizer.lemmatize(word) for word in txt]\n",
        "    txt = ' '.join(txt)\n",
        "    corpus.append(txt)"
      ],
      "execution_count": 15,
      "outputs": []
    },
    {
      "cell_type": "code",
      "metadata": {
        "id": "9n2VU3JwE4DL"
      },
      "source": [
        "corpus"
      ],
      "execution_count": null,
      "outputs": []
    },
    {
      "cell_type": "code",
      "metadata": {
        "id": "GGZOJeHKFA7r"
      },
      "source": [
        "# we can count the occurrencies of different words in the corpus\n",
        "# Creating the Bag of Words model\n",
        "word2count = {}\n",
        "for data in corpus:\n",
        "    words = nltk.word_tokenize(data)\n",
        "    for word in words:\n",
        "        if word not in word2count.keys():\n",
        "            word2count[word] = 1\n",
        "        else:\n",
        "            word2count[word] += 1"
      ],
      "execution_count": null,
      "outputs": []
    },
    {
      "cell_type": "code",
      "metadata": {
        "id": "VbheF3ELFGyq"
      },
      "source": [
        "# .. and get the top 100 most frequent in the corpus:\n",
        "freq_words = heapq.nlargest(100, word2count, key=word2count.get)\n",
        "freq_words"
      ],
      "execution_count": null,
      "outputs": []
    },
    {
      "cell_type": "markdown",
      "metadata": {
        "id": "d-NGVIDzFL4J"
      },
      "source": [
        "## Application to Amazon customer reviews"
      ]
    },
    {
      "cell_type": "code",
      "metadata": {
        "id": "soXF4QCQFOtz"
      },
      "source": [
        "# this data is available via Kaggle\n",
        "df = pd.read_csv('https://github.com/dvasiliu/AML/blob/main/Data%20Sets/amazon_reviews.csv?raw=true', quoting=2 )\n",
        "# Extract the ratings and text reviews\n",
        "data = df[['reviews.text', 'reviews.rating']].dropna().reset_index(drop=True)\n",
        "\n",
        "reviews = data['reviews.text']\n",
        "y = data['reviews.rating']"
      ],
      "execution_count": null,
      "outputs": []
    },
    {
      "cell_type": "code",
      "source": [
        "data.loc[0,'reviews.text']"
      ],
      "metadata": {
        "colab": {
          "base_uri": "https://localhost:8080/",
          "height": 125
        },
        "id": "1yVN22zNZb_L",
        "outputId": "1f06056c-4ae7-4d6a-e7d3-df758a7dfae8"
      },
      "execution_count": null,
      "outputs": [
        {
          "output_type": "execute_result",
          "data": {
            "text/plain": [
              "\"I initially had trouble deciding between the paperwhite and the voyage because reviews more or less said the same thing: the paperwhite is great, but if you have spending money, go for the voyage.Fortunately, I had friends who owned each, so I ended up buying the paperwhite on this basis: both models now have 300 ppi, so the 80 dollar jump turns out pricey the voyage's page press isn't always sensitive, and if you are fine with a specific setting, you don't need auto light adjustment).It's been a week and I am loving my paperwhite, no regrets! The touch screen is receptive and easy to use, and I keep the light at a specific setting regardless of the time of day. (In any case, it's not hard to change the setting either, as you'll only be changing the light level at a certain time of day, not every now and then while reading).Also glad that I went for the international shipping option with Amazon. Extra expense, but delivery was on time, with tracking, and I didnt need to worry about customs, which I may have if I used a third party shipping service.\""
            ],
            "application/vnd.google.colaboratory.intrinsic+json": {
              "type": "string"
            }
          },
          "metadata": {},
          "execution_count": 8
        }
      ]
    },
    {
      "cell_type": "code",
      "source": [
        "data.loc[0,'reviews.rating']"
      ],
      "metadata": {
        "colab": {
          "base_uri": "https://localhost:8080/"
        },
        "id": "85HH3C_ruDHd",
        "outputId": "6eb29b3a-5a2e-4cf0-a18f-bda1ddfee043"
      },
      "execution_count": null,
      "outputs": [
        {
          "output_type": "execute_result",
          "data": {
            "text/plain": [
              "5.0"
            ]
          },
          "metadata": {},
          "execution_count": 19
        }
      ]
    },
    {
      "cell_type": "code",
      "metadata": {
        "id": "n92B5NCDcSRI",
        "colab": {
          "base_uri": "https://localhost:8080/",
          "height": 53
        },
        "outputId": "d722853a-496f-49c3-83b8-0a3fad1d6aed"
      },
      "source": [
        "data.loc[2,'reviews.text']"
      ],
      "execution_count": null,
      "outputs": [
        {
          "output_type": "execute_result",
          "data": {
            "text/plain": [
              "\"I am enjoying it so far. Great for reading. Had the original Fire since 2012. The Fire used to make my eyes hurt if I read too long. Haven't experienced that with the Paperwhite yet.\""
            ],
            "application/vnd.google.colaboratory.intrinsic+json": {
              "type": "string"
            }
          },
          "metadata": {},
          "execution_count": 38
        }
      ]
    },
    {
      "cell_type": "code",
      "metadata": {
        "colab": {
          "base_uri": "https://localhost:8080/"
        },
        "id": "WeIav12x5CbA",
        "outputId": "99d2f929-ac71-4252-8ad4-3772dfccaaf9"
      },
      "source": [
        "y[493]"
      ],
      "execution_count": null,
      "outputs": [
        {
          "output_type": "execute_result",
          "data": {
            "text/plain": [
              "5.0"
            ]
          },
          "metadata": {},
          "execution_count": 56
        }
      ]
    },
    {
      "cell_type": "markdown",
      "metadata": {
        "id": "xDhklObNFb-V"
      },
      "source": [
        "To learn more about the data:   \n",
        "\n",
        "https://www.kaggle.com/bittlingmayer/amazonreviews"
      ]
    },
    {
      "cell_type": "code",
      "source": [
        "reviews[0]"
      ],
      "metadata": {
        "colab": {
          "base_uri": "https://localhost:8080/",
          "height": 190
        },
        "id": "t9e11HOQaXf7",
        "outputId": "80a21935-10f5-4234-eebd-1d9b31dd0039"
      },
      "execution_count": null,
      "outputs": [
        {
          "output_type": "execute_result",
          "data": {
            "text/plain": [
              "\"I initially had trouble deciding between the paperwhite and the voyage because reviews more or less said the same thing: the paperwhite is great, but if you have spending money, go for the voyage.Fortunately, I had friends who owned each, so I ended up buying the paperwhite on this basis: both models now have 300 ppi, so the 80 dollar jump turns out pricey the voyage's page press isn't always sensitive, and if you are fine with a specific setting, you don't need auto light adjustment).It's been a week and I am loving my paperwhite, no regrets! The touch screen is receptive and easy to use, and I keep the light at a specific setting regardless of the time of day. (In any case, it's not hard to change the setting either, as you'll only be changing the light level at a certain time of day, not every now and then while reading).Also glad that I went for the international shipping option with Amazon. Extra expense, but delivery was on time, with tracking, and I didnt need to worry about customs, which I may have if I used a third party shipping service.\""
            ],
            "application/vnd.google.colaboratory.intrinsic+json": {
              "type": "string"
            }
          },
          "metadata": {},
          "execution_count": 27
        }
      ]
    },
    {
      "cell_type": "code",
      "metadata": {
        "id": "1_7DersbFcfR"
      },
      "source": [
        "allreviews = [] # we designate a variable for holding the pre-processed reviews\n",
        "for review in reviews:\n",
        "    txt = re.sub('[^a-zA-Z0-9 ]','',review) # removes all special characters and punctuation\n",
        "    txt = txt.lower() # we make all letters lower case\n",
        "    txt = txt.split() # extracting the different words\n",
        "    txt = [word for word in txt if not word in set(stopwords.words('english'))] # we throw all the non-important words\n",
        "    #txt = [stemmer.stem(word) for word in txt] # this would be the application of Porter Stemmer\n",
        "    txt = [lemmatizer.lemmatize(word) for word in txt] # we make unique identifiers to words that have common roots\n",
        "    txt = ' '.join(txt) # we assemble back the remaing rooted words into a pre-processed review\n",
        "    allreviews.append(txt)"
      ],
      "execution_count": null,
      "outputs": []
    },
    {
      "cell_type": "code",
      "metadata": {
        "id": "cRgcjbYWIRRP",
        "colab": {
          "base_uri": "https://localhost:8080/",
          "height": 52
        },
        "outputId": "cc74cdc2-5e19-435a-d3da-d4e20f4e1ead"
      },
      "source": [
        "allreviews[2]"
      ],
      "execution_count": null,
      "outputs": [
        {
          "output_type": "execute_result",
          "data": {
            "text/plain": [
              "'enjoying far great reading original fire since 2012 fire used make eye hurt read long havent experienced paperwhite yet'"
            ],
            "application/vnd.google.colaboratory.intrinsic+json": {
              "type": "string"
            }
          },
          "metadata": {},
          "execution_count": 4
        }
      ]
    },
    {
      "cell_type": "code",
      "source": [
        "y[2]"
      ],
      "metadata": {
        "colab": {
          "base_uri": "https://localhost:8080/"
        },
        "id": "GPv0VEpgzZ_q",
        "outputId": "7aa342b5-3bda-48c3-89db-f0bd310cf4d0"
      },
      "execution_count": null,
      "outputs": [
        {
          "output_type": "execute_result",
          "data": {
            "text/plain": [
              "4.0"
            ]
          },
          "metadata": {},
          "execution_count": 5
        }
      ]
    },
    {
      "cell_type": "code",
      "source": [
        "reviews[2]"
      ],
      "metadata": {
        "colab": {
          "base_uri": "https://localhost:8080/",
          "height": 52
        },
        "id": "kHDfjgw_zght",
        "outputId": "9101c8f6-9420-4d5d-f2b8-b40264d99c41"
      },
      "execution_count": null,
      "outputs": [
        {
          "output_type": "execute_result",
          "data": {
            "text/plain": [
              "\"I am enjoying it so far. Great for reading. Had the original Fire since 2012. The Fire used to make my eyes hurt if I read too long. Haven't experienced that with the Paperwhite yet.\""
            ],
            "application/vnd.google.colaboratory.intrinsic+json": {
              "type": "string"
            }
          },
          "metadata": {},
          "execution_count": 6
        }
      ]
    },
    {
      "cell_type": "code",
      "source": [
        "allreviews = [] # we designate a variable for holding the pre-processed reviews\n",
        "for review in reviews:\n",
        "    txt = re.sub('[^a-zA-Z0-9 ]','',review) # removes all special characters and punctuation\n",
        "    txt = txt.lower() # we make all letters lower case\n",
        "    txt = txt.split() # extracting the different words\n",
        "    txt = [word for word in txt if not word in set(stopwords.words('english'))] # we throw all the non-important words\n",
        "    txt = [stemmer.stem(word) for word in txt] # this would be the application of Porter Stemmer\n",
        "    #txt = [lemmatizer.lemmatize(word) for word in txt] # we make unique identifiers to words that have common roots\n",
        "    txt = ' '.join(txt) # we assemble back the remaing rooted words into a pre-processed review\n",
        "    allreviews.append(txt)"
      ],
      "metadata": {
        "id": "E_WOr5fDvFII"
      },
      "execution_count": null,
      "outputs": []
    },
    {
      "cell_type": "code",
      "source": [
        "allreviews[0]"
      ],
      "metadata": {
        "colab": {
          "base_uri": "https://localhost:8080/",
          "height": 71
        },
        "id": "NyMbg0utXv2g",
        "outputId": "46afa606-2aec-464e-96ff-a2afe31d2d53"
      },
      "execution_count": null,
      "outputs": [
        {
          "output_type": "execute_result",
          "data": {
            "text/plain": [
              "'initi troubl decid paperwhit voyag review less said thing paperwhit great spend money go voyagefortun friend own end buy paperwhit basi model 300 ppi 80 dollar jump turn pricey voyag page press isnt alway sensit fine specif set dont need auto light adjustmentit week love paperwhit regret touch screen recept easi use keep light specif set regardless time day case hard chang set either youll chang light level certain time day everi readingalso glad went intern ship option amazon extra expens deliveri time track didnt need worri custom may use third parti ship servic'"
            ],
            "application/vnd.google.colaboratory.intrinsic+json": {
              "type": "string"
            }
          },
          "metadata": {},
          "execution_count": 6
        }
      ]
    },
    {
      "cell_type": "markdown",
      "source": [
        "# Make a Classification Model for Prediction"
      ],
      "metadata": {
        "id": "pWnzenFpzyMH"
      }
    },
    {
      "cell_type": "code",
      "source": [
        "# prepare the labels for classification\n",
        "# the easiest is to binarize the labels\n",
        "yb = (y>=4) + 0"
      ],
      "metadata": {
        "id": "JFaaKhH05uN8"
      },
      "execution_count": null,
      "outputs": []
    },
    {
      "cell_type": "code",
      "source": [
        "yb"
      ],
      "metadata": {
        "colab": {
          "base_uri": "https://localhost:8080/"
        },
        "id": "wm2Qs1ql0yPw",
        "outputId": "a271312c-f88a-4834-a1aa-1f42f2af54e1"
      },
      "execution_count": null,
      "outputs": [
        {
          "output_type": "execute_result",
          "data": {
            "text/plain": [
              "0       1\n",
              "1       1\n",
              "2       1\n",
              "3       1\n",
              "4       1\n",
              "       ..\n",
              "1172    0\n",
              "1173    0\n",
              "1174    0\n",
              "1175    0\n",
              "1176    0\n",
              "Name: reviews.rating, Length: 1177, dtype: int64"
            ]
          },
          "metadata": {},
          "execution_count": 8
        }
      ]
    },
    {
      "cell_type": "code",
      "metadata": {
        "id": "zWb4ZixhFpQ1"
      },
      "source": [
        "# here we show how words can be changed into numbers\n",
        "X_raw = cv.fit_transform(allreviews)\n",
        "X = X_raw#.toarray()"
      ],
      "execution_count": null,
      "outputs": []
    },
    {
      "cell_type": "code",
      "source": [
        "X"
      ],
      "metadata": {
        "colab": {
          "base_uri": "https://localhost:8080/"
        },
        "id": "8bTQG6XM0X4r",
        "outputId": "0604d14b-5ffe-4e01-def8-c5c53da5a26d"
      },
      "execution_count": null,
      "outputs": [
        {
          "output_type": "execute_result",
          "data": {
            "text/plain": [
              "array([[0, 0, 0, ..., 0, 0, 0],\n",
              "       [0, 0, 0, ..., 0, 0, 0],\n",
              "       [0, 0, 0, ..., 0, 0, 0],\n",
              "       ...,\n",
              "       [0, 0, 0, ..., 0, 0, 0],\n",
              "       [0, 0, 0, ..., 0, 0, 0],\n",
              "       [0, 0, 0, ..., 0, 0, 0]])"
            ]
          },
          "metadata": {},
          "execution_count": 12
        }
      ]
    },
    {
      "cell_type": "code",
      "source": [
        "# critical thinking: what does the number of columns in X represent below?\n",
        "X.shape"
      ],
      "metadata": {
        "colab": {
          "base_uri": "https://localhost:8080/"
        },
        "id": "6yN8gwWT6F4x",
        "outputId": "981eeb7b-549c-4419-9b37-7f0f7db71540"
      },
      "execution_count": null,
      "outputs": [
        {
          "output_type": "execute_result",
          "data": {
            "text/plain": [
              "(1177, 6108)"
            ]
          },
          "metadata": {},
          "execution_count": 53
        }
      ]
    },
    {
      "cell_type": "code",
      "source": [
        "# here X is a sparse matrix\n",
        "X"
      ],
      "metadata": {
        "colab": {
          "base_uri": "https://localhost:8080/"
        },
        "id": "7bbpcl2k1xzT",
        "outputId": "f2b47f96-ffaa-4546-f388-ec190068e59f"
      },
      "execution_count": null,
      "outputs": [
        {
          "output_type": "execute_result",
          "data": {
            "text/plain": [
              "array([[0, 0, 0, ..., 0, 0, 0],\n",
              "       [0, 0, 0, ..., 0, 0, 0],\n",
              "       [0, 0, 0, ..., 0, 0, 0],\n",
              "       ...,\n",
              "       [0, 0, 0, ..., 0, 0, 0],\n",
              "       [0, 0, 0, ..., 0, 0, 0],\n",
              "       [0, 0, 0, ..., 0, 0, 0]])"
            ]
          },
          "metadata": {},
          "execution_count": 55
        }
      ]
    },
    {
      "cell_type": "code",
      "source": [
        "# it does not help to try to visualize X\n",
        "plt.imshow(X[100:400,200:300])"
      ],
      "metadata": {
        "id": "HH8dwTeVkHTF",
        "colab": {
          "base_uri": "https://localhost:8080/",
          "height": 452
        },
        "outputId": "6f64f25b-a727-46de-ed28-b823e168924e"
      },
      "execution_count": null,
      "outputs": [
        {
          "output_type": "execute_result",
          "data": {
            "text/plain": [
              "<matplotlib.image.AxesImage at 0x7acd36819330>"
            ]
          },
          "metadata": {},
          "execution_count": 13
        },
        {
          "output_type": "display_data",
          "data": {
            "text/plain": [
              "<Figure size 640x480 with 1 Axes>"
            ],
            "image/png": "[encoded data removed]"
          },
          "metadata": {}
        }
      ]
    },
    {
      "cell_type": "markdown",
      "source": [
        "## Apply ML Algorithms for predicting the ratings"
      ],
      "metadata": {
        "id": "l8P23WysfiNn"
      }
    },
    {
      "cell_type": "code",
      "source": [
        "# first step, we can use the whole data\n",
        "# we need to designate a model\n",
        "# C is 1/alpha for Ridge\n",
        "model = LogisticRegression(C = 100, solver='saga',penalty='l2',max_iter=1000)"
      ],
      "metadata": {
        "id": "lu4lz2nIfh9x"
      },
      "execution_count": null,
      "outputs": []
    },
    {
      "cell_type": "code",
      "source": [
        "# we need to fit the model on our data\n",
        "model.fit(X,yb)\n",
        "model.score(X,yb)"
      ],
      "metadata": {
        "id": "AGIiXBFsfh5W",
        "colab": {
          "base_uri": "https://localhost:8080/"
        },
        "outputId": "641ed5c6-9af5-40b6-c14b-aac86ce194ef"
      },
      "execution_count": null,
      "outputs": [
        {
          "output_type": "stream",
          "name": "stderr",
          "text": [
            "/usr/local/lib/python3.10/dist-packages/sklearn/linear_model/_sag.py:350: ConvergenceWarning: The max_iter was reached which means the coef_ did not converge\n",
            "  warnings.warn(\n"
          ]
        },
        {
          "output_type": "execute_result",
          "data": {
            "text/plain": [
              "0.967714528462192"
            ]
          },
          "metadata": {},
          "execution_count": 8
        }
      ]
    },
    {
      "cell_type": "code",
      "source": [
        "# we can compute the confusion matrix as well:\n",
        "pd.DataFrame(data=cm(yb,model.predict(X)),columns=['at least 4 stars', 'less than 4 stars'],index=['at least 4 stars', 'less than 4 stars'])"
      ],
      "metadata": {
        "id": "7bBM9Njj7_TQ",
        "colab": {
          "base_uri": "https://localhost:8080/",
          "height": 112
        },
        "outputId": "96183fda-d892-436c-f0ff-c70b26fdb4cb"
      },
      "execution_count": null,
      "outputs": [
        {
          "output_type": "execute_result",
          "data": {
            "text/plain": [
              "                   at least 4 stars  less than 4 stars\n",
              "at least 4 stars                169                 31\n",
              "less than 4 stars                 7                970"
            ],
            "text/html": [
              "\n",
              "  <div id=\"df-b77b55da-c04f-42c6-a0b5-c6bad846f1a2\" class=\"colab-df-container\">\n",
              "    <div>\n",
              "<style scoped>\n",
              "    .dataframe tbody tr th:only-of-type {\n",
              "        vertical-align: middle;\n",
              "    }\n",
              "\n",
              "    .dataframe tbody tr th {\n",
              "        vertical-align: top;\n",
              "    }\n",
              "\n",
              "    .dataframe thead th {\n",
              "        text-align: right;\n",
              "    }\n",
              "</style>\n",
              "<table border=\"1\" class=\"dataframe\">\n",
              "  <thead>\n",
              "    <tr style=\"text-align: right;\">\n",
              "      <th></th>\n",
              "      <th>at least 4 stars</th>\n",
              "      <th>less than 4 stars</th>\n",
              "    </tr>\n",
              "  </thead>\n",
              "  <tbody>\n",
              "    <tr>\n",
              "      <th>at least 4 stars</th>\n",
              "      <td>169</td>\n",
              "      <td>31</td>\n",
              "    </tr>\n",
              "    <tr>\n",
              "      <th>less than 4 stars</th>\n",
              "      <td>7</td>\n",
              "      <td>970</td>\n",
              "    </tr>\n",
              "  </tbody>\n",
              "</table>\n",
              "</div>\n",
              "    <div class=\"colab-df-buttons\">\n",
              "\n",
              "  <div class=\"colab-df-container\">\n",
              "    <button class=\"colab-df-convert\" onclick=\"convertToInteractive('df-b77b55da-c04f-42c6-a0b5-c6bad846f1a2')\"\n",
              "            title=\"Convert this dataframe to an interactive table.\"\n",
              "            style=\"display:none;\">\n",
              "\n",
              "  <svg xmlns=\"http://www.w3.org/2000/svg\" height=\"24px\" viewBox=\"0 -960 960 960\">\n",
              "    <path d=\"M120-120v-720h720v720H120Zm60-500h600v-160H180v160Zm220 220h160v-160H400v160Zm0 220h160v-160H400v160ZM180-400h160v-160H180v160Zm440 0h160v-160H620v160ZM180-180h160v-160H180v160Zm440 0h160v-160H620v160Z\"/>\n",
              "  </svg>\n",
              "    </button>\n",
              "\n",
              "  <style>\n",
              "    .colab-df-container {\n",
              "      display:flex;\n",
              "      gap: 12px;\n",
              "    }\n",
              "\n",
              "    .colab-df-convert {\n",
              "      background-color: #E8F0FE;\n",
              "      border: none;\n",
              "      border-radius: 50%;\n",
              "      cursor: pointer;\n",
              "      display: none;\n",
              "      fill: #1967D2;\n",
              "      height: 32px;\n",
              "      padding: 0 0 0 0;\n",
              "      width: 32px;\n",
              "    }\n",
              "\n",
              "    .colab-df-convert:hover {\n",
              "      background-color: #E2EBFA;\n",
              "      box-shadow: 0px 1px 2px rgba(60, 64, 67, 0.3), 0px 1px 3px 1px rgba(60, 64, 67, 0.15);\n",
              "      fill: #174EA6;\n",
              "    }\n",
              "\n",
              "    .colab-df-buttons div {\n",
              "      margin-bottom: 4px;\n",
              "    }\n",
              "\n",
              "    [theme=dark] .colab-df-convert {\n",
              "      background-color: #3B4455;\n",
              "      fill: #D2E3FC;\n",
              "    }\n",
              "\n",
              "    [theme=dark] .colab-df-convert:hover {\n",
              "      background-color: #434B5C;\n",
              "      box-shadow: 0px 1px 3px 1px rgba(0, 0, 0, 0.15);\n",
              "      filter: drop-shadow(0px 1px 2px rgba(0, 0, 0, 0.3));\n",
              "      fill: #FFFFFF;\n",
              "    }\n",
              "  </style>\n",
              "\n",
              "    <script>\n",
              "      const buttonEl =\n",
              "        document.querySelector('#df-b77b55da-c04f-42c6-a0b5-c6bad846f1a2 button.colab-df-convert');\n",
              "      buttonEl.style.display =\n",
              "        google.colab.kernel.accessAllowed ? 'block' : 'none';\n",
              "\n",
              "      async function convertToInteractive(key) {\n",
              "        const element = document.querySelector('#df-b77b55da-c04f-42c6-a0b5-c6bad846f1a2');\n",
              "        const dataTable =\n",
              "          await google.colab.kernel.invokeFunction('convertToInteractive',\n",
              "                                                    [key], {});\n",
              "        if (!dataTable) return;\n",
              "\n",
              "        const docLinkHtml = 'Like what you see? Visit the ' +\n",
              "          '<a target=\"_blank\" href=https://colab.research.google.com/notebooks/data_table.ipynb>data table notebook</a>'\n",
              "          + ' to learn more about interactive tables.';\n",
              "        element.innerHTML = '';\n",
              "        dataTable['output_type'] = 'display_data';\n",
              "        await google.colab.output.renderOutput(dataTable, element);\n",
              "        const docLink = document.createElement('div');\n",
              "        docLink.innerHTML = docLinkHtml;\n",
              "        element.appendChild(docLink);\n",
              "      }\n",
              "    </script>\n",
              "  </div>\n",
              "\n",
              "\n",
              "<div id=\"df-950faf28-77b0-4809-80a8-de00743553d1\">\n",
              "  <button class=\"colab-df-quickchart\" onclick=\"quickchart('df-950faf28-77b0-4809-80a8-de00743553d1')\"\n",
              "            title=\"Suggest charts\"\n",
              "            style=\"display:none;\">\n",
              "\n",
              "<svg xmlns=\"http://www.w3.org/2000/svg\" height=\"24px\"viewBox=\"0 0 24 24\"\n",
              "     width=\"24px\">\n",
              "    <g>\n",
              "        <path d=\"M19 3H5c-1.1 0-2 .9-2 2v14c0 1.1.9 2 2 2h14c1.1 0 2-.9 2-2V5c0-1.1-.9-2-2-2zM9 17H7v-7h2v7zm4 0h-2V7h2v10zm4 0h-2v-4h2v4z\"/>\n",
              "    </g>\n",
              "</svg>\n",
              "  </button>\n",
              "\n",
              "<style>\n",
              "  .colab-df-quickchart {\n",
              "      --bg-color: #E8F0FE;\n",
              "      --fill-color: #1967D2;\n",
              "      --hover-bg-color: #E2EBFA;\n",
              "      --hover-fill-color: #174EA6;\n",
              "      --disabled-fill-color: #AAA;\n",
              "      --disabled-bg-color: #DDD;\n",
              "  }\n",
              "\n",
              "  [theme=dark] .colab-df-quickchart {\n",
              "      --bg-color: #3B4455;\n",
              "      --fill-color: #D2E3FC;\n",
              "      --hover-bg-color: #434B5C;\n",
              "      --hover-fill-color: #FFFFFF;\n",
              "      --disabled-bg-color: #3B4455;\n",
              "      --disabled-fill-color: #666;\n",
              "  }\n",
              "\n",
              "  .colab-df-quickchart {\n",
              "    background-color: var(--bg-color);\n",
              "    border: none;\n",
              "    border-radius: 50%;\n",
              "    cursor: pointer;\n",
              "    display: none;\n",
              "    fill: var(--fill-color);\n",
              "    height: 32px;\n",
              "    padding: 0;\n",
              "    width: 32px;\n",
              "  }\n",
              "\n",
              "  .colab-df-quickchart:hover {\n",
              "    background-color: var(--hover-bg-color);\n",
              "    box-shadow: 0 1px 2px rgba(60, 64, 67, 0.3), 0 1px 3px 1px rgba(60, 64, 67, 0.15);\n",
              "    fill: var(--button-hover-fill-color);\n",
              "  }\n",
              "\n",
              "  .colab-df-quickchart-complete:disabled,\n",
              "  .colab-df-quickchart-complete:disabled:hover {\n",
              "    background-color: var(--disabled-bg-color);\n",
              "    fill: var(--disabled-fill-color);\n",
              "    box-shadow: none;\n",
              "  }\n",
              "\n",
              "  .colab-df-spinner {\n",
              "    border: 2px solid var(--fill-color);\n",
              "    border-color: transparent;\n",
              "    border-bottom-color: var(--fill-color);\n",
              "    animation:\n",
              "      spin 1s steps(1) infinite;\n",
              "  }\n",
              "\n",
              "  @keyframes spin {\n",
              "    0% {\n",
              "      border-color: transparent;\n",
              "      border-bottom-color: var(--fill-color);\n",
              "      border-left-color: var(--fill-color);\n",
              "    }\n",
              "    20% {\n",
              "      border-color: transparent;\n",
              "      border-left-color: var(--fill-color);\n",
              "      border-top-color: var(--fill-color);\n",
              "    }\n",
              "    30% {\n",
              "      border-color: transparent;\n",
              "      border-left-color: var(--fill-color);\n",
              "      border-top-color: var(--fill-color);\n",
              "      border-right-color: var(--fill-color);\n",
              "    }\n",
              "    40% {\n",
              "      border-color: transparent;\n",
              "      border-right-color: var(--fill-color);\n",
              "      border-top-color: var(--fill-color);\n",
              "    }\n",
              "    60% {\n",
              "      border-color: transparent;\n",
              "      border-right-color: var(--fill-color);\n",
              "    }\n",
              "    80% {\n",
              "      border-color: transparent;\n",
              "      border-right-color: var(--fill-color);\n",
              "      border-bottom-color: var(--fill-color);\n",
              "    }\n",
              "    90% {\n",
              "      border-color: transparent;\n",
              "      border-bottom-color: var(--fill-color);\n",
              "    }\n",
              "  }\n",
              "</style>\n",
              "\n",
              "  <script>\n",
              "    async function quickchart(key) {\n",
              "      const quickchartButtonEl =\n",
              "        document.querySelector('#' + key + ' button');\n",
              "      quickchartButtonEl.disabled = true;  // To prevent multiple clicks.\n",
              "      quickchartButtonEl.classList.add('colab-df-spinner');\n",
              "      try {\n",
              "        const charts = await google.colab.kernel.invokeFunction(\n",
              "            'suggestCharts', [key], {});\n",
              "      } catch (error) {\n",
              "        console.error('Error during call to suggestCharts:', error);\n",
              "      }\n",
              "      quickchartButtonEl.classList.remove('colab-df-spinner');\n",
              "      quickchartButtonEl.classList.add('colab-df-quickchart-complete');\n",
              "    }\n",
              "    (() => {\n",
              "      let quickchartButtonEl =\n",
              "        document.querySelector('#df-950faf28-77b0-4809-80a8-de00743553d1 button');\n",
              "      quickchartButtonEl.style.display =\n",
              "        google.colab.kernel.accessAllowed ? 'block' : 'none';\n",
              "    })();\n",
              "  </script>\n",
              "</div>\n",
              "\n",
              "    </div>\n",
              "  </div>\n"
            ],
            "application/vnd.google.colaboratory.intrinsic+json": {
              "type": "dataframe",
              "summary": "{\n  \"name\": \"pd\",\n  \"rows\": 2,\n  \"fields\": [\n    {\n      \"column\": \"at least 4 stars\",\n      \"properties\": {\n        \"dtype\": \"number\",\n        \"std\": 114,\n        \"min\": 7,\n        \"max\": 169,\n        \"num_unique_values\": 2,\n        \"samples\": [\n          7,\n          169\n        ],\n        \"semantic_type\": \"\",\n        \"description\": \"\"\n      }\n    },\n    {\n      \"column\": \"less than 4 stars\",\n      \"properties\": {\n        \"dtype\": \"number\",\n        \"std\": 663,\n        \"min\": 31,\n        \"max\": 970,\n        \"num_unique_values\": 2,\n        \"samples\": [\n          970,\n          31\n        ],\n        \"semantic_type\": \"\",\n        \"description\": \"\"\n      }\n    }\n  ]\n}"
            }
          },
          "metadata": {},
          "execution_count": 9
        }
      ]
    },
    {
      "cell_type": "code",
      "source": [
        "model = SVC(kernel='rbf',gamma=0.1,C=2)\n",
        "model.fit(X,yb)"
      ],
      "metadata": {
        "colab": {
          "base_uri": "https://localhost:8080/",
          "height": 74
        },
        "id": "Lre_FQxd8PSL",
        "outputId": "87187af6-d510-40e6-9f08-0cfb56284cbf"
      },
      "execution_count": null,
      "outputs": [
        {
          "output_type": "execute_result",
          "data": {
            "text/plain": [
              "SVC(C=2, gamma=0.1)"
            ],
            "text/html": [
              "<style>#sk-container-id-3 {color: black;background-color: white;}#sk-container-id-3 pre{padding: 0;}#sk-container-id-3 div.sk-toggleable {background-color: white;}#sk-container-id-3 label.sk-toggleable__label {cursor: pointer;display: block;width: 100%;margin-bottom: 0;padding: 0.3em;box-sizing: border-box;text-align: center;}#sk-container-id-3 label.sk-toggleable__label-arrow:before {content: \"▸\";float: left;margin-right: 0.25em;color: #696969;}#sk-container-id-3 label.sk-toggleable__label-arrow:hover:before {color: black;}#sk-container-id-3 div.sk-estimator:hover label.sk-toggleable__label-arrow:before {color: black;}#sk-container-id-3 div.sk-toggleable__content {max-height: 0;max-width: 0;overflow: hidden;text-align: left;background-color: #f0f8ff;}#sk-container-id-3 div.sk-toggleable__content pre {margin: 0.2em;color: black;border-radius: 0.25em;background-color: #f0f8ff;}#sk-container-id-3 input.sk-toggleable__control:checked~div.sk-toggleable__content {max-height: 200px;max-width: 100%;overflow: auto;}#sk-container-id-3 input.sk-toggleable__control:checked~label.sk-toggleable__label-arrow:before {content: \"▾\";}#sk-container-id-3 div.sk-estimator input.sk-toggleable__control:checked~label.sk-toggleable__label {background-color: #d4ebff;}#sk-container-id-3 div.sk-label input.sk-toggleable__control:checked~label.sk-toggleable__label {background-color: #d4ebff;}#sk-container-id-3 input.sk-hidden--visually {border: 0;clip: rect(1px 1px 1px 1px);clip: rect(1px, 1px, 1px, 1px);height: 1px;margin: -1px;overflow: hidden;padding: 0;position: absolute;width: 1px;}#sk-container-id-3 div.sk-estimator {font-family: monospace;background-color: #f0f8ff;border: 1px dotted black;border-radius: 0.25em;box-sizing: border-box;margin-bottom: 0.5em;}#sk-container-id-3 div.sk-estimator:hover {background-color: #d4ebff;}#sk-container-id-3 div.sk-parallel-item::after {content: \"\";width: 100%;border-bottom: 1px solid gray;flex-grow: 1;}#sk-container-id-3 div.sk-label:hover label.sk-toggleable__label {background-color: #d4ebff;}#sk-container-id-3 div.sk-serial::before {content: \"\";position: absolute;border-left: 1px solid gray;box-sizing: border-box;top: 0;bottom: 0;left: 50%;z-index: 0;}#sk-container-id-3 div.sk-serial {display: flex;flex-direction: column;align-items: center;background-color: white;padding-right: 0.2em;padding-left: 0.2em;position: relative;}#sk-container-id-3 div.sk-item {position: relative;z-index: 1;}#sk-container-id-3 div.sk-parallel {display: flex;align-items: stretch;justify-content: center;background-color: white;position: relative;}#sk-container-id-3 div.sk-item::before, #sk-container-id-3 div.sk-parallel-item::before {content: \"\";position: absolute;border-left: 1px solid gray;box-sizing: border-box;top: 0;bottom: 0;left: 50%;z-index: -1;}#sk-container-id-3 div.sk-parallel-item {display: flex;flex-direction: column;z-index: 1;position: relative;background-color: white;}#sk-container-id-3 div.sk-parallel-item:first-child::after {align-self: flex-end;width: 50%;}#sk-container-id-3 div.sk-parallel-item:last-child::after {align-self: flex-start;width: 50%;}#sk-container-id-3 div.sk-parallel-item:only-child::after {width: 0;}#sk-container-id-3 div.sk-dashed-wrapped {border: 1px dashed gray;margin: 0 0.4em 0.5em 0.4em;box-sizing: border-box;padding-bottom: 0.4em;background-color: white;}#sk-container-id-3 div.sk-label label {font-family: monospace;font-weight: bold;display: inline-block;line-height: 1.2em;}#sk-container-id-3 div.sk-label-container {text-align: center;}#sk-container-id-3 div.sk-container {/* jupyter's `normalize.less` sets `[hidden] { display: none; }` but bootstrap.min.css set `[hidden] { display: none !important; }` so we also need the `!important` here to be able to override the default hidden behavior on the sphinx rendered scikit-learn.org. See: https://github.com/scikit-learn/scikit-learn/issues/21755 */display: inline-block !important;position: relative;}#sk-container-id-3 div.sk-text-repr-fallback {display: none;}</style><div id=\"sk-container-id-3\" class=\"sk-top-container\"><div class=\"sk-text-repr-fallback\"><pre>SVC(C=2, gamma=0.1)</pre><b>In a Jupyter environment, please rerun this cell to show the HTML representation or trust the notebook. <br />On GitHub, the HTML representation is unable to render, please try loading this page with nbviewer.org.</b></div><div class=\"sk-container\" hidden><div class=\"sk-item\"><div class=\"sk-estimator sk-toggleable\"><input class=\"sk-toggleable__control sk-hidden--visually\" id=\"sk-estimator-id-3\" type=\"checkbox\" checked><label for=\"sk-estimator-id-3\" class=\"sk-toggleable__label sk-toggleable__label-arrow\">SVC</label><div class=\"sk-toggleable__content\"><pre>SVC(C=2, gamma=0.1)</pre></div></div></div></div></div>"
            ]
          },
          "metadata": {},
          "execution_count": 15
        }
      ]
    },
    {
      "cell_type": "code",
      "source": [
        "model.score(X,yb)"
      ],
      "metadata": {
        "colab": {
          "base_uri": "https://localhost:8080/"
        },
        "id": "PCN1HWew8fzy",
        "outputId": "2ca2f47e-f727-477f-bca3-8dbaef7b39db"
      },
      "execution_count": null,
      "outputs": [
        {
          "output_type": "execute_result",
          "data": {
            "text/plain": [
              "0.9966015293118097"
            ]
          },
          "metadata": {},
          "execution_count": 16
        }
      ]
    },
    {
      "cell_type": "code",
      "source": [
        "from sklearn.model_selection import train_test_split, cross_val_score, StratifiedKFold\n",
        "# what we got is overfit\n",
        "xtrain, xtest, ytrain, ytest = train_test_split(X,y,test_size=0.4,shuffle=True,random_state=1234)"
      ],
      "metadata": {
        "id": "r-lfteWZ4wBP"
      },
      "execution_count": null,
      "outputs": []
    },
    {
      "cell_type": "code",
      "source": [
        "model = SVC(kernel='rbf',gamma=0.02,C=5)\n",
        "model.fit(xtrain,ytrain)\n",
        "model.score(xtest,ytest)"
      ],
      "metadata": {
        "colab": {
          "base_uri": "https://localhost:8080/"
        },
        "id": "z9KTPM_Q5Lfu",
        "outputId": "7f771424-c82d-4ae0-e403-063b896e0f88"
      },
      "execution_count": null,
      "outputs": [
        {
          "output_type": "execute_result",
          "data": {
            "text/plain": [
              "0.7261146496815286"
            ]
          },
          "metadata": {},
          "execution_count": 23
        }
      ]
    },
    {
      "cell_type": "code",
      "source": [
        "def evaluation(h):\n",
        "  gamma=h[0]\n",
        "  C = h[1]\n",
        "  model = SVC(kernel='rbf',gamma=gamma,C=C)\n",
        "  kf = StratifiedKFold(n_splits=10,shuffle=True,random_state=1234)\n",
        "  ev = cross_val_score(model,X,y,cv=kf,scoring='accuracy')\n",
        "  return np.mean(ev)"
      ],
      "metadata": {
        "id": "4-fISrAR5qkC"
      },
      "execution_count": null,
      "outputs": []
    },
    {
      "cell_type": "code",
      "source": [
        "evaluation([0.03,6])"
      ],
      "metadata": {
        "colab": {
          "base_uri": "https://localhost:8080/"
        },
        "id": "QB3ld2ZX6taq",
        "outputId": "58d9edf0-aa06-444b-e88d-ed246bc38885"
      },
      "execution_count": null,
      "outputs": [
        {
          "output_type": "execute_result",
          "data": {
            "text/plain": [
              "0.7264884832681442"
            ]
          },
          "metadata": {},
          "execution_count": 31
        }
      ]
    },
    {
      "cell_type": "code",
      "source": [
        "cm(yb,model.predict(X))"
      ],
      "metadata": {
        "colab": {
          "base_uri": "https://localhost:8080/"
        },
        "id": "YxwXuIAp9ENu",
        "outputId": "82de5ba6-8485-406b-fb06-1b307796c2b3"
      },
      "execution_count": null,
      "outputs": [
        {
          "output_type": "execute_result",
          "data": {
            "text/plain": [
              "array([[147,  53],\n",
              "       [  0, 977]])"
            ]
          },
          "metadata": {},
          "execution_count": 12
        }
      ]
    },
    {
      "cell_type": "code",
      "source": [
        "from sklearn.feature_extraction.text import TfidfVectorizer\n",
        "prep1 = TfidfVectorizer()\n",
        "X_raw = prep1.fit_transform(allreviews)\n",
        "X = X_raw.toarray()"
      ],
      "metadata": {
        "id": "YwRkyYxBepBE"
      },
      "execution_count": null,
      "outputs": []
    },
    {
      "cell_type": "code",
      "source": [
        "X[10,X[10]!=0]"
      ],
      "metadata": {
        "colab": {
          "base_uri": "https://localhost:8080/"
        },
        "id": "HwRLt1qsjX4l",
        "outputId": "d8b7d3c4-b374-464e-bce6-653ec32c6679"
      },
      "execution_count": null,
      "outputs": [
        {
          "output_type": "execute_result",
          "data": {
            "text/plain": [
              "array([0.18617881, 0.18617881, 0.18617881, 0.18617881, 0.17594777,\n",
              "       0.18617881, 0.18617881, 0.18617881, 0.18617881, 0.19439728,\n",
              "       0.35189553, 0.18617881, 0.18617881, 0.11784695, 0.18617881,\n",
              "       0.18617881, 0.37235762, 0.18617881, 0.18617881, 0.17594777,\n",
              "       0.18617881, 0.18617881, 0.18617881, 0.18617881])"
            ]
          },
          "metadata": {},
          "execution_count": 18
        }
      ]
    },
    {
      "cell_type": "code",
      "source": [
        "X = X_raw"
      ],
      "metadata": {
        "id": "BrqGNJ3y4MZN"
      },
      "execution_count": null,
      "outputs": []
    },
    {
      "cell_type": "code",
      "source": [
        "model.fit(X,yb)\n",
        "model.score(X,yb)"
      ],
      "metadata": {
        "colab": {
          "base_uri": "https://localhost:8080/"
        },
        "id": "RfVBn5PJ4RvJ",
        "outputId": "50b395e6-07cd-4c8a-864d-b6eee1840c84"
      },
      "execution_count": null,
      "outputs": [
        {
          "output_type": "execute_result",
          "data": {
            "text/plain": [
              "0.8827527612574342"
            ]
          },
          "metadata": {},
          "execution_count": 21
        }
      ]
    },
    {
      "cell_type": "code",
      "source": [
        "model = SVC(kernel='rbf',gamma=0.01,C=2)\n",
        "model.fit(X,yb)"
      ],
      "metadata": {
        "colab": {
          "base_uri": "https://localhost:8080/",
          "height": 74
        },
        "id": "Apv7dVGmfDy5",
        "outputId": "0d2c3c3c-1dcd-493e-d711-c18c12ee2d8e"
      },
      "execution_count": null,
      "outputs": [
        {
          "output_type": "execute_result",
          "data": {
            "text/plain": [
              "SVC(C=2, gamma=0.01)"
            ],
            "text/html": [
              "<style>#sk-container-id-7 {color: black;background-color: white;}#sk-container-id-7 pre{padding: 0;}#sk-container-id-7 div.sk-toggleable {background-color: white;}#sk-container-id-7 label.sk-toggleable__label {cursor: pointer;display: block;width: 100%;margin-bottom: 0;padding: 0.3em;box-sizing: border-box;text-align: center;}#sk-container-id-7 label.sk-toggleable__label-arrow:before {content: \"▸\";float: left;margin-right: 0.25em;color: #696969;}#sk-container-id-7 label.sk-toggleable__label-arrow:hover:before {color: black;}#sk-container-id-7 div.sk-estimator:hover label.sk-toggleable__label-arrow:before {color: black;}#sk-container-id-7 div.sk-toggleable__content {max-height: 0;max-width: 0;overflow: hidden;text-align: left;background-color: #f0f8ff;}#sk-container-id-7 div.sk-toggleable__content pre {margin: 0.2em;color: black;border-radius: 0.25em;background-color: #f0f8ff;}#sk-container-id-7 input.sk-toggleable__control:checked~div.sk-toggleable__content {max-height: 200px;max-width: 100%;overflow: auto;}#sk-container-id-7 input.sk-toggleable__control:checked~label.sk-toggleable__label-arrow:before {content: \"▾\";}#sk-container-id-7 div.sk-estimator input.sk-toggleable__control:checked~label.sk-toggleable__label {background-color: #d4ebff;}#sk-container-id-7 div.sk-label input.sk-toggleable__control:checked~label.sk-toggleable__label {background-color: #d4ebff;}#sk-container-id-7 input.sk-hidden--visually {border: 0;clip: rect(1px 1px 1px 1px);clip: rect(1px, 1px, 1px, 1px);height: 1px;margin: -1px;overflow: hidden;padding: 0;position: absolute;width: 1px;}#sk-container-id-7 div.sk-estimator {font-family: monospace;background-color: #f0f8ff;border: 1px dotted black;border-radius: 0.25em;box-sizing: border-box;margin-bottom: 0.5em;}#sk-container-id-7 div.sk-estimator:hover {background-color: #d4ebff;}#sk-container-id-7 div.sk-parallel-item::after {content: \"\";width: 100%;border-bottom: 1px solid gray;flex-grow: 1;}#sk-container-id-7 div.sk-label:hover label.sk-toggleable__label {background-color: #d4ebff;}#sk-container-id-7 div.sk-serial::before {content: \"\";position: absolute;border-left: 1px solid gray;box-sizing: border-box;top: 0;bottom: 0;left: 50%;z-index: 0;}#sk-container-id-7 div.sk-serial {display: flex;flex-direction: column;align-items: center;background-color: white;padding-right: 0.2em;padding-left: 0.2em;position: relative;}#sk-container-id-7 div.sk-item {position: relative;z-index: 1;}#sk-container-id-7 div.sk-parallel {display: flex;align-items: stretch;justify-content: center;background-color: white;position: relative;}#sk-container-id-7 div.sk-item::before, #sk-container-id-7 div.sk-parallel-item::before {content: \"\";position: absolute;border-left: 1px solid gray;box-sizing: border-box;top: 0;bottom: 0;left: 50%;z-index: -1;}#sk-container-id-7 div.sk-parallel-item {display: flex;flex-direction: column;z-index: 1;position: relative;background-color: white;}#sk-container-id-7 div.sk-parallel-item:first-child::after {align-self: flex-end;width: 50%;}#sk-container-id-7 div.sk-parallel-item:last-child::after {align-self: flex-start;width: 50%;}#sk-container-id-7 div.sk-parallel-item:only-child::after {width: 0;}#sk-container-id-7 div.sk-dashed-wrapped {border: 1px dashed gray;margin: 0 0.4em 0.5em 0.4em;box-sizing: border-box;padding-bottom: 0.4em;background-color: white;}#sk-container-id-7 div.sk-label label {font-family: monospace;font-weight: bold;display: inline-block;line-height: 1.2em;}#sk-container-id-7 div.sk-label-container {text-align: center;}#sk-container-id-7 div.sk-container {/* jupyter's `normalize.less` sets `[hidden] { display: none; }` but bootstrap.min.css set `[hidden] { display: none !important; }` so we also need the `!important` here to be able to override the default hidden behavior on the sphinx rendered scikit-learn.org. See: https://github.com/scikit-learn/scikit-learn/issues/21755 */display: inline-block !important;position: relative;}#sk-container-id-7 div.sk-text-repr-fallback {display: none;}</style><div id=\"sk-container-id-7\" class=\"sk-top-container\"><div class=\"sk-text-repr-fallback\"><pre>SVC(C=2, gamma=0.01)</pre><b>In a Jupyter environment, please rerun this cell to show the HTML representation or trust the notebook. <br />On GitHub, the HTML representation is unable to render, please try loading this page with nbviewer.org.</b></div><div class=\"sk-container\" hidden><div class=\"sk-item\"><div class=\"sk-estimator sk-toggleable\"><input class=\"sk-toggleable__control sk-hidden--visually\" id=\"sk-estimator-id-7\" type=\"checkbox\" checked><label for=\"sk-estimator-id-7\" class=\"sk-toggleable__label sk-toggleable__label-arrow\">SVC</label><div class=\"sk-toggleable__content\"><pre>SVC(C=2, gamma=0.01)</pre></div></div></div></div></div>"
            ]
          },
          "metadata": {},
          "execution_count": 78
        }
      ]
    },
    {
      "cell_type": "markdown",
      "metadata": {
        "id": "vu0wfsfugkdS"
      },
      "source": []
    },
    {
      "cell_type": "code",
      "metadata": {
        "id": "hXibZEqWdPPU",
        "colab": {
          "base_uri": "https://localhost:8080/"
        },
        "outputId": "b8d84f3d-a77c-40d0-b39c-0b8dcebce27b"
      },
      "source": [
        "confusion_matrix(yb,model.predict(X))"
      ],
      "execution_count": null,
      "outputs": [
        {
          "output_type": "execute_result",
          "data": {
            "text/plain": [
              "array([[ 38, 398],\n",
              "       [  0, 741]])"
            ]
          },
          "metadata": {},
          "execution_count": 79
        }
      ]
    },
    {
      "cell_type": "code",
      "metadata": {
        "id": "ukfkEpSMFuie"
      },
      "source": [
        "# for the number of stars we say 5 star is a hit and less than 5 is a miss\n",
        "yb = y.where(y==5, other=0).where(y<5, other=1)"
      ],
      "execution_count": null,
      "outputs": []
    },
    {
      "cell_type": "code",
      "metadata": {
        "colab": {
          "base_uri": "https://localhost:8080/"
        },
        "id": "WD3-Corc6O1E",
        "outputId": "630bbe08-3380-4a4e-8d54-9a28ad84d6f3"
      },
      "source": [
        "sum(yb)"
      ],
      "execution_count": null,
      "outputs": [
        {
          "output_type": "execute_result",
          "data": {
            "text/plain": [
              "741.0"
            ]
          },
          "metadata": {},
          "execution_count": 80
        }
      ]
    },
    {
      "cell_type": "code",
      "metadata": {
        "colab": {
          "base_uri": "https://localhost:8080/"
        },
        "id": "aig3TTew6SKJ",
        "outputId": "9392b65f-6044-4022-f726-19c3ea322bad"
      },
      "source": [
        "yb.shape"
      ],
      "execution_count": null,
      "outputs": [
        {
          "output_type": "execute_result",
          "data": {
            "text/plain": [
              "(1177,)"
            ]
          },
          "metadata": {},
          "execution_count": 28
        }
      ]
    },
    {
      "cell_type": "code",
      "metadata": {
        "id": "jqSbY30WIx1G",
        "colab": {
          "base_uri": "https://localhost:8080/"
        },
        "outputId": "ee1059b6-c049-4dec-b372-1401cec139d6"
      },
      "source": [
        "yb"
      ],
      "execution_count": null,
      "outputs": [
        {
          "output_type": "execute_result",
          "data": {
            "text/plain": [
              "0       1.0\n",
              "1       1.0\n",
              "2       0.0\n",
              "3       1.0\n",
              "4       1.0\n",
              "       ... \n",
              "1172    0.0\n",
              "1173    0.0\n",
              "1174    0.0\n",
              "1175    0.0\n",
              "1176    0.0\n",
              "Name: reviews.rating, Length: 1177, dtype: float64"
            ]
          },
          "metadata": {},
          "execution_count": 20
        }
      ]
    },
    {
      "cell_type": "markdown",
      "metadata": {
        "id": "o_Do_3AbH9IG"
      },
      "source": [
        "### Logistic Regression Classifier"
      ]
    },
    {
      "cell_type": "code",
      "metadata": {
        "id": "LSBtBGAbF9Uj",
        "colab": {
          "base_uri": "https://localhost:8080/",
          "height": 112
        },
        "outputId": "310cabb2-c1a6-421b-c2b5-3c3c3123d0a6"
      },
      "source": [
        "from sklearn.linear_model import LogisticRegression\n",
        "from sklearn.metrics import confusion_matrix\n",
        "from sklearn.model_selection import train_test_split as tts\n",
        "from sklearn.metrics import accuracy_score as acc\n",
        "\n",
        "Xtrain,Xtest,ytrain,ytest = tts(X,yb,random_state=123,test_size=0.25)\n",
        "cls = LogisticRegression(random_state=123, solver='lbfgs')\n",
        "cls.fit(Xtrain,ytrain)\n",
        "ypred = cls.predict(Xtest)\n",
        "cm = confusion_matrix(ytest, ypred)\n",
        "pd.DataFrame(cm, columns=['Not 5', '5'], index =['Not 5', '5'])"
      ],
      "execution_count": null,
      "outputs": [
        {
          "output_type": "execute_result",
          "data": {
            "text/plain": [
              "       Not 5    5\n",
              "Not 5     41   67\n",
              "5         20  167"
            ],
            "text/html": [
              "\n",
              "  <div id=\"df-6b2659f5-55c9-49b9-b71b-4170d50e32f2\">\n",
              "    <div class=\"colab-df-container\">\n",
              "      <div>\n",
              "<style scoped>\n",
              "    .dataframe tbody tr th:only-of-type {\n",
              "        vertical-align: middle;\n",
              "    }\n",
              "\n",
              "    .dataframe tbody tr th {\n",
              "        vertical-align: top;\n",
              "    }\n",
              "\n",
              "    .dataframe thead th {\n",
              "        text-align: right;\n",
              "    }\n",
              "</style>\n",
              "<table border=\"1\" class=\"dataframe\">\n",
              "  <thead>\n",
              "    <tr style=\"text-align: right;\">\n",
              "      <th></th>\n",
              "      <th>Not 5</th>\n",
              "      <th>5</th>\n",
              "    </tr>\n",
              "  </thead>\n",
              "  <tbody>\n",
              "    <tr>\n",
              "      <th>Not 5</th>\n",
              "      <td>41</td>\n",
              "      <td>67</td>\n",
              "    </tr>\n",
              "    <tr>\n",
              "      <th>5</th>\n",
              "      <td>20</td>\n",
              "      <td>167</td>\n",
              "    </tr>\n",
              "  </tbody>\n",
              "</table>\n",
              "</div>\n",
              "      <button class=\"colab-df-convert\" onclick=\"convertToInteractive('df-6b2659f5-55c9-49b9-b71b-4170d50e32f2')\"\n",
              "              title=\"Convert this dataframe to an interactive table.\"\n",
              "              style=\"display:none;\">\n",
              "        \n",
              "  <svg xmlns=\"http://www.w3.org/2000/svg\" height=\"24px\"viewBox=\"0 0 24 24\"\n",
              "       width=\"24px\">\n",
              "    <path d=\"M0 0h24v24H0V0z\" fill=\"none\"/>\n",
              "    <path d=\"M18.56 5.44l.94 2.06.94-2.06 2.06-.94-2.06-.94-.94-2.06-.94 2.06-2.06.94zm-11 1L8.5 8.5l.94-2.06 2.06-.94-2.06-.94L8.5 2.5l-.94 2.06-2.06.94zm10 10l.94 2.06.94-2.06 2.06-.94-2.06-.94-.94-2.06-.94 2.06-2.06.94z\"/><path d=\"M17.41 7.96l-1.37-1.37c-.4-.4-.92-.59-1.43-.59-.52 0-1.04.2-1.43.59L10.3 9.45l-7.72 7.72c-.78.78-.78 2.05 0 2.83L4 21.41c.39.39.9.59 1.41.59.51 0 1.02-.2 1.41-.59l7.78-7.78 2.81-2.81c.8-.78.8-2.07 0-2.86zM5.41 20L4 18.59l7.72-7.72 1.47 1.35L5.41 20z\"/>\n",
              "  </svg>\n",
              "      </button>\n",
              "      \n",
              "  <style>\n",
              "    .colab-df-container {\n",
              "      display:flex;\n",
              "      flex-wrap:wrap;\n",
              "      gap: 12px;\n",
              "    }\n",
              "\n",
              "    .colab-df-convert {\n",
              "      background-color: #E8F0FE;\n",
              "      border: none;\n",
              "      border-radius: 50%;\n",
              "      cursor: pointer;\n",
              "      display: none;\n",
              "      fill: #1967D2;\n",
              "      height: 32px;\n",
              "      padding: 0 0 0 0;\n",
              "      width: 32px;\n",
              "    }\n",
              "\n",
              "    .colab-df-convert:hover {\n",
              "      background-color: #E2EBFA;\n",
              "      box-shadow: 0px 1px 2px rgba(60, 64, 67, 0.3), 0px 1px 3px 1px rgba(60, 64, 67, 0.15);\n",
              "      fill: #174EA6;\n",
              "    }\n",
              "\n",
              "    [theme=dark] .colab-df-convert {\n",
              "      background-color: #3B4455;\n",
              "      fill: #D2E3FC;\n",
              "    }\n",
              "\n",
              "    [theme=dark] .colab-df-convert:hover {\n",
              "      background-color: #434B5C;\n",
              "      box-shadow: 0px 1px 3px 1px rgba(0, 0, 0, 0.15);\n",
              "      filter: drop-shadow(0px 1px 2px rgba(0, 0, 0, 0.3));\n",
              "      fill: #FFFFFF;\n",
              "    }\n",
              "  </style>\n",
              "\n",
              "      <script>\n",
              "        const buttonEl =\n",
              "          document.querySelector('#df-6b2659f5-55c9-49b9-b71b-4170d50e32f2 button.colab-df-convert');\n",
              "        buttonEl.style.display =\n",
              "          google.colab.kernel.accessAllowed ? 'block' : 'none';\n",
              "\n",
              "        async function convertToInteractive(key) {\n",
              "          const element = document.querySelector('#df-6b2659f5-55c9-49b9-b71b-4170d50e32f2');\n",
              "          const dataTable =\n",
              "            await google.colab.kernel.invokeFunction('convertToInteractive',\n",
              "                                                     [key], {});\n",
              "          if (!dataTable) return;\n",
              "\n",
              "          const docLinkHtml = 'Like what you see? Visit the ' +\n",
              "            '<a target=\"_blank\" href=https://colab.research.google.com/notebooks/data_table.ipynb>data table notebook</a>'\n",
              "            + ' to learn more about interactive tables.';\n",
              "          element.innerHTML = '';\n",
              "          dataTable['output_type'] = 'display_data';\n",
              "          await google.colab.output.renderOutput(dataTable, element);\n",
              "          const docLink = document.createElement('div');\n",
              "          docLink.innerHTML = docLinkHtml;\n",
              "          element.appendChild(docLink);\n",
              "        }\n",
              "      </script>\n",
              "    </div>\n",
              "  </div>\n",
              "  "
            ]
          },
          "metadata": {},
          "execution_count": 16
        }
      ]
    },
    {
      "cell_type": "code",
      "metadata": {
        "id": "xIO4S8lWJjdk",
        "colab": {
          "base_uri": "https://localhost:8080/"
        },
        "outputId": "e9913a56-3758-476a-e50b-96fd121bbdf2"
      },
      "source": [
        "acc(ytest,ypred)"
      ],
      "execution_count": null,
      "outputs": [
        {
          "output_type": "execute_result",
          "data": {
            "text/plain": [
              "0.7050847457627119"
            ]
          },
          "metadata": {},
          "execution_count": 17
        }
      ]
    },
    {
      "cell_type": "code",
      "metadata": {
        "colab": {
          "base_uri": "https://localhost:8080/"
        },
        "id": "1z-wgGbY6wVR",
        "outputId": "eded576a-4597-430c-a1c8-74be076ac03d"
      },
      "source": [
        "# the input features are based on the Bag of Words Model\n",
        "# the input features matrix X is sparse"
      ],
      "execution_count": null,
      "outputs": [
        {
          "output_type": "execute_result",
          "data": {
            "text/plain": [
              "array([[0, 0, 0, ..., 0, 0, 0],\n",
              "       [0, 0, 0, ..., 0, 0, 0],\n",
              "       [0, 0, 0, ..., 0, 0, 0],\n",
              "       ...,\n",
              "       [0, 0, 0, ..., 0, 0, 0],\n",
              "       [0, 0, 0, ..., 0, 0, 0],\n",
              "       [0, 0, 0, ..., 0, 0, 0]])"
            ]
          },
          "metadata": {
            "tags": []
          },
          "execution_count": 63
        }
      ]
    },
    {
      "cell_type": "markdown",
      "source": [
        "## K-Nearest Neighbors"
      ],
      "metadata": {
        "id": "YOFJYAd-mNP_"
      }
    },
    {
      "cell_type": "code",
      "source": [
        "from sklearn.neighbors import KNeighborsClassifier"
      ],
      "metadata": {
        "id": "alkt9kTzmFqK"
      },
      "execution_count": null,
      "outputs": []
    },
    {
      "cell_type": "code",
      "source": [
        "model = KNeighborsClassifier(n_neighbors=5,weights='distance')"
      ],
      "metadata": {
        "id": "7yiHGREFmRQy"
      },
      "execution_count": null,
      "outputs": []
    },
    {
      "cell_type": "code",
      "source": [
        "model.fit(Xtrain,ytrain)\n",
        "ypred = model.predict(Xtest)\n",
        "cm = confusion_matrix(ytest, ypred)\n",
        "pd.DataFrame(cm, columns=['Not 5', '5'], index =['Not 5', '5'])"
      ],
      "metadata": {
        "colab": {
          "base_uri": "https://localhost:8080/",
          "height": 112
        },
        "id": "Pnm2EprTmRWF",
        "outputId": "9ce4edf9-b3d9-477e-c921-6981a0fb50c6"
      },
      "execution_count": null,
      "outputs": [
        {
          "output_type": "execute_result",
          "data": {
            "text/plain": [
              "       Not 5    5\n",
              "Not 5     65   43\n",
              "5         60  127"
            ],
            "text/html": [
              "\n",
              "  <div id=\"df-3702bc0f-72a3-47c5-ab35-aee1c71bca96\">\n",
              "    <div class=\"colab-df-container\">\n",
              "      <div>\n",
              "<style scoped>\n",
              "    .dataframe tbody tr th:only-of-type {\n",
              "        vertical-align: middle;\n",
              "    }\n",
              "\n",
              "    .dataframe tbody tr th {\n",
              "        vertical-align: top;\n",
              "    }\n",
              "\n",
              "    .dataframe thead th {\n",
              "        text-align: right;\n",
              "    }\n",
              "</style>\n",
              "<table border=\"1\" class=\"dataframe\">\n",
              "  <thead>\n",
              "    <tr style=\"text-align: right;\">\n",
              "      <th></th>\n",
              "      <th>Not 5</th>\n",
              "      <th>5</th>\n",
              "    </tr>\n",
              "  </thead>\n",
              "  <tbody>\n",
              "    <tr>\n",
              "      <th>Not 5</th>\n",
              "      <td>65</td>\n",
              "      <td>43</td>\n",
              "    </tr>\n",
              "    <tr>\n",
              "      <th>5</th>\n",
              "      <td>60</td>\n",
              "      <td>127</td>\n",
              "    </tr>\n",
              "  </tbody>\n",
              "</table>\n",
              "</div>\n",
              "      <button class=\"colab-df-convert\" onclick=\"convertToInteractive('df-3702bc0f-72a3-47c5-ab35-aee1c71bca96')\"\n",
              "              title=\"Convert this dataframe to an interactive table.\"\n",
              "              style=\"display:none;\">\n",
              "        \n",
              "  <svg xmlns=\"http://www.w3.org/2000/svg\" height=\"24px\"viewBox=\"0 0 24 24\"\n",
              "       width=\"24px\">\n",
              "    <path d=\"M0 0h24v24H0V0z\" fill=\"none\"/>\n",
              "    <path d=\"M18.56 5.44l.94 2.06.94-2.06 2.06-.94-2.06-.94-.94-2.06-.94 2.06-2.06.94zm-11 1L8.5 8.5l.94-2.06 2.06-.94-2.06-.94L8.5 2.5l-.94 2.06-2.06.94zm10 10l.94 2.06.94-2.06 2.06-.94-2.06-.94-.94-2.06-.94 2.06-2.06.94z\"/><path d=\"M17.41 7.96l-1.37-1.37c-.4-.4-.92-.59-1.43-.59-.52 0-1.04.2-1.43.59L10.3 9.45l-7.72 7.72c-.78.78-.78 2.05 0 2.83L4 21.41c.39.39.9.59 1.41.59.51 0 1.02-.2 1.41-.59l7.78-7.78 2.81-2.81c.8-.78.8-2.07 0-2.86zM5.41 20L4 18.59l7.72-7.72 1.47 1.35L5.41 20z\"/>\n",
              "  </svg>\n",
              "      </button>\n",
              "      \n",
              "  <style>\n",
              "    .colab-df-container {\n",
              "      display:flex;\n",
              "      flex-wrap:wrap;\n",
              "      gap: 12px;\n",
              "    }\n",
              "\n",
              "    .colab-df-convert {\n",
              "      background-color: #E8F0FE;\n",
              "      border: none;\n",
              "      border-radius: 50%;\n",
              "      cursor: pointer;\n",
              "      display: none;\n",
              "      fill: #1967D2;\n",
              "      height: 32px;\n",
              "      padding: 0 0 0 0;\n",
              "      width: 32px;\n",
              "    }\n",
              "\n",
              "    .colab-df-convert:hover {\n",
              "      background-color: #E2EBFA;\n",
              "      box-shadow: 0px 1px 2px rgba(60, 64, 67, 0.3), 0px 1px 3px 1px rgba(60, 64, 67, 0.15);\n",
              "      fill: #174EA6;\n",
              "    }\n",
              "\n",
              "    [theme=dark] .colab-df-convert {\n",
              "      background-color: #3B4455;\n",
              "      fill: #D2E3FC;\n",
              "    }\n",
              "\n",
              "    [theme=dark] .colab-df-convert:hover {\n",
              "      background-color: #434B5C;\n",
              "      box-shadow: 0px 1px 3px 1px rgba(0, 0, 0, 0.15);\n",
              "      filter: drop-shadow(0px 1px 2px rgba(0, 0, 0, 0.3));\n",
              "      fill: #FFFFFF;\n",
              "    }\n",
              "  </style>\n",
              "\n",
              "      <script>\n",
              "        const buttonEl =\n",
              "          document.querySelector('#df-3702bc0f-72a3-47c5-ab35-aee1c71bca96 button.colab-df-convert');\n",
              "        buttonEl.style.display =\n",
              "          google.colab.kernel.accessAllowed ? 'block' : 'none';\n",
              "\n",
              "        async function convertToInteractive(key) {\n",
              "          const element = document.querySelector('#df-3702bc0f-72a3-47c5-ab35-aee1c71bca96');\n",
              "          const dataTable =\n",
              "            await google.colab.kernel.invokeFunction('convertToInteractive',\n",
              "                                                     [key], {});\n",
              "          if (!dataTable) return;\n",
              "\n",
              "          const docLinkHtml = 'Like what you see? Visit the ' +\n",
              "            '<a target=\"_blank\" href=https://colab.research.google.com/notebooks/data_table.ipynb>data table notebook</a>'\n",
              "            + ' to learn more about interactive tables.';\n",
              "          element.innerHTML = '';\n",
              "          dataTable['output_type'] = 'display_data';\n",
              "          await google.colab.output.renderOutput(dataTable, element);\n",
              "          const docLink = document.createElement('div');\n",
              "          docLink.innerHTML = docLinkHtml;\n",
              "          element.appendChild(docLink);\n",
              "        }\n",
              "      </script>\n",
              "    </div>\n",
              "  </div>\n",
              "  "
            ]
          },
          "metadata": {},
          "execution_count": 20
        }
      ]
    },
    {
      "cell_type": "markdown",
      "metadata": {
        "id": "pea2T1NnIEC7"
      },
      "source": [
        "### Random Forest Classifier"
      ]
    },
    {
      "cell_type": "code",
      "metadata": {
        "id": "x9dpA18ZF6HZ",
        "colab": {
          "base_uri": "https://localhost:8080/",
          "height": 112
        },
        "outputId": "a1e530cc-a2dd-4dd3-d65a-c1f3071032bf"
      },
      "source": [
        "from sklearn.ensemble import RandomForestClassifier\n",
        "\n",
        "\n",
        "cls = RandomForestClassifier(random_state=310, max_depth=100, n_estimators = 100)\n",
        "cls.fit(Xtrain,ytrain)\n",
        "ypred = cls.predict(Xtest)\n",
        "cm = confusion_matrix(ytest, ypred)\n",
        "pd.DataFrame(cm, columns=['Not 5', '5'], index =['Not 5', '5'])"
      ],
      "execution_count": null,
      "outputs": [
        {
          "output_type": "execute_result",
          "data": {
            "text/plain": [
              "       Not 5    5\n",
              "Not 5     45   63\n",
              "5         14  173"
            ],
            "text/html": [
              "\n",
              "  <div id=\"df-5607fccc-9ef8-4238-a8bf-21ead4519d8d\">\n",
              "    <div class=\"colab-df-container\">\n",
              "      <div>\n",
              "<style scoped>\n",
              "    .dataframe tbody tr th:only-of-type {\n",
              "        vertical-align: middle;\n",
              "    }\n",
              "\n",
              "    .dataframe tbody tr th {\n",
              "        vertical-align: top;\n",
              "    }\n",
              "\n",
              "    .dataframe thead th {\n",
              "        text-align: right;\n",
              "    }\n",
              "</style>\n",
              "<table border=\"1\" class=\"dataframe\">\n",
              "  <thead>\n",
              "    <tr style=\"text-align: right;\">\n",
              "      <th></th>\n",
              "      <th>Not 5</th>\n",
              "      <th>5</th>\n",
              "    </tr>\n",
              "  </thead>\n",
              "  <tbody>\n",
              "    <tr>\n",
              "      <th>Not 5</th>\n",
              "      <td>45</td>\n",
              "      <td>63</td>\n",
              "    </tr>\n",
              "    <tr>\n",
              "      <th>5</th>\n",
              "      <td>14</td>\n",
              "      <td>173</td>\n",
              "    </tr>\n",
              "  </tbody>\n",
              "</table>\n",
              "</div>\n",
              "      <button class=\"colab-df-convert\" onclick=\"convertToInteractive('df-5607fccc-9ef8-4238-a8bf-21ead4519d8d')\"\n",
              "              title=\"Convert this dataframe to an interactive table.\"\n",
              "              style=\"display:none;\">\n",
              "        \n",
              "  <svg xmlns=\"http://www.w3.org/2000/svg\" height=\"24px\"viewBox=\"0 0 24 24\"\n",
              "       width=\"24px\">\n",
              "    <path d=\"M0 0h24v24H0V0z\" fill=\"none\"/>\n",
              "    <path d=\"M18.56 5.44l.94 2.06.94-2.06 2.06-.94-2.06-.94-.94-2.06-.94 2.06-2.06.94zm-11 1L8.5 8.5l.94-2.06 2.06-.94-2.06-.94L8.5 2.5l-.94 2.06-2.06.94zm10 10l.94 2.06.94-2.06 2.06-.94-2.06-.94-.94-2.06-.94 2.06-2.06.94z\"/><path d=\"M17.41 7.96l-1.37-1.37c-.4-.4-.92-.59-1.43-.59-.52 0-1.04.2-1.43.59L10.3 9.45l-7.72 7.72c-.78.78-.78 2.05 0 2.83L4 21.41c.39.39.9.59 1.41.59.51 0 1.02-.2 1.41-.59l7.78-7.78 2.81-2.81c.8-.78.8-2.07 0-2.86zM5.41 20L4 18.59l7.72-7.72 1.47 1.35L5.41 20z\"/>\n",
              "  </svg>\n",
              "      </button>\n",
              "      \n",
              "  <style>\n",
              "    .colab-df-container {\n",
              "      display:flex;\n",
              "      flex-wrap:wrap;\n",
              "      gap: 12px;\n",
              "    }\n",
              "\n",
              "    .colab-df-convert {\n",
              "      background-color: #E8F0FE;\n",
              "      border: none;\n",
              "      border-radius: 50%;\n",
              "      cursor: pointer;\n",
              "      display: none;\n",
              "      fill: #1967D2;\n",
              "      height: 32px;\n",
              "      padding: 0 0 0 0;\n",
              "      width: 32px;\n",
              "    }\n",
              "\n",
              "    .colab-df-convert:hover {\n",
              "      background-color: #E2EBFA;\n",
              "      box-shadow: 0px 1px 2px rgba(60, 64, 67, 0.3), 0px 1px 3px 1px rgba(60, 64, 67, 0.15);\n",
              "      fill: #174EA6;\n",
              "    }\n",
              "\n",
              "    [theme=dark] .colab-df-convert {\n",
              "      background-color: #3B4455;\n",
              "      fill: #D2E3FC;\n",
              "    }\n",
              "\n",
              "    [theme=dark] .colab-df-convert:hover {\n",
              "      background-color: #434B5C;\n",
              "      box-shadow: 0px 1px 3px 1px rgba(0, 0, 0, 0.15);\n",
              "      filter: drop-shadow(0px 1px 2px rgba(0, 0, 0, 0.3));\n",
              "      fill: #FFFFFF;\n",
              "    }\n",
              "  </style>\n",
              "\n",
              "      <script>\n",
              "        const buttonEl =\n",
              "          document.querySelector('#df-5607fccc-9ef8-4238-a8bf-21ead4519d8d button.colab-df-convert');\n",
              "        buttonEl.style.display =\n",
              "          google.colab.kernel.accessAllowed ? 'block' : 'none';\n",
              "\n",
              "        async function convertToInteractive(key) {\n",
              "          const element = document.querySelector('#df-5607fccc-9ef8-4238-a8bf-21ead4519d8d');\n",
              "          const dataTable =\n",
              "            await google.colab.kernel.invokeFunction('convertToInteractive',\n",
              "                                                     [key], {});\n",
              "          if (!dataTable) return;\n",
              "\n",
              "          const docLinkHtml = 'Like what you see? Visit the ' +\n",
              "            '<a target=\"_blank\" href=https://colab.research.google.com/notebooks/data_table.ipynb>data table notebook</a>'\n",
              "            + ' to learn more about interactive tables.';\n",
              "          element.innerHTML = '';\n",
              "          dataTable['output_type'] = 'display_data';\n",
              "          await google.colab.output.renderOutput(dataTable, element);\n",
              "          const docLink = document.createElement('div');\n",
              "          docLink.innerHTML = docLinkHtml;\n",
              "          element.appendChild(docLink);\n",
              "        }\n",
              "      </script>\n",
              "    </div>\n",
              "  </div>\n",
              "  "
            ]
          },
          "metadata": {},
          "execution_count": 23
        }
      ]
    },
    {
      "cell_type": "code",
      "metadata": {
        "id": "Va1QXBwpetaT",
        "colab": {
          "base_uri": "https://localhost:8080/"
        },
        "outputId": "7d90b1a2-77aa-4c31-a0c5-2e8573cd6bcd"
      },
      "source": [
        "acc(ytest,ypred)"
      ],
      "execution_count": null,
      "outputs": [
        {
          "output_type": "execute_result",
          "data": {
            "text/plain": [
              "0.7389830508474576"
            ]
          },
          "metadata": {},
          "execution_count": 24
        }
      ]
    },
    {
      "cell_type": "markdown",
      "metadata": {
        "id": "9jGLmCiMI_sg"
      },
      "source": [
        "### <font color='blue'> Application to the Wine Ratings Dataset </font>"
      ]
    },
    {
      "cell_type": "code",
      "source": [
        "# the first example uses only 1000 observations\n",
        "wine_data = pd.read_csv('https://github.com/dvasiliu/AML/blob/main/Data%20Sets/winemagdata130kv2.csv?raw=true',quoting=2)\n",
        "wines = wine_data[[\"description\",\"points\"]]\n",
        "wines_subset = wines.sample(1000,random_state=1234).reset_index(drop=True)\n",
        "corpus = []"
      ],
      "metadata": {
        "id": "BbqwcehIiK6F"
      },
      "execution_count": null,
      "outputs": []
    },
    {
      "cell_type": "code",
      "metadata": {
        "id": "GckK-WM1JlgQ"
      },
      "source": [
        "for i in range(0,len(wines_subset)):\n",
        "    wine_descriptions = re.sub('[^a-zA-Z0-9 ]','',wines_subset[\"description\"][i])\n",
        "    wine_descriptions=wine_descriptions.lower()\n",
        "    wine_descriptions = wine_descriptions.split()\n",
        "    wine_descriptions = [word for word in wine_descriptions if not word in set(stopwords.words('english'))]\n",
        "    stemmer = PorterStemmer()\n",
        "    wine_descriptions = [stemmer.stem(word) for word in wine_descriptions]\n",
        "    wine_descriptions = \" \".join(wine_descriptions)\n",
        "    corpus.append(wine_descriptions)"
      ],
      "execution_count": null,
      "outputs": []
    },
    {
      "cell_type": "code",
      "source": [
        "corpus"
      ],
      "metadata": {
        "colab": {
          "base_uri": "https://localhost:8080/"
        },
        "id": "LQBZMg7RidfJ",
        "outputId": "658d4fab-16b3-4027-ac02-e09069ce8d88",
        "collapsed": true
      },
      "execution_count": null,
      "outputs": [
        {
          "output_type": "execute_result",
          "data": {
            "text/plain": [
              "['atauta singlevineyard wine sensat 2011 vintag la mala arguabl overtli oaki modern style graini resini barreldriven aroma come control burn heat tannic firm cement ampl oak resin creat creami feel resini fulli spice blackfruit flavor end pepper wood grain burnt toast oaki note drink 20182031',\n",
              " 'pleasant red fruit awash chocolati oak craft access broadli open syrah though seem bit gener balanc tasti good bottl nearterm drink simpl grill meat',\n",
              " 'mediumbodi sauvignon blanc add bit creami depth midpal aroma flavor fig melon ripe side marlborough despit still clean refresh long citruspith finish',\n",
              " 'aromat unusu suggest raspberri jam purpl flower orang peel manur flavor tangi almost seem light spritz',\n",
              " 'tannin good balanc acid ripe red berri fruit alreadi attract fresh young wine light touch tannin keep well order drink 2016',\n",
              " 'ripe juici wine soft tannin lift fresh blackberri flavor crisp acid juic show promin dri structur envelop berri fruit charact suggest matur quickli',\n",
              " 'quit evolv nose suggest bitter almond vanilla much pear dri orang rind palat dri express fluid precis drawn show great depth flavor concentr intrigu nutti make long dri finish',\n",
              " 'wine bring aroma blackberri date spice palat display abund cherri flavor lightli chalki tannin',\n",
              " 'smoki earthi black pepper aroma make wine catchi first sniff flavor fill mouth similarli spici earthi suggest fullbodi firmtextur quit concentr pour venison smoke duck anoth game dish possibl',\n",
              " 'drink like young amaron price like valpolicella red care age oak 12 month suppl soft burst red fruit aroma long spici finish',\n",
              " 'drkheimer michelsberg bottl maintain rich textur bodi mani pflger dri riesl concentr appl pear flavor zestier acid herbal fresh lend leaner edgier feel drink 2019',\n",
              " 'lightli bodi eleg wine subtl crispa studi white pepper leather that complex tightli layer cool climat core show floral aroma flavor rose petal lavend hint rhubarb tart cherri make way onto quiet palat',\n",
              " '8991 barrel sampl good balanc ripe blackberri fruit solid tannin wine show new wood touch green flavor',\n",
              " 'redol peach lemon soda crush flint sparkler would pleasant consum outdoor picnic summer barbecu',\n",
              " 'earthi lightli bake bouquet raspberri plum aroma along grassi note spice palat medium size juici fresh lightli oak berri herbal plum flavor heavi overbear',\n",
              " 'wine burnt rubber mouthpuck slightli chemic underton aroma tast',\n",
              " 'address oakvil price right cab could anywher soft sweetli simpl cherri blackberri jam vanilla oak flavor drink fade away',\n",
              " 'delic scent open aroma white spring flower orchard fruit whiff mediterranean herb creami palat energ miner vein underscor golden appl juici white peach nectarin',\n",
              " 'raisin bake plum aroma set stage somewhat flatfeel palat plum berri aroma chunki finish soft low acid lot pop',\n",
              " 'age entir new french oak open aroma reflect woodi note reveal wave rich thick coconut caramel full bodi style finish hint sweet',\n",
              " 'intens honey flourish citru saffron lanolin ice wine showcas grape exuberantli floral fruiti person back focus lemonlim acid dreami finish linger long rich sweet palat',\n",
              " 'wine soft fruiti attract red cherri favor light acid smooth round readi drink live acid touch tannin finish',\n",
              " 'full flavor bodi sturdi wine base viognier sauvignon blanc pinot gri dash chardonnay crisp acid keep live smell like pear honeydew melon tast dri gener littl butteri finish clean',\n",
              " 'stalki leatheri aroma low fruit fresh grabbi feel sort like leather strap herbal berri plum flavor mildli bitter green note appar finish 90 exactli',\n",
              " 'whiff elderflow nettl appear nose creamier hint autolysi green appl come nettl make anoth brief aromat appear palat come togeth balanc bright greenappl crisp mellow subtli rich yeasti bubbl fine soft finish brisk enliven wonder harmoni fresh apritif style',\n",
              " 'elabor chardonnay ripe tropic fruit lime pear lee age bring rich champagn doughi french oak bring usual butter toast caramel vanilla note butteri creami textur fine acid fanci chard drink',\n",
              " 'bold ripe fruiti young wine readi drink soon blackberri note lace bright acid balanc rich palat alreadi delici approach gener wine fresh aftertast',\n",
              " 'straw whitefruit aroma tropicallean chardonnay ripe nose mouth dens tropic natur melon mango papaya green herb flavor chunki finish drink',\n",
              " 'age 30 new french oak brown sugar cola root beer note back black cherri fruit coelho shaken lineup made clear improv kept price line drink earli 2020',\n",
              " 'big tannin dark fruit power wine weight rich charact solid structur moment dri tough 2016 show black fruit well tannin',\n",
              " 'made vermentino grape vento bit inexpress eventu reveal subdu floral exot fruit aroma palat offer banana pineappl peach flavor accompani bright acid',\n",
              " 'easytolik aroma honeysuckl jasmin green tea ice cream show nose bright vivaci wine dave potter one forefath evolut santa barbara funk zone neighborhood power grip grab hold palat make raci chalki experi lot length carri greenfruit tea flavor',\n",
              " 'blend fruit klipsun slide mountain eleph mountain ciel du cheval vineyard wine offer gener aroma raspberri chocol spice palat pack brim fruit flavor linger finish',\n",
              " 'fullbodi white open aroma ripe yellow peach spanish broom chamomil flower mediterranean brush round creami palat dole juici pineappl bake yellow appl sea spray candi nectarin zest alongsid soft acid',\n",
              " 'rich gooey marshmallow crme brle cotton candi aroma unabash classic california chardonnay austin hope unctuou marzipan sea salt caramel flavor make creami mouthfeel yet firm acid leav midpal feel clean allow butterscotch tone linger finish',\n",
              " 'bordeauxstyl blend five classic red varieti cabernet sauvignon merlot play nearli equal role wine tart blackberri cranberri dark cherri cassi firm youth tannin support fruit softli intens offer balanc acid integr oak',\n",
              " 'small product wine equival second wine count leo de maletroquefort premier grand cru class estat wine smooth eleg ripe black plum perfum acid accompani wood age flavor fresher blackcurr fruiti sophist wine still need age drink 2019',\n",
              " 'stonetre vineyard tightli style syrah offer white pepper lace plummi fruit there pretti floralviolet streak also darker note tar smoke suggest coil power behind rather light front end',\n",
              " 'pale orangepink color lightli fruit wine palat soft acid orang lime fruit smooth round textur contribut open wine',\n",
              " 'blend 60 syrah 27 merlot hand varieti ad mix aromat pop complex note plum blueberri smoke chocol floral accent silki smooth feel abund chocolati flavor help go far easi',\n",
              " 'made use fruit one top kamptal vineyard perfum wine great textur tight acid note green plum skin lemon zest depth flavor nervi miner edg age least four year',\n",
              " 'crazygood combo lavend espresso bake spice flavor make fullbodi wine fascin tast deepli color aromat tannic heavi wine vivid stamp spici oak enough lavish blackberri black cherri behind balanc',\n",
              " 'variet roussann that pungent herb honey vanilla along strong flavor black tea oak somewhat overpow fruit waxi finish serv chill drink young',\n",
              " 'definit touch stalki perhap consequ vintag black currant fruit balanc acid need month develop drink 2016',\n",
              " 'dri earthi plum cherri tomato leather aroma fresh also touch hard harsh cementeggfer cab franc featur medium bodi cut acid raw redplum redberri flavor finish tight crisp short drink juici monolin red 2020',\n",
              " 'fresh bright subtli floral flavor dri mediumbodi wine combin rich good acid beauti balanc refresh person fruiti thin right',\n",
              " 'reach peak vintag ayala top qualiti prestig cuve ripe fullbodi round hallmark dryness hous although soften age given eleg style total readi drink',\n",
              " 'woodag wine bring wonder ripe flavor encruzado apricot ripe bartlett pear domin back toasti great acid fine textur rich wine readi drink',\n",
              " 'honeysuckl stone fruit miner tone mark fragrant dri weissburgund rich round palat brighten tart melon rind white peach flavor along refresh miner sheen finish',\n",
              " 'wine perfum gorgeou fruit contrast strict miner tannin fruit sever solid dark promis enorm potenti concentr even celebr great fruit go last mani year drink 2023',\n",
              " 'fragrant note candi pear lift hint orang blossom temper exuber lemon fresh palat tender envelop overbear sweet carri aloft exquisit honey tableau pear quinc mirabel plum apricot balanc pure lemon fresh finish soft moreish mellow',\n",
              " 'aroma earthi raisini berri fruit graphit coffe grind wood smoke set jammi plump palat waver focu spici prune berri cassi flavor rooti coffe mocha oak flavor domin finish drink 2019',\n",
              " 'crisp lightli miner fruiti wine readi drink live acid lemonzest tang give wine lift prickl fresh drink',\n",
              " 'textur dens red berri fruit red currant crisp rich also show miner zesti edg real apritif ro soft aftertast lift acid',\n",
              " 'bright fruit tone peach melon golden delici appl sit soft creami perlag overal there feminin delic qualiti sparkler',\n",
              " 'domin herbac sauvignon blanc cool wine great altern new zealand sauvignon nettl gooseberri flavor attract pois fresh acid screwcap',\n",
              " 'smell great complex scent black pepper bacon ripe wild blackberri way syrah turn soft sweet mouth simpl jam flavor',\n",
              " 'grown oakley area mostli old vine zin dri lush textur complex flavor love floral miner note spici raspberri cherri currant cola great job good price',\n",
              " 'washington pinot gri flesh textur fine oregon version yet bring spice verv bright washington fruit play pear appl acacia orang candi even bit pineappl combin fruiti delici wine stainless malolact',\n",
              " 'eleg wine structur vintag surround tannin wine sweet ripe smoki wood power eleg sophist strong sens pois tannin promis longterm age',\n",
              " 'clonal studi lean quit tropic area blend aroma honeysuckl white flower guava fruit good energi palat sour applecid charact midway dri pear throughout stoni miner bitter aftertast',\n",
              " 'frizzi fun red semisparkl offer aroma red beet moist earth black fruit cherri cola there earthi qualiti wine follow bright acid',\n",
              " 'aroma freshlysawn wood set scene wine full newwood toast vanilla flavor fruit also present result wine balanc potenti mayb 45 year fine effort',\n",
              " 'subdu nose slowli reveal underbrush clove new leather balsam aroma firm hearti palat show dri marasca cherri raw cranberri coffe grill sage hint star anis alongsid assert fine grain tannin grip finish drink 20182023',\n",
              " 'featur cabernet sangioves merlot new world red big power beauti aroma berri fruit smoke orang rind spice mouth fulli envelop downright delici finish blast black coffe toast bigbon aggress still fairli friendli drink hold six year',\n",
              " 'full blast oak relat aroma open creami ripe wine plump palat enough acid preserv balanc rich friendli wine featur walnut papaya citru flavor finish woodi smooth long drink',\n",
              " 'testament wine balanc remain aliv fresh long mani bianco fade intens miner aroma mix note smoke fresh appl flavor earthi hint miner oil long finish best buy',\n",
              " 'everyday chardonay seemingli sweet fruiti pineappl vanilla butter toast flavor',\n",
              " 'light vibrant open aroma fragrant spring flower stone fruit suggest nutmeg palat offer white peach appl hint almond alongsid crisp acid',\n",
              " 'spici assert young cellarworthi pinot noir hint complex within give plenti air time open aromat allspic sandalwood perhap cola pine needl tart tangi berri fruit still compact primari fulli ripe nice sculpt welldefin wine start finish',\n",
              " 'earthi rustic aroma translat onto palat wine seem miss fruiti normal associ ross month bottl may help',\n",
              " 'exuberantli juici blackberri blueberri intermingl midweight wine undet oak wellintegr tannin make play finish compet dusti chocol mocha dusti take rocki miner recal wine terroir',\n",
              " 'entrylevel wine chteau desclan red fruit fine acid weight smooth textur finish that round ripe',\n",
              " 'barrel barrel select result reservelevel cuve round forward spici toasti solid almost chunki style bold blackcherri fruit barrel age bring highlight coffe toast think duck confit bottl enjoy next year',\n",
              " 'sweet simpl apricot pineappl flavor heavi coat caramel oak drinkabl disagre fruitjuici',\n",
              " 'chocolati aroma ampl spici darkfruit flavor power gener firmtextur wine everyth seem place balanc readi take nice roast brais',\n",
              " 'use organ farm grape boast entic scent rose blue flower plum cake spice chewi delici palat tast juici wild cherri black raspberri white pepper cinnamon mocha round ripe tannin give smooth textur drink 2020',\n",
              " 'edgi raw cherri plum aroma spici set brace palat firm tannin high acid dri spici like red plum currant scour acid make moder abras finish',\n",
              " 'mild lightli oak front end peach appl note feel narrow focus honey appl pear melon flavor arent sweet candi light simpl feel finish eleg',\n",
              " '100 variet wine hail stone tree cold creek beverli vineyard aroma vanilla chocol cherri raspberri lead exuber layer fruit flavor display lot intens focu length',\n",
              " 'rich oaki chardonnay fairli standard issu sweet opul vanilla caramel butter toast pineappl marmalad ripe pear flavor creami textur',\n",
              " 'redcherri flavor domin soft fruiti wine aromat full ripe fruiti right touch acid drink',\n",
              " 'stew plum freshli chop meat oregano fennel serv attentiongrab aroma inki wine paso robl westsid palat tannin nice even smooth herbal note tend overpow tart cranberri fruit pleasant quit complet full midpal finish',\n",
              " 'fruit star tasti chardonnay pineappl pear mango green appl key lime pie danc palat touch oak add vanilla cream butter toast drink',\n",
              " 'blend sangioves cabernet sauvignon canaiolo evok darkskin berri bake spice aroma firm savori palat deliv black plum tobacco vanilla alongsid round tannin enjoy 2019',\n",
              " 'weighti dri albario rare sight sonoma one well worth seek savori nutti almond tast grill peach mouth quench itll pair well spici thai shrimp',\n",
              " 'fresh fruiti wine ripe berri fruit shot acid wine develop fast readi drink end 2016',\n",
              " 'fullbodi wine offer depth brambl blackberri smoki clove cigar box make compel invit velvetysmooth palat well integr oak tannin finish touch spici bring clove shake black pepper',\n",
              " 'amazingli fresh fruiti tankfer wine impart subtl hint grass unleash sublim layer melon apricot alongsid measur zesti acid new winemak chri kajani take thing refresh aimforthetop direct bottl',\n",
              " 'rooti aroma tree bark cola tobacco sweet briar set plump tannic palat roast sweet flavor mission fig dark berri spice easygo loami finish chewi tannin much bite',\n",
              " 'wine ripe plenti tannin give rich structur charact dens blackcurr fruiti drink 2018',\n",
              " 'tropic scent kiwi catawba strung togeth touch caramel syrup hint sulfur palat pudgi feel upon entranc mild flavor concentr wine sit glass acid flatten cheesi flavor surfac',\n",
              " '2008 crannel lean herbac side oregon pinot noir rel low list alcohol 13 cranberri domin fruit flavor along fresh herb whiff tomato leaf',\n",
              " 'western edg main port vineyard estat well place fine wine port richli structur touriga nacion attract acid perfum black fruit robust tight tannin wood age made age drink 2021',\n",
              " 'appl blossom fresh apricot peach abound nose finish gorgeous fruiti summersweet sptlese juici irresist guzzl worthi yet elegantli miner textur that breathlessli sheer drink beauti enough penetr fruit flavor acid last well next decad',\n",
              " 'anoth wildli complic pinot noir bradley brown smell crimini mushroom smolder chemis sweet cherri tomato reduct sauc pinch cinnamon lush soft red purpl fruit sip smoki spice edg smash oliv throughout',\n",
              " 'bottl fine produc kund alway show grassi haylik note citru fruit flavor that style youll like wine lightli oak feel crisp clean mouth well dri low alcohol pleasur',\n",
              " 'plum cherri aroma slightest bit stalki mouth coastal pinot round full feel reedi cherri plum flavor match creami oak brini hint vanilla integr oak help pinot finish eleg',\n",
              " 'despit come univers hail vintag gener bordeaux still weedi herbal lean also decent cassi cherri fruit tasti vanilla cinnamon note oak age tart dri finish light hasnt dumb mass market',\n",
              " 'aroma like waffl mapl syrup bright fruit flavor almost sweet give wine big person full bodi moder tannic make nice pair rich pasta lamb chop',\n",
              " 'round pond track record sauvignon blanc pretti consist wine rare greatalmost never badbut frequent satisfactori 2012 one better effortsa littl ripe profilebut clean savori',\n",
              " 'softli lush complex flavor cabernetbas bordeaux blend impress power author thoroughli dri firm tannin show classic flavor black currant cedar intric note cherri violet tobacco mocha beef jerki beauti develop decad',\n",
              " 'milki dark deepli concentr barbera soapi floral note load blueberri blackberri back qualiti fruit sweet chewi although bright acid close note deliv blast black cherri great valu',\n",
              " 'lean easi bright peach apricot lemonlim aroma bright note tangerin skin appear finish',\n",
              " 'realli like past releas wine 04 leagu hot wine bake stew fruit flavor finish prickli drili astring tannin go anywher drink',\n",
              " 'converg high alcohol acid tannin make super tuscanstyl blend 50 sangioves 25 cabernet sauvignon 25 merlot last quit intens plum brandi aroma meet nosetickl licoric note nose palat grippi tannin present vanilla cherri blackberri candi lilac flavor drink 20182028',\n",
              " 'lusciou black cherri cassi note kiss menthol elegantli structur merlot wine wide appeal balanc juici forward fruit streak cranberri acid penetr yet velvettextur tannin',\n",
              " 'call wine huge understat blend cabernet sauvignon merlot malbec petit verdot syrah carmenr notabl featur tannin hard dri astring make difficult appreci there gigant core blackberri black currant rich like age improv 2020 least',\n",
              " 'zesti orang tangerin rind mark honey sweet spice nose exuber offdri riesl ripe peach melon yellowcherri flavor lush sweet palat counter jolt lime lemon acid beauti nuanc wine that effortlessli tasti',\n",
              " 'ripe spici juici wine good acid balanc tannin blend smooth charact aragonez aka tempranillo combin tannic firm cabernet sauvignon togeth produc fruiti structur wine readi drink',\n",
              " 'lean redcherri briar scent lend eleg tone brisk mediumbodi cabernet franc palat shade riper black cherri plum flavor counter hint earth green leaf ripe coars grain tannin linger',\n",
              " 'rich concentr blend mainli merlot littl cabernet sauvignon malbec alcohol show weight wine fresh still present power dark still young wine best 2017',\n",
              " 'big bold wine offer lot fruit flavor firm tannin full bodi ripe berri flood palat grip textur make feel tight finish',\n",
              " 'merest touch apricot caress vanilla hazelnut note fine oak palat hand convey power concentr held tight taut lemon fresh take littl bottl unfold entic lover chardonnay combin bright fresh lush fruit',\n",
              " 'smooth ripe round readi drink light perfum spice rich pear quinc fruit add fresh full drink',\n",
              " 'mix spice fruit give ripe feel show good potenti 75 merlot 15 cabernet sauvignon 10 cabernet franc juici backdrop boost woodag flavor need age drink 2018 estat dop famili 150 year',\n",
              " 'dull uninterest simpl apricot flavor unrip veget note accept dryness crisp period',\n",
              " 'cranberri sauc flavor refresh acid make delici wine consum young unhind oak undu extract show charm primari fruit open uncompl way winner charcuteri salami',\n",
              " 'pretti moscato dasti show rich creami qualiti thank sweet tone honey peach exot fruit drive bouquet textur sticki thick zesti touch fresh acid show right end keep palat refresh',\n",
              " 'lean dri miner tart flavor grapefruit lemon peel asian pear acid refreshingli crisp bottl rare well blind tast auster eleg',\n",
              " 'rich ripe concentr lush array black fruit enhanc gener amount barrelgener bake spice there chef pantri cinnamon ginger along vein molass whiff coffe run tannin total yumfest',\n",
              " 'soft mediumdri charact great food wine pt blue chees fine balanc acid give lift tangerin peach dri fruit flavor aftertast perfectli clean creami lift acid',\n",
              " 'gold color lightli oxid nose still young smell heavi creami like hay feel flat pickl flavor meali appl finish run plump sweet seem like impost chardonnay',\n",
              " 'second vintag declassifi barrel wine blend cabernet sauvignon petit verdot merlot syrah provid aroma blackberri pencil eras coffe strawberri herb palat boast plump flavor fruit savori note linger finish',\n",
              " 'candi redfruit aroma suggest note bath soap foami full mouth short plum cherri flavor candi note repris finish abrupt clean',\n",
              " 'halffer puncheon rest concret thoroughli enchant wine offer aroma cardamom bake spice flavor broad yet suppl rich yet restrain display impecc balanc finish glide',\n",
              " 'aroma white flower tangerin honey ginger vibrant cryofrozen wine flavor sweet taper toward finish',\n",
              " 'rich cherri blackberri raspberri herb flavor rhne blend sweetandsour berrycherri flavor rich dri furri tannin need someth big meati soften like beef stew',\n",
              " 'one pluss cashflow brand like yellow tail portfolio give owner opportun properli age highend wine prior releas 10 year old acquir veneer silki eleg enfold cassi redcurr fruit there shortag smoki vanilla brownsugar inflect oak either drink now2025',\n",
              " 'do encruzado backbon beauti fresh wine made top winemak alvaro castro wine rich full pear apricot pear touch nutmeg need anoth year age drink earli 2016',\n",
              " 'brunello broad shoulder power bouquet deliv bright bold aroma ripe fruit dark spice leather dri tobacco wine structur dark fruit flavor move evenli palat smooth harmoni',\n",
              " 'aroma wine surprisingli blue fruit cabernet follow note herb green pepper spice flavor lightli sweet follow spicefil finish straightforward quaffer doesnt quit show varieti',\n",
              " 'ripe wine full fruit that typic vintag burst red berri flavor layer wood crisp edg plenti acid good concentr give weight need drink 2020',\n",
              " 'inniskillin continu push boundari icewin evidenc woodag vidal vanilla spice oak barrel partial mask stranger vidal aroma allow apricot peach scent come fore creami lactic note finish detract slightli good effort entir differ genr',\n",
              " 'dazzl express nebbiolo open classic variet scent red berri rose till earth bake spice truffl whiff tar lumin raci palat offer sour cherri crush raspberri star anis energ miner frame firm refin tannin',\n",
              " 'matur dark berri cake spice bake earth leather whiff game aroma youll find impress wine chewi palat offer ripe black cherri crush raspberri cinnamon white pepper aromat herb alongsid backbon firm ripe tannin raci acid drink 20192031',\n",
              " 'savori approach open earthi aroma till soil ripe plum dark berri whiff game straightforward palat deliv juici black cherri blackberri clove white pepper alongsid polish tannin',\n",
              " 'invitingli floral textur rich white wine that full bodi lush palat tropic pineappl guava mango highlight deeper darker tone honey caramel foundat present integr oak',\n",
              " 'well balanc highton love white impress spritzi acid teas lemon peel grapefruit back palat develop complex element hazelnut vanilla add textur complex fruit',\n",
              " 'rich invit nose berrylac pastri dri strawberri stew cherri sagebrush kick layer bottl palat show savori crack black pepper along strawberri plum blackraspberri fruit dri sagebrush qualiti give complex whole sip',\n",
              " 'wine gami charact spici tannin rich succul black fruit earthi textur solid power bring terroir potenti rich volnay age seven year',\n",
              " 'terrif introduct rutherglen style sweet fortifi decent balanc acid offer bold aroma bergamot honey fig flavor caramel pineappl flame orang zest moder long finish',\n",
              " 'wine mark except ripe forward flavor blackberri jam black currant sweet coat smoki oak fact flavor drive wine although also show fine complex diamond mountain tannin give dramat structur seem best next three year',\n",
              " 'sweet highfuel blend chardonnay muscat blanc oldvin trebbiano newli approv appel call sierra pelona valley north lo angel wine peach lemon peel hide behind lather oak',\n",
              " 'organ farm cabernet sauvignon show thin compact rubi color moder aroma cherri rose spice wine clean fresh particularli long last rich',\n",
              " 'concentr fruiti red blend effus blackcherri aroma ripe blackplum flavor slight sweet make textur smooth soft',\n",
              " 'fullbodi lush creami textur merlot epitom marqui philip style there coat char oak superrip fruit plenti size without much acid tannin drink slightli warm 165 abv wine next 69 month',\n",
              " 'rich woodag wine full yellow fruit tight textur miner driven crisp appl acid bright steeli structur fresh could age well creat smooth melliflu wine 2017',\n",
              " 'ah wonder dri brace wine avid wine drinker appreci great balanc sens reserv mouthwat qualiti aroma flavor like cucumb grapefruit white pepper acid almost electr finish linger',\n",
              " 'coolclim aroma rhubarb red plum brambl spice drape zesti raci pinot chile deep south feel quick high acid crisp almost tart flavor pie cherri red plum finish fresh short',\n",
              " 'vanilla cream cocoa herb realli jazz mediumberri nose dark sweet fruit mouth earth cedar substanc bitter chocol espresso add backbon mediumlength finish good balanc bad current consumpt',\n",
              " 'highli access reason price chardonnay see new oak offer aromat orang blossom freshsqueez lemon follow lean textur lemon honeysuckl melon stock',\n",
              " 'new classif certainli class growth today among leader cru bourgeoi 2000 opul gener stylish tannin ripe sweet fruit fine balanc develop well next 1015 year',\n",
              " 'strong earthi greet nose appel blend turn loam black dirt show first follow cocoa cranraspberri vanilla bean earth show palat junip pepper rhubarb rose petal balanc orangerind bitter',\n",
              " 'littl bulki mayb begin fade rounder chunkier specimen 2008 cipres sb show soft core hint green bean bell pepper fortun holdov acid greenfruit note bring back higher ground drink immediatelyor wait releas 08 vintag',\n",
              " 'pure mourvdr three excel red mountain site heart hill ciel du cheval grand rve vineyard tart stoni raspberri fruit carri hint cure meat straw wine display excel length delici puriti',\n",
              " 'took vina robl year figur cabernet huerhuero one paso best bottl fair price dri suffici acid blackberri cassi dark chocol flavor compar fine napa cab drink next year',\n",
              " 'here young lusti grapey zinfandel realli get tastebud water crisp acid stimul palat rich dri flavor reward array briari blackberri cherri chocol tobacco spice textbook dri creek zinfandel',\n",
              " 'oak 40 new french steal show vineyarddesign singl block syrah note vanilla toast overwhelm vintag subtl fruit flavor',\n",
              " 'honest pinot noir aroma spici leafi cherri plum good common feel right albeit touch full creami flavor cola cherri chocol ripe moder oak finish creami flavor vanilla savori spice rooti sweet',\n",
              " 'red berri underbrush crush herb whiff porcini mushroom aroma lead way linear rather straightforward palat offer juici sour cherri cranberri clove alongsid polish tannin wont take year come around drink 20192025',\n",
              " 'there headi bouquet blossom stone fruit lavishli aromat riesl persist nose finish palat ripe juici penetr honey yellow cherri apricot flavor cut zesti streak grapefruit lime finish endlessli long',\n",
              " 'headi tropic note guava melon perfum lightfoot wine semidri style deepli penetr fruit offer refresh citru flavor lipsmack honey finish drink 2019',\n",
              " 'wellmad blend age 20 new french oak showcas red fruit cracker coffe earth suggest hint alcohol heat come finish',\n",
              " 'aroma reduct overrip fruit follow offdri flavor lack cohes',\n",
              " 'produc old vine quinta high eastern end douro douro superior wine age 15 month wood broaden tannin given wine rich opul black fruit charact four year still young touch 2018',\n",
              " 'valpantena area easternmost stretch valpolicella wine zone come approach wellpric ripasso histor bertani wineri aroma includ bresaola smoke bacon ripe fruit plum prune mesquit wood wine subtl eleg mouth end play touch crack black pepper',\n",
              " 'fresh bright bold aroma stone fruit tangerin white flower honeysuckl dri miner note back add backbon',\n",
              " 'delici appl aroma give wine fresh possibl pear skin textur bright almost prickl tongu appl grapefruit citru fruit domin mouthwat wine screwcap',\n",
              " 'convinc individu across aroma flavor nuanc casa marin leader coastal sauvignon blanc fullbodi raci wine grab attent crisp pure person zesti aliv appl greenfruit flavor focus finish isnarrow commit drink',\n",
              " 'blackjack sourc oldest block vineyard plant 1965 warm ripe vintag show love blackberri black cherri fruit fulli ripen wreath streak smoke ground coffe dark chocol',\n",
              " 'milk chocol blueberri black currant combin around soft core subdu tannin classic weav cedar dri herb mountaingrown wine finish pucker leather',\n",
              " 'late harvest dessert wine sardinia made nativ grape nasco small amount malvasia di cagliari intens aroma tangerin honey spice carri palat along hazelnut velveti smooth yet fresh make perfect dinner drink pair age chees fruit tart',\n",
              " 'ribbon ridg vineyard adjac wineri bring except miner underscor potent grapefruit pineappl flavor proport length overal balanc outstand wine respond well decant structur age grace least decad drink 2025',\n",
              " 'spunki sweet smell touch stemmi pepper nose palat narrow fruiti standard allot zesti red fruit flavor along mellow spice finish short dri tannin good lack nuanc sophist',\n",
              " 'nice cabernet rich vein tannin give crunchi textur forward black currant cherri plum flavor juici come nearli 100 variet cab feel upscal plush mouth get better warm glass fair price cab good',\n",
              " 'wine defin oak start finish brown sugar liquidsmok note pervad undoubtedli there fruit support fill wine frame add firm tannin mix provid potenti longev question whether hold long term',\n",
              " 'plump black currant fragrant purpl lilac tini bit roast beef show nose blend 42 cabernet sauvignon 16 merlot 16 malbec 16 petit verdot 10 cabernet franc palat less showi firm tannin energ acid mineraldriven center line offer cook purpl fruit finish',\n",
              " 'solid cab pleasant blackberri black currant cedar flavor wrap rich gentl tannin clean fanci drink',\n",
              " 'allur scent hawthorn citru blossom ripe orchard fruit come togeth love sparkler dri palat nectarin zest crush herb underscor core yellow appl bartlett pear well balanc vibrant acid creami mouss lend finess',\n",
              " 'lemon freshli squeez lime give attract wine crisp bright textur round end perfum flavor moscatel blend fruiti textur wine need month drink drink late 2015',\n",
              " 'violet red eye wine blend 55 syrah 35 cabernet sauvignon 10 merlot nose black cherri violet prepar palat flavor cassi cherri conserv orang zest licoric tobacco fruit spice flavor keep check amid velveti tannin smooth cherri finish highlight touch orang zest',\n",
              " 'ripe succul red cherri currant accent sweet toasti oak wrap smooth thick tannin cab franc there wonder sweetpea herbac add interest lipsmackingli tasti wine moder alcohol develop bottl nuanc next six year',\n",
              " 'truffl underbrush matur plum saddl leather balsam note emerg robust red hearti onedimension palat deliv dri black cherri licoric grill herb alongsid solid persist tannin youll also notic heat alcohol rather quick dri finish',\n",
              " 'show slightli green tomatoleaf bellpepp note well hint leather hung game despit there also ripe cassi chocol flavor suppl mouthfeel import mhwltd',\n",
              " 'intens juici wine need time bring togeth part blend rich wood flavor show power sweet dark berri plum flavor spice cinnamon toast give year extrem juici calm',\n",
              " 'creami textur citrusflavor wine ripe smooth crisp fresh charact lemon ripe melon fruit bright acid aftertast continu crisp fruiti theme',\n",
              " 'perfum wine white fruit flavor citru zest acid still young tens tangi need sever month balanc',\n",
              " 'bottl jim clendenen subtleti red currant tini bit strawberri iron show nose rusti cherri charact show sip chaparr pencil lead emerg well wine requir attent reward focu patienc',\n",
              " 'clove cinnamon herb rhubarb note nose creami pasti feel heavi dollop wood resin flavorwis sweet candi caramel mocha stew tomato note',\n",
              " 'textur result rustic feel despit lush flavor raspberri fig sweet toasti oak mainli problem jar tannin plu alcohol heat finish',\n",
              " 'creami smooth obvious wellmad vernaccia pretti honeylik aroma back peach pear blossom exot fruit crisp fruitdriven mouthfeel end pretti floral nuanc',\n",
              " 'whiff bourbon vanilla introduc block select lead finetun palat blue plum cola clean earth graphit eleg without thin push grace linger perfectli balanc finish',\n",
              " 'dark color firm tannin dens wine 2000foothigh vineyard beli light alcohol give rich structur fresh well black currant juici come spice structur still young juici need age drink 2015',\n",
              " 'lightli woodag wine ripe firm tannin dens structur full redberri spice flavor underscor dri tannin drink balanc wine',\n",
              " 'show lot rich fruiti dijon flavor burst raspberri jam persimmon cinnamon vanilla bake spice toast flavor silki delici fun drink upscal fare',\n",
              " 'ogier firm control properti made great stride recent full bodi silki textur without overli soft boast complex wellintegr interleav note dark fruit mocha spice earth drink 20152025',\n",
              " 'classic aroma bake cherri clove spice meet slightest tangi touch dri orang nose appel blend bakingspic charact consum palat rich black cherri tart ripe cranberri decor meati mouthfeel frame boister mouthwat acid',\n",
              " 'bold fruiti muscular blend that 100 new world dark ripe heft earthi full cola herb nose palat rug deliv core blackberri spice coffe herbal flavor dri rip pepperi tast finish proper end drink now2017',\n",
              " 'attract wine crisp also soft background textur fruiti perfum balanc drink',\n",
              " 'jammi lusti wine aromat note graphit top core blackberri scent palat chunki full flavor profil pure jammi blackberri quick staunch finish fine conclus',\n",
              " 'pleasantli pungent ripe damson plum pinot love acid give spici mouthfeel around firmli present tannin fullbodi midpal wine mellow finish end juici fruit earth',\n",
              " 'open aroma recal till soil game leather dark red berri carri palat along truffl note tad bit rustic earthi charm',\n",
              " 'restrain nose first open mix mint red berri aroma mouthfeel plump fresh berri flavor hang finish',\n",
              " 'grapi aroma candi suggest powder fruit drink feel plump pulpi plum flavor carri skinrel astring herbal rooti note come finish',\n",
              " 'vineyard sourc wineri greatest bottl wine enorm fruiti raspberri cherri redplum flavor flood palat mere fruit bomb offer wonder tanninacid structur dryness keep wine stimul long spici finish drinkabl also cellar worthi 2018 least',\n",
              " 'vine german grape plant german expat mani year ago brian lore make delici wine dark inki glass show aroma concentr blueberri vanilla mint grape candi nose palat surprisingli medium bodi dark wine decent dollop acid along lot dri blueberri junip flavor',\n",
              " 'unlik heavili oak cuve crescendo produc vineyard 2005 wine reli much ripe black fruit open tannin certainli power broad opul charact berri fruit jammi sweet age 23 year',\n",
              " 'delic flavor wine start smoki beetlik aroma flavor pie cherri herb overton medium bodi tart finish drink now2018',\n",
              " 'one four vineyard wineri entir use monopol bottl wine show smoke pork bake raspberri crush rosebud touch sesam nose palat backbon tangi cranberri fruit enhanc pencil lead cedar spice',\n",
              " 'fame vineyard oakvil come dramat wine benefit year cellar let tannin mellow although good open right away give decant drink sweet lush blackberri black currant rich overlay smoki cedar',\n",
              " 'syrahbas cuve age barrel cedari note backdrop floral garrigu note dark fruit aroma mouth flavor seem brighter like red berri plenti savori spice interest drink well moder tannin suggest hold 2016',\n",
              " 'scent orang peel white flower set scene crisp wine linear flavor tangerin mandarin refresh tongu zesti finish',\n",
              " 'wine abund aroma cherri coke sarsaparilla bake spice palat delic yet given weight seven month neutral french american oak wine gain soft textur tannat skin ad ferment',\n",
              " 'cahor tradit mean wine doesnt go barrel age keep fruit vibrant crisp wine ripe full mouth fruit tannin blackcurr acid year away matur drink 2017',\n",
              " 'darkskin berri mediterranean herb forest floor aroma slowli emerg along balsam note palat offer dri black cherri mocha vanilla hint oak alongsid finegrain tannin leav firm finish',\n",
              " 'cabernet sauvignonbas blend deep redviolet color nose black cherri tuscan pepper cool note trump fruit mlang black cherri vanilla mint anise flavor hint brambl stiff forgiv tannin linger palat flash acid back throat',\n",
              " 'vibrant lemon tangerin acid freshen savori tone press appl nut slightli rustic earthi riesl dri palat finish briskli',\n",
              " 'heavili roast leatheri earthi aroma slightli overrid fruit tone grabbi tannic palat burnt herbal earthi blackfruit flavor salti blacken note found clampi finish',\n",
              " 'warm wood spici flavor hallmark smooth eleg blaufrnkisch ripe fruit flavor show black plum dark fig cranberri tannin wood polish rough edg miner fit textur well',\n",
              " 'acid dryness mark reservestyl pinot sever reliev californiarich cherri red currant well sweet smoki oak note fine silki textur readi drink',\n",
              " 'massiv chocol black cherri cassi flavor mark cab mention liber quantiti sweet toasti oak although dri tast sweet dessert pastri ager open 2016',\n",
              " 'doesnt show rutherford charact fact could come anywher proper cabernet dri fullbodi simpl blackcurr oak flavor price right',\n",
              " 'here bright fresh rosso deliv note red cherri raspberri cassi wine smoki element finish intensifi otherwis smooth mouthfeel',\n",
              " 'scent dri apricot honey made even captiv intrigu hint muski spice viscou lusciou complex bergamot note lend anoth exot element long mouthwat finish',\n",
              " 'muscular brambl black cherri spici cola layer linger palat long initi sip fine exampl russian river valley winemak call laguna ridg nottoocool nottoowarm section appel shallow goldridg soil',\n",
              " 'salta blend malbec tannat smell lot like fresh road tar palat adequ cushion hard stalki roast berri flavor oaki lot dispar part whole issu sketchi',\n",
              " 'light volatil aroma distract blend seven hill 75 le collin vineyard fruit flavor seem bit leaner expect also somewhat dri',\n",
              " 'soapi floral aroma like scent candl malbec next astring raw palat sketchi plum flavor bitter finish doesnt tast convincingli natur',\n",
              " 'cook cranberri scent enliven turn earth dewi sage touch wildfir smoke bottl lo gatosbas wineri bake redcherri flavor meet savori porkaujuslik element palat redol roast thyme oregano licoric element rise toward finish mellow intens lot depth',\n",
              " 'cherri green herb mint flavor cab franc elegantli structur lack rich want california bordeauxstyl wine',\n",
              " 'perfum wine ripe richli tannic miner douro weight also retain eleg round black fruit give wine year drink 2015',\n",
              " 'distinct aroma sour plum dri pomegran meet damp tobacco forest floor green oliv greek spice nose clonal studi herbal palat oregano marjoram green cardamom note alongsid cranberri red cherri fruit midpal altogeth light bright highli season wine',\n",
              " 'fruiti simpli textur wine fresh acid along light touch green fruit fresh gooseberri herbal flavor alreadi well integr readi drink',\n",
              " 'mossi furri leafi black fruit aroma reason good open feel upright alert bright acid flavor plum berri blend chocol herb spice front grabbi slightli clacki finish',\n",
              " 'dri earthi classic jordan show blackberri black cherri flavor herb note tannin gentl age year soften gain earthi complex',\n",
              " 'sourc blackrock vineyard product quadrupl loss qualiti pale copper wonder aromat show muscl verv grape art meld scent flavor rose petal peach touch wellripen tannin',\n",
              " 'readi drink raspberri currant persimmon oak acid bright finish clean spici pair lamb dish',\n",
              " 'beauti wine pair dessert base white fruit simpl delici vanilla spong cake made lateharvest chardonnay sweet apricot lemon vanilla butter toast brisk edg acid balanc',\n",
              " 'grape didnt get quit ripe cool vintag cool arroyo seco result syrah dri acid yet curious high alcohol veget mint edg blackberri fruit',\n",
              " 'suspicion pineappl send teas signal ripe yellow plum fruit midpal streamlin zesti fresh',\n",
              " 'nose seem dampen note earth palat howev fresh sprightli friendli pear note slightli bitter edg drink soon',\n",
              " 'light floral brim exot asian spice wine offer length breadth express eleg balanc orang pomegran red cherri danc around circl rose petal provid succul beauti',\n",
              " 'smell tast overoak littl acid thin flavor oak tannin strongli astring',\n",
              " 'distant touch volatil open wine give bright aromat lift buoyanc although appl skin aroma could worsen time wine tast pretti good thank fresh acid live almost nervou person drink immedi',\n",
              " 'savori meati red wine made airdri nebbiolo grape much style amaron open thick tone pipe tobacco smoke bacon dri blackberri fruit show power densiti person',\n",
              " 'grown southern part minho close douro alvarinho ripe still textur tangi wine fine fresh lemon acid that round apricot pear flavor drink',\n",
              " 'pretti getout wine floral masterpiecea studi coastal rose forest scent counterpunch white pepper leav one want juici raspberri strawberri tangerin flavor season allspic tobacco palat beauti delic yet fulli realiz savori complex length',\n",
              " 'ripe aroma cola nut burnt brown sugar cedar blackberri feed giant palat killer tannin flavor blackberri cassi burnt toast end tarri pool blackfruit flavor monster tannin reward also punish hold 2017 drink 2025',\n",
              " 'light aroma lemon appl pineappl toast spice lead offdri flavor drink littl sweet brut still deliv enjoymenta straightforward crowd pleaser',\n",
              " 'dri fullbodi tannic twincounti blend lifesav candi flavor blackberri cherri rug lusti countrystyl wine that easi find product nearli 70000 case',\n",
              " 'juici allmerlot bottl boast blackberri green peppercorn aroma firm palat dole black currant tobacco clove licoric flavor frame crunchi tannin enjoy 2020',\n",
              " 'classic fruiti blend local grape includ encruzado malvasia perfum ripe wine full pear melon citru flavor tangi textur suggest miner drink',\n",
              " 'intrigu wine blend 10 grenach aroma flavor feel arent entir connect aromat reserv note miner coffe red fruit incred suppl dazzl textur throttl pull back alcohol extract',\n",
              " 'fresh savori deliv crush strawberri red cherri graphit cinnamon flavor alongsid brisk acid suppl tannin bright delic offer easydrink enjoy 2016',\n",
              " 'roast berri strong blast rubber black oliv aroma set round bounci palat resini oak loami gener berri flavor touch green herb spice warm oaki regular finish',\n",
              " 'wine offer lot class good price mark flavor streamlin citru fruit asian pear honey hint butter toast finish thoroughli dri nearli 37000 case produc rel easi find',\n",
              " 'deservedli popular valu bottl get star pinot treatmentnin month french oak 27 new spici fullflavor reson blue plum fruit butteri toast tannic frame',\n",
              " 'wine offer scent pepper meat ripe blackberri add hint black oliv licoric mix palat concentr full bodi richli textur linger finish drink now2025',\n",
              " 'though label simpli washington state bordeauxstyl blend sourc entir kiona red mountain vineyard wine includ 20 cabernet franc 5 petit verdot yield deep darkli fruit wine cassi black coffe graphit whiff barnyard young tight chewi excel age potenti',\n",
              " 'attract soft ripe wine enough acid give blend 40 chardonnay crisp aftertast wine melon pear flavor readi drink',\n",
              " 'aroma meali appl citru less invit palat citrusi lack true chardonnay charact instead show odd flavor ham orang juic rank yet anoth uninspir argentin chard long line wine',\n",
              " 'rich concentr red cherri cigar plum demur approach enjoy wine leg age structur tightli drawn hold tannic overbit eas glass cellar 2017',\n",
              " 'dark color red firmli tannic well ripe fruiti wine spici earthi redol dri fruit like fig red berri solid textur age drink 2015',\n",
              " 'lighter color colleagu mourvdr offer light clove red cherri fruit punch rooibo tea turn loam aroma strong acid sizzl palat red fruit mix black pepper coffe flavor power',\n",
              " 'offer aroma white spring flower orchard fruit almond straightforward palat hint miner underscor pear citru',\n",
              " 'flat dull nose touch appl along plenti leftov wood palat thick woodi isnt ampl fruit offset oaki',\n",
              " 'full bodi sizabl intent wine success offer length breadth tart red cherri cranberri earthi black tea provid variet charact spade addit element strawberri pull ground add feral natur aspect wine',\n",
              " 'herb black currant blackberri vanilla aroma follow sweet plump dark cherri coffe flavor squeez tannin provid lot immedi appeal',\n",
              " 'floral fresh delic fruit aroma follow rich citru white fruit flower flavor full bodi yet eleg feminin edg pair indian thai dish',\n",
              " 'fruiti aromat wine month young drink alreadi show attract wild berri rhubarb fruit soft tannin juici open aftertast',\n",
              " 'here straightforward enjoy wine open intens aroma citru cut grass palat offer raci acid lemonlim note alongsid peach pineappl almond flavor',\n",
              " 'underrip peach candi lemon white flower aroma lift bright nose palat zesti crisp ripe redappl flavor lead slightli chalki finish',\n",
              " 'vargella alway associ violet aroma well strength power wine insid velvet glove 2012 concentr yet soft smooth surfac fruiti fresh brood inner strength drink fruit wait 2021 power longev',\n",
              " 'fresh herbac wine crisp pink grapefruit live acid good fish good apritif',\n",
              " 'searingli dri edg sour emphas miner citru rind fruit auster style might match well sausag grill cut acid',\n",
              " 'wine half cabernet sauvignon balanc merlot 20 cabernet franc 18 healthi dollop petit verdot aroma green herb fresh flower soil barrel spice lead dark cherri flavor back graini tannin',\n",
              " 'estat deliv fine rosso di montalcino 2008 less certain result brunello year issu sharp acid realli make mouth pucker thank intens crisp balanc softer spice black fruit tobacco aroma',\n",
              " 'aromat nose suggest cherri kirsch vanilla deriv exuber zweigelt cherri fruit pair mellow spicenot new oak round remain spici slender core red enjoy perfectli well without food',\n",
              " 'intrigu wine bring aroma cumin miner dri chocol barrel spice dark fruit deliv mouth seamless fruit flavor coat palat end end',\n",
              " 'light fruiti full strawberri wine fresh charact light touch pepper spice attract bright readi drink',\n",
              " 'wine rich dens blackberri cassi liqueur cedar flavor frankli delici tannin realli hardthat diamond mountain mellow 67 year fine nice steak',\n",
              " 'aroma orang blossom clover honey true sundri moscatel grape feel thick chunki palat also bit soft flat flavor honey brown sugar creami modest acid cut slightli cloy finish continu theme',\n",
              " 'schist soil tight mineraldriven wine crisp acid enmesh taut textur complex youngtast wine structur need age drink 2016',\n",
              " 'ripe blackskin berri violet leather bake spice aroma emerg glass polish juici palat deliv ripe black cherri raspberri compot mint pipe tobacco alongsid lith tannin drink 2023',\n",
              " 'easydrink blend cabernet merlot open aroma bell pepper cedar black currant whiff orang peel palat deliv ripe plum blackberri clove unfett style accompani smooth textur',\n",
              " 'eman heel italian boot close beauti citi lecc one puglia classic wine grape negroamaro malvasia nera pleasant cherryberri aroma flavor predomin structur ampl mouthfeel tannin need soften finish long grill lamb would make fine accompani',\n",
              " 'nice enough variet term aroma flavor anyth there big red black fruit aroma flavor along firm tannin extract pepper rich chewi also tannic fairli regular price disappoint',\n",
              " 'richli concentr riesl calibr juici sweet peach honey flavor invigor crush lemonlim acid irresist fruiti yet refresh wine except valu price',\n",
              " 'quiet gener berri aroma come hint sweet plastic nose feel snappi crisp fresh currant raspberri flavor lead balanc lightli oak finish mild herbal note',\n",
              " 'aroma toast oak mocha whiff coconut oak lead nose firm palat offer dark cherri espresso dri sage hint anis tightli wound tannin still pack youth sharp need year soften drink 2021',\n",
              " 'inkycolor wine show age offer flavor prune bell pepper toast ground black pepper alongsid astring tannin fruit dri',\n",
              " 'wine balsam note camphor oak toast crush mint emerg glass linear palat offer licoric sour cherri cranberri thyme tobacco flavor closegrain somewhat astring tannin lend grip finish',\n",
              " 'mix cabernet merlot small amount four grape soft red red black fruit flavor smooth access offer plenti cocoa sweet bake spice note',\n",
              " 'line wineri penchant oak fastag wine butteri heavili toast result snappi appl citru fruit harder find mani might want nevertheless there bold lemon creami vanilla thick mouthfil palat earn point',\n",
              " 'earth tree bark dri spice final plum berri aroma appear nose palat astring also bright structur plum raspberri herbal flavor warm tannic way end nice forc toro',\n",
              " 'delic aroma yellow flower citru lift glass raci linear palat offer grapefruit nectarin graphit alongsid zesti acid finish crisp clean',\n",
              " 'take bright tangerin lime nose citru carri palat grapefruit flavor take variet curiou yet compel place acid forefront thank allstainlesssteel process feel strateg integr',\n",
              " 'blend 75 chardonnay 15 viognier 10 sauvignon blanc would suggest wine combin toasti complex fragrant curvi clean acid one overal robust white could handl richer dish solo sip substanti heavi good white winter summer enjoy',\n",
              " 'richli concentr wine surpris uplift acid back palat light bright full gravenstein appl good well structur refreshingli unfussi',\n",
              " 'smooth juici open aroma wild berri blue flower whiff grill herb soft succul palat dole black cherri chop mint cinnamon hint mocha alongsid dusti tannin bright acid rather straightforward delici',\n",
              " 'hint wet earth marri lemoni flavor ripe gener overton peach lemoni center lend structur entir wine make brace ripe earthi mouth',\n",
              " 'impress eleg wine delici line juici red black berri fruit power fine balanc acid firm chunki tannin good potenti give wine 34 year',\n",
              " 'earth mint blackberri flavor make fullbodi firmlytann wine flavor eccentr wine sit glass sever minut aroma becom like beef bouillon textur palat bit astring',\n",
              " 'made 100 sangioves savori red deliv aroma black cherri scorch earth chop herb palat offer crush blackberri juici cherri black pepper finegrain tannin provid support',\n",
              " 'beauti chardonnaydri sleek refin beyond subtl tropic fruit citru green appl flavor steeli miner lemoni acid get mouth water drink',\n",
              " 'young vine grown height 1200feet give cool charact touriga nacion domin blend structur wine stylish perfum fruit flavor smooth oak age wine readi drink',\n",
              " 'concentr flavor richli tannic textur make dri wine sophist interest mani red blend combin cranberri black cherri cinnamon note mouthfil harmoni impress',\n",
              " 'correct aroma tropic fruit slightli brini feel focus citrusi good bodi curv orang grapefruit flavor skin peel includ finish juici bright citric charact',\n",
              " 'warm ripe wine smooth caramel textur lie ripe redberri fruit balanc acid result round wine readi drink',\n",
              " 'luscious textur burst citrusi acid combin savori tone burnt sugar appl cider hint fresh orang peel white flower crush stone tea leaf astring linger finish',\n",
              " 'deep brown wine smell like damp mossi cave add complex rancio note plu mapl syrup molass full round harmoni wonder rich yet without sens heavi long bright finish',\n",
              " 'top wine estat pure express local ngrett woodag wine organ grape rich structur intens tannin spice young fruit wood note perfum wine futur name southern french langu doc occitan mean everyth that necessari complet wine drink 2018',\n",
              " 'tasti toasti syrahdomin red bring cabernet merlot mix yield wine bright raspberri blackberri fruit core firm tannin balanc acid complet pictur',\n",
              " 'wine forward highton bright strawberryraspberri fruit frontload flavor drink nice though balanc bit simpl quick fade',\n",
              " 'one australia expens soughtaft cabernet blend mount mari quintet fail impress one american critic appeal wellcraft wine combin leather cherri dri herb somewhat lean crisp style deliv long mineralandcedar finish',\n",
              " 'bright grapefruit citric flavor give wine bright floral charact punctuat tight acid wine extrem mouthwat fresh crisp aftertast',\n",
              " 'arguabl heavi rich side like chocol spice pretti good pop across palat recommend rug whack meati darkfruit flavor bitter espressopepp finish come togeth nice next two year',\n",
              " 'ravaldo sour bitter wine need pair cheesi lasagna thick bchamel sauc find balanc youll sens bright berri cranberri sharp edgi mouthfeel',\n",
              " 'beauti orang pink sunris color set scene dri style wine much laurentperri tradit flavor crisp red appl red berri fruit white currant come togeth edg toast great wine real food champagn',\n",
              " 'bake cox appl lemon juic evok fresh appet nose wine flavor continu dri juici refresh palat gather hint honey cinnamon lith dri full flavor finish pure lemon',\n",
              " 'deep color match bold grapi flavor touch sweet soft textur syrupi balanc chase spici burrito kung pao chicken',\n",
              " 'wine blend upland vineyard cabernet sauvignon 50 doubl canyon petit verdot 38 mckinley spring malbec aromat reserv reveal fresh dri herb green pepper vanilla cocoa dark cherri dark fruit flavor show pretti combin rich restraint',\n",
              " 'light wine fresh berri fruit acid delin structur alreadi easi wine drink hint miner finish softli',\n",
              " 'certifi organ ecocert estat straddl commun sablet plan de dieu gigonda entrylevel blend 75 grenach 25 syrah beauti floral herbal yet back appeal red purpl fruit medium full bodi firm ripe frame dusti tannin drink now2020',\n",
              " 'bright magenta color aroma toast tobacco cola wild blackberri draw wine young acid show right flavor blackberri cassi black cherri come touch oaki vanilla vanilla carri finish oaki bright scour carignangarnacha blend best 20182024',\n",
              " 'small amount tannat blend sever tannic wine age plum skin fruit great weight concentr dark brood structur firm solid age 45 year',\n",
              " 'invit nose butteri stew cherri red currant grow even delici thank smoke pork blackslat miner quit boister palat featur love cherrypi note slight orangepeel tang eucalyptu clean finish',\n",
              " 'rustic merlot cherri cassi chocol fruit flavor power swamp wine leav eleg behind make indel',\n",
              " '4040 blend cabernet sauvignon petit verdot balanc consist merlot barrel select wineri best lot variou vineyard age 100 new french oak yet oaki wood bring addit sweet smoki rich red currant cherri dark chocol spice superb wine delici right bottl develop depend tast improv next 20 year',\n",
              " 'subtl shi first exhibit light aroma rose petal wine unveil slowli reveal complex element cinnamon red black cherrya curiou commingl come togeth nice sever vineyard includ martinelli medium bodi lengthi plenti earthi finish',\n",
              " 'salad dress vinegar heavi herbal blast greet nose palat chunki thick feel flavor mirror nose green note herb burnt coffe merit there escap fact herbal roast red blend',\n",
              " 'delici merlot drili tannic rich blackberri cherri chocol nearli good wineri much expens reserv great grill steak saut mushroom',\n",
              " 'origin plant monk 12th centuri vineyard produc intens herbac wine steeli crisp grapefruit gooseberri flavor wine textur bring chalki soil still young better 2018',\n",
              " 'san fermo histor sparkl wine conegliano subzon prosecco superior offer intens floral aroma yellow rose apricot honey mouthfeel lightli fizzi creami',\n",
              " 'estat reserv get new oncefil oak select vine whose yield drop 15 tonsacr forward flavor black cherri coffe anis compon entri smooth continu finish complet sandalwood butterscotch',\n",
              " 'rich perfum wine consider weight power perhap power dens fruit structur dont fit norm provenc ross',\n",
              " 'huge rich wine great blackplum fruit flavor power concentr dens tannic solid chunki',\n",
              " 'light peach apricot aroma meet richer riper pear vanilla flavor creami textur mediumbodi palatepleas tast',\n",
              " 'intox whiff muski floral perfum persist throughout bright fullbodi sauvignon blanc gooseberri white grapefruit flavor tart crisp gain plush addit chardonnay blend eleg substanti mouth feel finish long',\n",
              " 'wineri reserv lot barrel select nice layer roll strawberri raspberri light chocol sandalwood toss hint cola smooth mediumlong finish noth heavyhand though excel vintag bit concentr would welcom',\n",
              " 'simpl clean wellbalanc allpurpos chardonnay light streak honey lemon vanilla run crisp appleflavor fruit noth fanci solid reliabl',\n",
              " 'whiff savori spice terracotta pot lend rustic unusu earthi chardonnay partial ferment grape skin give palat grip accentu softer tone bruis appl pear brisk acid lengthen finish',\n",
              " 'popular favorit northwest lemberg rustic grapey zinwannab offer pleasingli soft fruiti flavor wellsuit summer contain 24 merlot add weight fruit soft tannin light chocol flavor make great goto wine backyard barbecu best buy pg',\n",
              " 'franco adami make best prosecco around special select cartizz cru showcas deft winemak hand sparkler soft suppl mouth yet show live buoyanc thank delic natur peachi cream flavor',\n",
              " 'perfum aroma flower date mapl dark berri lead mediumbodi fruit flavor narrow finish',\n",
              " 'superb valu estategrown pinot bring dens fruit flavor raspberri cherri sourc dijon clone firm slightli highton spent 17 month onethird new oak result bakingspic note unfold finish',\n",
              " 'wine lean toward brownorang side pinot noir scale burnt orang cranberri whiff anis cook fruit domin palat fruitcak gingerbread flavor',\n",
              " 'raspberri cherri aroma juici wiri fat pure simpl berri flavor come touch spice finish short yet juici easydrink approach select',\n",
              " 'snappi red fruit aroma endow cab approach palat clean tasti littl lean spici piquant raspberri flavor dri pepperi finish honest clean throughout averag wine good valu',\n",
              " 'blend 90 cabernet franc 10 cabernet sauvignon open bell pepper cassi grill herb aroma palat offer ripe black currant anis sage mocha flavor buttress crunchi tannin drink 2020',\n",
              " 'full bodi richli tannic give lie notion grenachebas blend easi quaffer dri spice mix berri includ hint clove crack pepper finish dri chewi tannin assemblag 49 grenach 29 shiraz 22 mourvdr drink 20202030',\n",
              " 'show huge improv 06 novi 07 grenach rich chocolati blackberri blueberri cherri fruit beauti structur firm tannin crisp acid balanc slightli sweet jammi flavor lead true eleg',\n",
              " 'wine classic person round soft tannin chalki lurk behind herbal tobacco leaf tomato cedar rose note fullbodi doesnt hold back ripe display savori charact fruit',\n",
              " 'open aroma blend earthi red fruit whiff leather nice sculpt wine tight stiff pleasant berri cherri flavor stop abruptli finish turn bit sour',\n",
              " 'pure pinot meunier marn valley soft fruiti wine appl ripe pear show strongli along lightli tangi citru edg basic nonvintag wine meunier specialist rang attract readi drink',\n",
              " 'pretti floral balanc wine elegantli auster preserv lemon yuzu grapefruit richer overton build mediumbodi toward lengthi finish wine made tabl itll pair well wide though also stand delici',\n",
              " 'wine seemingli sweet soft ripe black cherri persimmon flavor fact almost ripe hint raisin finish drink',\n",
              " 'soft lightli fruiti flavor bitter almond well red fruit give wine firm charact tannin miner textur wait late 2014 drink',\n",
              " 'lemoncandi aroma round white peach marshmallow honeysuckl slightli sweetlean nose bottl sip straightforward lemon peel slight marzipan gala appl bosc pear flavor',\n",
              " 'love wine rich balanc crisp show sometim offbeat blend better variet wine made chardonnay gewrztramin viognier delici offdri varieti bring someth tabl result whole that superior part',\n",
              " 'own branch famili also own nearbi chteau pontetcanet estat realli improv 2013 attract ripe fruit delici acid support firm dri backdrop solid tannin drink 2020',\n",
              " 'wine provid plenti aromat intrigu note wet stone black pepper umami savori citru flavor quit restrain show lot eleg',\n",
              " 'shirazdomin 70 blend bit darker one might anticip black currant liqueur pepper anis plum skin take center stage profil wellbalanc medium dusti tannin linger finish infus toasti oak spice tri pair brais short rib spice lamb loin',\n",
              " 'everi vintag wine pull score there someth said consist bottl neutral nose hint dust melon palat clean citrusi feel melon green herb note easi finish seem right given preced',\n",
              " 'dens structur mineraltextur wine spice acid well dark tannin black currant lend juici acid cut right finish screwcap',\n",
              " 'leafi load sweet tobacco earth aroma concentr live mouth cherri brown sugar cocoa flavor lead layer sweettast long finish offer good mix charact pois power',\n",
              " 'benefit 11 month 40 new french oak open aroma crush raspberri lead full round fruit flavor across midpal run slightli chewi tannin one differ southern oregon willamett valley pinot',\n",
              " 'dri delic mix fresh herb melon green berri spice rocklot rock show surpris length develop nice throat seem add flesh tast realli nice bottl',\n",
              " 'everyth mani peopl love chardonnay creami butteri toasti sweet tropic fruit pear flavor pretti flashi',\n",
              " 'dark berri tobacco leather balsam note aroma youll find stun wine firm fullbodi palat deliv ripe black cherri black pepper licoric chop mint alongsid youth assert refin tannin need time unwind drink 20212031',\n",
              " 'light shade straw glass show distinct honey beeswax mead note delic nose flavor float cloud honey drizzl atop key lime pie vanilla syrup pop finish',\n",
              " 'young freshli fruiti wine gassi berrycherri liveli silki textur similar beaujolai finish tempranillo cabernet sauvignon blend dri spici',\n",
              " 'neutral nose except appl cheesi oak palat angular tangi cideri flavor finish similarli last acid bite zest',\n",
              " 'extrem rare beasta singlevineyard singlevariet pinot noir singlevintag sparkl wine age sur lie 42 month draw glass note smoke raspberri miner nutti spice flavor light live tart raci acid long linger finish',\n",
              " 'there lot lee influenc wine give sourdough tast creami mouthfeel dens tropic fruit citru green appl honey note touch sweet smoki oak dri complex multilay wine gain traction 24 year cellar',\n",
              " 'vineyarddesign open intox aroma violet rose expand palat seamless sturdi wave juici pomegran red cherri earthi somewhat feral end note black tea',\n",
              " 'your look pedestrian true sparkl wine 10 chenin blancbas bubbl argentina solid touch yeasti dri tast much like loir valley sparkler bake appl apricot peach pit flavor neg side fairli foami across tongu doesnt topgrad mouthfeel',\n",
              " 'dainti accent sweet grass white clover floral jazz otherwis straightforward profil ripe gooseberri green plum aroma flavor live refresh white slightli prickli sensat mouth',\n",
              " 'here savori blend sangioves montepulciano open aroma meat juic soil prune plum palat offer juici black cherri raspberri mint tobacco hint truffl underbrush ripe readytoenjoy style',\n",
              " 'violet cook spice aroma lead nose wine juici palat offer black cherri clove bitter almond note tannin smooth enjoy soon',\n",
              " 'sweati pinch aroma alarm invit palat threegrap blend follow nose angular sharp flavor green fruit sour white grapefruit finish borderlin scour acid',\n",
              " 'pepperi hot blackberri currant flavor wrap firm tannin show much open feel like potenti develop year bottl',\n",
              " 'pearand pineappleflavor wine lift bright fresh acid smooth textur come ripe fruit drink enjoy crisp',\n",
              " 'ferment age concret egg wine bring unusu aroma grape skin grape nut lead dri leesi fruit flavor uniqu interpret varieti',\n",
              " 'new project jackson famili wine boon ridg vineyard voluptu pinot deliv substanti mouthfeel dark blueberri fruit mushroomi earth textur grippi acid mark good goto famili meal especi quich lorrain brim bacon',\n",
              " 'one mani chateau vine wide valley floor dordogn estat made lightli extract wine chocol well blackberri stalki there fresh well fruit acid cut miner textur drink 2018',\n",
              " 'dark brood wine still tight close power concentr grip tannin well delici black fruit solid chunki firm retain gener fruiti vintag dont drink 2020',\n",
              " 'attract fresh chabli flavor juici currant spice lime juic crisp show full final fruit acid',\n",
              " 'einaudi fairli hefti version dolcetto lost fruit gain interest earthi charact palat structur littl chunkier side good concentr finish solid domin earthi drunk soon',\n",
              " 'woodag blend alicant bouschet syrah touriga nacion produc wine structur ripe black fruit consider acid spice along age potenti drink 2018',\n",
              " 'seem sweet fruit juic flavor orang pineappl banana creami warm way modern chardonnay style',\n",
              " 'good zin appel common bad consid fine one fulli ripen berri spice fruit marri intric laci tannin wine dri despit big flavor airi featheri qualiti anchor crisp acid',\n",
              " 'wonder wine that dryish vital acid savori meyer lemon grapefruit lemongrass apricot vanilla flavor touch oak bring butter toast rich 260 case produc',\n",
              " 'light mostli neutral smell hint pear appl palat zesti lean well cut howev flavor pithi bitter orang nectarin note finish hot pepperi',\n",
              " 'balanc dinnertim drink live concentr wine fresh fruit flavor moder tannin good acid raspberri blackberri note blend hint smoke black pepper keep interest linger finish',\n",
              " 'here fun bubbl delic aroma white flower suggest rosemari simpl well made refresh palat offer creami yellow appl candi hint lemon drop',\n",
              " 'wine soft fruiti although without great structur sens purpos finish attract bright drink',\n",
              " 'aroma black cherri smoke meat thyme prepar tast bud flavor black cherri smoke meat oregano lemon zest note dark chocol soft yet persist tannin coat palat culmin delight bright finish',\n",
              " 'restrain blackskin fruit graphit aroma carri simpl palat touch bitter almond drink soon',\n",
              " 'there uneasi mix aroma berri green oliv herb tire rubber wine flavor seem light dilut',\n",
              " 'flashi cabernet one coppola best sonoma counti cabernet ever fine followup great 2007 immedi impress rich smooth textur complex offer wave ripe summer blackberri blueberri smoke tannin firm dusti soft make wine drinkabl next six year steak',\n",
              " 'attract herbal wine light spice touch cilantro well crisp red fruit wine bright readi drink',\n",
              " 'tomato vine mango pink grapefruit papaya aroma take center stage carri eleg palat along note flint chop mint sage live acid carri fruit herb flavor salin note close tangi finish',\n",
              " 'intens fruiti great acid fresh red fruit delici orangezest tang pale color pois eleg leav crisp refresh aftertast',\n",
              " 'fine effort full bodi creami textur high alcohol buoy mulberri fruit hint cedar mocha smoke add nuanc slightli warm pepperi finish pleas final mouthfil wine',\n",
              " '85 merlot 15 cabernet sauvignon wine soft juici without much charact red fruit acid leav littl room develop age 12 month older oak barrel',\n",
              " 'past vintag cuve delight one hit speed bump dilut fruit flavor conjur memori cherri koolaid spare hint chocol wine depth much flavor',\n",
              " 'love fullbodi wine histor vineyard site westsid road breadi brambl offer juici exuber palat that rich layer blackberri coffe persist backdrop white pepper structur balanc deft twist dusti dri herb',\n",
              " 'nasti ammonia bell pepper aroma flavor hardli fruit mayb touch acid grapefruit lemon yet dri drinkabl',\n",
              " 'light lith elus wine beg time glass develop chang goe maintain persist exot asian spice citru stoni miner dash lemon peel green appl also shine textur wine crisp yet complex drink 2023',\n",
              " 'heavi oaki wine still appeal mani butter toast butter popcorn tropic fruit apricot creami flavor',\n",
              " 'lightli textur velveti feel judson hale yorkvil highland pinot noir bigger fruit express mani brethren cooler part nearbi anderson valley ripe red fruit front center big slightli woodi finish',\n",
              " 'kid age oak criado en robl smell char toasti resini aroma thrown full seemingli healthi palat handl high level wood end oak mostli tast like dri spici tannic finish doesnt break chain',\n",
              " 'riesl perfum shine light almost danc charact blend complex set yellow fruit miner textur result seriou wine demand age least four year screwcap',\n",
              " 'luce della vite open inki dark appear ad extract hard find otherwis 2008 brunello soft aroma cherri blackberri follow suppl fragranc leather spice fruit pulp mouth wine extra rich realli help balanc acid stillyoung tannin',\n",
              " 'ripe raspberri slight miner mossi earthi minti lift kick offer palat expect sour cherri mocha pleas espresso finish bolster tingl acid though 2010 consid lessthanoptim year vintag look like shine star wine like time come',\n",
              " 'open aroma char earth violet wild berri straightforward palat offer black raspberri tart cherri hint anis alongsid polish tannin rather simpl barolo nearli access drink 20162021',\n",
              " 'wine aroma slightli reserv first recal yellow pear chalk flavor also restrain zippi palat asian pear honeysuckl hint lack express make crisp textur grip',\n",
              " 'ripe rich overal yummi syrah offer bright note red plum cherri lace touch gami soft foliag mediumweight mouthfeel boast fine tannin promin acid provid nice lift long spici finish',\n",
              " 'wine rich ripe delici red fruit touch attract acid aftertast soft full fruiti wine come small appel coteaux varoi heart provenc',\n",
              " 'sweet nose hint black cherri cola vanilla luca limit reserv bit lean tart palat strident sour cherri fruit flavor accent ripe wood foliag note',\n",
              " 'fullout veget nose anchor strong scent can pea show wiri acid maintain full bodi salti citru greenbean flavor echo nose wine short finish undeni green',\n",
              " 'open scent freshli crush raspberri cherri sprinkl black pepper drizzl anisett invit wine grenachebas rhne blend turn soft littl sweet simpl mouth easi enjoy',\n",
              " 'smoothest polish standish quartet new pinot bestofbarrel select realli impress cherri currant licoric cola proven herb nearperfect balanc exemplifi anderson valley also standout great 2005 vintag craft standish guest winemak program zach rasmussen goldeney',\n",
              " 'strong blueberri blackcurr fruit tone meet concentr lilac wine elegantli present nose palat tart caramel plum skin black pepper lavend element',\n",
              " 'tarri asphalt charact show bottl merlot cabernet sauvignon cabernet franc well oregano dark slightli sour berri palat offer char cherri charcoal note yet mouthfeel structur rel light',\n",
              " 'ownership chteau la dominqu neighbor saintemilion estat produc 100 merlot gener wine rich tannin dark tight acid juici black fruit dark coffe flavor concentr go take mani year soften drink 2023',\n",
              " 'summer blossom honeysuckl even rose petal appear aromat nose slight slender palat pois come light feet breezi easi summer wine drunk soon possibl',\n",
              " 'made 70 sangioves 15 sagrantino 10 merlot 5 colorino subdu aroma suggest blackskin fruit hint cinnamon straightforward palat offer ripe black plum clove touch vanilla alongsid smooth tannin enjoy soon',\n",
              " 'rich fullbodi chenin blanc dri delici hint bake appl honey there definit miner textur taut brim orang zest dens full mouth readi drink better 2015',\n",
              " 'despit show somewhat volatil berri aroma solid whole wiri angular palat offset fleshi berri fruit flavor plum blackberri salt touch grassi front superfici finish that slightli hot',\n",
              " 'white chocol accent add touch weight white cherri watermelon aroma nose wine palat offer surpris weight counter ampl acid citru zest flavor livensup finish',\n",
              " 'price get cabernet show pretti good napa charact ripe forward black currant tough tannin hit sweet oak lot go could even age year drink give coupl hour air',\n",
              " 'wine domin aroma oak toast espresso carri palat along black cherri extrem astring wood tannin cut finish short leav mouth feel dri',\n",
              " 'old wine easi appreci wed almost rather judg wine opinion way sour lack fruit justifi rave review thirti year age doesnt seem help what left sherri pruni yet sharp acid',\n",
              " 'bone dri crisp sauvignon blanc show fresh savori flavor lemon lime grapefruit richer note pineappl vanilla bean honeysuckl firm miner help add structur finess great restaur wine especi price hard find 140 case produc',\n",
              " 'great structur balanc among finest world pedigre terroir bring cabernet vintag rule harvest wine lean fruit pepper sage profil',\n",
              " 'youll find plenti crush summer blackberri black pepper grill meat flavor syrah dri style eleg structur wine grip tannin suggest pair rich game',\n",
              " 'winemak neil elli blend 70 tempranillo 30 grenach lead forward scent press carnat small strawberri raspberri sauc licoric subtl hit fudgi chocol palat big power firm tannin tight blackfruit flavor suggest age would benefit note blackcherri skin black tea espresso hang tightli chewi finish drink 20202026',\n",
              " 'viscou almost oili textur sever vintag older recent sampl yet seem unevolv place honey dri spice predomin theme citrusi fruit make core evolv glacial least 2025',\n",
              " 'bright aroma woodland berri till earth violet waft glass vibrant palat offer crunchi red cherri unrip strawberri hint anis accompani raci acid firm tannin',\n",
              " 'creami refresh offer aroma white spring flower white peach tropic fruit bright frothi palat offer matur pear appl tangerin zest candi lemon drop alongsid eleg perlag fresh acid',\n",
              " 'berri aroma subtl spice accent damp sooth mouth opposit dri tannin raw harddriv blackfruit flavor pull short pepperi finish honest rough wine',\n",
              " 'aroma suggest press yellow flower dri stone fruit whiff toast nut carri straightforward palat hint almond underscor yellow appl citru note tangi acid lend fresh',\n",
              " 'forward sappi fruiti excel structur plenti ripe berri flavor support acid lend touch citru plu streak vanilla run finish',\n",
              " 'domin feral aroma sweati saddl leather overlay core dark stone fruit medium full bodi appet acid juic salient blacktea black cherri flavor astring dri finish pair well juici steak saut mushroom',\n",
              " 'dourth 100 sauvignon blanc live crispa light bright wine strong citru flavor lemon tangerin touch spice balanc fruiti textur give herbal edg attract refresh',\n",
              " 'highli unusu quirki blend georgian rkatsit moldovan sereksiya grape tonic crisp offer robust peach appl flavor attack fade bit quickli midpal straightforward refresh',\n",
              " 'unusu wine note milk chocol green oliv arugula light style seem hard put finger particular varieti place',\n",
              " 'well integr char oak meld well ripe blackberri black plum aroma blend merlot cooper long island winemak fullbodi wine intens concentr black fruit charact kick earthi barnyard funk firm structur tannin',\n",
              " 'unctuou intox dri apricot honey peach love exampl varieti rare plant northern california let alon sonoma coast show grape promis offer crisp creami palat finish',\n",
              " 'sweet berri aroma blend dark chocol leather nose palat proper feel well balanc oakdriven chocolati flavor support berri fruit finish dri spici aftertast',\n",
              " '9698 barrel sampl fruit pure great depth flavor wine weight intens flavor dark plum sweet fruit impress',\n",
              " 'silki delic textur good acid simpl pleasant pomegran cherri flavor decent pinot drink',\n",
              " 'dramat spici infus fullbodi wine complex aroma flavor linger finish domin streak smoki oak gener mouthfeel mild tannin plenti blackberri black plum note',\n",
              " 'typic light fruiti wine gasconi light fresh appl flavor green crisp streak touch spice drink',\n",
              " 'lift pearscent fresh domin nose palat soft pleas linear citru focu pois offer sophist refresh',\n",
              " 'dri crispli acid silki mouth rich flavor truli distinct pinot noir show varieti elus person rich cherri currant withdraw miner herb yet final impress fine silki decad develop fascin direct next 68 year',\n",
              " 'vine averag age 40 year old wine duboeuf classic soft easi fruiti red fruit gentl tannin dri edg wine give touch concentr drink crisp wine',\n",
              " 'bit sancerreish light medium bodi aroma struck flint crisp flavor grapefruit riper hint fig melon betray new world origin still finish tart raci',\n",
              " 'deliv excel valu dark fruit aroma tight tannin linger spice note wine age partli oak partli stainless steel would make excel partner barbecu meat',\n",
              " 'blend bring togeth french austrian variet smooth rich wine licoric sweet fruit jelli spice go toast polish acid give wine intern feel',\n",
              " 'dusti brini citru appl aroma lead palat that calm mildli bubbl activ lightli pickl lime tangerin flavor finish dri slightli bitter brini coars crisp feel seltzer',\n",
              " 'vine heart entredeuxm 85 merlot wine rich layer young black fruit spici wood flavor still young structur wine need time power tannin soften drink 2019',\n",
              " 'cabbas bordeaux blend show paso abil produc ripe gentl red wine that immedi appeal there nice earthi cassi flavor rich tannic structur make dream perfectli broil steak chop brush brown butter sauc touch garlic',\n",
              " 'power smoki woodag bordeaux blend domin tens blackcurr flavor cabernet sauvignon give structur eleg wine remain rich certainli age 45 year',\n",
              " 'crisp bright fruit recal slice appl wine fruiti fresh acid cut easili lend herbal edg drink',\n",
              " 'aroma citron toast peanut shell nose lead streamlin lemonzest palat creami tropic fruit tone timidli emerg brisk acid drive finish',\n",
              " '100 variet wine celebr varieti plant right place remark layer dri plum cherri come addit flavor cocoa powder coffe leather smooth medium bodi grip tannin finish mellow go',\n",
              " 'allur scent wild berri alpin herb pine forest wild flower lead nose vibrant linear red eleg lumin palat miner vein underscor red cherri strawberri star anis cedar firm acid taut refin tannin provid framework give time fulli develop drink 20192025',\n",
              " 'secret santa rita hill kind terroir pinot grigio aka pinot gri babcock express crispli acid long hangtim variet flavor unoak way splendid citru tropic fruit flavor gird steeli miner wine way dri although honey rich',\n",
              " 'focus crisp aroma white fruit reflect cool vintag roughli onequart macabeo parellada xarello chardonnay feel tight fresh focus dri stonefruit flavor includ hint lime clean finish',\n",
              " 'bokisch made tempranillo that rel light bodi burst earthi tobacco tone backbon leather palat feel velveti soft structur tannin bear black cherri dark chocol flavor one california best tempranillo',\n",
              " 'chiara lungarotti say vintag vineyarddesign riserva repres mileston famili run estat inde rich eleg red wine show signatur note wild berri spice reflect belov territori umbria',\n",
              " 'young wine ripe juici richli structur perfum spice red berri fruit ripe tannin inher eleg impress wine matur give 2018',\n",
              " 'quit dark glass fruitforward nose blueberri sauc tart plum skin turn loam vanilla aroma ripe blackberri fruit mix licoric palat rise acid soft present tannin also offer roastbeef flavor',\n",
              " 'light uncommit aroma pear lemon lead modest palat offer fleshi melon pear flavor everyth wine mild includ finish offer littl besid vanilla cream flavor',\n",
              " '6 mataro mostli windowdress blend grenach 52 shiraz 42 still tasti mouth toast cedar note frame black cherri plum fruit fullbodi lushli textur wine drink now2018',\n",
              " 'rich plum soft tannin attract ripe juici charact wine good spice hint leather final acid',\n",
              " 'fame pinot noir chardonnay vineyard also produc amaz syrah evidenc wine aroma black pepper blackberri leather spearmint palat domin plump boysenberri flavor cut licoricel slightli strong tannin eucalyptu pine sap charact finish',\n",
              " 'anoth beauti chardonnay fine vineyard wineri wine drier past vintag rich acid miner complex array pineappl lime meyer lemon citru flavor ferment half wine stainless steel balanc oak third new seem perfect approach',\n",
              " 'ice wine produc grape frozen frost decemb 10 2011 superrich opul great concentr honey ripe apricot acid take show rich wine give beauti fresh aftertast start drink 2017',\n",
              " 'restrain soft nose lightbodi white offer subtl lemon zesti phenol seam provid structur foodfriendli savori almost herbal edg',\n",
              " 'andrea cortones make ripe structur brunello impress effort variabl 2008 vintag open aroma reminisc black plum chocol vanilla leather carri palat along toast note spice espresso fruit support assert tannin need time soften drink 20152023',\n",
              " 'lightweight pinot that actual market rose wine nevertheless manag pack decent flavor appl skin red berri cinnamon cap leatheri meati note',\n",
              " 'leather scent hors hide mesh bake stewi aroma plum berri exot spice feel lush mostli well balanc level ripe rich doesnt veer jammi rustic tast roast leafi berri flavor along chocol herb',\n",
              " 'voluptu invit malbec soften tannin amid bright blue black fruit wild cinnamon flavor structur concentr memor wine age anoth 510 year go delici rang food',\n",
              " 'soft structur slightli herbal polish wine flavor blackberri cherri tobacco cocoa leather drink',\n",
              " 'firmli structur wine distinct tannic charact go auster miner fruit wine sour side make hard love although juici show end',\n",
              " 'immens wine serious ageworthi still young power dark tannin concentr fruit come old vine icon quinta dark brood still wood age front need age mani year drink 2019',\n",
              " 'soft gentl mash cherri flavor grenach note wine spici nuanc clove anis cinnamon vanilla littl sweet',\n",
              " 'perfum wine light fruiti bright raspberri flavor lift refresh acid tang zesti lemon touch miner give textur drink',\n",
              " 'initi aroma earth smoke blow aerat reveal intens yellow peach scent swath honeysuckl fresh green herb palat rich penetr stone fruit flavor dri style broad mineralladen textur prickl astring finish',\n",
              " 'here delic white offer aroma acacia flower white peach citru zest carri palat moder acid brighten juici fruit flavor',\n",
              " 'seccal wine count rich intens overal appeal soft smooth enhanc live aroma red fruit prune brown sugar barbecu spice',\n",
              " 'here interest singlevineyard dunde hill wine price usual reserv blend willamett valley cuve slightli murki funki sort wine might stumbl upon cobweb old world cellar primari raspberri rhubarb tone pepperi lightli bitter qualiti',\n",
              " 'nearli opaqu color wine offer slight blackberri nose touch pie crust despit berri persist flavor lean toward savori side cab violet tobacco wild game',\n",
              " 'ripe berri aromat herb rose violet anis leather whiff tobacco meld togeth firmli structur wine fullbodi grip palat deliv matur black cherri licoric underbrush dark bake spice alongsid youth assert velvetytextur tannin drink 20192029',\n",
              " 'pinot start tight time glass open reveal black raspberri mushroom cola exot spice note dri yet silki mouth pretti wine price compar bargain',\n",
              " 'vivid peach color telegraph ordinari pinot gri wine smell like peach skin prosciutto light bodi steep exot flavor dri flower apricot sea salt firm mouthfeel notic astring almost meati charact faint heart fascin',\n",
              " 'reduc oak make intens begin spici acid plenti earthi loam provid variet charact mediumbodi textur wine',\n",
              " 'fizzi suppos mistak either way low alcohol 45 rather sweet supersweet wine pleasant orang vanilla honey flavor like fizzi soda',\n",
              " 'fresh cut cassi cranberri acid lend vital bright perki sptburgund palat boast crisp primari black cheri berri flavor mark pleasant touch nutti finegrain tannin easi approach finish drink 2021',\n",
              " 'twin unbalanc note veget raisin mar cabernet soft finish note prune milk chocol',\n",
              " 'woodi blackberri meet freshli pluck violet lilac snappi nose wine palat show tart berri fruit driven asphalt peppercorn element',\n",
              " 'aroma includ raspberri espresso herb spice lean auster palat offer toast oak espresso alongsid dri astring tannin wine lack essenti fruit rich',\n",
              " 'wineri first sweet riesl somewhat aromat retic varieti note lyche jasmin apricot palat live label though sweet 70gl residu sugar apricot fresh mango flavor linger finish',\n",
              " 'merlot cab sauvignon franc base ripe dens rich bolgheri blend intens impress overal densiti persist finish pair wine hearti dish sausag slowcook lentil',\n",
              " 'approach easydrink wine pleas rang differ palat made napabas winemak jamey whetston soft redfruit flavor big finish',\n",
              " 'salmoncolor wine fresh full palat carri flavor strawberri red currant wine dri smooth caramel textur seem sweeter softer',\n",
              " 'earthi wine almost overrip fruit sensat alongsid rustic note eventu blow glass palat show ripe plum black cherri spice note drink soon',\n",
              " 'entic aroma chop herb white stone fruit fragrant wild flower lead nose vibrant wine raci palat offer green pear granni smith appl lime alongsid brisk acid invigor bubbl',\n",
              " 'technic gewrz residu sugar 08 tastewis give round honey soft nice balanc high acid make pineappl guava lyche flavor tast like theyr bake rich savori pie enorm blast asian spice kick finish',\n",
              " 'delici ripe fruiti wine come south beaujolai ripe redberri fruit soft tannin alli juici acid keep fresh drink',\n",
              " 'appeal wine demonstr excit potenti malbec southern oregon fresh zippi acid underscor bright raspberri blackcherri fruit frame chocol dash sea salt finish reson lightli appli bake spice cayenn pepper',\n",
              " 'vineyard cooler green valley pinot show terroir vital acid brighten pure intens cherri blueberri blackberri fruit flavor eleg wine tannic give 46 year cellar',\n",
              " 'high alcohol wine smell tast like port caramel flavor black currant dark chocol finish hot',\n",
              " 'aroma recal dri herb blueberri dill vanilla palat bring rich blue fruit cocoa flavor back firm slightli dri tannin',\n",
              " 'rich smooth wine full dark black fruit acid fruit charact domin sustain toasti wood still young babi fruit crisp drink 2018',\n",
              " 'sourc produc stanli ranch estat vineyard hyde vineyard carnero stun effort bake pear fruit provid hefti bodi textur honeysuckl appl blossom note squeez lemonlik acid keep balanc fresh',\n",
              " 'magnifiqu barrel select french oakag side wineri 100 syrah pack blackberri black cherri streak citru well balanc complet firm wine age nice anoth decad least',\n",
              " 'show jammi somewhat simpl cherri candi mint flavor kind come young vine plenti tart acid scour mouth creat balanc fruit ultim pinot noir drink soon',\n",
              " 'plum cherri aroma carri lemoni oak note fresh rubberi might expect young monastrellpetit verdot blend plenti black currant plum fruit support mild toasti bitter finish',\n",
              " 'forward fruiti californiastyl fruit sweet strawberri candi differ fill middl leafi herbal flavor noth rough enough add flavor interest finish fat butteri show influenc oak age',\n",
              " 'hard tannin brood tough mask fruit wine hide black cherri currant cloak dri astring howev seem piec place age grace fine 20182020',\n",
              " 'lusciou blackcherri berri note accent note cedar dri mushroom herb elegantli balanc petit verdot inki ripe decad mouthfil finish clean bolster strike cranberri acid',\n",
              " 'light reserv nose first whiff wine eventu allow aroma smoke pork red cherri light dust dri herb emerg palat also delic cranberri pepperi herb make easi engag overli complex sipper',\n",
              " 'robustli structur concentr wine tightgrain tannin firm palat meati element leather tobacco clove dark person trait continu black pepperseason finish beg steak',\n",
              " 'roast meat charcoal elderberri asphalt smoke show nose blend 46 cabernet sauvignon 42 merlot 12 malbec smoke extend palat tangi plum berri flavor mix dark chocol note soft textur linger acid',\n",
              " 'light copper color tangi flavor like peach skin mandarin orang give lot person dri lightbodi refresh wellbalanc wine made oldvin cinsault grape',\n",
              " 'made cool vineyard site low elev often cover fog wine sultri velveti smoki edg wrap candi cherri cinnamon overdeliv term price well',\n",
              " 'ripe opul champagn intens white yellow fruit flavor wine full bodi touch toast show approach matur wonder open gener wine',\n",
              " 'light easi direct straightforward cab offer pleasant aroma flavor ripe red plum cherri preserv raspberri sauc mocha bake spice soft tannin fruitforward palat make ideal select enjoy',\n",
              " 'new world ripe tropic fruit flavor round toasti element impress concentr yet eleg also remain finish spice light acid ad shape rich wine',\n",
              " 'twothird wine malbec onethird merlot aroma asphalt plum orang rind lead palat possess love sens balanc length',\n",
              " 'black plum candi blueberri garden herb anis aroma show nose lusciou bottl matt villard rick hudson doesnt reli sheer power instead offer nuanc sage thyme oregano flavor backfrop bake red black cherri fruit fennel smoke meat vanilla note play support role',\n",
              " 'give pinot two three year cellar could go bit longer youth tight acid sweet oak raspberri fruit flavor havent come togeth yet show delight silki deeper complex mushroom',\n",
              " 'smooth rich creami flavor butter toast golden mango key lime pie honey balanc sweet rich fine acid steeli miner bit dial modern style there deni opul delici chardonnay',\n",
              " 'aroma sugar plum blue fruit take lead follow cocoa herb coffe plum flavor soft sweet go easi',\n",
              " 'straightforward variet correct wine aroma appl spice palat lighter side medium bodi bring sens textur',\n",
              " 'icon sauvignon blanc note pink grapefruit gooseberri mango papaya shine brightli nose palat ampl weight balanc acid crisp clean flavor mark wellmad wine bargain price',\n",
              " 'winemak etienn le rich layer aroma flavor complex wine start attract scent press purpl flower wild strawberri blackberri woodspic palat serious spici ground denseyet overdoneblack fruit flavor medium acid structur tannin follow long evolv finish complet packag harmoni well integr balanc drink 20202024',\n",
              " 'open pour drink messag behind trie also blend 3 grape live fresh almost beaujolaislik juici fruiti red berri charact ripe soft hint spice',\n",
              " 'young alvarinho bright fruit need time fill open ripe textur element attract wine wait 2018',\n",
              " 'bright fruit note stone fruit citru honey appear immedi direct way follow jasmin chop white pepper pair lumin sparkler fri fish stick bread green oliv',\n",
              " 'perfum fresh attract wine feel light charact textur open show jelli fruit charact well ripe fruit perfum rosehip aftertast',\n",
              " 'smoki narcissu note upfront almost obtrus brood note spice black fruit char lurk background tannin dryingwith consist fine ground sandand constrict flavor bit food wine sure need pair slab rare meat',\n",
              " 'spici smoki lapsang souchong tea aroma pure acid juici red plum flavor big fine structur wine tannin essenti part shape wine act support rich finish bring live acid pinot noir age five year',\n",
              " 'wine show lot bourbonbarrel oak flavor underscor fruit plenti appl melon intens enlighten pleas herbal accent',\n",
              " 'organ grape soft redfruit wine tang acid well balanc full fruit charact ripe attract structur',\n",
              " 'pack delici ripe blackberri blueberri flavor concentr fullbodi wine finegrain tannin tasti fatti chees meat improv least 2020',\n",
              " 'ripe woodag wine fragrant redcherri flavor good acid still young bitter although rich fruit structur point good futur drink 2017',\n",
              " 'touch green pepper danc nose otherwis bold darkli fruit wine note coffe browni lend rich palat flesh crushedvelvet textur black plum currant flavor final hit tobacco spice grace finish',\n",
              " 'meati dusti wine vineburgbas site full bodi ripe voluptu light dust black pepper clove within cradl dens concentr underbelli acid allow fresh within power',\n",
              " 'sharp spici herbac sauvignon blanc showcas flavor columbia gorg ava pungent wine sweet grassi flavor hint toast despit ferment stainless steel unusu interest',\n",
              " 'aroma black plum raspberri sage set stage flavor black cherri raspberri nutmeg clove there nice sens spice piggyback lusciou fruit strong overpow tannin fill palat gentli subsid soft savori finish',\n",
              " 'combin 53 zinfandel 45 syrah 3 grenach produc histor estat expans fresh juici blackberri coffe leather note black pepper cinnamon accent contribut extra verv robust bodi fleshi ripe',\n",
              " 'straightforward appl spice aroma draw palat valuepr brut cava fresh focus mango citru spice dri herb flavor finish fresh touch quinc appl flavor good price',\n",
              " 'made barrel acacia wood head bottl initi show aromat lemongrass cutgrass green offer riper peach pear almond oil nose tighten sip tart appl skin green pear light honeysuckl flavor aris',\n",
              " 'fragrant polish offer entic aroma red berri rose eucalyptu hint anis radiant palat note white pepper grill herb accent juici sour cherri crush raspberri glossi tannin provid silki framework drink 2022',\n",
              " 'blend 80 sangioves 10 canaiolo 10 colorino simpl fruiti wine open discreet aroma violet red berri black plum palat rather lean detect black cherri hint pepper finish dri tannic note',\n",
              " 'rich creami wine good structur plenti fruit nose yield berri essenc vanilla smoki wood note palat depth layer compos flavor there coffe chocol finish textur length seem right oaki sure vintag q handl drink 2012',\n",
              " 'blend 50 viognier 25 grenach blanc 17 roussann 8 marsann offer candi banana crme brle seasalt caramel tropic rich creami nose similar flavor show palat bananacreampi charact delici though may ripe mani',\n",
              " 'nose bottl quit complex allur array herbsthym rosemari lavend purpl flowersset fireroast plum fruit slightli lighter petit sirah palat offer flavor mulberri boysenberri bake fennel black pepper beef roast',\n",
              " 'testarossa annual bestbarrel offer start broad aroma violet blackberri tea anis edg lighter pinot densitywis soft express purpl fruit black oliv fennelpow acidifi finish',\n",
              " 'two fist petit sirah ad mix wine mix black cherri berri around soft sinewi layer black pepper firm tannin never overbear wine well tabl around plenti meat',\n",
              " 'fragrant refin open intens floral aroma waft perfum berri eleg structur palat deliv layer red cherri juici raspberri cinnamon miner note alongsid firm finegrain tannin',\n",
              " 'inki purpl color announc seriou intent robust fruitfocus merlot liquorlik intens grip tannin command attent mocha vanilla cassi raspberri flavor keep palat entertain pluminfus finish long flavor better 2010',\n",
              " 'get case make hous wine easi drink dri spici enough cherri berri cola flavor satisfi tastebud',\n",
              " 'apricot orang flavor still right front rich wine acid pois show balanc delici aftertast crisp cool stylish',\n",
              " 'inki dark wine brim import aroma cassi mint fine smoki oak fulli ripe cabernet blackberri flavor wrap eleg tannin dri dusti structur impecc finish long complex approach enough immedi drink',\n",
              " 'cave spring rock riesl offdri 16gl version sexi mineraldrench perfect mix sweet tangi citru tree fruit dens complex phenol highlight add wine that textur full bodi long',\n",
              " 'eleg burgundian wine carri nuanc flavor cranberri crabappl raspberri beet root tart acid nicelybalanc tannin neither mask apolog herbal aspect excel length structur overal',\n",
              " 'pouillyfum often sourc wine sancerr produc wine ripe full mouth yellow fruit spici charact oak age wine could age littl longer drink 2018',\n",
              " 'smooth woodag wine impress ripe stylish yellow fruit pear flavor spice nutmeg toast wood give rich ripe charact balanc acid drink wine',\n",
              " 'aroma press spring flower peach blossom yellow stone fruit take center stage dens fullbodi palat offer ripe yellow plum dri apricot rosemari honey',\n",
              " 'disgorg 2014 pale ro wine definit bottl age tast toasti charact acid matur along wine fresh rather ripea wine readi drink',\n",
              " 'rusti color overdon nose pinot smell char burnt rough abras feel weedi herbal berri flavor tast roast savori finish leav lot desir',\n",
              " 'aroma mediterranean herb hay leather red berri come togeth structur barolo load energi intens deliv creami cherryberri flavor layer white pepper clove nutmeg orang zest alreadi depth need time develop complex drink 2022',\n",
              " 'dark garnetcolor appear brood masculin tone spice ripe fruit dark cherri well beauti balsam note cola dri mint ginger balanc overdon let tannin soften age',\n",
              " 'domin pinot meunier blend soft attract wine offer appl crisp citru light live textur wine fresh aftertast refresh bright',\n",
              " 'clean well made underwhelm there basic blueberri blackberri flavor ride mediumbodi palat overal wine gener specif easygo caus red flag go howev end day doesnt show much person',\n",
              " 'first sniff scent sulfur shroud wine fade air reveal ting grapefruit white pepper honeysuckl legumelik qualiti flavor seem restrain start gain intens time zesti acid give palat cut',\n",
              " 'light balanc wine float lemon acid fresh intens orang honey flavor vibrant charact pois like develop quickli delici way',\n",
              " 'wine intrigu fragranc dill violet black fruit white pepper new oak palat still rather close reveal ripe black cherri note alongsid hint wellintegr oak mint eleg tannin ampl length finish',\n",
              " 'fine bottl full fleshi immedi throw dens aromat toast roast coffe bitter chocol compon deep vein black cherri cassi keep core tight focus small splash syrah add scent black pepper',\n",
              " 'cinnamon spice berrya seduct combinationlead cab finger lake palat cherri pepper spice flavor fall bit flat wine want complex dimens offer approach red berri flavor pair well lamb steak',\n",
              " 'aromat wine that rich spici touch ripe spice pear lyche honey note balanc wonder fresh acid drink 2020 screwcap',\n",
              " '20 could lot wors sampl wine boast plenti variet charact ampl qualiti cedar tobacco cassi dark chocol suggest fulli ripe wine structur remain fine linear gentl cocoapowdertextur tannin line finish drink now2025',\n",
              " 'name neighbor wineri owner mike etzel beaux frre except wine brilliantli focus rippl muscular depth palat etch blackberri black cherri fruit immers lush vanilla coffe caramel tone instantli gratifi imposs seduct except everi way',\n",
              " 'ripe almost earthi aroma plum graham cracker pastri preced rubberi palat squeaki tannin palat deliv bolt black currant spici plum flavor front fieri finish lose fruit quickli',\n",
              " 'dri structur dens wine auster come dri tannin extract bitter flavor aftertast show tannin dryness drink 2020',\n",
              " 'aroma apricot cantaloup pave way flavor apricot appl smoke meat touch river rock wine feel littl stiff first sip open pleas combin fruit savori flavor lead soft guava finish',\n",
              " 'made major cabernet franc complement small hand merlot wine age new french oak half barrel tannic savori cassi cranberri wine also show trace black tea tomato leaf wine oak remain extrem pronounc suggest time cellar 2020',\n",
              " 'blend base nerello mascales tini percentag nerello cappuccio boast bold compel bouquet wild berri leather tobacco light shade crush spice mouthfeel character eleg power determin',\n",
              " 'aroma dark berri crush wild flower orang peel mediterranean brush waft glass vibrant easydrink palat dole juici blackberri blueberri pomegran carob note white pepper alongsid bright acid suppl tannin',\n",
              " 'soft wine lightli spici toasti stalki red fruit gentl tannin easi wine drink young fruit crunchi aftertast',\n",
              " 'crisp green appl melon rind perfum vivaci silvan shade dri concentr lipsmack grapefruit lime flavor finish mark linger swath fresh fragrant green herb',\n",
              " '2003 vintageswinesth year hot wine lack acid wine certainli fullbodi impress tannic structur tight acid give lift pear juic weight',\n",
              " '100 variet singlevineyard estat wine top produc heap given almost two year french oak half new half oncefil juici offer refin layer herb currant clove make soft complex lightli spici experi sizabl structur depth enjoy 2022',\n",
              " 'still young rich lightli honey intens ripe wine beauti structur swath apricot citru gooseberri fruit well dens concentr textur wine certainli need age drink 2019',\n",
              " 'phillip zull offer light fresh grner veltlin stake light fresh come burst fruiti across palat star bright citru green fruit bonedri acid screwcap',\n",
              " 'balanc wood age fruit best wine show plenti red fruit fill raisin nutmeg contrast wood age brought spici almond charact fresh dri side age tawni cours readi drink',\n",
              " 'wine full mouth swath ripe apricot mango fruit flavor weight touch spice great acid emphas gener rich drink',\n",
              " 'flavor sour grapefruit almond somewhat mask ampedup oak',\n",
              " 'deep cherri sagebrush cola laid across wet slate purpl flower complex nose appellationwid blend richard sanford team crush wild herb like mint sage thyme pine needl promin palat back splash red fruit',\n",
              " 'appear prosecco brut golden satur pungent note dri banana chip dri apricot definit standard prosecco wine even vanilla almond note strang soapi fragranc close',\n",
              " 'sweet thin dessert wine aroma peach pear honey muddl time price pretti good howev want tri late harvest fiano minutolo',\n",
              " 'open fragranc white flower hint vanilla oak palat deliv pineappl lemon peel flavor note cream pastri along well integr oak wine soft textur small persist bead pair shellfish',\n",
              " 'cross continu reliabl sourc marlborough sauvignon blanc reason price 2009 seem almost sweet intens ripe nectarin fruit there enough grapefruit balanc trace herb finish',\n",
              " 'firm structur underpin sweet ripe strawberri flavor wine offer fresh berri acid along final tight core tannin age 23 year',\n",
              " 'cort pavon rosso di montalcino give hearti drink red would pair game wild mushroom meat dish get plump fruit exot spice overton give wine sophist person',\n",
              " 'prunotto barolo bussia cru deliv ripe jammi tone strawberri preserv blackberri pie sit heavi nebbiolo characterist ether aroma wine appeal enjoy bigger bolder style barolo finish rich succul fruit',\n",
              " 'made mazzocco style high alcohol superrip zinfandel contain splash petit sirah tast like port flavor raisin currant domin bear glycerin sweet jalapeolik heat',\n",
              " 'sumptuou red cherri berri note accent hint clay tomato leaf rich spici judici oak wine power palat intens black cherri flavor fine tannin finish',\n",
              " 'dilut oddbal aroma blueberri currant render earthi less fulli clean whiff compost feel basic jammi floral berri flavor settl herbal pepperi finish lean',\n",
              " 'wine ooz ripe lush flavor boysenberri jam milk chocol strawberri deep color tannin ad textur pretti smooth overal seem turn sweet finish',\n",
              " 'year bottl nice mellow wine give soft smooth mouthfeel flavor cherri red black perfectli ripe season cassi smoki new oak dri eleg merlot hold well five year',\n",
              " 'vineyarddesign brut sparkl wine open subtl tone sweet grapefruit lemon curd follow softer touch peach honey creami bubbl follow touch white pepper',\n",
              " 'snappi edgi give sniff pierc rhubarb red cherri pepperi aroma show bit cushion soft mouth along spici slightli herbal flavor red plum raspberri spici finish citrusi acid dri oak note',\n",
              " 'lift ripe candi lemon peel send aroma heavenward round aroma fetch touch bitter fir honey also appear palat acid present cushion like honey parfait spike lemon peel love linger long',\n",
              " 'flashi ripe berri jam red currant chocol flavor softli tannic wine despit impress sweet finish dri littl bitter hard tell go anywher give decant drink',\n",
              " 'sweet aroma leather caramel seem murki tire palat come without snap that despit plum raspberri flavor finish lean basic overal simpl wine doesnt realli tast much like syrah',\n",
              " 'made predominantli nero davola addit cabernet sauvignon merlot syrah offer blackskin berri graphit bake spice aroma easygo round palat yield juici black cherri prune black pepper flavor alongsid smooth tannin enjoy 2020',\n",
              " 'display requisit cayus flavor funk savori herb compost earth moder ripe black fruit background whiff pine needl plenti forest floor accent complet pictur',\n",
              " 'littl time glass eventu reveal subtl aroma toast almond press yellow flower beeswax whiff honey honey note follow envelop palat along candi citru peel marzipan miner fresh acid brighten rich flavor provid balanc alreadi enjoy hold complex drink 2023',\n",
              " 'though 60 smillon 40 sauvignon blanc wine reflect herbac sauvignon style lightli perfum also intens acid aftertast fresh fruit convey lift greenfruit charact drink 1991 enologist jacqu chardat bought estat 19thcenturi windmil moulin still stand girond estuari consult enologist eric delacroix',\n",
              " 'rough grassi aroma flavor along choppi mouthfeel render one rung unaccept overal raw punchi green herbac malbec get',\n",
              " 'wine made organ grown grape ripe full redcherri fruit soft tannin immedi attract wine pack fruiti readi drink villag leyn border beaujolai macon',\n",
              " 'rich ripe oaki petit sirah charm flashi blackberri cherri dark chocol flavor opul long finish vineyard lo alamo region',\n",
              " 'versatil white wine made chardonnay sauvignon blanc show aspect rich creami orang peach lemon lime brighten crisp citrusi acid',\n",
              " 'mount veeder cabernet usual tough tannin make cabernet ageworthi 100 variet bottl neither requir cellar reward enjoy tight astring upfront blackberri black currant cassi flavor',\n",
              " 'realli great mountain zinfandel show lusciou power fruit fair price flavor blackberri cherri currant orang clove white pepper flood palat wonder experi price buy zin case',\n",
              " '100 variet wine featur big oak dri tannin around rustic core fullbodi black cherri dri plum savori tobacco tea provid sultri edg proceed tart come bear finish enjoy 2018',\n",
              " 'easygo fresh cheer sparkl wine offer tonic fruit flavor kiwi lime honeydew melon wine firm zesti add play touch spice close',\n",
              " 'underbrush oak crush mint aroma lead nose palat firm evok macer cherri star anis vanilla flavor envelop dusti tannin leav graini finish',\n",
              " 'price cant go wrong wine like floweri fruiti beyond doesnt pretend there natur creami feel full melon white fruit flavor proof chardonnay better without oak',\n",
              " 'wine pull everyth togeth great enjoy vivid fresh fruit aroma dash oak spice deep layer fruit flavor like ripe tangi black cherri power sooth textur carri along flavor impress long finish best 2020',\n",
              " 'harmoni balanc wine show fine fresh acid tannin close somewhat tast chocol sweet charact ripe fruit end acid give fine lift',\n",
              " 'barelyblush pinot noir vinifi like white wine skin contact rapidli becom new long island classic gorgeous aromat waft cherri citru blossom palat brisk zesti yet mouthfil concentr crisp peach red cherri flavor',\n",
              " 'crisp refresh love sparkler offer sensat white wild flower green appl citru bartlett pear vibrant acid balanc creami elegantli foam palat give dri invigor finish',\n",
              " 'balanc subtl good charact blend offer flavor tobacco leather clove fruitdriven access eleg ageabl',\n",
              " 'situat cte de bar estat produc soft full blend half half chardonnay pinot noir tread fine line balanc dosag white fruit final citru acid drink',\n",
              " 'le eller straightforward chianti classico show characterist sangioves aroma wild berri wet earth blue flower back subtl touch spice spanish cedar tobacco mouthfeel bright compact balanc acid close',\n",
              " 'color light that decept brood aroma coffe smoke peat earth miner fire pit lead lightli style rich focus savori flavor display deft intens sens textur',\n",
              " 'gritti aroma grill meat rubber bake plum lead candi tast syrupi feel palat that sweet flavor mildli oaki result rich finish that sticki bit hot ripe',\n",
              " 'la frosc rich lumin soav classico deliv vibrant tone stone fruit lemon blossom dri sage express show pure pristin aromat qualiti',\n",
              " 'chilli 2011 vintag kind wine give fine acid yet still ripe fruit showcas viognier flamboy exot flavor like tropic fruit citru peach honeysuckl along butter toast new french oak eleg wine drink rich food',\n",
              " 'vineyard josh jensen plant 1975 come bottl show sultri black plum minti herb tarragon black slate smash mulberri touch pork fat wondrou array bake red black fruit meet clove nutmeg tarragon minti flavor palat produc delici dynam flavor like expertli cook stew fruit spice herb',\n",
              " 'crisp light fruiti attract readytodrink wine touch acid end give fresh',\n",
              " 'equal part grenach syrah blend 18 mourvdr classic red rhne blend broad fleshi tannin meati charact brighten flavor bake strawberri chocol smoki oak',\n",
              " 'fresh easi moscato show sweet tone honey peach nectar background tone white almond melon wine softli fizzi creami close',\n",
              " 'nice balanc smooth start red cherri raspberri aroma hint spice continu fresh tangi fruit flavor live bright textur nice touch tannin firm finish',\n",
              " 'spici grassi aroma catmint match unusu clove scent tough rubberi palat youll find spici blackberri greenherb flavor pull tannin drive forc wine choppi clip finish',\n",
              " 'herbal raspberri strawberri aroma raw bit green feel scratchi well tomatoey flavor red currant plum skin modest finish raci feel mild flavor',\n",
              " 'rich textur full bodi ripe mellow flavor pear almond fig make wine mouth also fresh smooth acid last finish',\n",
              " 'round soft currant sweet appl flavor balanc acid concentr rich there still age potenti',\n",
              " 'savori note spring ramp clay mingl fresh appl blossom dri lightbodi riesl earthi savori tone extend palat well finish briskli streak lemoni acid',\n",
              " 'adam famili produc wine sinc 1674 legaci distil delic ripe fruiti wine eleg balanc acid dri apricot flavor give attract wine month bottl',\n",
              " 'fullbodi red open aroma ripe plum vanilla coconut whiff exot spice palat deliv oak extract anis dri blackberri oakdriven spice alongsid rather raspi tannin leav astring finish',\n",
              " 'fine companion wineri lumir chardonnay take grape much differ direct old vine grape fall influenc barrel ferment wild yeast age 40 new french oak presum put malolact ferment butteri bonbon wine tast brioch bake appl silki smooth finish',\n",
              " 'product way cuve qualiti remain consist sassi mix tart juici cranberri raspberri fruit punch palat linger finish light note fresh tobacco baker chocol add interest',\n",
              " 'blend 85 sangioves 15 cabernet sauvignon merlot offer aroma blackcurr cedar underbrush black pepper palat offer dri black cherri blackberri clove anis espresso alongsid assert tannin slightli bitter note dri sage mark finish',\n",
              " 'nose odd yet mildli appeal perfum corn tortilla note flower fruit note play palat accent soft mouthfeel easi mouss finish show littl length butteri honey note overal disjoint qualiti',\n",
              " 'vineyarddesign pinot grigio nice execut aroma creami vanilla apricot melon there fragrant touch yellow rose even note exot spice fill finish',\n",
              " 'waxi slightli bitter aroma peach pit give way palat grip tast salti like white melon finish fruit fade quickli hail chile deep south complex challeng ripe',\n",
              " 'straw gold color fragrant delic aromat wine made organ fruit pure white fruit miner flavor cut intens youth acid need develop wait drink 2016',\n",
              " 'dusti citru aroma show hint butterscotch feel right modest lift come mild acid dri simpl flavor white pepper gener bitter close',\n",
              " 'age stainless steel small barrel french oak wine remain smooth silki interweav acid classic fresh express varieti subtl oak vanilla pear find way onto finish provid addit layer flavor finess',\n",
              " 'light bodi crisp bright cherri fruit accent leafi slightli green note clean vibrant sort pinot work well salmon',\n",
              " 'brilliant white wine tart acid miner flavor make mouth water flavor veer toward bright tart citru fruit suggest chines fivespic grape biodynam farm may partial wine pure',\n",
              " 'fragrant floral wine smooth touch vanilla fruiti ripe feel show fresh crisp applelik acid readytodrink balanc chardonnay',\n",
              " 'black tea char cherri tree bark aroma aris wine cooler part warm appel wine bit thin light palat sip pomegran fruit drink beach lighter fare',\n",
              " 'initi gaseou rubberi aroma subsid time glass remain minti herbal nose oliv eucalyptu redfruit flavor carri palat firm solidfeel minti lightli green finish',\n",
              " 'intens aromat dri wine ripe fruit floral charact light acid classic perfum muscat delici apritif asparagu',\n",
              " 'refresh wellmad wine combin vibrant citru flavor richer ripe melon appl note interest enjoy person',\n",
              " 'sourc sagemoor farm homestead estat vineyard detail complex wine open pear pineappl scent flavor layer pretti spice toasti highlight',\n",
              " 'here fruiti sauvignon blanc fllled flavor pineappl papaya lemon lime peach even hint wild white flower gooseberri strong flavor lift good acid tri stimul cocktail wine',\n",
              " 'convey asian influenc lemongrass lead nose alongsid chalki lemon curd soft peach element power palat lemongrass thai basil coconut milk frame yellow grapefruit acid chines spice serv pho',\n",
              " 'keen acid mineraldomin flavor current tast bit auster also core orang apricot mango flavor sweeten oak dont drink cold allow breath consum',\n",
              " 'pack exot tropic fruit essenc gewurztramin perfum ripe top spici lyche juic pepper pear domin readytodrink wine',\n",
              " 'terrif merlot especi price impress soft lush intric flavor berri currant cola anis pepper sandalwood real bargain product 2500 case drink soon',\n",
              " 'cloak dagger film noir style fit dark brood charact wine cola graphit aroma mix fresh blackberri blueberri nose palat wellstructur tangi plum skinlik acid deliv satisfi dark chocol black oliv black cherri flavor',\n",
              " 'wine dens tannin lose sight ripe berri fruit balanc come togeth well give structur wine also fine fresh black fruit drink 2019',\n",
              " 'eleg light easi drink offer nose fresh citru clean friendli flavor lemon spice palat uncompl fun great summer wine pair perfectli grill fish asian cuisin',\n",
              " 'lime kiwi orang lemon fruit flavor delici wont miss oak accent bright vital acid make shine like polish silver good food win reason price 20000 case produc rel easi find',\n",
              " 'polkura first valuepr syrah open earthi blackfruit aroma thick yet precis charact palat feel wide chunki particularli eleg flavor bake spice herbal blackberri finish pepperi chunki touch resini oak',\n",
              " 'old vine produc power wine retain strong flavor stem earth despit extra ripe 2012 red berri fruit slide suggest tomato juic',\n",
              " 'perenni headturn live pedigre vintag offer fullbodi lush plush experi character soft layer dark cherri blackberri vanilla season cinnamon vine headtrain within block plant mani varieti 15 make way wine',\n",
              " 'finest gamach cabernet franc sinc 2008 arguabl best valu wineri entir lineup there excel variet charact display mix blueberri coffe ground overal balanc improv virtu cooler 2011 vintag keep alcohol level check',\n",
              " '100 cabernet sweet tast like raspberri mocha caramel starbuck drink poster child overextract overoak high alcohol california cabernet',\n",
              " 'delic sweet pretti prosecco offer delic floral note shade banana exot fruit light foami mouth full soft textur sensual sweet close',\n",
              " 'right amount wood age soft rich smooth tannin alreadi well integr blackberri fruit give wine fruiti juici good mediumterm age drink 2016',\n",
              " 'exuber nose bottl peach appl blossom honeysuckl cherimoya nearli tropic bananalik scent yet tighten nice sip pithi appl flesh meyer lemon tang asian pear flesh combin zesti palat',\n",
              " 'dark brood tone oak caramel hazelnut form around medium acid fullfigur bodi voluptu textur blanc de blanc combin 95 chardonnay 5 pinot grigio',\n",
              " 'light bodi nice dri lean refresh wine tast like crisp appl raspberri great balanc clean tangi finish bright appeal',\n",
              " 'sound ordinari wine lusti rich tannin acid berri tobacco earth spice flavor finish ripe fruiti',\n",
              " 'cofer viognier first time ste michel aim brighter softer style syrah plenti soft pleasantli access lightli toasti smooth seem elimin bright hill valley make syrah distinct washington',\n",
              " 'cool toasti aroma minti oak cigar box herb eucalyptu leav littl doubt chilean tight solid palat offer herbal flavor plum tomato mint tast savori sauci bit like good tomato sauc finish drink 2019',\n",
              " 'exagger burnt aroma sundri tomato raisin plum liqueur dont roll red carpet sweet 535 rs fruiti also tannic rough earthi side ultim finish short',\n",
              " 'dens concentr still young wine ripe blackberri flavor sens ripe dri woodandtannin core give wine least 45 year',\n",
              " 'highend bottl featur fruit 90yearold vine age 12 month oak medium full bodi suppl tannin crisp acid note barrel char cherri finish dri rustic edg',\n",
              " 'rich hallmark fullbodi luxuri ripe fruitdrench zinfandel blend blueberri black cherri blackberri jam aroma flavor coat palat crowd oakderriv accent might present come pure fruiti delici',\n",
              " 'sweet rich wine combin honey touch toast smoki mid palat fill apricot fresh lemon flavor fine acid finish give delici lift',\n",
              " 'intens note crush stone slate permeat state offdri riesl pert lemon tangerin flavor zippi fresh wine showcas brisk stoni style',\n",
              " 'fruit star ripe round flavor nice mix orang appl pear light dust bake spice drink freshest peak',\n",
              " 'new effort ddo drop domain drouhin name put vineyard name front center young wellcraft strawberri cherri fruit potenti evid impress site vine get age',\n",
              " 'cherri jam raspberri preserv aroma meet mlang sweet bake spice nose palat show ampl weight support sandi tannin dark cherri pie flavor lead cherri cola finish',\n",
              " 'refresh lightli textur wine juici acid lemon fruit bright soft cut live acid make delici summer',\n",
              " 'earli stage evolut wine offer mainli stoni firm acid hard edg structur cours soften like remain tannic wine fruit alway edg acid mani year potenti great wine need patienc',\n",
              " 'wineri walla walla valley debut display aroma ash green oliv grill asparagu dri flower smoke meat blue fruit smoke savori flavor soft reserv style show pleas persist finish',\n",
              " 'zippi spici nose offer miner earthi red berri start pert zinfandel wine offer balanc tannin fruit fresh acid friendli fun',\n",
              " 'fresh herbal citric charact give extra appeal offer ampl acid also balanc weight palat friendli wine still hold complex dish cut everyday sauvignon sure crowd pleaser',\n",
              " 'soft slightli onedimension bear blackberri cherri jam flavor enrich smoki oak there funki syrahlik bacon note like improv age drink',\n",
              " 'whiff volatil doesnt turn tightli layer reserv hogu lot go gob cherri cassi fruit dens deep roll vein earth oliv graphit big wine plenti life ahead',\n",
              " 'round small amount merlot malbec petit verdot cab earthi lean entri develop glass juici dark cherri leatheri note smooth integr oak tannin leav impress term textur persist tannin finish',\n",
              " 'tast feel harsh acid lack pinot voluptu natur although seriou even complex flavor berri cola tobacco spice pinot noir textur everyth wine littl',\n",
              " 'made vermentino malvasia di candia aromatica petit manseng easydrink white aroma fragrant white wild flower citru white stone fruit ripe round palat offer apricot lime hint salin',\n",
              " 'purpl color miner deep nose modernstyl rioja deal aroma wood smoke blackberri cassi palat big bulki balanc issu toasti blackberri chocol coffe flavor hold onto toasti blacken charact flush dynam finish drink 2022',\n",
              " 'wine good potenti dri cut tannin fruit rich blackberri flavor promis round full futur wood age smooth wine ad touch toast black currant fruit drink 2018',\n",
              " 'aroma orang peel orang essenc oili bring softer note melon appl tropic fruit bright basic tongu cut acid tropic flavor green melon mango ratchet citric acid finish citrusi pithi',\n",
              " 'smoki ripe wine attract balanc show fresh vintag pleasant touch wood along blackcurr fruiti potenti age 35 year',\n",
              " 'interest experi pinot gri ferment skin age neutral oak six month pale rose color skin contact result quit puckeri phenol barrel age help round though remain almost sour light astring strawberri fruit',\n",
              " 'thick rich layer white oak knoll districtgrown estat fruit invit lemon chiffon bake pineappl anis medium bodi afraid robust wetston miner bring togeth',\n",
              " 'appl melon salin butter popcorn aroma set live palat snappi acid appl melon flavor turn bit stalki bitter finish',\n",
              " 'dri style ruddi slightli overrip note melon peach extend nose palat gewrztramin full bodi soft mouthfeel brighten streak tangerin acid midpal drink',\n",
              " 'mellow front mild aroma melon babi powder feel fresh easygo appl citru vanilla flavor drink well chill soon',\n",
              " '9092 barrel sampl ripest fruit plenti sweet flavor pack spice ripe wood give structur',\n",
              " 'superrich wine almost top honey intens opul gener pack ripe yellow fruit mango pineappl wine rich hard find acid orang marmalad flavor right end',\n",
              " 'wood age give wine rich smooth textur tannin fine integr solid foursquar berri fruit herbal touch perfum charact make eleg wine come matur',\n",
              " 'balanc wine slightli spritzi acid lead wrap sheer tannin rich aroma earth leather toast contrast bright fruit sweet candylik strawberrycherri forepal',\n",
              " 'begin aroma matur tree fruit spring flower palat deliv wave bartlett pear peach yellow appl nectarin miner accent hint aromat herb support fresh acid',\n",
              " 'leatheri herbal aroma suggest compost full hard tannic palat home rubberi flavor herbal blackberri pepper medicin darkberri charact control finish decent wine mild weedi',\n",
              " 'fresh fruiti wine gush blueberri aroma dark cherri flavor fun way make easi sip even gulp light tannin acid feel smooth slightli grip textur',\n",
              " 'allur nose violet berri touch spice begin stylish wine waterford palat flower spice miner unfold mingl eleg tannin pronounc refin wine age offer time pass gorgeou sip today',\n",
              " 'smell honey lyche fruit without bold exuber gewrztramin pear flavor midpal turn citrusi finish',\n",
              " 'rich blackberri chocol flavor round tannin good concentr velveti mouthfeel add lot pleasur fullbodi wine blend zinfandel cabernet sauvignon',\n",
              " 'richli fruiti wine mark tropic fruit spice aroma flavor rich creami textur slight burn mouth alcohol spice call food',\n",
              " 'allerg sulfit insist certifi organ wine one fit bill unfortun heavi grapejuic characterist sharp acid run show dens chewi there odd grapefruit note end',\n",
              " 'winemakerown chuck mansfield devot california grenach offer gem sierra foothil subregion el dorado counti light color fresh tast layer slightli savori rhubarb strawberri boost firm acid entic finish spice 20 except deal qualiti',\n",
              " 'serious beauti chianti classico character impress eleg smooth long feel last mani long minut palat nose equal pristin bright integr aroma dark fruit spice polish river stone',\n",
              " 'balanc wine move easili rich fruit tight miner grapefruit textur hint toast give extra weight worth age sever year',\n",
              " 'smoke plum incens potpourri layer spice earth greet nose wine pioneer pierr lafond winemak bruce mcguir rich palat boysenberri sagebrush sandalwood aromat wood element',\n",
              " 'domain de la mordor 2014 ross fit tribut proprietor christoph delorm final vintag die june 2015 blend 50 grenach 30 syrah 20 cinsault weighti rich blend raspberri white chocol wine could serv light red wine grill meat poultri',\n",
              " 'delic aroma herb white peach stand contrast ripe almost candi yellow peach mango flavor palat mediumsweet riesl juici lip smack spri crisp finish drink enjoy youth fresh',\n",
              " 'allur aroma white flower orchard fruit mediterranean herb mingl glass delici linear palat offer nice depth flavor includ juici yellow peach tart green appl nectarin hint ginger alongsid tangi acid linger finish close miner note',\n",
              " 'hot climat cold creek vineyard sharpen contour chardonnay show classic washington charact bright fruit mix appl peach pear shot streak butterscotch ferment new french oak 100 malolact yet retain crisp polish fullbodi',\n",
              " 'cool mineraltextur wine crisp fruit refresh still tight firm structur like remain nervi taut domin citru drink 2017',\n",
              " 'mediumintens spice game aroma inflect ripe forestberri cherri fruit access easi low tannin clean finish',\n",
              " 'blend perfum verdelho crisp alvarinho beli alentejo heat power fruiti zesti lemon lime apricot flavor textur still firm miner drink rich wine 2018',\n",
              " 'deep gold color wine open whiff caramel appl mango pineappl follow rich flavor robust backdrop chisel miner brawni fullbodi brisk',\n",
              " 'show herbal sweet green pea qualiti often mark chard central napa valley give interest twist otherwis youll find tropic fruit cream butter popcorn zesti acid',\n",
              " 'herbal jammi aroma raspberri plum spici reedi feel bit heavi shape stewi bake blackberri flavor interwoven herb spice note malbeccabernet blend tast mostli chocol prune herb chunki finish',\n",
              " 'fruiti simpl jammi flavor blackberri cherri currant cocoa sweet smoki oak made soft modern style appeal',\n",
              " 'hit fat lean sauvignon blanc fig grassi flavor wellbalanc wine show smooth mouthfeel long finish one grill fish',\n",
              " 'boast weight rich wine show northern beaujolai cru success 2010 cherri sweet plum flavor lace ripe acid well miner edg',\n",
              " 'instantli beauti fragrant jump glass fresh strawberrywatermelon scent pretti fruiti quickli approach mouth show chunki black fruit astring slightli green edg tannin overal chewi almost blocki wine good quafferth kind wine want drink analyz',\n",
              " 'clean fresh fruiti soft dri red fruit softest textur fresh shot acid mark end',\n",
              " 'fresh crisp raspberryflavor wine refresh fruit touch tangi lemon zest give extra fresh largest singl plot vine beaujolai burgundi 244 acr bruilli cru estat famili sinc 1667 histor monument',\n",
              " 'energ nose combin ivi lemon green appl lime utter fresh palat add savori yeasti note counterpoint lemoni fresh mix moreish live refresh light summer wine',\n",
              " 'fresh crisp wine bring pepper charact grner along attract creami citru flavor wine good acid final lemon zest',\n",
              " 'round soft smoothli creami ripe wine domin pinot meunier open wine fruiti readi drink',\n",
              " 'blend 80 sangioves 20 cabernet sauvignon inform red subdu aroma suggest darkberri violet hint kitchen spice lightbodi simpl palat show black cherri dri plum hint toast alongsid soft rather fleet tannin',\n",
              " 'rich solid ripe spice black plum flavor consider rich balanc dark tannin give sens finegrain textur solid wine',\n",
              " 'aroma violet red currant lead nose bright fruiti red simpl vibrant palat deliv blackberri cranberri ground pepper alongsid lith tannin made drunk young enjoy soon',\n",
              " 'accent note appl melon lightli spritzi textur feel touch sugar',\n",
              " 'zesti acid plenti upfront fruit flavor pinot readi drink next two year rich vibrant cherri pie fill red currant red licoric bacon cola pepper sandalwood flavor',\n",
              " 'wine tight acid redcurr fruit structur tannin well fruiti mean cru need age month drink mid2017',\n",
              " 'cool berri graphit cola prune lead aroma ripe rdd mouth choppi tannin firm acid creat strong edgi feel flavor cassi wild berri coconut vanilla announc ripe plenti oak finish abrupt tannin ton residu flavor weight drink 2021',\n",
              " 'underbrush violet wild berri menthol sweet pipe tobacco aroma lead way vibrant wine sleek palat dole juici wild cherri bake spice crush herb fresh acid network polish tannin provid backup drink 20162025',\n",
              " 'structur syrah vineyard royal slope impress balanc blend flavor juici raspberri blackberri fruit black oliv pepper spice',\n",
              " 'immens wine inki purpl pack black purpl fruit lace smoke espresso finish finegrain substanti tannin cab live nameit big muthah well papa cellar optim express',\n",
              " 'first scent flavor cola root beer dr pepper seem domin though unpleasantli impact continu brown sugar molass black cherri fruita sodalov wine breath ad textur weight streak licoric smoke tar',\n",
              " 'spici new wood obviou aroma smooth polish ripe white wine rich flavor nutmeg pear fresh red appl acid wine worth age two year allow fruit wood blend',\n",
              " 'variet tempranillo made chile one mostli posit nose dark chocolati crust along patent lo lingu aroma oliv herb choppi palat high acid flavor heavi oak vanilla herbal plum finish pepperi spici scratchi feel',\n",
              " 'intens rich wine pack flavor spice gingerbread lyche full round charact intens spici anchor structur textur drink 2018',\n",
              " 'lush describ syrah littl bottl age achiev nice creami soft offer mouthwat flavor chocolatecov cherri ripe crush blackberri pepper there also lot oak ad intricaci caramel sweet woodspic',\n",
              " 'firm dens structur wine sweet turn much rich flavor sevil orang zest rich come honey almond balanc dri botryti impress wine need time age',\n",
              " 'tinta negra mole wide plant madeira chameleon grape take charact grape style produc fanci transmut rich bual wood age oldgold flavor color acid end preserv wine mani year intens impress drink',\n",
              " 'refin complex limitedproduct vineyarddesign wine start lemoni acid there much discov bore palat meyer lemon grapefruit nectarin mix refresh miner',\n",
              " 'barolo vigna ru meati beefi express nebbiolo gener tone leather tobacco back red cherri spice smoke beef jerki soy sauc dark fruit concentr help pad fresh oak tone also evid sure soften bottl age',\n",
              " 'smooth fruiti wine plenti attract red berri fruit firm tannin youth juici charact obvious still new although drunk better 2015',\n",
              " 'good acid firm miner provid backbon citru tropic fruitflavor wine sweet turn cloy first sip',\n",
              " 'oxid style unusu though intens flavor straw compost intermingl poach pear wet stone high qualiti raw materi come long caramelappl finish drink',\n",
              " 'tast young jammi perki tartli sweet flavor blackberri cherri currant oak add smoki complex bring mind mocha vanilla butter toast sprinkl cinnamon somewhat lack nuanc plenti flash cab develop next 68 year',\n",
              " 'wine juici intens acid redcurr flavor consist acid tannin firm soften juici aftertast give wine crisp',\n",
              " 'peachi fruitforward mouthfil wine bring bright washington fruitpeach appl pearsinto play along caramel candi underli acid support fall short finish turn slightli bitter attenu',\n",
              " 'lush weighti chenin blanc ripe fruit flavor citru oil appl flesh green plum lace note soft vanilla bean clove rich palat lend pair nice hearti creami chicken fish dish',\n",
              " 'trincadeira moreto castelo form blend stalki fruiti wine show sign wood age boast fresh red fruit balanc acid aftertast fresh continu fruiti theme',\n",
              " 'hew sweeter style time momentum california ro swing toward dri wine simpl raspberri jam orang zest vanilla white sugar flavor',\n",
              " 'exot smoki aroma blue fruit middl eastern spice proprietari wine mouthfeel juici also earthi flavor tobacco mint herb plum finish mellow eleg although 2007 good vintag rioja success drink 2024',\n",
              " 'beauti proport wine rich yet miner textur full grapefruit gooseberri flavor gradual show toast well wonder acid age 46 year',\n",
              " 'aroma suggest bath soap peach pear palat friendli blocki flavor profil run sweet sugari dosag hint nectarin mango work finish',\n",
              " 'there valu money smooth wine smack cherri darker deeper fruit syrah complex leatheri meati edg tanninacid balanc right lead simpl fruiti finish',\n",
              " 'gritti pinot jammi raspberri cherri flavor awkward overlay sweet caramel oak',\n",
              " 'aroma white strawberri passion fruit preserv citru soft spoken increas intens palat rel low alcohol sweet bright acid pair well exot slightli spici fare like curri chicken mango chutney',\n",
              " 'broad muscular blend sourc seven vineyard age 18 month french oak rel open fruiti berri earth spice proport gentl fade',\n",
              " 'deep black raspberri slate make tradit nose solidd wine refresh live sip dark red fruit bit brown spice',\n",
              " 'soft fresh dri fruiti wine light fragrant crisp acid cut wine give tight nervi edg along bright fruiti',\n",
              " 'barolo boast intens fragranc orang peel alpin forest berri palat ampl intens show ripe cherri mint cinnamon espresso note wine well balanc big smooth tannin',\n",
              " 'young fresh wine that lace black currant dri tannin young fruiti front fresh fact could month bottl give weight round',\n",
              " 'aroma wild berri underbrush tobacco lead nose classic craft barolo fullbodi palat deliv juici morello cherri ripe black raspberri bake spice licoric alongsid network ripe assert tannin firm acid drink 20182026',\n",
              " 'ripe banana coconut mango guava aroma make showi entri bottl citrusi fresh keep check palat show clean line lemoni acid sear finish cut hint tropic fruit',\n",
              " 'wine come silex soil around small villag saintandelain crispli textur vanilla spice flavor fill intens acid aftertast still young bring steeli tight textur drink 2018',\n",
              " 'passoro open amber almost deep orang color overrip aroma sun bake raisin dri apricot strawberri jam candi fruit wine feel heavi thick mouth sharp point lemon zest appear end',\n",
              " 'tropic mlang fruit blossom live equal ebulli packag deft bodi bound glass floral perfum juici watermelon cherri flavor zesti bold yet spri freshan aptli name accompani summer',\n",
              " 'mostli cabernet sauvignon along 10 merlot petit verdot wine display aroma dri fresh herb flower black tea dark chocol cherri fruit savori flavor sweet suppl back tightli coil tannin need time unwind',\n",
              " 'rich nose honey marmalad yeast open full appl lemoncustard flavor there full also lessthansparkl qualiti that littl disappoint consid krug pedigre mediumweight finish butteri oaki complex length youd expect',\n",
              " 'there eversoslight touch pink glass bottl bruno dalfonso pack strong fresh aroma cider appl chalk tangerin zest pear flesh light jasmin nose ton energi palat tighten unleash poach asian pear lime spritzer red appl flavor',\n",
              " 'folk jaboulet nail textur wine pure silk mouth mild hickori menthol note accent raspberri fruit slightli meati herbal savori note add complex approach easili evolv 2025',\n",
              " 'deep redviolet eye wine welldefin nose blueberri pie flint good mix tart fruit spice flavor blueberri cranberri black pepper anis smoke meat cavort amidst soft tannin smooth finish character flavor smoke orang zest',\n",
              " 'plowbust carabella second label offer light balanc moder price pinot noir wild berri cocoa powder compet astring tannin tast green tea though slightli bitter soften pair heartier stew',\n",
              " 'candi cranberri grape meet light nutmeg gingersnap cooki wet slate rich interest nose wine lompocbas brian lore palat powerpack spici boysenberri sandalwood cedar incens star anis blacktea touch',\n",
              " 'aroma offer note cocoa herb cedar cherri barrel spice palat somewhat barrelforward otherwis show pleas sens balanc along linger finish',\n",
              " 'smoke toast domin nose barrelfer chardonnay overpow subtl appl pear flavor palat bit earthi savori style bright citru acid',\n",
              " 'here fresh live super tuscan blend would make fantast companion roast lasagna ground beef hearti tomato sauc wine soft velveti layer matur aroma red berri spice leather tobacco',\n",
              " 'passadouro old vine seriou complex wine fruit integr part dark tannic structur ad gentl power spice well juici fruit wood finish sweet fruit flavor',\n",
              " 'floral scent honeysuckl citru blossom mingl white stone fruit aroma live weightless palat dole white peach green appl frame bright acid polish perlag clean refresh finish',\n",
              " 'typic huge colom wine initi damp murki funki aroma give way earth roast fruit compost fortun fresher mouth wine definit improv air still palat big oili roast berri herb wild exot flavor uniqu style malbec old calchaqu vine',\n",
              " 'mint herb aroma follow structur tannic palat balanc acid juici blackcurr flavor dark dri edg like nearli 2010 need age',\n",
              " 'heat glycerin high alcohol integr part 100 syrah wine big juici jammi frankli delici offer endless wave cassi chocol blueberri black licoric black pepper vanillasc oak last long spici finish drink now2016',\n",
              " 'good price zesti sweet dessert wine nice way finish dinner someth white yellow fruit vanilla custard ingredi show rich honey orang apricot honey flavor tingli acid',\n",
              " 'smooth access put light chocol frame around rhubarb strawberri fruit there hint pepper wine fresh youth good sip wine late summerearli fall',\n",
              " 'new sparkler apaltagua yeasti nose ham salami wheat note palat isnt shi fullforc malic acid bring kick grace flavor cider butterscotch finish short clean',\n",
              " 'bit restrainedor might mutedon nose follow pineappl citru flavor creami custardi textur clean somewhat lack intens finish',\n",
              " 'new oak stick chardonnay butter toast vanilla domin tropic fruit orang meyer lemon flavor fine construct deft acid stoni miner drink now2013',\n",
              " 'strike flavor wine bottl show littl spici oak renwood give slightli sweet cinnamon accent vivid blackberri strawberri syrup flavor fruit charact power delici seemingli seep wine direct dri full bodi firm textur drink nice 2020',\n",
              " 'addit 5 smillon prove right call white structur spritzi glass treeripen apricot exot lemongrass pleasant heft palat twist ripe give mouthwat juici finish',\n",
              " 'wine electr pink color note strawberri bubblegum cranberri drink dri watermelon red fruit flavor linger finish',\n",
              " 'ripe juici wellstructur wine delici red fruit core seriou tannin wine weigh rich opul come great fruit result wine beauti charact develop well drink 2019',\n",
              " 'verdelho one new varieti import old europ that provid badli need shot arm california name need crispli acid dri white zesti refresh wine lemonhoney peach vanilla flavor',\n",
              " 'feel bit strip though bottl say alcohol hit almost 15 chocolati coat sharp herbal rather thin fruit flavor wine show pleasant strawberri watermelon fruit flavor though tannin chocolati barrel flavor quickli take',\n",
              " 'candi red purpl fruit meet mocha cola spice nose bottl approach simpl palat tart cranberri plum skin flavor lift dri ginger spice',\n",
              " 'roast black fruit anim note strong whiff black oliv make wild wooli bouquet palat carignan direct firm exot berri flavor herbal hint wellappli oak blueberri note bold acid push finish drink 2017',\n",
              " 'rich tannic full bodi black cherri jam red currant raisin spice flavor penetr long headi wine that high alcoholdrink grill beef chicken slather barbecu sauc',\n",
              " 'bouquet deliv moder citru snap palat offer midlevel variet flavor lime gener citru there smatter greenherb charact finish pepperi light touch wateri fresh drink soon elicit smile frown',\n",
              " 'entir stainlesssteel ferment age crisp white immedi drink great vineyard site consid ground zero varieti grass pea shoot corn aroma lead way tart dri apricot melon flavor beg oyster',\n",
              " 'fruit come primarili ciel du cheval boushey vineyard deliv intens spici cherri pungent grape scent flavor hint tobacco wild fruit forward style favor earli drink pg',\n",
              " 'floral note play aromat woodruff figleaf aroma make incred entic palat slender tight total concentr nervi highoctan stuff boast lemon pink grapefruit without singl ounc fatand yet ungener',\n",
              " 'nativ yeast use block select bigbon almost chunki wine flavor dri plum sesam candi pleasantli oili mouthfeel finish lick hazelnut',\n",
              " 'label reserv though price well wineri singl vineyard select pretti eleg nice defin wine outperform modest ripe raspberri cherri fruit dappl dri herb black oliv hint dark chocol',\n",
              " 'ripetast spicedplum flavor gener textur make fullbodi wine easi enjoy first sip offer even payoff continu tast deliv plenti fruit charact accent complex cinnamon clove nutmeg spice grand feel breadth palat',\n",
              " 'erath make solid reliabl allpurpos somewhat gener oregon pinot noir blend wine fill desper need someth repres good old basic oregon pinot noir access spici clean tangi red fruit bit sharp acid improv next coupl year soften',\n",
              " 'attract blend includ 20 cabernet franc soft perfum wine spice toast wood age integr better come month black fruit acid alreadi well place drink 2018',\n",
              " 'slightli oxid first aroma caramel butterscotch wine soon open reveal apricot honey dri hay easi genuin wine pair fri onion ring',\n",
              " 'vintag frankli hasnt impress us much pleasant surpris full toasti yeast butter also youth citru element lemon lime creami textur long smooth finish complet packag',\n",
              " 'siepi gorgeou super tuscan blend sangioves merlot exhibit rich intens puriti lusciou opul express deep aroma cherri blackberri chocol espresso bean spice finish super long delici',\n",
              " 'claret benefit addit year bottl age integr compon 60 merlot 30 cabernet sauvignon 5 cab franc malbec tart redberri fruit accent light toast barrel age there slight hint burnt rubber blow decant',\n",
              " 'red berri bake spice scorch earth aroma waft glass straightforward red easygo palat offer red berri cinnamon gamey note alongsid smooth rather fleet tannin ideal drink window drink',\n",
              " 'blackskin fruit press violet whiff chop herb lead nose fullbodi red bold palat offer highton flavor ripe black cherri black raspberri mint hint fig uplift fresh acid firm velveti tannin give smooth textur',\n",
              " 'fine simpl wine summer acid fresh appl pear flavor attract aromat',\n",
              " 'rich full wood yellow fruit flavor well integr ripe acid gener well eleg wine drink',\n",
              " 'lemonyvanilla crme brle rise fore mediumbodi chardonnay medium high acid retain crisp fresh throughout layer fruit finish clean',\n",
              " 'nebbiolo steep vineyard valtellina open aroma crush violet perfum berri flint whiff alpin herb bright palat deliv crush sour cherri juici raspberri grill sage tobacco hint vanilla alongsid raci acid polish tannin enjoy 2020',\n",
              " 'here delici eleg sparkler open allur aroma ripe pear juici citru toast hazelnut hint bread crust vibrant palat dole crisp appl succul nectarin accompani eleg perlag live acid miner note back bonedri finish',\n",
              " 'sweet red peach flavor combin honey soft access wine layer botryti hint dryness drink next year',\n",
              " 'earthi stalki leatheri aroma suggest modest ripe feel medium weight short salti flavor plum raspberri herbal arguabl touch weedi feel littl hot finish',\n",
              " 'there good densiti wine show plenti ripe merlot fruit flavor jammi lift dri fruit blackberri round ripe wine shot curiou unbalanc dri wood element',\n",
              " 'firm tannin saintestph strongli evid wine dri dens hint fruit juici acid also bitter charact need time soften probabl alway dri structur side drink 2019',\n",
              " 'jammi plum berri aroma temper note red fruit currant vibrant palat sauci redplum currant flavor arent overextend tomato dri spice flavor mark crisp finish',\n",
              " 'machiavelli princ innov super tuscan blend sangioves pinot nero cabernet fruiti fresh excel power intens nose redol small berri exot spice dri finish long satisfi',\n",
              " 'open raw note wild berri dri herb lend untam rustic feel palat bright',\n",
              " 'wine fat fruiti textur along acid plenti tannin auster charact dri dens seriou intent juici aftertast attract promis futur',\n",
              " 'singleparcel partial barrelfer champagn effect blanc de noir sound complic name wine wine much easier appreci certainli rich touch tannin miner textur full ripe white fruit offer good acid end could age longer drink 2017',\n",
              " 'concentr darkfruit wine sever miner edg cut black currant fruit wine age potenti rich although alway dri core tannin keep 34 year',\n",
              " 'earthi blackol foresti herbal scent accent core blackberri moss aroma intens juici acid give cabernet blend vital across palat herbal berri oliv pepper tobacco flavor spici finish bolster brisk power acid drink 2025',\n",
              " 'produc old vine textur solid wine tight firmli tannic charact underneath red cherri fruit alreadi releas fragrant side potenti bright fruiti drink 2016',\n",
              " 'fragrant wine entic headi perfum woodland berri wild herb graphit blue flower still quit young tightli wound deliv strawberri cherri white pepper thyme wrap taut tannin vibrant acid provid balanc energi give time fulli develop drink 20232033',\n",
              " 'attract ripe blend niellucciu syrah grenach softli textur warm backdrop blackberri fruit wine spici distinctli southernfr feel soft mean readi drink',\n",
              " 'spici woodag flavor domin wine rich almost rich pushi good seem opul previou vintag nutmeg domin pineappl apricot fruit flavor could settl although alway larger life',\n",
              " 'open bright aroma cherri blueberri leather tobacco clove palat show nice harmoni densiti enhanc zesti spici finish',\n",
              " 'rich wellcraft white wine italian lake region north open creami textur opul aroma melon ripe peach citru zest vanilla mouss dens natur wine suggest food pair cream bchamel sauc',\n",
              " 'licoric menthol red berri clove aroma carri taut palat along tobacco note tightli wound finegrain tannin provid firm support drink 20192027',\n",
              " 'leatheri earthi hint cranberri chocol medium bodi suppl enough drink turn bit tart finish',\n",
              " 'foxi redberri aroma suggest anim hide wet fur feel raw wiri scratchi due sharp acid rough tannin foxi herbal plum currant flavor finish abras scour mild heat salti note',\n",
              " 'simpl candi flavor pineappl juic enough acid balanc',\n",
              " 'previous seven hill vineyard grape estat bottl sourc almost half grape highaltitud mineraldriven ferguson vineyard pepperi spice elev nose lead young tight wine compact cranberri strawberri fruit depth miner except',\n",
              " 'smell veget oil farmfresh sweet corn still husk flavor like expect riesl green appl underrip asian pear finish bit metal otherwis featur fresh lime zest',\n",
              " 'robust blackfruit aroma berri cassi come mild anim note leatheri scent jammi bit loud term mouthfeel flavor raisin berri chocol finish meati loami drink 2017',\n",
              " 'red berri press rose balsam aroma lead nose structur palat offer juici black cherri grill herb licoric clove hint mocha accompani firm velveti tannin fresh acid',\n",
              " 'wine boast subtl black cherri plum frame bed toasti mochating oak rich silki discreet dust cocoa long finish',\n",
              " 'made mthode champenois style wellfarm vineyard blanc de blanc sharp acid bite flavor green appl lemon zest crisp fresh also complex slightli brood weav wave brioch almond goe',\n",
              " 'smoothli seduct textur bodi mediums vineyard design bright lemon peel vanilla caramel appl flavor seesaw rich vibranc miner fresh emerg open glass',\n",
              " 'made 54 merlot 46 cabernet franc spent 23 month onethird new french oak overal structur impress firm acid streak iron miner around tight taut black fruit get even better ampl breath time andor cellar',\n",
              " 'spice cedar accent aroma ripe red cherri plum buoyantli aromat cabernet franc dens ruddi black fruit flavor unabashedli oaki forward yet surprisingli balanc there irresist fresh throughout augment crisp acid green leafi edg',\n",
              " 'earthi vein aroma flavor keep wine classic nonetheless ripe fruit flavor rel smooth textur spite varieti typic firm tannin',\n",
              " 'awkward wine sharp green tea note stick mouth otherwis youll find firm tannin jammi blackberri fruit',\n",
              " 'fullbodi white lead aroma jasmin honeysuckl stone fruit linear palat offer ripe golden appl white peach miner note alongsid fresh acid bitter almond mark finish',\n",
              " 'simpl melon vanilla aroma flavor lightweight wine itll go fine carryout rotisseri chicken busi weeknight someth els might overkil',\n",
              " 'wine full redberri flavor dri stalki background textur light style wine could serv slightli chill aftertast bring crisp acid drink 2016',\n",
              " 'love pinot polish suppl readi drink crisp acid lush coat smoki oak exot complex flavor cherri pie fill black raspberri tart cola red plum mocha evolv 2012',\n",
              " 'scratchi plum raspberri aroma fresh forward mouthfeel follow suit juici narrow acid bright flavor raspberri plum cherri end zesti long crisp acid maintain focu blend carignan mazuelo garnacha syrah',\n",
              " 'coolclim northern italian white show except fragrant floral qualiti tone jasmin peach blossom evid crip easydrink pinot grigio',\n",
              " 'stainlesssteel ferment sierra foothil sauvignon blanc creami great textur lilt layer light peach kiwi lime melon deliciousenjoy seafood goat chees cracker',\n",
              " 'hint underrip pineappl green fennel add clean refresh tone juici pinkgrapefruit flavor palat mediumdri riesl lemoni acid pleasantli bitter grapefruitpith note give focu edg finish',\n",
              " 'violet lavend perfum lend lift plush velveteen cabernet franc ripe black cherri berri flavor rich concentr set crisp cranberri acid soft linger tannin',\n",
              " 'ripe perfum pack rich 2010 along structur weight juici black red berri fruit tens structur still need time acid end provid fresh lift essenti firm wine',\n",
              " 'pretti pinot offer ripe fruit flavor strawberri cherri there nice dash chocol suppl seamless mouthfeel compon beauti integr',\n",
              " 'wine textbook new world viognierbright focus balanc sassi fruit flavor citru apricot aromat conjur subtl note citru rind jasmin flower overal length concentr good get',\n",
              " 'soft honeysweet syrahbas southern rhne blend offer easi flavor cherri raspberri jam vanilla white chocol pepper',\n",
              " 'dusti cherri aroma turn harsh air set tight acid palat that mark tart raspberri plum flavor scour spici pepperi finish amount tight hard basic rioja',\n",
              " 'fruiti simpl easi wine flavor cassi cherri blackberri cola licoric pepper weight dryness nice merlot',\n",
              " 'almost color chardonnay smell simpl sulfur sort like match box lean monoton across palat offer pithi slightli bitter citru flavor front similar tast finish',\n",
              " 'sweet herbal smell firm tight mouth clampi tannin gener dark flavor black plum berri feel littl reduc heavi finish',\n",
              " 'raspberri red currant pinch oaki mapl make nose tinto fino sport mediumweight bodi mediumlevel intens redberri flavor follow nose crisp finish red plum raspberri flavor wrap thing',\n",
              " 'aroma bring note flower herb cigar box spice cherri cherri flavor sweet lusciou show love sens balanc textur extend finish cap impress stuff',\n",
              " 'faint note strawberri rise glass palat becom subdu meld fresh citrusi note grapefruit combin fine fizz grownup dryness spiki citru absolut convinc even mouthwat',\n",
              " 'earthi hint pollen crush miner lend complex honey swath peach raspberri delic frame ausles raci lith yet remark penetr long finish',\n",
              " 'nuanc aroma fig prune molass coffe tobacco smoki chipotl make intrigu bouquet find way onto palat forest floor mushroom tone add complex flavor tannin rich overal feel wine eleg',\n",
              " '5 viognier give extra boost richli aromat wine suggest apricot dri mango drink quit sweet abund stonefruit flavor enjoy apritif digestif',\n",
              " 'pepperi spice tart gooseberi white grapefruit note shine variet characterist grner veltlin delic concentr cut fresh finish refresh miner tone drink 2018',\n",
              " 'perfum still quit youth wine potenti textur acid strongli chalki miner element lend structur aromat crisp white fruit finish wine cool eleg charact',\n",
              " 'light clear straightforward wine reduc somewhat nose exhibit tight tannic structur backbon oak black cherri blackberri domin flavor fullbodi feel',\n",
              " 'full fruiti woodinfluenc caramel edg soft tannin spici blackfruit flavor bitter edg provid piquanc fruiti age screwcap',\n",
              " 'notion cherri cinnamon nose slight fizz refresh fruitdriven sparkl ro that full strawberri cherri notesit might definit easi summer wine end dri yet refresh',\n",
              " 'distinct blend cabernet sauvignon syrah note black currant oliv chocol herb palat soft cherri flavor graini tannin dont entir hold togeth lot intrigu',\n",
              " 'wine open perfum nose lavend geranium waft blueberri raspberri red plum abound carri palat also quit floral nice balanc easi enjoy finish smooth flavor doesnt last long',\n",
              " 'classic style barolo hallmark nebbiolo scent rose violet spice leather forest floor creami palat deliv wild cherri flavor layer spice mint licoric eucalyptu note well balanc fresh structur alreadi enjoy drink 2018 complex',\n",
              " 'blend open ripe aroma recal blueberri strawberri jam follow note spice chocol moist tobacco finish soft velveti come touch plush rich complex balanc',\n",
              " 'truli love carignan organ grown dryfarm singl vineyard 100 variet exampl well carignan grow mendocino welltend allow rich luxuri smooth wine also dark brood incred fruiti like liquid cherryraspberri tart top vanilla ice cream',\n",
              " 'plush fanci cabernet trim ripe opul fruit foundat oak provid spici complex tannin supersoft plush like drink velvet may contribut wine longev definit make pleas drink right',\n",
              " 'plant around 12thcenturi fortress vine estat given crisp wine redberri fruit along fruit wine fine bright acid core dryer tannin like cru wine beaujolaiss biggest appel readi drink',\n",
              " 'recent plant block freedom hill vineyard bright fresh fruit flavor berri plum set substanti midpal there touch caramel age onequart new french oak benefit bottl age drink 2018 2022',\n",
              " 'nuanc white flower lead aroma pear pineappl flavor grapefruit green appl pear finish miner driven delight',\n",
              " 'lecol columbia valley cabernet 100 variet blend magic come mix excel vineyard classi classic wine pinpoint structur spoton variet charact compact palat pack detail though drink well clearli wine cellar longer note clean earth clover herb light chocol add depth core black cherri cassi',\n",
              " 'fine redcherri note perfum decad aroma candi amarena cherri palat reveal hint conif white pepper frame mellow surprisingli textur dens bodi sumptuou oak concentr st laurentbut fruit perfect pitch need bottl age drink 20192028',\n",
              " 'wellripen fruit flavor full bodi defin big smooth wine age french oak 18 monthslong usual pinot noir show black cherri blackberri mild spice palat appropri tannic mouthfeel warm linger finish',\n",
              " 'fresh red cherri plump red currant spice dr pepper cola rose petal mace dri fennel nose bottl sabrin rodem tea asian fivespic note aris sip back raspberri pink peppercorn altogeth fairli light lith bodi',\n",
              " 'serious woodag wine burnt toast charact doesnt chime light fruiti vintag give wine bitter extract less overwork would produc better wine',\n",
              " 'drink wine cold youll miss nuanc behind pineappl orang spice flavor there miner undertow interest herbal note',\n",
              " 'wineri santa barbara bottl establish track record fine eleg pinot noir fair price one need age show clean pure approach silki mouthfeel classic pinot flavor persimmon cola mushroom',\n",
              " 'aroma blackberri plum earthi note medicin streak flavor fruiti drink dri earthi rough time wont round simpl pleasant',\n",
              " 'applesauc fruit salad rather strang unconvinc aroma merlot palat plum wild berri big broad lunki jammi back end herbal berri flavor finish accept red wine noth special',\n",
              " 'inaugur releas varieti mount georg vineyard cool coombsvil grant ava statu 2011 juici soft blackberri stone fruit wine cradl gener tannin herbal tone full bodi sinewi structur suggest would benefit time bottl cellar 2022',\n",
              " 'feel rich wine roll opul around mouth grner spice charact domin give intens concentr go yellow fruit acid balanc addit mix impress wine',\n",
              " 'easygo valpolicella offer medium heft densiti fresh note cherri blueberri white almond cola pair wine bruschetta top wild mushroom oliv oil',\n",
              " 'there part small lush valley pois fog sun give sauvignon blanc extra edg interest combin grape citru weedi charact fatter one apricot honeydew kind wine thirteen percent smillon add cashew fig note high acid keep thing bright crisp nice valu',\n",
              " 'la meirana inform bright sparkl wine deliv floral aroma honeysuckl acacia back sweet almond peach show light bubbl fade fast glass',\n",
              " 'citru melonrind aroma lead offdri mediumbodi fruit flavor concentr come quit light',\n",
              " 'lightcolor delic wine smooth soft good balanc redcherri flavor littl bitter layer gentl tannin age attract juici',\n",
              " 'estat grown lake chelan wineri emerg region riesl clearli strength delic eleg often miss fruit bomb grown warmer site bone dri dusti lightli floral nose balanc blossom yellow fruit juici acid wet rock impecc wine extend grace linger finish',\n",
              " 'intens alcohol wonder complex layer toast spice fruit vine rang 50 80 year old wine robust balanc muscular st franci make flatout wonder zin year year vintag vintag big bellisimo',\n",
              " '100 syrah abund juici blue black fruit concentr layer meat leather wrap around intens core readi enjoy ripe yet balanc',\n",
              " 'fullbodi broad big mouth barrelfer roussann modest floral highlight grill pear pineappl fruit toast marshmallow honey turn stone fruit long finish',\n",
              " 'winemak nicki versfeld 100 smillon cwg lineup treat upfront bouquet rich decad toasti scent cedargril appl peach pit spice orang peel well touch lemon verbena subtli shine palat creami full counter bright acid citrusi fresh hold alongsid oak spice lengthi finish approach would realli benefit year matur tri 2019',\n",
              " 'wine pale orang color apricot aroma jazzi peach citru flavor live fresh nearli dri 15 dosag done sophist style finetextur bubbl clean finish',\n",
              " 'aroma fleshi blackskin fruit kitchen spice underbrush emerg blend merlot sangioves cabernet sauvignon fresh palat offer matur blackberri black currant clove licoric dri herb alongsid firm finegrain tannin drink 20162020',\n",
              " 'hedonist berri raisin fig flavor complet tight tough palat solid boulder term structur balanc ripe mix blackfruit mocha flavor finish power one could ask drink bordeaux blend 2027',\n",
              " 'gener appl aroma short intens length tast melon much light dilut finish breadi flavor note ensur ok easi quaf',\n",
              " 'soft easi wine lightest textur crisp appl pear flavor gentl readi drink',\n",
              " 'blend chardonnay nosiola pinot bianco offer appl cream nose along flavor peach citru comfort mix fruit finish live fresh make fine apritif',\n",
              " 'aroma guava tropic fruit faint flavor seem wash there enjoy need dial',\n",
              " 'topaz imperi sparkl point first nonvintag blend three tradit champagn grape varieti intens aromat ripe red berri plum maintain eleg dryness throughout rich palat soft delic mouss linger long earthi mushroomsc finish',\n",
              " 'made predominantli sangioves 8 canaiolo wine begin aroma toast oak spice matur black berri whiff rubber palat offer black cherri white red pepper espresso roast coffe bean alongsid youth astring tannin need year unwind',\n",
              " 'cotton candi appl cider aroma give way mild palat soft acid sens complex plump redfruit flavor specif overal blend tempranillo syrah garnacha appeal slightli vacuou',\n",
              " 'big rich fruiti fantast ripe cherri dr pepper flavor elev note sweet sandalwood brighten crisp acid impress sheer power well long spici finish young drink need 56 year mellow',\n",
              " 'domin grenach 60 wine soft easili fruiti along attract flavor red fruit pear citru light tang lime zest ripe fullbodi aftertast',\n",
              " 'vividli complex nose sesam oil teriyaki blueberri black cherri violet prove dens well season blend 55 cabernet sauvignon 36 syrah 9 tempranillo lavend promin purpl flower decor palat dark fruit meet espresso note rustic though strong tannic backbon drink 20172025',\n",
              " 'aroma toast roast coffe bean ripe black skin fruit exot spice lead way forward concentr wine warm dens palat offer blackberri jam dri black cherri roast walnut licoric big chewi tannin offer support',\n",
              " 'almost half wine age new french oak barrel forward note char caramel along tropic fruit fruit express help retain sens eleg carri finish',\n",
              " 'herbac lemoni tone reverber start finish eleg offdri riesl accent sweet juici peach tangerin flavor hint smoke tea leaf add complex along limepith astring finish',\n",
              " 'organ farm grape estat vineyard compris 100 variet wine anoth unusu offer napa valley dri advertis fruiti medium bodi tast waxi apricot melon',\n",
              " 'wine spici ripe readi drink ripe white stone fruit lace citru acid give live wine good fruit intens drink wine instant pleasur',\n",
              " 'restrain somewhat backward reserv hide fruit behind dri somewhat earthi wall tannin interest nuanc seed leaf stem along base fruit flavor raspberrycranberri wine persist slightli bitter finish seem hold back second bottl better littl fruit',\n",
              " 'dark silki burst open ripe plum black cherri fruit streak smoke iron run along highlight bright citru sweet toast dark chocol flavor wrap long satisfi finish drink 2024',\n",
              " 'good straightforward chardonnay buttercream vanilla tropic fruit citru flavor',\n",
              " 'somewhat meati edg wine also good rich textur probabl need time bring full potenti ripe yellow fruit',\n",
              " 'lightli dri grace beauti balanc wine blend 7 gewrztramin elev aromat key lime pink grapefruit touch lemon zest play finish recal sip english breakfast tea',\n",
              " 'good everyday merlot that dri softli tannic pleasant cherri cola spice flavor',\n",
              " 'estategrown grape go blend that one third cab franc merlot plu one third mix cabernet sauvignon petit verdot alreadi drink well super fruit concentr bring raspberri blueberri cherri togeth wine finish lusciou chocolati oak flavor smooth forward gather focus engag finish',\n",
              " 'somewhat acrid aroma anim farmyard palat offer ripe plum flavor that short overrip well vanilla chocol sensat finish bitter note',\n",
              " 'aroma exot spice incens aromat herb lead way raci palat hint dark spice cranberri add interest wild cherri core vibrant acid suppl tannin make fresh easi drink',\n",
              " 'intens red cherri violet aroma follow firmli structur palat wine along pomegran licoric chop herb note taut finegrain tannin bright acid provid framework drink 20232033',\n",
              " 'toast popcorn kernel chief note medium bodi bear simpl pomac flavor evenkeel acid',\n",
              " 'fresh fruiti lace citru crisp apricot delici layer lime juic drink wine age year',\n",
              " 'note pepperi blueberri fruit faint nose present disarm honesti fresh sprightli palat gentli dri tannic structur great puriti dark berri give appet brood aspect love',\n",
              " 'pale salmon color wine 63 mourvdr 37 grenach aroma fresh strawberri watermelon spice cherri lead bonedri mouthwat fruit flavor bring lot appeal',\n",
              " 'concentr firm touch caramel wine start intens fruiti textur miner fruit skin come play wine impress complet acid ratchet notch fine floral green white fruit flavor',\n",
              " 'blueraspberri jello tone meld fleck green herbal note nose palat medium bodi bit disjoint show slightli sharp acid',\n",
              " 'wonder miner mean red wine bottl answer black cherri dark strawberri nose rise power crush slate smash graphit aroma palat start cranberri pomegran slate rockysoil flavor swing back give backbon hint bay leaf herb',\n",
              " 'made 100 montepulciano open aroma rubber coffe espresso palat offer black fruit sensat alongsid slightli bitter tannin simpli structur alreadi access drink soon',\n",
              " 'open aroma matur dark fruit toast slight whiff cellar floor palat still tight rather close offer fleshi black cherri toast oak clove mocha alongsid polish tannin fast approach ideal drink window enjoy sooner rather later',\n",
              " 'aromat brood wine note herb pepper brown spice drink quit sweet lightli chalki feel',\n",
              " 'bold boister wine offer depth black cherri expans palat tingl spici acid swath cinnamonlac cola silki smooth hail select dutton ranchfarm vineyard includ thoma road manzana deliv fullbodi flavor',\n",
              " 'hint mossi undergrowth lead nose love note whitepepp dust green yellow pear unfold soft round palat look textur well flavor disappoint patienc cellar reward complex matur flavor great concentr drink 20162020',\n",
              " 'despit wealth cherri sweet smoki oak flavor unrip note green peppercorn tomato mark pinot noir structur fine acid great veggi tast distract',\n",
              " 'heavyduti cabernet big everi way rich black cherri cassi fruit dens dark tannin long slightli graini finish reinforc impress raw power yet wine retain perfect proport nice differenti 2010 craft winemak chri figgin',\n",
              " 'strong effort olsen estat 100 syrah fine variet charact rough tumbl style cure meat herb earth hint sea salt mingl wild berri fruit flavor balanc fresh linger nuanc flavor thread gulpabl finish',\n",
              " 'oliv sauci berri sens raw nose drive malbec toward solid slightli scratchi feel palat plum blackberri minti oak flavor short lightli herbal end without much forc',\n",
              " 'sure syrahtempranillomerlotdolcettogracianopetit verdotnebbiolocabernet francgrenachemuscatviogniertannatmalbeccabernet sauvignon world what tast like well red tabl wine good descript offer raci red fruit miner bitter chocol good grip spici tanninsbr burger',\n",
              " 'open dri underbrush sunbak soil french oak aroma palat equal brood dri black cherri blackberri fruit brush licoric espresso flavor assert closegrain tannin leav firm finish drink 20202027',\n",
              " 'wine abound intens rich power well mouthwat fresh ageworthi certainli impress wine henri bourgeoi tour de forc sauvignon blanc',\n",
              " 'offer aroma ripe dark fruit crush rose warm whiff toast palat note clove grill sage accent core wild cherri still young nervou acid assert refin tannin drink 2018',\n",
              " 'great vintag port year white port bottl 2015 hint firm tannin structur mark year also preserv amaz amount fresh still suggest orang marmalad flavor back fine concentr old wood tast wine cours readi drink',\n",
              " 'earthi berri cassi aroma gener particular mouthfeel cab scratchi heavi firm tannin grab bite plum cassi flavor minti herbal spici finish even minti scour hard tannin',\n",
              " 'niven famili winemak christian roguen teas smoke meat blackberri past dark slate aromat red cherri concentrati hibiscu nose wine palat show plenti ripe red fruit made interest woodi herb includ oregano marjoram',\n",
              " 'expens ye show drama interest joseph phelp cabernet predict deliv rich ripe blackberri cherri currant oak flavor wonder tannin dri finish best',\n",
              " 'beeswax ripe pear appear subtl lift nose evolv note earth polish wood danc everpres softli sweet pear fruit slender wine round fruit echo softli finish dri',\n",
              " 'allur fragranc honeysuckl come along whiff tomato vine green melon juici palat offer tropic fruit ripe peach cantaloup energ miner note fresh acid']"
            ]
          },
          "metadata": {},
          "execution_count": 12
        }
      ]
    },
    {
      "cell_type": "code",
      "metadata": {
        "id": "MSlRbCJpJ2uO"
      },
      "source": [
        "%%time\n",
        "countVec = CountVectorizer()\n",
        "X_raw = countVec.fit_transform(corpus)\n",
        "X = X_raw.toarray()"
      ],
      "execution_count": null,
      "outputs": []
    },
    {
      "cell_type": "code",
      "metadata": {
        "id": "P-0xqoC4J_X0"
      },
      "source": [
        "#### Visualize the distribution of the wine ratings (points)\n",
        "n, bins, patches = plt.hist(wines_subset[\"points\"].values,10,density=1,facecolor='green',alpha=0.7)"
      ],
      "execution_count": null,
      "outputs": []
    },
    {
      "cell_type": "code",
      "metadata": {
        "id": "H0ASsfjQKCro"
      },
      "source": [
        "y = wines_subset[\"points\"]\n",
        "y = y.where(y>90,other=0).where(y<=90,other=1).values"
      ],
      "execution_count": null,
      "outputs": []
    },
    {
      "cell_type": "code",
      "metadata": {
        "id": "JlkycIzvKID2"
      },
      "source": [
        "X_train, X_test, Y_train, Y_test = tts(X,y,test_size=0.25,random_state=1693)\n",
        "#scale_X = StandardScaler()\n",
        "#X_train = scale_X.fit_transform(X_train)\n",
        "#X_test = scale_X.transform(X_test)\n",
        "classifier = LogisticRegression(random_state=1693,solver='lbfgs')\n",
        "classifier.fit(X_train,Y_train)\n",
        "Y_pred = classifier.predict(X_test)"
      ],
      "execution_count": null,
      "outputs": []
    },
    {
      "cell_type": "code",
      "metadata": {
        "id": "c3FQUwCtKLdV"
      },
      "source": [
        "spc = ['Bad','Good']\n",
        "cm = confusion_matrix(Y_test,Y_pred)\n",
        "pd.DataFrame(cm, columns=spc, index=spc)"
      ],
      "execution_count": null,
      "outputs": []
    },
    {
      "cell_type": "markdown",
      "source": [
        "### <font color='blue'> Tricks for fast Pre-processing </font>"
      ],
      "metadata": {
        "id": "RNI9Orwfiz6a"
      }
    },
    {
      "cell_type": "code",
      "execution_count": null,
      "metadata": {
        "colab": {
          "base_uri": "https://localhost:8080/",
          "height": 660
        },
        "id": "IdfY2LGGt0ll",
        "outputId": "0053600c-5308-4a44-a06c-9c1cbb5bbdb4"
      },
      "outputs": [
        {
          "output_type": "execute_result",
          "data": {
            "text/plain": [
              "   Unnamed: 0   country                                        description  \\\n",
              "0           0     Italy  Aromas include tropical fruit, broom, brimston...   \n",
              "1           1  Portugal  This is ripe and fruity, a wine that is smooth...   \n",
              "2           2        US  Tart and snappy, the flavors of lime flesh and...   \n",
              "3           3        US  Pineapple rind, lemon pith and orange blossom ...   \n",
              "4           4        US  Much like the regular bottling from 2012, this...   \n",
              "\n",
              "                          designation  points  price           province  \\\n",
              "0                        Vulkà Bianco      87    NaN  Sicily & Sardinia   \n",
              "1                            Avidagos      87   15.0              Douro   \n",
              "2                                 NaN      87   14.0             Oregon   \n",
              "3                Reserve Late Harvest      87   13.0           Michigan   \n",
              "4  Vintner's Reserve Wild Child Block      87   65.0             Oregon   \n",
              "\n",
              "              region_1           region_2         taster_name  \\\n",
              "0                 Etna                NaN       Kerin O’Keefe   \n",
              "1                  NaN                NaN          Roger Voss   \n",
              "2    Willamette Valley  Willamette Valley        Paul Gregutt   \n",
              "3  Lake Michigan Shore                NaN  Alexander Peartree   \n",
              "4    Willamette Valley  Willamette Valley        Paul Gregutt   \n",
              "\n",
              "  taster_twitter_handle                                              title  \\\n",
              "0          @kerinokeefe                  Nicosia 2013 Vulkà Bianco  (Etna)   \n",
              "1            @vossroger      Quinta dos Avidagos 2011 Avidagos Red (Douro)   \n",
              "2           @paulgwine       Rainstorm 2013 Pinot Gris (Willamette Valley)   \n",
              "3                   NaN  St. Julian 2013 Reserve Late Harvest Riesling ...   \n",
              "4           @paulgwine   Sweet Cheeks 2012 Vintner's Reserve Wild Child...   \n",
              "\n",
              "          variety               winery  \n",
              "0     White Blend              Nicosia  \n",
              "1  Portuguese Red  Quinta dos Avidagos  \n",
              "2      Pinot Gris            Rainstorm  \n",
              "3        Riesling           St. Julian  \n",
              "4      Pinot Noir         Sweet Cheeks  "
            ],
            "text/html": [
              "\n",
              "  <div id=\"df-647c6ded-9308-4772-9816-c16bcc52d0d7\" class=\"colab-df-container\">\n",
              "    <div>\n",
              "<style scoped>\n",
              "    .dataframe tbody tr th:only-of-type {\n",
              "        vertical-align: middle;\n",
              "    }\n",
              "\n",
              "    .dataframe tbody tr th {\n",
              "        vertical-align: top;\n",
              "    }\n",
              "\n",
              "    .dataframe thead th {\n",
              "        text-align: right;\n",
              "    }\n",
              "</style>\n",
              "<table border=\"1\" class=\"dataframe\">\n",
              "  <thead>\n",
              "    <tr style=\"text-align: right;\">\n",
              "      <th></th>\n",
              "      <th>Unnamed: 0</th>\n",
              "      <th>country</th>\n",
              "      <th>description</th>\n",
              "      <th>designation</th>\n",
              "      <th>points</th>\n",
              "      <th>price</th>\n",
              "      <th>province</th>\n",
              "      <th>region_1</th>\n",
              "      <th>region_2</th>\n",
              "      <th>taster_name</th>\n",
              "      <th>taster_twitter_handle</th>\n",
              "      <th>title</th>\n",
              "      <th>variety</th>\n",
              "      <th>winery</th>\n",
              "    </tr>\n",
              "  </thead>\n",
              "  <tbody>\n",
              "    <tr>\n",
              "      <th>0</th>\n",
              "      <td>0</td>\n",
              "      <td>Italy</td>\n",
              "      <td>Aromas include tropical fruit, broom, brimston...</td>\n",
              "      <td>Vulkà Bianco</td>\n",
              "      <td>87</td>\n",
              "      <td>NaN</td>\n",
              "      <td>Sicily &amp; Sardinia</td>\n",
              "      <td>Etna</td>\n",
              "      <td>NaN</td>\n",
              "      <td>Kerin O’Keefe</td>\n",
              "      <td>@kerinokeefe</td>\n",
              "      <td>Nicosia 2013 Vulkà Bianco  (Etna)</td>\n",
              "      <td>White Blend</td>\n",
              "      <td>Nicosia</td>\n",
              "    </tr>\n",
              "    <tr>\n",
              "      <th>1</th>\n",
              "      <td>1</td>\n",
              "      <td>Portugal</td>\n",
              "      <td>This is ripe and fruity, a wine that is smooth...</td>\n",
              "      <td>Avidagos</td>\n",
              "      <td>87</td>\n",
              "      <td>15.0</td>\n",
              "      <td>Douro</td>\n",
              "      <td>NaN</td>\n",
              "      <td>NaN</td>\n",
              "      <td>Roger Voss</td>\n",
              "      <td>@vossroger</td>\n",
              "      <td>Quinta dos Avidagos 2011 Avidagos Red (Douro)</td>\n",
              "      <td>Portuguese Red</td>\n",
              "      <td>Quinta dos Avidagos</td>\n",
              "    </tr>\n",
              "    <tr>\n",
              "      <th>2</th>\n",
              "      <td>2</td>\n",
              "      <td>US</td>\n",
              "      <td>Tart and snappy, the flavors of lime flesh and...</td>\n",
              "      <td>NaN</td>\n",
              "      <td>87</td>\n",
              "      <td>14.0</td>\n",
              "      <td>Oregon</td>\n",
              "      <td>Willamette Valley</td>\n",
              "      <td>Willamette Valley</td>\n",
              "      <td>Paul Gregutt</td>\n",
              "      <td>@paulgwine</td>\n",
              "      <td>Rainstorm 2013 Pinot Gris (Willamette Valley)</td>\n",
              "      <td>Pinot Gris</td>\n",
              "      <td>Rainstorm</td>\n",
              "    </tr>\n",
              "    <tr>\n",
              "      <th>3</th>\n",
              "      <td>3</td>\n",
              "      <td>US</td>\n",
              "      <td>Pineapple rind, lemon pith and orange blossom ...</td>\n",
              "      <td>Reserve Late Harvest</td>\n",
              "      <td>87</td>\n",
              "      <td>13.0</td>\n",
              "      <td>Michigan</td>\n",
              "      <td>Lake Michigan Shore</td>\n",
              "      <td>NaN</td>\n",
              "      <td>Alexander Peartree</td>\n",
              "      <td>NaN</td>\n",
              "      <td>St. Julian 2013 Reserve Late Harvest Riesling ...</td>\n",
              "      <td>Riesling</td>\n",
              "      <td>St. Julian</td>\n",
              "    </tr>\n",
              "    <tr>\n",
              "      <th>4</th>\n",
              "      <td>4</td>\n",
              "      <td>US</td>\n",
              "      <td>Much like the regular bottling from 2012, this...</td>\n",
              "      <td>Vintner's Reserve Wild Child Block</td>\n",
              "      <td>87</td>\n",
              "      <td>65.0</td>\n",
              "      <td>Oregon</td>\n",
              "      <td>Willamette Valley</td>\n",
              "      <td>Willamette Valley</td>\n",
              "      <td>Paul Gregutt</td>\n",
              "      <td>@paulgwine</td>\n",
              "      <td>Sweet Cheeks 2012 Vintner's Reserve Wild Child...</td>\n",
              "      <td>Pinot Noir</td>\n",
              "      <td>Sweet Cheeks</td>\n",
              "    </tr>\n",
              "  </tbody>\n",
              "</table>\n",
              "</div>\n",
              "    <div class=\"colab-df-buttons\">\n",
              "\n",
              "  <div class=\"colab-df-container\">\n",
              "    <button class=\"colab-df-convert\" onclick=\"convertToInteractive('df-647c6ded-9308-4772-9816-c16bcc52d0d7')\"\n",
              "            title=\"Convert this dataframe to an interactive table.\"\n",
              "            style=\"display:none;\">\n",
              "\n",
              "  <svg xmlns=\"http://www.w3.org/2000/svg\" height=\"24px\" viewBox=\"0 -960 960 960\">\n",
              "    <path d=\"M120-120v-720h720v720H120Zm60-500h600v-160H180v160Zm220 220h160v-160H400v160Zm0 220h160v-160H400v160ZM180-400h160v-160H180v160Zm440 0h160v-160H620v160ZM180-180h160v-160H180v160Zm440 0h160v-160H620v160Z\"/>\n",
              "  </svg>\n",
              "    </button>\n",
              "\n",
              "  <style>\n",
              "    .colab-df-container {\n",
              "      display:flex;\n",
              "      gap: 12px;\n",
              "    }\n",
              "\n",
              "    .colab-df-convert {\n",
              "      background-color: #E8F0FE;\n",
              "      border: none;\n",
              "      border-radius: 50%;\n",
              "      cursor: pointer;\n",
              "      display: none;\n",
              "      fill: #1967D2;\n",
              "      height: 32px;\n",
              "      padding: 0 0 0 0;\n",
              "      width: 32px;\n",
              "    }\n",
              "\n",
              "    .colab-df-convert:hover {\n",
              "      background-color: #E2EBFA;\n",
              "      box-shadow: 0px 1px 2px rgba(60, 64, 67, 0.3), 0px 1px 3px 1px rgba(60, 64, 67, 0.15);\n",
              "      fill: #174EA6;\n",
              "    }\n",
              "\n",
              "    .colab-df-buttons div {\n",
              "      margin-bottom: 4px;\n",
              "    }\n",
              "\n",
              "    [theme=dark] .colab-df-convert {\n",
              "      background-color: #3B4455;\n",
              "      fill: #D2E3FC;\n",
              "    }\n",
              "\n",
              "    [theme=dark] .colab-df-convert:hover {\n",
              "      background-color: #434B5C;\n",
              "      box-shadow: 0px 1px 3px 1px rgba(0, 0, 0, 0.15);\n",
              "      filter: drop-shadow(0px 1px 2px rgba(0, 0, 0, 0.3));\n",
              "      fill: #FFFFFF;\n",
              "    }\n",
              "  </style>\n",
              "\n",
              "    <script>\n",
              "      const buttonEl =\n",
              "        document.querySelector('#df-647c6ded-9308-4772-9816-c16bcc52d0d7 button.colab-df-convert');\n",
              "      buttonEl.style.display =\n",
              "        google.colab.kernel.accessAllowed ? 'block' : 'none';\n",
              "\n",
              "      async function convertToInteractive(key) {\n",
              "        const element = document.querySelector('#df-647c6ded-9308-4772-9816-c16bcc52d0d7');\n",
              "        const dataTable =\n",
              "          await google.colab.kernel.invokeFunction('convertToInteractive',\n",
              "                                                    [key], {});\n",
              "        if (!dataTable) return;\n",
              "\n",
              "        const docLinkHtml = 'Like what you see? Visit the ' +\n",
              "          '<a target=\"_blank\" href=https://colab.research.google.com/notebooks/data_table.ipynb>data table notebook</a>'\n",
              "          + ' to learn more about interactive tables.';\n",
              "        element.innerHTML = '';\n",
              "        dataTable['output_type'] = 'display_data';\n",
              "        await google.colab.output.renderOutput(dataTable, element);\n",
              "        const docLink = document.createElement('div');\n",
              "        docLink.innerHTML = docLinkHtml;\n",
              "        element.appendChild(docLink);\n",
              "      }\n",
              "    </script>\n",
              "  </div>\n",
              "\n",
              "\n",
              "<div id=\"df-9f6a5c34-10a0-4f81-ab35-cf46848777bc\">\n",
              "  <button class=\"colab-df-quickchart\" onclick=\"quickchart('df-9f6a5c34-10a0-4f81-ab35-cf46848777bc')\"\n",
              "            title=\"Suggest charts\"\n",
              "            style=\"display:none;\">\n",
              "\n",
              "<svg xmlns=\"http://www.w3.org/2000/svg\" height=\"24px\"viewBox=\"0 0 24 24\"\n",
              "     width=\"24px\">\n",
              "    <g>\n",
              "        <path d=\"M19 3H5c-1.1 0-2 .9-2 2v14c0 1.1.9 2 2 2h14c1.1 0 2-.9 2-2V5c0-1.1-.9-2-2-2zM9 17H7v-7h2v7zm4 0h-2V7h2v10zm4 0h-2v-4h2v4z\"/>\n",
              "    </g>\n",
              "</svg>\n",
              "  </button>\n",
              "\n",
              "<style>\n",
              "  .colab-df-quickchart {\n",
              "      --bg-color: #E8F0FE;\n",
              "      --fill-color: #1967D2;\n",
              "      --hover-bg-color: #E2EBFA;\n",
              "      --hover-fill-color: #174EA6;\n",
              "      --disabled-fill-color: #AAA;\n",
              "      --disabled-bg-color: #DDD;\n",
              "  }\n",
              "\n",
              "  [theme=dark] .colab-df-quickchart {\n",
              "      --bg-color: #3B4455;\n",
              "      --fill-color: #D2E3FC;\n",
              "      --hover-bg-color: #434B5C;\n",
              "      --hover-fill-color: #FFFFFF;\n",
              "      --disabled-bg-color: #3B4455;\n",
              "      --disabled-fill-color: #666;\n",
              "  }\n",
              "\n",
              "  .colab-df-quickchart {\n",
              "    background-color: var(--bg-color);\n",
              "    border: none;\n",
              "    border-radius: 50%;\n",
              "    cursor: pointer;\n",
              "    display: none;\n",
              "    fill: var(--fill-color);\n",
              "    height: 32px;\n",
              "    padding: 0;\n",
              "    width: 32px;\n",
              "  }\n",
              "\n",
              "  .colab-df-quickchart:hover {\n",
              "    background-color: var(--hover-bg-color);\n",
              "    box-shadow: 0 1px 2px rgba(60, 64, 67, 0.3), 0 1px 3px 1px rgba(60, 64, 67, 0.15);\n",
              "    fill: var(--button-hover-fill-color);\n",
              "  }\n",
              "\n",
              "  .colab-df-quickchart-complete:disabled,\n",
              "  .colab-df-quickchart-complete:disabled:hover {\n",
              "    background-color: var(--disabled-bg-color);\n",
              "    fill: var(--disabled-fill-color);\n",
              "    box-shadow: none;\n",
              "  }\n",
              "\n",
              "  .colab-df-spinner {\n",
              "    border: 2px solid var(--fill-color);\n",
              "    border-color: transparent;\n",
              "    border-bottom-color: var(--fill-color);\n",
              "    animation:\n",
              "      spin 1s steps(1) infinite;\n",
              "  }\n",
              "\n",
              "  @keyframes spin {\n",
              "    0% {\n",
              "      border-color: transparent;\n",
              "      border-bottom-color: var(--fill-color);\n",
              "      border-left-color: var(--fill-color);\n",
              "    }\n",
              "    20% {\n",
              "      border-color: transparent;\n",
              "      border-left-color: var(--fill-color);\n",
              "      border-top-color: var(--fill-color);\n",
              "    }\n",
              "    30% {\n",
              "      border-color: transparent;\n",
              "      border-left-color: var(--fill-color);\n",
              "      border-top-color: var(--fill-color);\n",
              "      border-right-color: var(--fill-color);\n",
              "    }\n",
              "    40% {\n",
              "      border-color: transparent;\n",
              "      border-right-color: var(--fill-color);\n",
              "      border-top-color: var(--fill-color);\n",
              "    }\n",
              "    60% {\n",
              "      border-color: transparent;\n",
              "      border-right-color: var(--fill-color);\n",
              "    }\n",
              "    80% {\n",
              "      border-color: transparent;\n",
              "      border-right-color: var(--fill-color);\n",
              "      border-bottom-color: var(--fill-color);\n",
              "    }\n",
              "    90% {\n",
              "      border-color: transparent;\n",
              "      border-bottom-color: var(--fill-color);\n",
              "    }\n",
              "  }\n",
              "</style>\n",
              "\n",
              "  <script>\n",
              "    async function quickchart(key) {\n",
              "      const quickchartButtonEl =\n",
              "        document.querySelector('#' + key + ' button');\n",
              "      quickchartButtonEl.disabled = true;  // To prevent multiple clicks.\n",
              "      quickchartButtonEl.classList.add('colab-df-spinner');\n",
              "      try {\n",
              "        const charts = await google.colab.kernel.invokeFunction(\n",
              "            'suggestCharts', [key], {});\n",
              "      } catch (error) {\n",
              "        console.error('Error during call to suggestCharts:', error);\n",
              "      }\n",
              "      quickchartButtonEl.classList.remove('colab-df-spinner');\n",
              "      quickchartButtonEl.classList.add('colab-df-quickchart-complete');\n",
              "    }\n",
              "    (() => {\n",
              "      let quickchartButtonEl =\n",
              "        document.querySelector('#df-9f6a5c34-10a0-4f81-ab35-cf46848777bc button');\n",
              "      quickchartButtonEl.style.display =\n",
              "        google.colab.kernel.accessAllowed ? 'block' : 'none';\n",
              "    })();\n",
              "  </script>\n",
              "</div>\n",
              "\n",
              "    </div>\n",
              "  </div>\n"
            ],
            "application/vnd.google.colaboratory.intrinsic+json": {
              "type": "dataframe",
              "variable_name": "wine_data"
            }
          },
          "metadata": {},
          "execution_count": 6
        }
      ],
      "source": [
        "wine_data.head()"
      ]
    },
    {
      "cell_type": "code",
      "source": [
        "wine_data.description[0]"
      ],
      "metadata": {
        "colab": {
          "base_uri": "https://localhost:8080/",
          "height": 52
        },
        "id": "XgRJpP3gMRFx",
        "outputId": "cc2b2b56-7260-4282-f3d0-bf9307e5d0e2"
      },
      "execution_count": null,
      "outputs": [
        {
          "output_type": "execute_result",
          "data": {
            "text/plain": [
              "\"Aromas include tropical fruit, broom, brimstone and dried herb. The palate isn't overly expressive, offering unripened apple, citrus and dried sage alongside brisk acidity.\""
            ],
            "application/vnd.google.colaboratory.intrinsic+json": {
              "type": "string"
            }
          },
          "metadata": {},
          "execution_count": 7
        }
      ]
    },
    {
      "cell_type": "code",
      "source": [
        "len(wine_data)"
      ],
      "metadata": {
        "colab": {
          "base_uri": "https://localhost:8080/"
        },
        "id": "YPVmAjqh7xKS",
        "outputId": "478833c5-9335-42f8-a3ab-538b61dbd851"
      },
      "execution_count": null,
      "outputs": [
        {
          "output_type": "execute_result",
          "data": {
            "text/plain": [
              "129971"
            ]
          },
          "metadata": {},
          "execution_count": 10
        }
      ]
    },
    {
      "cell_type": "code",
      "source": [
        "wine_data.description[1]"
      ],
      "metadata": {
        "colab": {
          "base_uri": "https://localhost:8080/",
          "height": 73
        },
        "id": "8BsZPAvjhY9D",
        "outputId": "41476edf-2519-46f8-f9d0-c292c2491df5"
      },
      "execution_count": null,
      "outputs": [
        {
          "output_type": "execute_result",
          "data": {
            "text/plain": [
              "\"This is ripe and fruity, a wine that is smooth while still structured. Firm tannins are filled out with juicy red berry fruits and freshened with acidity. It's  already drinkable, although it will certainly be better from 2016.\""
            ],
            "application/vnd.google.colaboratory.intrinsic+json": {
              "type": "string"
            }
          },
          "metadata": {},
          "execution_count": 43
        }
      ]
    },
    {
      "cell_type": "code",
      "execution_count": null,
      "metadata": {
        "colab": {
          "base_uri": "https://localhost:8080/"
        },
        "id": "HhRwhknM5cN4",
        "outputId": "83e8e941-06de-4f26-85aa-84e01aba9350"
      },
      "outputs": [
        {
          "output_type": "execute_result",
          "data": {
            "text/plain": [
              "21"
            ]
          },
          "metadata": {},
          "execution_count": 11
        }
      ],
      "source": [
        "len(wine_data.points.unique())"
      ]
    },
    {
      "cell_type": "markdown",
      "metadata": {
        "id": "twM2sXrMsBNh"
      },
      "source": [
        "Project:\n",
        "\n",
        "- the target variable is the \"points\"\n",
        "- the input variables include the \"description\"\n",
        "\n",
        "Critical Thinking: do we need more input features?"
      ]
    },
    {
      "cell_type": "code",
      "execution_count": null,
      "metadata": {
        "id": "QASk-02EuezZ"
      },
      "outputs": [],
      "source": [
        "wine_subset = wine_data[['description','points']]\n",
        "# if you need to subset the big data\n",
        "# wines_subset = wine_subset.sample(20000,random_state=310).reset_index(drop=True)"
      ]
    },
    {
      "cell_type": "code",
      "source": [
        "reviews = wine_data['description'].values"
      ],
      "metadata": {
        "id": "Zj12LknV8LaW"
      },
      "execution_count": null,
      "outputs": []
    },
    {
      "cell_type": "code",
      "source": [
        "reviews[2]"
      ],
      "metadata": {
        "colab": {
          "base_uri": "https://localhost:8080/",
          "height": 52
        },
        "id": "VCH8ZvoU8Q9z",
        "outputId": "0d781560-b0fa-435a-95a8-be8de550af48"
      },
      "execution_count": null,
      "outputs": [
        {
          "output_type": "execute_result",
          "data": {
            "text/plain": [
              "'Tart and snappy, the flavors of lime flesh and rind dominate. Some green pineapple pokes through, with crisp acidity underscoring the flavors. The wine was all stainless-steel fermented.'"
            ],
            "application/vnd.google.colaboratory.intrinsic+json": {
              "type": "string"
            }
          },
          "metadata": {},
          "execution_count": 10
        }
      ]
    },
    {
      "cell_type": "code",
      "source": [],
      "metadata": {
        "id": "9oDE784lhm6R"
      },
      "execution_count": null,
      "outputs": []
    },
    {
      "cell_type": "markdown",
      "source": [
        "# Naive Tokenization\n",
        "\n",
        "It takes too long to run!"
      ],
      "metadata": {
        "id": "b5g33-JkpL1z"
      }
    },
    {
      "cell_type": "code",
      "source": [
        "len(reviews)"
      ],
      "metadata": {
        "colab": {
          "base_uri": "https://localhost:8080/"
        },
        "id": "ZXBPPUOJpVAQ",
        "outputId": "658b155c-d980-4ec2-c43d-56948c3c313e"
      },
      "execution_count": null,
      "outputs": [
        {
          "output_type": "execute_result",
          "data": {
            "text/plain": [
              "129971"
            ]
          },
          "metadata": {},
          "execution_count": 12
        }
      ]
    },
    {
      "cell_type": "code",
      "source": [
        "allreviews = [] # we designate a variable for holding the pre-processed reviews\n",
        "for review in reviews:\n",
        "    txt = re.sub('[^a-zA-Z0-9 ]','',review) # removes all special characters and punctuation\n",
        "    txt = txt.lower() # we make all letters lower case\n",
        "    txt = txt.split() # extracting the different words\n",
        "    txt = [word for word in txt if not word in set(stopwords.words('english'))] # we throw all the non-important words\n",
        "    #txt = [stemmer.stem(word) for word in txt] # this would be the application of Porter Stemmer\n",
        "    txt = [lemmatizer.lemmatize(word) for word in txt] # we make unique identifiers to words that have common roots\n",
        "    txt = ' '.join(txt) # we assemble back the remaing rooted words into a pre-processed review\n",
        "    allreviews.append(txt)"
      ],
      "metadata": {
        "colab": {
          "base_uri": "https://localhost:8080/",
          "height": 391
        },
        "id": "cypqQXN18J0T",
        "outputId": "1b2a96a9-bf49-465a-cd5e-60cb05257e01"
      },
      "execution_count": null,
      "outputs": [
        {
          "output_type": "error",
          "ename": "KeyboardInterrupt",
          "evalue": "",
          "traceback": [
            "\u001b[0;31m---------------------------------------------------------------------------\u001b[0m",
            "\u001b[0;31mKeyboardInterrupt\u001b[0m                         Traceback (most recent call last)",
            "\u001b[0;32m<ipython-input-19-b9ca9a734b1f>\u001b[0m in \u001b[0;36m<cell line: 2>\u001b[0;34m()\u001b[0m\n\u001b[1;32m      4\u001b[0m     \u001b[0mtxt\u001b[0m \u001b[0;34m=\u001b[0m \u001b[0mtxt\u001b[0m\u001b[0;34m.\u001b[0m\u001b[0mlower\u001b[0m\u001b[0;34m(\u001b[0m\u001b[0;34m)\u001b[0m \u001b[0;31m# we make all letters lower case\u001b[0m\u001b[0;34m\u001b[0m\u001b[0;34m\u001b[0m\u001b[0m\n\u001b[1;32m      5\u001b[0m     \u001b[0mtxt\u001b[0m \u001b[0;34m=\u001b[0m \u001b[0mtxt\u001b[0m\u001b[0;34m.\u001b[0m\u001b[0msplit\u001b[0m\u001b[0;34m(\u001b[0m\u001b[0;34m)\u001b[0m \u001b[0;31m# extracting the different words\u001b[0m\u001b[0;34m\u001b[0m\u001b[0;34m\u001b[0m\u001b[0m\n\u001b[0;32m----> 6\u001b[0;31m     \u001b[0mtxt\u001b[0m \u001b[0;34m=\u001b[0m \u001b[0;34m[\u001b[0m\u001b[0mword\u001b[0m \u001b[0;32mfor\u001b[0m \u001b[0mword\u001b[0m \u001b[0;32min\u001b[0m \u001b[0mtxt\u001b[0m \u001b[0;32mif\u001b[0m \u001b[0;32mnot\u001b[0m \u001b[0mword\u001b[0m \u001b[0;32min\u001b[0m \u001b[0mset\u001b[0m\u001b[0;34m(\u001b[0m\u001b[0mstopwords\u001b[0m\u001b[0;34m.\u001b[0m\u001b[0mwords\u001b[0m\u001b[0;34m(\u001b[0m\u001b[0;34m'english'\u001b[0m\u001b[0;34m)\u001b[0m\u001b[0;34m)\u001b[0m\u001b[0;34m]\u001b[0m \u001b[0;31m# we throw all the non-important words\u001b[0m\u001b[0;34m\u001b[0m\u001b[0;34m\u001b[0m\u001b[0m\n\u001b[0m\u001b[1;32m      7\u001b[0m     \u001b[0;31m#txt = [stemmer.stem(word) for word in txt] # this would be the application of Porter Stemmer\u001b[0m\u001b[0;34m\u001b[0m\u001b[0;34m\u001b[0m\u001b[0m\n\u001b[1;32m      8\u001b[0m     \u001b[0mtxt\u001b[0m \u001b[0;34m=\u001b[0m \u001b[0;34m[\u001b[0m\u001b[0mlemmatizer\u001b[0m\u001b[0;34m.\u001b[0m\u001b[0mlemmatize\u001b[0m\u001b[0;34m(\u001b[0m\u001b[0mword\u001b[0m\u001b[0;34m)\u001b[0m \u001b[0;32mfor\u001b[0m \u001b[0mword\u001b[0m \u001b[0;32min\u001b[0m \u001b[0mtxt\u001b[0m\u001b[0;34m]\u001b[0m \u001b[0;31m# we make unique identifiers to words that have common roots\u001b[0m\u001b[0;34m\u001b[0m\u001b[0;34m\u001b[0m\u001b[0m\n",
            "\u001b[0;32m<ipython-input-19-b9ca9a734b1f>\u001b[0m in \u001b[0;36m<listcomp>\u001b[0;34m(.0)\u001b[0m\n\u001b[1;32m      4\u001b[0m     \u001b[0mtxt\u001b[0m \u001b[0;34m=\u001b[0m \u001b[0mtxt\u001b[0m\u001b[0;34m.\u001b[0m\u001b[0mlower\u001b[0m\u001b[0;34m(\u001b[0m\u001b[0;34m)\u001b[0m \u001b[0;31m# we make all letters lower case\u001b[0m\u001b[0;34m\u001b[0m\u001b[0;34m\u001b[0m\u001b[0m\n\u001b[1;32m      5\u001b[0m     \u001b[0mtxt\u001b[0m \u001b[0;34m=\u001b[0m \u001b[0mtxt\u001b[0m\u001b[0;34m.\u001b[0m\u001b[0msplit\u001b[0m\u001b[0;34m(\u001b[0m\u001b[0;34m)\u001b[0m \u001b[0;31m# extracting the different words\u001b[0m\u001b[0;34m\u001b[0m\u001b[0;34m\u001b[0m\u001b[0m\n\u001b[0;32m----> 6\u001b[0;31m     \u001b[0mtxt\u001b[0m \u001b[0;34m=\u001b[0m \u001b[0;34m[\u001b[0m\u001b[0mword\u001b[0m \u001b[0;32mfor\u001b[0m \u001b[0mword\u001b[0m \u001b[0;32min\u001b[0m \u001b[0mtxt\u001b[0m \u001b[0;32mif\u001b[0m \u001b[0;32mnot\u001b[0m \u001b[0mword\u001b[0m \u001b[0;32min\u001b[0m \u001b[0mset\u001b[0m\u001b[0;34m(\u001b[0m\u001b[0mstopwords\u001b[0m\u001b[0;34m.\u001b[0m\u001b[0mwords\u001b[0m\u001b[0;34m(\u001b[0m\u001b[0;34m'english'\u001b[0m\u001b[0;34m)\u001b[0m\u001b[0;34m)\u001b[0m\u001b[0;34m]\u001b[0m \u001b[0;31m# we throw all the non-important words\u001b[0m\u001b[0;34m\u001b[0m\u001b[0;34m\u001b[0m\u001b[0m\n\u001b[0m\u001b[1;32m      7\u001b[0m     \u001b[0;31m#txt = [stemmer.stem(word) for word in txt] # this would be the application of Porter Stemmer\u001b[0m\u001b[0;34m\u001b[0m\u001b[0;34m\u001b[0m\u001b[0m\n\u001b[1;32m      8\u001b[0m     \u001b[0mtxt\u001b[0m \u001b[0;34m=\u001b[0m \u001b[0;34m[\u001b[0m\u001b[0mlemmatizer\u001b[0m\u001b[0;34m.\u001b[0m\u001b[0mlemmatize\u001b[0m\u001b[0;34m(\u001b[0m\u001b[0mword\u001b[0m\u001b[0;34m)\u001b[0m \u001b[0;32mfor\u001b[0m \u001b[0mword\u001b[0m \u001b[0;32min\u001b[0m \u001b[0mtxt\u001b[0m\u001b[0;34m]\u001b[0m \u001b[0;31m# we make unique identifiers to words that have common roots\u001b[0m\u001b[0;34m\u001b[0m\u001b[0;34m\u001b[0m\u001b[0m\n",
            "\u001b[0;32m/usr/local/lib/python3.10/dist-packages/nltk/corpus/reader/wordlist.py\u001b[0m in \u001b[0;36mwords\u001b[0;34m(self, fileids, ignore_lines_startswith)\u001b[0m\n\u001b[1;32m     19\u001b[0m         return [\n\u001b[1;32m     20\u001b[0m             \u001b[0mline\u001b[0m\u001b[0;34m\u001b[0m\u001b[0;34m\u001b[0m\u001b[0m\n\u001b[0;32m---> 21\u001b[0;31m             \u001b[0;32mfor\u001b[0m \u001b[0mline\u001b[0m \u001b[0;32min\u001b[0m \u001b[0mline_tokenize\u001b[0m\u001b[0;34m(\u001b[0m\u001b[0mself\u001b[0m\u001b[0;34m.\u001b[0m\u001b[0mraw\u001b[0m\u001b[0;34m(\u001b[0m\u001b[0mfileids\u001b[0m\u001b[0;34m)\u001b[0m\u001b[0;34m)\u001b[0m\u001b[0;34m\u001b[0m\u001b[0;34m\u001b[0m\u001b[0m\n\u001b[0m\u001b[1;32m     22\u001b[0m             \u001b[0;32mif\u001b[0m \u001b[0;32mnot\u001b[0m \u001b[0mline\u001b[0m\u001b[0;34m.\u001b[0m\u001b[0mstartswith\u001b[0m\u001b[0;34m(\u001b[0m\u001b[0mignore_lines_startswith\u001b[0m\u001b[0;34m)\u001b[0m\u001b[0;34m\u001b[0m\u001b[0;34m\u001b[0m\u001b[0m\n\u001b[1;32m     23\u001b[0m         ]\n",
            "\u001b[0;32m/usr/local/lib/python3.10/dist-packages/nltk/corpus/reader/api.py\u001b[0m in \u001b[0;36mraw\u001b[0;34m(self, fileids)\u001b[0m\n\u001b[1;32m    216\u001b[0m         \u001b[0mcontents\u001b[0m \u001b[0;34m=\u001b[0m \u001b[0;34m[\u001b[0m\u001b[0;34m]\u001b[0m\u001b[0;34m\u001b[0m\u001b[0;34m\u001b[0m\u001b[0m\n\u001b[1;32m    217\u001b[0m         \u001b[0;32mfor\u001b[0m \u001b[0mf\u001b[0m \u001b[0;32min\u001b[0m \u001b[0mfileids\u001b[0m\u001b[0;34m:\u001b[0m\u001b[0;34m\u001b[0m\u001b[0;34m\u001b[0m\u001b[0m\n\u001b[0;32m--> 218\u001b[0;31m             \u001b[0;32mwith\u001b[0m \u001b[0mself\u001b[0m\u001b[0;34m.\u001b[0m\u001b[0mopen\u001b[0m\u001b[0;34m(\u001b[0m\u001b[0mf\u001b[0m\u001b[0;34m)\u001b[0m \u001b[0;32mas\u001b[0m \u001b[0mfp\u001b[0m\u001b[0;34m:\u001b[0m\u001b[0;34m\u001b[0m\u001b[0;34m\u001b[0m\u001b[0m\n\u001b[0m\u001b[1;32m    219\u001b[0m                 \u001b[0mcontents\u001b[0m\u001b[0;34m.\u001b[0m\u001b[0mappend\u001b[0m\u001b[0;34m(\u001b[0m\u001b[0mfp\u001b[0m\u001b[0;34m.\u001b[0m\u001b[0mread\u001b[0m\u001b[0;34m(\u001b[0m\u001b[0;34m)\u001b[0m\u001b[0;34m)\u001b[0m\u001b[0;34m\u001b[0m\u001b[0;34m\u001b[0m\u001b[0m\n\u001b[1;32m    220\u001b[0m         \u001b[0;32mreturn\u001b[0m \u001b[0mconcat\u001b[0m\u001b[0;34m(\u001b[0m\u001b[0mcontents\u001b[0m\u001b[0;34m)\u001b[0m\u001b[0;34m\u001b[0m\u001b[0;34m\u001b[0m\u001b[0m\n",
            "\u001b[0;32m/usr/local/lib/python3.10/dist-packages/nltk/corpus/reader/api.py\u001b[0m in \u001b[0;36mopen\u001b[0;34m(self, file)\u001b[0m\n\u001b[1;32m    229\u001b[0m         \"\"\"\n\u001b[1;32m    230\u001b[0m         \u001b[0mencoding\u001b[0m \u001b[0;34m=\u001b[0m \u001b[0mself\u001b[0m\u001b[0;34m.\u001b[0m\u001b[0mencoding\u001b[0m\u001b[0;34m(\u001b[0m\u001b[0mfile\u001b[0m\u001b[0;34m)\u001b[0m\u001b[0;34m\u001b[0m\u001b[0;34m\u001b[0m\u001b[0m\n\u001b[0;32m--> 231\u001b[0;31m         \u001b[0mstream\u001b[0m \u001b[0;34m=\u001b[0m \u001b[0mself\u001b[0m\u001b[0;34m.\u001b[0m\u001b[0m_root\u001b[0m\u001b[0;34m.\u001b[0m\u001b[0mjoin\u001b[0m\u001b[0;34m(\u001b[0m\u001b[0mfile\u001b[0m\u001b[0;34m)\u001b[0m\u001b[0;34m.\u001b[0m\u001b[0mopen\u001b[0m\u001b[0;34m(\u001b[0m\u001b[0mencoding\u001b[0m\u001b[0;34m)\u001b[0m\u001b[0;34m\u001b[0m\u001b[0;34m\u001b[0m\u001b[0m\n\u001b[0m\u001b[1;32m    232\u001b[0m         \u001b[0;32mreturn\u001b[0m \u001b[0mstream\u001b[0m\u001b[0;34m\u001b[0m\u001b[0;34m\u001b[0m\u001b[0m\n\u001b[1;32m    233\u001b[0m \u001b[0;34m\u001b[0m\u001b[0m\n",
            "\u001b[0;32m/usr/local/lib/python3.10/dist-packages/nltk/data.py\u001b[0m in \u001b[0;36mjoin\u001b[0;34m(self, fileid)\u001b[0m\n\u001b[1;32m    332\u001b[0m     \u001b[0;32mdef\u001b[0m \u001b[0mjoin\u001b[0m\u001b[0;34m(\u001b[0m\u001b[0mself\u001b[0m\u001b[0;34m,\u001b[0m \u001b[0mfileid\u001b[0m\u001b[0;34m)\u001b[0m\u001b[0;34m:\u001b[0m\u001b[0;34m\u001b[0m\u001b[0;34m\u001b[0m\u001b[0m\n\u001b[1;32m    333\u001b[0m         \u001b[0m_path\u001b[0m \u001b[0;34m=\u001b[0m \u001b[0mos\u001b[0m\u001b[0;34m.\u001b[0m\u001b[0mpath\u001b[0m\u001b[0;34m.\u001b[0m\u001b[0mjoin\u001b[0m\u001b[0;34m(\u001b[0m\u001b[0mself\u001b[0m\u001b[0;34m.\u001b[0m\u001b[0m_path\u001b[0m\u001b[0;34m,\u001b[0m \u001b[0mfileid\u001b[0m\u001b[0;34m)\u001b[0m\u001b[0;34m\u001b[0m\u001b[0;34m\u001b[0m\u001b[0m\n\u001b[0;32m--> 334\u001b[0;31m         \u001b[0;32mreturn\u001b[0m \u001b[0mFileSystemPathPointer\u001b[0m\u001b[0;34m(\u001b[0m\u001b[0m_path\u001b[0m\u001b[0;34m)\u001b[0m\u001b[0;34m\u001b[0m\u001b[0;34m\u001b[0m\u001b[0m\n\u001b[0m\u001b[1;32m    335\u001b[0m \u001b[0;34m\u001b[0m\u001b[0m\n\u001b[1;32m    336\u001b[0m     \u001b[0;32mdef\u001b[0m \u001b[0m__repr__\u001b[0m\u001b[0;34m(\u001b[0m\u001b[0mself\u001b[0m\u001b[0;34m)\u001b[0m\u001b[0;34m:\u001b[0m\u001b[0;34m\u001b[0m\u001b[0;34m\u001b[0m\u001b[0m\n",
            "\u001b[0;32m/usr/local/lib/python3.10/dist-packages/nltk/compat.py\u001b[0m in \u001b[0;36m_decorator\u001b[0;34m(*args, **kwargs)\u001b[0m\n\u001b[1;32m     39\u001b[0m     \u001b[0;32mdef\u001b[0m \u001b[0m_decorator\u001b[0m\u001b[0;34m(\u001b[0m\u001b[0;34m*\u001b[0m\u001b[0margs\u001b[0m\u001b[0;34m,\u001b[0m \u001b[0;34m**\u001b[0m\u001b[0mkwargs\u001b[0m\u001b[0;34m)\u001b[0m\u001b[0;34m:\u001b[0m\u001b[0;34m\u001b[0m\u001b[0;34m\u001b[0m\u001b[0m\n\u001b[1;32m     40\u001b[0m         \u001b[0margs\u001b[0m \u001b[0;34m=\u001b[0m \u001b[0;34m(\u001b[0m\u001b[0margs\u001b[0m\u001b[0;34m[\u001b[0m\u001b[0;36m0\u001b[0m\u001b[0;34m]\u001b[0m\u001b[0;34m,\u001b[0m \u001b[0madd_py3_data\u001b[0m\u001b[0;34m(\u001b[0m\u001b[0margs\u001b[0m\u001b[0;34m[\u001b[0m\u001b[0;36m1\u001b[0m\u001b[0;34m]\u001b[0m\u001b[0;34m)\u001b[0m\u001b[0;34m)\u001b[0m \u001b[0;34m+\u001b[0m \u001b[0margs\u001b[0m\u001b[0;34m[\u001b[0m\u001b[0;36m2\u001b[0m\u001b[0;34m:\u001b[0m\u001b[0;34m]\u001b[0m\u001b[0;34m\u001b[0m\u001b[0;34m\u001b[0m\u001b[0m\n\u001b[0;32m---> 41\u001b[0;31m         \u001b[0;32mreturn\u001b[0m \u001b[0minit_func\u001b[0m\u001b[0;34m(\u001b[0m\u001b[0;34m*\u001b[0m\u001b[0margs\u001b[0m\u001b[0;34m,\u001b[0m \u001b[0;34m**\u001b[0m\u001b[0mkwargs\u001b[0m\u001b[0;34m)\u001b[0m\u001b[0;34m\u001b[0m\u001b[0;34m\u001b[0m\u001b[0m\n\u001b[0m\u001b[1;32m     42\u001b[0m \u001b[0;34m\u001b[0m\u001b[0m\n\u001b[1;32m     43\u001b[0m     \u001b[0;32mreturn\u001b[0m \u001b[0mwraps\u001b[0m\u001b[0;34m(\u001b[0m\u001b[0minit_func\u001b[0m\u001b[0;34m)\u001b[0m\u001b[0;34m(\u001b[0m\u001b[0m_decorator\u001b[0m\u001b[0;34m)\u001b[0m\u001b[0;34m\u001b[0m\u001b[0;34m\u001b[0m\u001b[0m\n",
            "\u001b[0;32m/usr/local/lib/python3.10/dist-packages/nltk/data.py\u001b[0m in \u001b[0;36m__init__\u001b[0;34m(self, _path)\u001b[0m\n\u001b[1;32m    309\u001b[0m \u001b[0;34m\u001b[0m\u001b[0m\n\u001b[1;32m    310\u001b[0m         \u001b[0m_path\u001b[0m \u001b[0;34m=\u001b[0m \u001b[0mos\u001b[0m\u001b[0;34m.\u001b[0m\u001b[0mpath\u001b[0m\u001b[0;34m.\u001b[0m\u001b[0mabspath\u001b[0m\u001b[0;34m(\u001b[0m\u001b[0m_path\u001b[0m\u001b[0;34m)\u001b[0m\u001b[0;34m\u001b[0m\u001b[0;34m\u001b[0m\u001b[0m\n\u001b[0;32m--> 311\u001b[0;31m         \u001b[0;32mif\u001b[0m \u001b[0;32mnot\u001b[0m \u001b[0mos\u001b[0m\u001b[0;34m.\u001b[0m\u001b[0mpath\u001b[0m\u001b[0;34m.\u001b[0m\u001b[0mexists\u001b[0m\u001b[0;34m(\u001b[0m\u001b[0m_path\u001b[0m\u001b[0;34m)\u001b[0m\u001b[0;34m:\u001b[0m\u001b[0;34m\u001b[0m\u001b[0;34m\u001b[0m\u001b[0m\n\u001b[0m\u001b[1;32m    312\u001b[0m             \u001b[0;32mraise\u001b[0m \u001b[0mOSError\u001b[0m\u001b[0;34m(\u001b[0m\u001b[0;34m\"No such file or directory: %r\"\u001b[0m \u001b[0;34m%\u001b[0m \u001b[0m_path\u001b[0m\u001b[0;34m)\u001b[0m\u001b[0;34m\u001b[0m\u001b[0;34m\u001b[0m\u001b[0m\n\u001b[1;32m    313\u001b[0m         \u001b[0mself\u001b[0m\u001b[0;34m.\u001b[0m\u001b[0m_path\u001b[0m \u001b[0;34m=\u001b[0m \u001b[0m_path\u001b[0m\u001b[0;34m\u001b[0m\u001b[0;34m\u001b[0m\u001b[0m\n",
            "\u001b[0;32m/usr/lib/python3.10/genericpath.py\u001b[0m in \u001b[0;36mexists\u001b[0;34m(path)\u001b[0m\n\u001b[1;32m     17\u001b[0m     \u001b[0;34m\"\"\"Test whether a path exists.  Returns False for broken symbolic links\"\"\"\u001b[0m\u001b[0;34m\u001b[0m\u001b[0;34m\u001b[0m\u001b[0m\n\u001b[1;32m     18\u001b[0m     \u001b[0;32mtry\u001b[0m\u001b[0;34m:\u001b[0m\u001b[0;34m\u001b[0m\u001b[0;34m\u001b[0m\u001b[0m\n\u001b[0;32m---> 19\u001b[0;31m         \u001b[0mos\u001b[0m\u001b[0;34m.\u001b[0m\u001b[0mstat\u001b[0m\u001b[0;34m(\u001b[0m\u001b[0mpath\u001b[0m\u001b[0;34m)\u001b[0m\u001b[0;34m\u001b[0m\u001b[0;34m\u001b[0m\u001b[0m\n\u001b[0m\u001b[1;32m     20\u001b[0m     \u001b[0;32mexcept\u001b[0m \u001b[0;34m(\u001b[0m\u001b[0mOSError\u001b[0m\u001b[0;34m,\u001b[0m \u001b[0mValueError\u001b[0m\u001b[0;34m)\u001b[0m\u001b[0;34m:\u001b[0m\u001b[0;34m\u001b[0m\u001b[0;34m\u001b[0m\u001b[0m\n\u001b[1;32m     21\u001b[0m         \u001b[0;32mreturn\u001b[0m \u001b[0;32mFalse\u001b[0m\u001b[0;34m\u001b[0m\u001b[0;34m\u001b[0m\u001b[0m\n",
            "\u001b[0;31mKeyboardInterrupt\u001b[0m: "
          ]
        }
      ]
    },
    {
      "cell_type": "code",
      "source": [
        "wine_subset.head()"
      ],
      "metadata": {
        "colab": {
          "base_uri": "https://localhost:8080/",
          "height": 221
        },
        "id": "A5NZDwJ5NSAF",
        "outputId": "359fe79d-67db-4b8c-f945-e38c692e05a9"
      },
      "execution_count": null,
      "outputs": [
        {
          "output_type": "execute_result",
          "data": {
            "text/plain": [
              "                                         description  points\n",
              "0  Aromas include tropical fruit, broom, brimston...      87\n",
              "1  This is ripe and fruity, a wine that is smooth...      87\n",
              "2  Tart and snappy, the flavors of lime flesh and...      87\n",
              "3  Pineapple rind, lemon pith and orange blossom ...      87\n",
              "4  Much like the regular bottling from 2012, this...      87"
            ],
            "text/html": [
              "\n",
              "  <div id=\"df-c46d69d5-6768-4669-a5bc-a74f67aa55fd\" class=\"colab-df-container\">\n",
              "    <div>\n",
              "<style scoped>\n",
              "    .dataframe tbody tr th:only-of-type {\n",
              "        vertical-align: middle;\n",
              "    }\n",
              "\n",
              "    .dataframe tbody tr th {\n",
              "        vertical-align: top;\n",
              "    }\n",
              "\n",
              "    .dataframe thead th {\n",
              "        text-align: right;\n",
              "    }\n",
              "</style>\n",
              "<table border=\"1\" class=\"dataframe\">\n",
              "  <thead>\n",
              "    <tr style=\"text-align: right;\">\n",
              "      <th></th>\n",
              "      <th>description</th>\n",
              "      <th>points</th>\n",
              "    </tr>\n",
              "  </thead>\n",
              "  <tbody>\n",
              "    <tr>\n",
              "      <th>0</th>\n",
              "      <td>Aromas include tropical fruit, broom, brimston...</td>\n",
              "      <td>87</td>\n",
              "    </tr>\n",
              "    <tr>\n",
              "      <th>1</th>\n",
              "      <td>This is ripe and fruity, a wine that is smooth...</td>\n",
              "      <td>87</td>\n",
              "    </tr>\n",
              "    <tr>\n",
              "      <th>2</th>\n",
              "      <td>Tart and snappy, the flavors of lime flesh and...</td>\n",
              "      <td>87</td>\n",
              "    </tr>\n",
              "    <tr>\n",
              "      <th>3</th>\n",
              "      <td>Pineapple rind, lemon pith and orange blossom ...</td>\n",
              "      <td>87</td>\n",
              "    </tr>\n",
              "    <tr>\n",
              "      <th>4</th>\n",
              "      <td>Much like the regular bottling from 2012, this...</td>\n",
              "      <td>87</td>\n",
              "    </tr>\n",
              "  </tbody>\n",
              "</table>\n",
              "</div>\n",
              "    <div class=\"colab-df-buttons\">\n",
              "\n",
              "  <div class=\"colab-df-container\">\n",
              "    <button class=\"colab-df-convert\" onclick=\"convertToInteractive('df-c46d69d5-6768-4669-a5bc-a74f67aa55fd')\"\n",
              "            title=\"Convert this dataframe to an interactive table.\"\n",
              "            style=\"display:none;\">\n",
              "\n",
              "  <svg xmlns=\"http://www.w3.org/2000/svg\" height=\"24px\" viewBox=\"0 -960 960 960\">\n",
              "    <path d=\"M120-120v-720h720v720H120Zm60-500h600v-160H180v160Zm220 220h160v-160H400v160Zm0 220h160v-160H400v160ZM180-400h160v-160H180v160Zm440 0h160v-160H620v160ZM180-180h160v-160H180v160Zm440 0h160v-160H620v160Z\"/>\n",
              "  </svg>\n",
              "    </button>\n",
              "\n",
              "  <style>\n",
              "    .colab-df-container {\n",
              "      display:flex;\n",
              "      gap: 12px;\n",
              "    }\n",
              "\n",
              "    .colab-df-convert {\n",
              "      background-color: #E8F0FE;\n",
              "      border: none;\n",
              "      border-radius: 50%;\n",
              "      cursor: pointer;\n",
              "      display: none;\n",
              "      fill: #1967D2;\n",
              "      height: 32px;\n",
              "      padding: 0 0 0 0;\n",
              "      width: 32px;\n",
              "    }\n",
              "\n",
              "    .colab-df-convert:hover {\n",
              "      background-color: #E2EBFA;\n",
              "      box-shadow: 0px 1px 2px rgba(60, 64, 67, 0.3), 0px 1px 3px 1px rgba(60, 64, 67, 0.15);\n",
              "      fill: #174EA6;\n",
              "    }\n",
              "\n",
              "    .colab-df-buttons div {\n",
              "      margin-bottom: 4px;\n",
              "    }\n",
              "\n",
              "    [theme=dark] .colab-df-convert {\n",
              "      background-color: #3B4455;\n",
              "      fill: #D2E3FC;\n",
              "    }\n",
              "\n",
              "    [theme=dark] .colab-df-convert:hover {\n",
              "      background-color: #434B5C;\n",
              "      box-shadow: 0px 1px 3px 1px rgba(0, 0, 0, 0.15);\n",
              "      filter: drop-shadow(0px 1px 2px rgba(0, 0, 0, 0.3));\n",
              "      fill: #FFFFFF;\n",
              "    }\n",
              "  </style>\n",
              "\n",
              "    <script>\n",
              "      const buttonEl =\n",
              "        document.querySelector('#df-c46d69d5-6768-4669-a5bc-a74f67aa55fd button.colab-df-convert');\n",
              "      buttonEl.style.display =\n",
              "        google.colab.kernel.accessAllowed ? 'block' : 'none';\n",
              "\n",
              "      async function convertToInteractive(key) {\n",
              "        const element = document.querySelector('#df-c46d69d5-6768-4669-a5bc-a74f67aa55fd');\n",
              "        const dataTable =\n",
              "          await google.colab.kernel.invokeFunction('convertToInteractive',\n",
              "                                                    [key], {});\n",
              "        if (!dataTable) return;\n",
              "\n",
              "        const docLinkHtml = 'Like what you see? Visit the ' +\n",
              "          '<a target=\"_blank\" href=https://colab.research.google.com/notebooks/data_table.ipynb>data table notebook</a>'\n",
              "          + ' to learn more about interactive tables.';\n",
              "        element.innerHTML = '';\n",
              "        dataTable['output_type'] = 'display_data';\n",
              "        await google.colab.output.renderOutput(dataTable, element);\n",
              "        const docLink = document.createElement('div');\n",
              "        docLink.innerHTML = docLinkHtml;\n",
              "        element.appendChild(docLink);\n",
              "      }\n",
              "    </script>\n",
              "  </div>\n",
              "\n",
              "\n",
              "<div id=\"df-1eac9069-9f97-4c37-a845-9652a09efe37\">\n",
              "  <button class=\"colab-df-quickchart\" onclick=\"quickchart('df-1eac9069-9f97-4c37-a845-9652a09efe37')\"\n",
              "            title=\"Suggest charts\"\n",
              "            style=\"display:none;\">\n",
              "\n",
              "<svg xmlns=\"http://www.w3.org/2000/svg\" height=\"24px\"viewBox=\"0 0 24 24\"\n",
              "     width=\"24px\">\n",
              "    <g>\n",
              "        <path d=\"M19 3H5c-1.1 0-2 .9-2 2v14c0 1.1.9 2 2 2h14c1.1 0 2-.9 2-2V5c0-1.1-.9-2-2-2zM9 17H7v-7h2v7zm4 0h-2V7h2v10zm4 0h-2v-4h2v4z\"/>\n",
              "    </g>\n",
              "</svg>\n",
              "  </button>\n",
              "\n",
              "<style>\n",
              "  .colab-df-quickchart {\n",
              "      --bg-color: #E8F0FE;\n",
              "      --fill-color: #1967D2;\n",
              "      --hover-bg-color: #E2EBFA;\n",
              "      --hover-fill-color: #174EA6;\n",
              "      --disabled-fill-color: #AAA;\n",
              "      --disabled-bg-color: #DDD;\n",
              "  }\n",
              "\n",
              "  [theme=dark] .colab-df-quickchart {\n",
              "      --bg-color: #3B4455;\n",
              "      --fill-color: #D2E3FC;\n",
              "      --hover-bg-color: #434B5C;\n",
              "      --hover-fill-color: #FFFFFF;\n",
              "      --disabled-bg-color: #3B4455;\n",
              "      --disabled-fill-color: #666;\n",
              "  }\n",
              "\n",
              "  .colab-df-quickchart {\n",
              "    background-color: var(--bg-color);\n",
              "    border: none;\n",
              "    border-radius: 50%;\n",
              "    cursor: pointer;\n",
              "    display: none;\n",
              "    fill: var(--fill-color);\n",
              "    height: 32px;\n",
              "    padding: 0;\n",
              "    width: 32px;\n",
              "  }\n",
              "\n",
              "  .colab-df-quickchart:hover {\n",
              "    background-color: var(--hover-bg-color);\n",
              "    box-shadow: 0 1px 2px rgba(60, 64, 67, 0.3), 0 1px 3px 1px rgba(60, 64, 67, 0.15);\n",
              "    fill: var(--button-hover-fill-color);\n",
              "  }\n",
              "\n",
              "  .colab-df-quickchart-complete:disabled,\n",
              "  .colab-df-quickchart-complete:disabled:hover {\n",
              "    background-color: var(--disabled-bg-color);\n",
              "    fill: var(--disabled-fill-color);\n",
              "    box-shadow: none;\n",
              "  }\n",
              "\n",
              "  .colab-df-spinner {\n",
              "    border: 2px solid var(--fill-color);\n",
              "    border-color: transparent;\n",
              "    border-bottom-color: var(--fill-color);\n",
              "    animation:\n",
              "      spin 1s steps(1) infinite;\n",
              "  }\n",
              "\n",
              "  @keyframes spin {\n",
              "    0% {\n",
              "      border-color: transparent;\n",
              "      border-bottom-color: var(--fill-color);\n",
              "      border-left-color: var(--fill-color);\n",
              "    }\n",
              "    20% {\n",
              "      border-color: transparent;\n",
              "      border-left-color: var(--fill-color);\n",
              "      border-top-color: var(--fill-color);\n",
              "    }\n",
              "    30% {\n",
              "      border-color: transparent;\n",
              "      border-left-color: var(--fill-color);\n",
              "      border-top-color: var(--fill-color);\n",
              "      border-right-color: var(--fill-color);\n",
              "    }\n",
              "    40% {\n",
              "      border-color: transparent;\n",
              "      border-right-color: var(--fill-color);\n",
              "      border-top-color: var(--fill-color);\n",
              "    }\n",
              "    60% {\n",
              "      border-color: transparent;\n",
              "      border-right-color: var(--fill-color);\n",
              "    }\n",
              "    80% {\n",
              "      border-color: transparent;\n",
              "      border-right-color: var(--fill-color);\n",
              "      border-bottom-color: var(--fill-color);\n",
              "    }\n",
              "    90% {\n",
              "      border-color: transparent;\n",
              "      border-bottom-color: var(--fill-color);\n",
              "    }\n",
              "  }\n",
              "</style>\n",
              "\n",
              "  <script>\n",
              "    async function quickchart(key) {\n",
              "      const quickchartButtonEl =\n",
              "        document.querySelector('#' + key + ' button');\n",
              "      quickchartButtonEl.disabled = true;  // To prevent multiple clicks.\n",
              "      quickchartButtonEl.classList.add('colab-df-spinner');\n",
              "      try {\n",
              "        const charts = await google.colab.kernel.invokeFunction(\n",
              "            'suggestCharts', [key], {});\n",
              "      } catch (error) {\n",
              "        console.error('Error during call to suggestCharts:', error);\n",
              "      }\n",
              "      quickchartButtonEl.classList.remove('colab-df-spinner');\n",
              "      quickchartButtonEl.classList.add('colab-df-quickchart-complete');\n",
              "    }\n",
              "    (() => {\n",
              "      let quickchartButtonEl =\n",
              "        document.querySelector('#df-1eac9069-9f97-4c37-a845-9652a09efe37 button');\n",
              "      quickchartButtonEl.style.display =\n",
              "        google.colab.kernel.accessAllowed ? 'block' : 'none';\n",
              "    })();\n",
              "  </script>\n",
              "</div>\n",
              "\n",
              "    </div>\n",
              "  </div>\n"
            ]
          },
          "metadata": {},
          "execution_count": 45
        }
      ]
    },
    {
      "cell_type": "code",
      "execution_count": null,
      "metadata": {
        "colab": {
          "base_uri": "https://localhost:8080/",
          "height": 191
        },
        "id": "Ek5a200e0-kj",
        "outputId": "af2bce7b-691c-4c57-9f75-df61180daed0"
      },
      "outputs": [
        {
          "output_type": "execute_result",
          "data": {
            "text/plain": [
              "                                         description  points\n",
              "0  This high-end bottling features fruit from 90+...      86\n",
              "1  Mild citrus and grassy aromas are quiet, while...      82\n",
              "2  Very ripe, rich and oaky, made solidly in the ...      88\n",
              "3  This medium-sweet wine is attractively perfume...      86"
            ],
            "text/html": [
              "\n",
              "  <div id=\"df-e615357e-ef6e-4fe1-bf36-e96b6e5040fc\" class=\"colab-df-container\">\n",
              "    <div>\n",
              "<style scoped>\n",
              "    .dataframe tbody tr th:only-of-type {\n",
              "        vertical-align: middle;\n",
              "    }\n",
              "\n",
              "    .dataframe tbody tr th {\n",
              "        vertical-align: top;\n",
              "    }\n",
              "\n",
              "    .dataframe thead th {\n",
              "        text-align: right;\n",
              "    }\n",
              "</style>\n",
              "<table border=\"1\" class=\"dataframe\">\n",
              "  <thead>\n",
              "    <tr style=\"text-align: right;\">\n",
              "      <th></th>\n",
              "      <th>description</th>\n",
              "      <th>points</th>\n",
              "    </tr>\n",
              "  </thead>\n",
              "  <tbody>\n",
              "    <tr>\n",
              "      <th>0</th>\n",
              "      <td>This high-end bottling features fruit from 90+...</td>\n",
              "      <td>86</td>\n",
              "    </tr>\n",
              "    <tr>\n",
              "      <th>1</th>\n",
              "      <td>Mild citrus and grassy aromas are quiet, while...</td>\n",
              "      <td>82</td>\n",
              "    </tr>\n",
              "    <tr>\n",
              "      <th>2</th>\n",
              "      <td>Very ripe, rich and oaky, made solidly in the ...</td>\n",
              "      <td>88</td>\n",
              "    </tr>\n",
              "    <tr>\n",
              "      <th>3</th>\n",
              "      <td>This medium-sweet wine is attractively perfume...</td>\n",
              "      <td>86</td>\n",
              "    </tr>\n",
              "  </tbody>\n",
              "</table>\n",
              "</div>\n",
              "    <div class=\"colab-df-buttons\">\n",
              "\n",
              "  <div class=\"colab-df-container\">\n",
              "    <button class=\"colab-df-convert\" onclick=\"convertToInteractive('df-e615357e-ef6e-4fe1-bf36-e96b6e5040fc')\"\n",
              "            title=\"Convert this dataframe to an interactive table.\"\n",
              "            style=\"display:none;\">\n",
              "\n",
              "  <svg xmlns=\"http://www.w3.org/2000/svg\" height=\"24px\" viewBox=\"0 -960 960 960\">\n",
              "    <path d=\"M120-120v-720h720v720H120Zm60-500h600v-160H180v160Zm220 220h160v-160H400v160Zm0 220h160v-160H400v160ZM180-400h160v-160H180v160Zm440 0h160v-160H620v160ZM180-180h160v-160H180v160Zm440 0h160v-160H620v160Z\"/>\n",
              "  </svg>\n",
              "    </button>\n",
              "\n",
              "  <style>\n",
              "    .colab-df-container {\n",
              "      display:flex;\n",
              "      gap: 12px;\n",
              "    }\n",
              "\n",
              "    .colab-df-convert {\n",
              "      background-color: #E8F0FE;\n",
              "      border: none;\n",
              "      border-radius: 50%;\n",
              "      cursor: pointer;\n",
              "      display: none;\n",
              "      fill: #1967D2;\n",
              "      height: 32px;\n",
              "      padding: 0 0 0 0;\n",
              "      width: 32px;\n",
              "    }\n",
              "\n",
              "    .colab-df-convert:hover {\n",
              "      background-color: #E2EBFA;\n",
              "      box-shadow: 0px 1px 2px rgba(60, 64, 67, 0.3), 0px 1px 3px 1px rgba(60, 64, 67, 0.15);\n",
              "      fill: #174EA6;\n",
              "    }\n",
              "\n",
              "    .colab-df-buttons div {\n",
              "      margin-bottom: 4px;\n",
              "    }\n",
              "\n",
              "    [theme=dark] .colab-df-convert {\n",
              "      background-color: #3B4455;\n",
              "      fill: #D2E3FC;\n",
              "    }\n",
              "\n",
              "    [theme=dark] .colab-df-convert:hover {\n",
              "      background-color: #434B5C;\n",
              "      box-shadow: 0px 1px 3px 1px rgba(0, 0, 0, 0.15);\n",
              "      filter: drop-shadow(0px 1px 2px rgba(0, 0, 0, 0.3));\n",
              "      fill: #FFFFFF;\n",
              "    }\n",
              "  </style>\n",
              "\n",
              "    <script>\n",
              "      const buttonEl =\n",
              "        document.querySelector('#df-e615357e-ef6e-4fe1-bf36-e96b6e5040fc button.colab-df-convert');\n",
              "      buttonEl.style.display =\n",
              "        google.colab.kernel.accessAllowed ? 'block' : 'none';\n",
              "\n",
              "      async function convertToInteractive(key) {\n",
              "        const element = document.querySelector('#df-e615357e-ef6e-4fe1-bf36-e96b6e5040fc');\n",
              "        const dataTable =\n",
              "          await google.colab.kernel.invokeFunction('convertToInteractive',\n",
              "                                                    [key], {});\n",
              "        if (!dataTable) return;\n",
              "\n",
              "        const docLinkHtml = 'Like what you see? Visit the ' +\n",
              "          '<a target=\"_blank\" href=https://colab.research.google.com/notebooks/data_table.ipynb>data table notebook</a>'\n",
              "          + ' to learn more about interactive tables.';\n",
              "        element.innerHTML = '';\n",
              "        dataTable['output_type'] = 'display_data';\n",
              "        await google.colab.output.renderOutput(dataTable, element);\n",
              "        const docLink = document.createElement('div');\n",
              "        docLink.innerHTML = docLinkHtml;\n",
              "        element.appendChild(docLink);\n",
              "      }\n",
              "    </script>\n",
              "  </div>\n",
              "\n",
              "\n",
              "<div id=\"df-7f7622c2-3e4e-48ac-88d0-b55524ad8f3e\">\n",
              "  <button class=\"colab-df-quickchart\" onclick=\"quickchart('df-7f7622c2-3e4e-48ac-88d0-b55524ad8f3e')\"\n",
              "            title=\"Suggest charts\"\n",
              "            style=\"display:none;\">\n",
              "\n",
              "<svg xmlns=\"http://www.w3.org/2000/svg\" height=\"24px\"viewBox=\"0 0 24 24\"\n",
              "     width=\"24px\">\n",
              "    <g>\n",
              "        <path d=\"M19 3H5c-1.1 0-2 .9-2 2v14c0 1.1.9 2 2 2h14c1.1 0 2-.9 2-2V5c0-1.1-.9-2-2-2zM9 17H7v-7h2v7zm4 0h-2V7h2v10zm4 0h-2v-4h2v4z\"/>\n",
              "    </g>\n",
              "</svg>\n",
              "  </button>\n",
              "\n",
              "<style>\n",
              "  .colab-df-quickchart {\n",
              "      --bg-color: #E8F0FE;\n",
              "      --fill-color: #1967D2;\n",
              "      --hover-bg-color: #E2EBFA;\n",
              "      --hover-fill-color: #174EA6;\n",
              "      --disabled-fill-color: #AAA;\n",
              "      --disabled-bg-color: #DDD;\n",
              "  }\n",
              "\n",
              "  [theme=dark] .colab-df-quickchart {\n",
              "      --bg-color: #3B4455;\n",
              "      --fill-color: #D2E3FC;\n",
              "      --hover-bg-color: #434B5C;\n",
              "      --hover-fill-color: #FFFFFF;\n",
              "      --disabled-bg-color: #3B4455;\n",
              "      --disabled-fill-color: #666;\n",
              "  }\n",
              "\n",
              "  .colab-df-quickchart {\n",
              "    background-color: var(--bg-color);\n",
              "    border: none;\n",
              "    border-radius: 50%;\n",
              "    cursor: pointer;\n",
              "    display: none;\n",
              "    fill: var(--fill-color);\n",
              "    height: 32px;\n",
              "    padding: 0;\n",
              "    width: 32px;\n",
              "  }\n",
              "\n",
              "  .colab-df-quickchart:hover {\n",
              "    background-color: var(--hover-bg-color);\n",
              "    box-shadow: 0 1px 2px rgba(60, 64, 67, 0.3), 0 1px 3px 1px rgba(60, 64, 67, 0.15);\n",
              "    fill: var(--button-hover-fill-color);\n",
              "  }\n",
              "\n",
              "  .colab-df-quickchart-complete:disabled,\n",
              "  .colab-df-quickchart-complete:disabled:hover {\n",
              "    background-color: var(--disabled-bg-color);\n",
              "    fill: var(--disabled-fill-color);\n",
              "    box-shadow: none;\n",
              "  }\n",
              "\n",
              "  .colab-df-spinner {\n",
              "    border: 2px solid var(--fill-color);\n",
              "    border-color: transparent;\n",
              "    border-bottom-color: var(--fill-color);\n",
              "    animation:\n",
              "      spin 1s steps(1) infinite;\n",
              "  }\n",
              "\n",
              "  @keyframes spin {\n",
              "    0% {\n",
              "      border-color: transparent;\n",
              "      border-bottom-color: var(--fill-color);\n",
              "      border-left-color: var(--fill-color);\n",
              "    }\n",
              "    20% {\n",
              "      border-color: transparent;\n",
              "      border-left-color: var(--fill-color);\n",
              "      border-top-color: var(--fill-color);\n",
              "    }\n",
              "    30% {\n",
              "      border-color: transparent;\n",
              "      border-left-color: var(--fill-color);\n",
              "      border-top-color: var(--fill-color);\n",
              "      border-right-color: var(--fill-color);\n",
              "    }\n",
              "    40% {\n",
              "      border-color: transparent;\n",
              "      border-right-color: var(--fill-color);\n",
              "      border-top-color: var(--fill-color);\n",
              "    }\n",
              "    60% {\n",
              "      border-color: transparent;\n",
              "      border-right-color: var(--fill-color);\n",
              "    }\n",
              "    80% {\n",
              "      border-color: transparent;\n",
              "      border-right-color: var(--fill-color);\n",
              "      border-bottom-color: var(--fill-color);\n",
              "    }\n",
              "    90% {\n",
              "      border-color: transparent;\n",
              "      border-bottom-color: var(--fill-color);\n",
              "    }\n",
              "  }\n",
              "</style>\n",
              "\n",
              "  <script>\n",
              "    async function quickchart(key) {\n",
              "      const quickchartButtonEl =\n",
              "        document.querySelector('#' + key + ' button');\n",
              "      quickchartButtonEl.disabled = true;  // To prevent multiple clicks.\n",
              "      quickchartButtonEl.classList.add('colab-df-spinner');\n",
              "      try {\n",
              "        const charts = await google.colab.kernel.invokeFunction(\n",
              "            'suggestCharts', [key], {});\n",
              "      } catch (error) {\n",
              "        console.error('Error during call to suggestCharts:', error);\n",
              "      }\n",
              "      quickchartButtonEl.classList.remove('colab-df-spinner');\n",
              "      quickchartButtonEl.classList.add('colab-df-quickchart-complete');\n",
              "    }\n",
              "    (() => {\n",
              "      let quickchartButtonEl =\n",
              "        document.querySelector('#df-7f7622c2-3e4e-48ac-88d0-b55524ad8f3e button');\n",
              "      quickchartButtonEl.style.display =\n",
              "        google.colab.kernel.accessAllowed ? 'block' : 'none';\n",
              "    })();\n",
              "  </script>\n",
              "</div>\n",
              "\n",
              "    </div>\n",
              "  </div>\n"
            ]
          },
          "metadata": {},
          "execution_count": 46
        }
      ],
      "source": [
        "wine_subset.sample(4,random_state=1234).reset_index(drop=True)"
      ]
    },
    {
      "cell_type": "code",
      "source": [],
      "metadata": {
        "id": "UkBKi0tbhzdZ"
      },
      "execution_count": null,
      "outputs": []
    },
    {
      "cell_type": "markdown",
      "source": [
        "# Naive Tokenization\n",
        "\n",
        "It takes too long to run!"
      ],
      "metadata": {
        "id": "Vx7LVYpgh5UF"
      }
    },
    {
      "cell_type": "code",
      "source": [
        "len(reviews)"
      ],
      "metadata": {
        "colab": {
          "base_uri": "https://localhost:8080/"
        },
        "outputId": "658b155c-d980-4ec2-c43d-56948c3c313e",
        "id": "-KZRCB4oh5UM"
      },
      "execution_count": null,
      "outputs": [
        {
          "output_type": "execute_result",
          "data": {
            "text/plain": [
              "129971"
            ]
          },
          "metadata": {},
          "execution_count": 12
        }
      ]
    },
    {
      "cell_type": "code",
      "source": [
        "allreviews = [] # we designate a variable for holding the pre-processed reviews\n",
        "for review in reviews:\n",
        "    txt = re.sub('[^a-zA-Z0-9 ]','',review) # removes all special characters and punctuation\n",
        "    txt = txt.lower() # we make all letters lower case\n",
        "    txt = txt.split() # extracting the different words\n",
        "    txt = [word for word in txt if not word in set(stopwords.words('english'))] # we throw all the non-important words\n",
        "    #txt = [stemmer.stem(word) for word in txt] # this would be the application of Porter Stemmer\n",
        "    txt = [lemmatizer.lemmatize(word) for word in txt] # we make unique identifiers to words that have common roots\n",
        "    txt = ' '.join(txt) # we assemble back the remaing rooted words into a pre-processed review\n",
        "    allreviews.append(txt)"
      ],
      "metadata": {
        "colab": {
          "base_uri": "https://localhost:8080/",
          "height": 391
        },
        "outputId": "1b2a96a9-bf49-465a-cd5e-60cb05257e01",
        "id": "hpPkPZkVh5UM"
      },
      "execution_count": null,
      "outputs": [
        {
          "output_type": "error",
          "ename": "KeyboardInterrupt",
          "evalue": "",
          "traceback": [
            "\u001b[0;31m---------------------------------------------------------------------------\u001b[0m",
            "\u001b[0;31mKeyboardInterrupt\u001b[0m                         Traceback (most recent call last)",
            "\u001b[0;32m<ipython-input-19-b9ca9a734b1f>\u001b[0m in \u001b[0;36m<cell line: 2>\u001b[0;34m()\u001b[0m\n\u001b[1;32m      4\u001b[0m     \u001b[0mtxt\u001b[0m \u001b[0;34m=\u001b[0m \u001b[0mtxt\u001b[0m\u001b[0;34m.\u001b[0m\u001b[0mlower\u001b[0m\u001b[0;34m(\u001b[0m\u001b[0;34m)\u001b[0m \u001b[0;31m# we make all letters lower case\u001b[0m\u001b[0;34m\u001b[0m\u001b[0;34m\u001b[0m\u001b[0m\n\u001b[1;32m      5\u001b[0m     \u001b[0mtxt\u001b[0m \u001b[0;34m=\u001b[0m \u001b[0mtxt\u001b[0m\u001b[0;34m.\u001b[0m\u001b[0msplit\u001b[0m\u001b[0;34m(\u001b[0m\u001b[0;34m)\u001b[0m \u001b[0;31m# extracting the different words\u001b[0m\u001b[0;34m\u001b[0m\u001b[0;34m\u001b[0m\u001b[0m\n\u001b[0;32m----> 6\u001b[0;31m     \u001b[0mtxt\u001b[0m \u001b[0;34m=\u001b[0m \u001b[0;34m[\u001b[0m\u001b[0mword\u001b[0m \u001b[0;32mfor\u001b[0m \u001b[0mword\u001b[0m \u001b[0;32min\u001b[0m \u001b[0mtxt\u001b[0m \u001b[0;32mif\u001b[0m \u001b[0;32mnot\u001b[0m \u001b[0mword\u001b[0m \u001b[0;32min\u001b[0m \u001b[0mset\u001b[0m\u001b[0;34m(\u001b[0m\u001b[0mstopwords\u001b[0m\u001b[0;34m.\u001b[0m\u001b[0mwords\u001b[0m\u001b[0;34m(\u001b[0m\u001b[0;34m'english'\u001b[0m\u001b[0;34m)\u001b[0m\u001b[0;34m)\u001b[0m\u001b[0;34m]\u001b[0m \u001b[0;31m# we throw all the non-important words\u001b[0m\u001b[0;34m\u001b[0m\u001b[0;34m\u001b[0m\u001b[0m\n\u001b[0m\u001b[1;32m      7\u001b[0m     \u001b[0;31m#txt = [stemmer.stem(word) for word in txt] # this would be the application of Porter Stemmer\u001b[0m\u001b[0;34m\u001b[0m\u001b[0;34m\u001b[0m\u001b[0m\n\u001b[1;32m      8\u001b[0m     \u001b[0mtxt\u001b[0m \u001b[0;34m=\u001b[0m \u001b[0;34m[\u001b[0m\u001b[0mlemmatizer\u001b[0m\u001b[0;34m.\u001b[0m\u001b[0mlemmatize\u001b[0m\u001b[0;34m(\u001b[0m\u001b[0mword\u001b[0m\u001b[0;34m)\u001b[0m \u001b[0;32mfor\u001b[0m \u001b[0mword\u001b[0m \u001b[0;32min\u001b[0m \u001b[0mtxt\u001b[0m\u001b[0;34m]\u001b[0m \u001b[0;31m# we make unique identifiers to words that have common roots\u001b[0m\u001b[0;34m\u001b[0m\u001b[0;34m\u001b[0m\u001b[0m\n",
            "\u001b[0;32m<ipython-input-19-b9ca9a734b1f>\u001b[0m in \u001b[0;36m<listcomp>\u001b[0;34m(.0)\u001b[0m\n\u001b[1;32m      4\u001b[0m     \u001b[0mtxt\u001b[0m \u001b[0;34m=\u001b[0m \u001b[0mtxt\u001b[0m\u001b[0;34m.\u001b[0m\u001b[0mlower\u001b[0m\u001b[0;34m(\u001b[0m\u001b[0;34m)\u001b[0m \u001b[0;31m# we make all letters lower case\u001b[0m\u001b[0;34m\u001b[0m\u001b[0;34m\u001b[0m\u001b[0m\n\u001b[1;32m      5\u001b[0m     \u001b[0mtxt\u001b[0m \u001b[0;34m=\u001b[0m \u001b[0mtxt\u001b[0m\u001b[0;34m.\u001b[0m\u001b[0msplit\u001b[0m\u001b[0;34m(\u001b[0m\u001b[0;34m)\u001b[0m \u001b[0;31m# extracting the different words\u001b[0m\u001b[0;34m\u001b[0m\u001b[0;34m\u001b[0m\u001b[0m\n\u001b[0;32m----> 6\u001b[0;31m     \u001b[0mtxt\u001b[0m \u001b[0;34m=\u001b[0m \u001b[0;34m[\u001b[0m\u001b[0mword\u001b[0m \u001b[0;32mfor\u001b[0m \u001b[0mword\u001b[0m \u001b[0;32min\u001b[0m \u001b[0mtxt\u001b[0m \u001b[0;32mif\u001b[0m \u001b[0;32mnot\u001b[0m \u001b[0mword\u001b[0m \u001b[0;32min\u001b[0m \u001b[0mset\u001b[0m\u001b[0;34m(\u001b[0m\u001b[0mstopwords\u001b[0m\u001b[0;34m.\u001b[0m\u001b[0mwords\u001b[0m\u001b[0;34m(\u001b[0m\u001b[0;34m'english'\u001b[0m\u001b[0;34m)\u001b[0m\u001b[0;34m)\u001b[0m\u001b[0;34m]\u001b[0m \u001b[0;31m# we throw all the non-important words\u001b[0m\u001b[0;34m\u001b[0m\u001b[0;34m\u001b[0m\u001b[0m\n\u001b[0m\u001b[1;32m      7\u001b[0m     \u001b[0;31m#txt = [stemmer.stem(word) for word in txt] # this would be the application of Porter Stemmer\u001b[0m\u001b[0;34m\u001b[0m\u001b[0;34m\u001b[0m\u001b[0m\n\u001b[1;32m      8\u001b[0m     \u001b[0mtxt\u001b[0m \u001b[0;34m=\u001b[0m \u001b[0;34m[\u001b[0m\u001b[0mlemmatizer\u001b[0m\u001b[0;34m.\u001b[0m\u001b[0mlemmatize\u001b[0m\u001b[0;34m(\u001b[0m\u001b[0mword\u001b[0m\u001b[0;34m)\u001b[0m \u001b[0;32mfor\u001b[0m \u001b[0mword\u001b[0m \u001b[0;32min\u001b[0m \u001b[0mtxt\u001b[0m\u001b[0;34m]\u001b[0m \u001b[0;31m# we make unique identifiers to words that have common roots\u001b[0m\u001b[0;34m\u001b[0m\u001b[0;34m\u001b[0m\u001b[0m\n",
            "\u001b[0;32m/usr/local/lib/python3.10/dist-packages/nltk/corpus/reader/wordlist.py\u001b[0m in \u001b[0;36mwords\u001b[0;34m(self, fileids, ignore_lines_startswith)\u001b[0m\n\u001b[1;32m     19\u001b[0m         return [\n\u001b[1;32m     20\u001b[0m             \u001b[0mline\u001b[0m\u001b[0;34m\u001b[0m\u001b[0;34m\u001b[0m\u001b[0m\n\u001b[0;32m---> 21\u001b[0;31m             \u001b[0;32mfor\u001b[0m \u001b[0mline\u001b[0m \u001b[0;32min\u001b[0m \u001b[0mline_tokenize\u001b[0m\u001b[0;34m(\u001b[0m\u001b[0mself\u001b[0m\u001b[0;34m.\u001b[0m\u001b[0mraw\u001b[0m\u001b[0;34m(\u001b[0m\u001b[0mfileids\u001b[0m\u001b[0;34m)\u001b[0m\u001b[0;34m)\u001b[0m\u001b[0;34m\u001b[0m\u001b[0;34m\u001b[0m\u001b[0m\n\u001b[0m\u001b[1;32m     22\u001b[0m             \u001b[0;32mif\u001b[0m \u001b[0;32mnot\u001b[0m \u001b[0mline\u001b[0m\u001b[0;34m.\u001b[0m\u001b[0mstartswith\u001b[0m\u001b[0;34m(\u001b[0m\u001b[0mignore_lines_startswith\u001b[0m\u001b[0;34m)\u001b[0m\u001b[0;34m\u001b[0m\u001b[0;34m\u001b[0m\u001b[0m\n\u001b[1;32m     23\u001b[0m         ]\n",
            "\u001b[0;32m/usr/local/lib/python3.10/dist-packages/nltk/corpus/reader/api.py\u001b[0m in \u001b[0;36mraw\u001b[0;34m(self, fileids)\u001b[0m\n\u001b[1;32m    216\u001b[0m         \u001b[0mcontents\u001b[0m \u001b[0;34m=\u001b[0m \u001b[0;34m[\u001b[0m\u001b[0;34m]\u001b[0m\u001b[0;34m\u001b[0m\u001b[0;34m\u001b[0m\u001b[0m\n\u001b[1;32m    217\u001b[0m         \u001b[0;32mfor\u001b[0m \u001b[0mf\u001b[0m \u001b[0;32min\u001b[0m \u001b[0mfileids\u001b[0m\u001b[0;34m:\u001b[0m\u001b[0;34m\u001b[0m\u001b[0;34m\u001b[0m\u001b[0m\n\u001b[0;32m--> 218\u001b[0;31m             \u001b[0;32mwith\u001b[0m \u001b[0mself\u001b[0m\u001b[0;34m.\u001b[0m\u001b[0mopen\u001b[0m\u001b[0;34m(\u001b[0m\u001b[0mf\u001b[0m\u001b[0;34m)\u001b[0m \u001b[0;32mas\u001b[0m \u001b[0mfp\u001b[0m\u001b[0;34m:\u001b[0m\u001b[0;34m\u001b[0m\u001b[0;34m\u001b[0m\u001b[0m\n\u001b[0m\u001b[1;32m    219\u001b[0m                 \u001b[0mcontents\u001b[0m\u001b[0;34m.\u001b[0m\u001b[0mappend\u001b[0m\u001b[0;34m(\u001b[0m\u001b[0mfp\u001b[0m\u001b[0;34m.\u001b[0m\u001b[0mread\u001b[0m\u001b[0;34m(\u001b[0m\u001b[0;34m)\u001b[0m\u001b[0;34m)\u001b[0m\u001b[0;34m\u001b[0m\u001b[0;34m\u001b[0m\u001b[0m\n\u001b[1;32m    220\u001b[0m         \u001b[0;32mreturn\u001b[0m \u001b[0mconcat\u001b[0m\u001b[0;34m(\u001b[0m\u001b[0mcontents\u001b[0m\u001b[0;34m)\u001b[0m\u001b[0;34m\u001b[0m\u001b[0;34m\u001b[0m\u001b[0m\n",
            "\u001b[0;32m/usr/local/lib/python3.10/dist-packages/nltk/corpus/reader/api.py\u001b[0m in \u001b[0;36mopen\u001b[0;34m(self, file)\u001b[0m\n\u001b[1;32m    229\u001b[0m         \"\"\"\n\u001b[1;32m    230\u001b[0m         \u001b[0mencoding\u001b[0m \u001b[0;34m=\u001b[0m \u001b[0mself\u001b[0m\u001b[0;34m.\u001b[0m\u001b[0mencoding\u001b[0m\u001b[0;34m(\u001b[0m\u001b[0mfile\u001b[0m\u001b[0;34m)\u001b[0m\u001b[0;34m\u001b[0m\u001b[0;34m\u001b[0m\u001b[0m\n\u001b[0;32m--> 231\u001b[0;31m         \u001b[0mstream\u001b[0m \u001b[0;34m=\u001b[0m \u001b[0mself\u001b[0m\u001b[0;34m.\u001b[0m\u001b[0m_root\u001b[0m\u001b[0;34m.\u001b[0m\u001b[0mjoin\u001b[0m\u001b[0;34m(\u001b[0m\u001b[0mfile\u001b[0m\u001b[0;34m)\u001b[0m\u001b[0;34m.\u001b[0m\u001b[0mopen\u001b[0m\u001b[0;34m(\u001b[0m\u001b[0mencoding\u001b[0m\u001b[0;34m)\u001b[0m\u001b[0;34m\u001b[0m\u001b[0;34m\u001b[0m\u001b[0m\n\u001b[0m\u001b[1;32m    232\u001b[0m         \u001b[0;32mreturn\u001b[0m \u001b[0mstream\u001b[0m\u001b[0;34m\u001b[0m\u001b[0;34m\u001b[0m\u001b[0m\n\u001b[1;32m    233\u001b[0m \u001b[0;34m\u001b[0m\u001b[0m\n",
            "\u001b[0;32m/usr/local/lib/python3.10/dist-packages/nltk/data.py\u001b[0m in \u001b[0;36mjoin\u001b[0;34m(self, fileid)\u001b[0m\n\u001b[1;32m    332\u001b[0m     \u001b[0;32mdef\u001b[0m \u001b[0mjoin\u001b[0m\u001b[0;34m(\u001b[0m\u001b[0mself\u001b[0m\u001b[0;34m,\u001b[0m \u001b[0mfileid\u001b[0m\u001b[0;34m)\u001b[0m\u001b[0;34m:\u001b[0m\u001b[0;34m\u001b[0m\u001b[0;34m\u001b[0m\u001b[0m\n\u001b[1;32m    333\u001b[0m         \u001b[0m_path\u001b[0m \u001b[0;34m=\u001b[0m \u001b[0mos\u001b[0m\u001b[0;34m.\u001b[0m\u001b[0mpath\u001b[0m\u001b[0;34m.\u001b[0m\u001b[0mjoin\u001b[0m\u001b[0;34m(\u001b[0m\u001b[0mself\u001b[0m\u001b[0;34m.\u001b[0m\u001b[0m_path\u001b[0m\u001b[0;34m,\u001b[0m \u001b[0mfileid\u001b[0m\u001b[0;34m)\u001b[0m\u001b[0;34m\u001b[0m\u001b[0;34m\u001b[0m\u001b[0m\n\u001b[0;32m--> 334\u001b[0;31m         \u001b[0;32mreturn\u001b[0m \u001b[0mFileSystemPathPointer\u001b[0m\u001b[0;34m(\u001b[0m\u001b[0m_path\u001b[0m\u001b[0;34m)\u001b[0m\u001b[0;34m\u001b[0m\u001b[0;34m\u001b[0m\u001b[0m\n\u001b[0m\u001b[1;32m    335\u001b[0m \u001b[0;34m\u001b[0m\u001b[0m\n\u001b[1;32m    336\u001b[0m     \u001b[0;32mdef\u001b[0m \u001b[0m__repr__\u001b[0m\u001b[0;34m(\u001b[0m\u001b[0mself\u001b[0m\u001b[0;34m)\u001b[0m\u001b[0;34m:\u001b[0m\u001b[0;34m\u001b[0m\u001b[0;34m\u001b[0m\u001b[0m\n",
            "\u001b[0;32m/usr/local/lib/python3.10/dist-packages/nltk/compat.py\u001b[0m in \u001b[0;36m_decorator\u001b[0;34m(*args, **kwargs)\u001b[0m\n\u001b[1;32m     39\u001b[0m     \u001b[0;32mdef\u001b[0m \u001b[0m_decorator\u001b[0m\u001b[0;34m(\u001b[0m\u001b[0;34m*\u001b[0m\u001b[0margs\u001b[0m\u001b[0;34m,\u001b[0m \u001b[0;34m**\u001b[0m\u001b[0mkwargs\u001b[0m\u001b[0;34m)\u001b[0m\u001b[0;34m:\u001b[0m\u001b[0;34m\u001b[0m\u001b[0;34m\u001b[0m\u001b[0m\n\u001b[1;32m     40\u001b[0m         \u001b[0margs\u001b[0m \u001b[0;34m=\u001b[0m \u001b[0;34m(\u001b[0m\u001b[0margs\u001b[0m\u001b[0;34m[\u001b[0m\u001b[0;36m0\u001b[0m\u001b[0;34m]\u001b[0m\u001b[0;34m,\u001b[0m \u001b[0madd_py3_data\u001b[0m\u001b[0;34m(\u001b[0m\u001b[0margs\u001b[0m\u001b[0;34m[\u001b[0m\u001b[0;36m1\u001b[0m\u001b[0;34m]\u001b[0m\u001b[0;34m)\u001b[0m\u001b[0;34m)\u001b[0m \u001b[0;34m+\u001b[0m \u001b[0margs\u001b[0m\u001b[0;34m[\u001b[0m\u001b[0;36m2\u001b[0m\u001b[0;34m:\u001b[0m\u001b[0;34m]\u001b[0m\u001b[0;34m\u001b[0m\u001b[0;34m\u001b[0m\u001b[0m\n\u001b[0;32m---> 41\u001b[0;31m         \u001b[0;32mreturn\u001b[0m \u001b[0minit_func\u001b[0m\u001b[0;34m(\u001b[0m\u001b[0;34m*\u001b[0m\u001b[0margs\u001b[0m\u001b[0;34m,\u001b[0m \u001b[0;34m**\u001b[0m\u001b[0mkwargs\u001b[0m\u001b[0;34m)\u001b[0m\u001b[0;34m\u001b[0m\u001b[0;34m\u001b[0m\u001b[0m\n\u001b[0m\u001b[1;32m     42\u001b[0m \u001b[0;34m\u001b[0m\u001b[0m\n\u001b[1;32m     43\u001b[0m     \u001b[0;32mreturn\u001b[0m \u001b[0mwraps\u001b[0m\u001b[0;34m(\u001b[0m\u001b[0minit_func\u001b[0m\u001b[0;34m)\u001b[0m\u001b[0;34m(\u001b[0m\u001b[0m_decorator\u001b[0m\u001b[0;34m)\u001b[0m\u001b[0;34m\u001b[0m\u001b[0;34m\u001b[0m\u001b[0m\n",
            "\u001b[0;32m/usr/local/lib/python3.10/dist-packages/nltk/data.py\u001b[0m in \u001b[0;36m__init__\u001b[0;34m(self, _path)\u001b[0m\n\u001b[1;32m    309\u001b[0m \u001b[0;34m\u001b[0m\u001b[0m\n\u001b[1;32m    310\u001b[0m         \u001b[0m_path\u001b[0m \u001b[0;34m=\u001b[0m \u001b[0mos\u001b[0m\u001b[0;34m.\u001b[0m\u001b[0mpath\u001b[0m\u001b[0;34m.\u001b[0m\u001b[0mabspath\u001b[0m\u001b[0;34m(\u001b[0m\u001b[0m_path\u001b[0m\u001b[0;34m)\u001b[0m\u001b[0;34m\u001b[0m\u001b[0;34m\u001b[0m\u001b[0m\n\u001b[0;32m--> 311\u001b[0;31m         \u001b[0;32mif\u001b[0m \u001b[0;32mnot\u001b[0m \u001b[0mos\u001b[0m\u001b[0;34m.\u001b[0m\u001b[0mpath\u001b[0m\u001b[0;34m.\u001b[0m\u001b[0mexists\u001b[0m\u001b[0;34m(\u001b[0m\u001b[0m_path\u001b[0m\u001b[0;34m)\u001b[0m\u001b[0;34m:\u001b[0m\u001b[0;34m\u001b[0m\u001b[0;34m\u001b[0m\u001b[0m\n\u001b[0m\u001b[1;32m    312\u001b[0m             \u001b[0;32mraise\u001b[0m \u001b[0mOSError\u001b[0m\u001b[0;34m(\u001b[0m\u001b[0;34m\"No such file or directory: %r\"\u001b[0m \u001b[0;34m%\u001b[0m \u001b[0m_path\u001b[0m\u001b[0;34m)\u001b[0m\u001b[0;34m\u001b[0m\u001b[0;34m\u001b[0m\u001b[0m\n\u001b[1;32m    313\u001b[0m         \u001b[0mself\u001b[0m\u001b[0;34m.\u001b[0m\u001b[0m_path\u001b[0m \u001b[0;34m=\u001b[0m \u001b[0m_path\u001b[0m\u001b[0;34m\u001b[0m\u001b[0;34m\u001b[0m\u001b[0m\n",
            "\u001b[0;32m/usr/lib/python3.10/genericpath.py\u001b[0m in \u001b[0;36mexists\u001b[0;34m(path)\u001b[0m\n\u001b[1;32m     17\u001b[0m     \u001b[0;34m\"\"\"Test whether a path exists.  Returns False for broken symbolic links\"\"\"\u001b[0m\u001b[0;34m\u001b[0m\u001b[0;34m\u001b[0m\u001b[0m\n\u001b[1;32m     18\u001b[0m     \u001b[0;32mtry\u001b[0m\u001b[0;34m:\u001b[0m\u001b[0;34m\u001b[0m\u001b[0;34m\u001b[0m\u001b[0m\n\u001b[0;32m---> 19\u001b[0;31m         \u001b[0mos\u001b[0m\u001b[0;34m.\u001b[0m\u001b[0mstat\u001b[0m\u001b[0;34m(\u001b[0m\u001b[0mpath\u001b[0m\u001b[0;34m)\u001b[0m\u001b[0;34m\u001b[0m\u001b[0;34m\u001b[0m\u001b[0m\n\u001b[0m\u001b[1;32m     20\u001b[0m     \u001b[0;32mexcept\u001b[0m \u001b[0;34m(\u001b[0m\u001b[0mOSError\u001b[0m\u001b[0;34m,\u001b[0m \u001b[0mValueError\u001b[0m\u001b[0;34m)\u001b[0m\u001b[0;34m:\u001b[0m\u001b[0;34m\u001b[0m\u001b[0;34m\u001b[0m\u001b[0m\n\u001b[1;32m     21\u001b[0m         \u001b[0;32mreturn\u001b[0m \u001b[0;32mFalse\u001b[0m\u001b[0;34m\u001b[0m\u001b[0;34m\u001b[0m\u001b[0m\n",
            "\u001b[0;31mKeyboardInterrupt\u001b[0m: "
          ]
        }
      ]
    },
    {
      "cell_type": "code",
      "source": [
        "wine_subset.head()"
      ],
      "metadata": {
        "colab": {
          "base_uri": "https://localhost:8080/",
          "height": 221
        },
        "outputId": "359fe79d-67db-4b8c-f945-e38c692e05a9",
        "id": "MVgoNvjih5UM"
      },
      "execution_count": null,
      "outputs": [
        {
          "output_type": "execute_result",
          "data": {
            "text/plain": [
              "                                         description  points\n",
              "0  Aromas include tropical fruit, broom, brimston...      87\n",
              "1  This is ripe and fruity, a wine that is smooth...      87\n",
              "2  Tart and snappy, the flavors of lime flesh and...      87\n",
              "3  Pineapple rind, lemon pith and orange blossom ...      87\n",
              "4  Much like the regular bottling from 2012, this...      87"
            ],
            "text/html": [
              "\n",
              "  <div id=\"df-c46d69d5-6768-4669-a5bc-a74f67aa55fd\" class=\"colab-df-container\">\n",
              "    <div>\n",
              "<style scoped>\n",
              "    .dataframe tbody tr th:only-of-type {\n",
              "        vertical-align: middle;\n",
              "    }\n",
              "\n",
              "    .dataframe tbody tr th {\n",
              "        vertical-align: top;\n",
              "    }\n",
              "\n",
              "    .dataframe thead th {\n",
              "        text-align: right;\n",
              "    }\n",
              "</style>\n",
              "<table border=\"1\" class=\"dataframe\">\n",
              "  <thead>\n",
              "    <tr style=\"text-align: right;\">\n",
              "      <th></th>\n",
              "      <th>description</th>\n",
              "      <th>points</th>\n",
              "    </tr>\n",
              "  </thead>\n",
              "  <tbody>\n",
              "    <tr>\n",
              "      <th>0</th>\n",
              "      <td>Aromas include tropical fruit, broom, brimston...</td>\n",
              "      <td>87</td>\n",
              "    </tr>\n",
              "    <tr>\n",
              "      <th>1</th>\n",
              "      <td>This is ripe and fruity, a wine that is smooth...</td>\n",
              "      <td>87</td>\n",
              "    </tr>\n",
              "    <tr>\n",
              "      <th>2</th>\n",
              "      <td>Tart and snappy, the flavors of lime flesh and...</td>\n",
              "      <td>87</td>\n",
              "    </tr>\n",
              "    <tr>\n",
              "      <th>3</th>\n",
              "      <td>Pineapple rind, lemon pith and orange blossom ...</td>\n",
              "      <td>87</td>\n",
              "    </tr>\n",
              "    <tr>\n",
              "      <th>4</th>\n",
              "      <td>Much like the regular bottling from 2012, this...</td>\n",
              "      <td>87</td>\n",
              "    </tr>\n",
              "  </tbody>\n",
              "</table>\n",
              "</div>\n",
              "    <div class=\"colab-df-buttons\">\n",
              "\n",
              "  <div class=\"colab-df-container\">\n",
              "    <button class=\"colab-df-convert\" onclick=\"convertToInteractive('df-c46d69d5-6768-4669-a5bc-a74f67aa55fd')\"\n",
              "            title=\"Convert this dataframe to an interactive table.\"\n",
              "            style=\"display:none;\">\n",
              "\n",
              "  <svg xmlns=\"http://www.w3.org/2000/svg\" height=\"24px\" viewBox=\"0 -960 960 960\">\n",
              "    <path d=\"M120-120v-720h720v720H120Zm60-500h600v-160H180v160Zm220 220h160v-160H400v160Zm0 220h160v-160H400v160ZM180-400h160v-160H180v160Zm440 0h160v-160H620v160ZM180-180h160v-160H180v160Zm440 0h160v-160H620v160Z\"/>\n",
              "  </svg>\n",
              "    </button>\n",
              "\n",
              "  <style>\n",
              "    .colab-df-container {\n",
              "      display:flex;\n",
              "      gap: 12px;\n",
              "    }\n",
              "\n",
              "    .colab-df-convert {\n",
              "      background-color: #E8F0FE;\n",
              "      border: none;\n",
              "      border-radius: 50%;\n",
              "      cursor: pointer;\n",
              "      display: none;\n",
              "      fill: #1967D2;\n",
              "      height: 32px;\n",
              "      padding: 0 0 0 0;\n",
              "      width: 32px;\n",
              "    }\n",
              "\n",
              "    .colab-df-convert:hover {\n",
              "      background-color: #E2EBFA;\n",
              "      box-shadow: 0px 1px 2px rgba(60, 64, 67, 0.3), 0px 1px 3px 1px rgba(60, 64, 67, 0.15);\n",
              "      fill: #174EA6;\n",
              "    }\n",
              "\n",
              "    .colab-df-buttons div {\n",
              "      margin-bottom: 4px;\n",
              "    }\n",
              "\n",
              "    [theme=dark] .colab-df-convert {\n",
              "      background-color: #3B4455;\n",
              "      fill: #D2E3FC;\n",
              "    }\n",
              "\n",
              "    [theme=dark] .colab-df-convert:hover {\n",
              "      background-color: #434B5C;\n",
              "      box-shadow: 0px 1px 3px 1px rgba(0, 0, 0, 0.15);\n",
              "      filter: drop-shadow(0px 1px 2px rgba(0, 0, 0, 0.3));\n",
              "      fill: #FFFFFF;\n",
              "    }\n",
              "  </style>\n",
              "\n",
              "    <script>\n",
              "      const buttonEl =\n",
              "        document.querySelector('#df-c46d69d5-6768-4669-a5bc-a74f67aa55fd button.colab-df-convert');\n",
              "      buttonEl.style.display =\n",
              "        google.colab.kernel.accessAllowed ? 'block' : 'none';\n",
              "\n",
              "      async function convertToInteractive(key) {\n",
              "        const element = document.querySelector('#df-c46d69d5-6768-4669-a5bc-a74f67aa55fd');\n",
              "        const dataTable =\n",
              "          await google.colab.kernel.invokeFunction('convertToInteractive',\n",
              "                                                    [key], {});\n",
              "        if (!dataTable) return;\n",
              "\n",
              "        const docLinkHtml = 'Like what you see? Visit the ' +\n",
              "          '<a target=\"_blank\" href=https://colab.research.google.com/notebooks/data_table.ipynb>data table notebook</a>'\n",
              "          + ' to learn more about interactive tables.';\n",
              "        element.innerHTML = '';\n",
              "        dataTable['output_type'] = 'display_data';\n",
              "        await google.colab.output.renderOutput(dataTable, element);\n",
              "        const docLink = document.createElement('div');\n",
              "        docLink.innerHTML = docLinkHtml;\n",
              "        element.appendChild(docLink);\n",
              "      }\n",
              "    </script>\n",
              "  </div>\n",
              "\n",
              "\n",
              "<div id=\"df-1eac9069-9f97-4c37-a845-9652a09efe37\">\n",
              "  <button class=\"colab-df-quickchart\" onclick=\"quickchart('df-1eac9069-9f97-4c37-a845-9652a09efe37')\"\n",
              "            title=\"Suggest charts\"\n",
              "            style=\"display:none;\">\n",
              "\n",
              "<svg xmlns=\"http://www.w3.org/2000/svg\" height=\"24px\"viewBox=\"0 0 24 24\"\n",
              "     width=\"24px\">\n",
              "    <g>\n",
              "        <path d=\"M19 3H5c-1.1 0-2 .9-2 2v14c0 1.1.9 2 2 2h14c1.1 0 2-.9 2-2V5c0-1.1-.9-2-2-2zM9 17H7v-7h2v7zm4 0h-2V7h2v10zm4 0h-2v-4h2v4z\"/>\n",
              "    </g>\n",
              "</svg>\n",
              "  </button>\n",
              "\n",
              "<style>\n",
              "  .colab-df-quickchart {\n",
              "      --bg-color: #E8F0FE;\n",
              "      --fill-color: #1967D2;\n",
              "      --hover-bg-color: #E2EBFA;\n",
              "      --hover-fill-color: #174EA6;\n",
              "      --disabled-fill-color: #AAA;\n",
              "      --disabled-bg-color: #DDD;\n",
              "  }\n",
              "\n",
              "  [theme=dark] .colab-df-quickchart {\n",
              "      --bg-color: #3B4455;\n",
              "      --fill-color: #D2E3FC;\n",
              "      --hover-bg-color: #434B5C;\n",
              "      --hover-fill-color: #FFFFFF;\n",
              "      --disabled-bg-color: #3B4455;\n",
              "      --disabled-fill-color: #666;\n",
              "  }\n",
              "\n",
              "  .colab-df-quickchart {\n",
              "    background-color: var(--bg-color);\n",
              "    border: none;\n",
              "    border-radius: 50%;\n",
              "    cursor: pointer;\n",
              "    display: none;\n",
              "    fill: var(--fill-color);\n",
              "    height: 32px;\n",
              "    padding: 0;\n",
              "    width: 32px;\n",
              "  }\n",
              "\n",
              "  .colab-df-quickchart:hover {\n",
              "    background-color: var(--hover-bg-color);\n",
              "    box-shadow: 0 1px 2px rgba(60, 64, 67, 0.3), 0 1px 3px 1px rgba(60, 64, 67, 0.15);\n",
              "    fill: var(--button-hover-fill-color);\n",
              "  }\n",
              "\n",
              "  .colab-df-quickchart-complete:disabled,\n",
              "  .colab-df-quickchart-complete:disabled:hover {\n",
              "    background-color: var(--disabled-bg-color);\n",
              "    fill: var(--disabled-fill-color);\n",
              "    box-shadow: none;\n",
              "  }\n",
              "\n",
              "  .colab-df-spinner {\n",
              "    border: 2px solid var(--fill-color);\n",
              "    border-color: transparent;\n",
              "    border-bottom-color: var(--fill-color);\n",
              "    animation:\n",
              "      spin 1s steps(1) infinite;\n",
              "  }\n",
              "\n",
              "  @keyframes spin {\n",
              "    0% {\n",
              "      border-color: transparent;\n",
              "      border-bottom-color: var(--fill-color);\n",
              "      border-left-color: var(--fill-color);\n",
              "    }\n",
              "    20% {\n",
              "      border-color: transparent;\n",
              "      border-left-color: var(--fill-color);\n",
              "      border-top-color: var(--fill-color);\n",
              "    }\n",
              "    30% {\n",
              "      border-color: transparent;\n",
              "      border-left-color: var(--fill-color);\n",
              "      border-top-color: var(--fill-color);\n",
              "      border-right-color: var(--fill-color);\n",
              "    }\n",
              "    40% {\n",
              "      border-color: transparent;\n",
              "      border-right-color: var(--fill-color);\n",
              "      border-top-color: var(--fill-color);\n",
              "    }\n",
              "    60% {\n",
              "      border-color: transparent;\n",
              "      border-right-color: var(--fill-color);\n",
              "    }\n",
              "    80% {\n",
              "      border-color: transparent;\n",
              "      border-right-color: var(--fill-color);\n",
              "      border-bottom-color: var(--fill-color);\n",
              "    }\n",
              "    90% {\n",
              "      border-color: transparent;\n",
              "      border-bottom-color: var(--fill-color);\n",
              "    }\n",
              "  }\n",
              "</style>\n",
              "\n",
              "  <script>\n",
              "    async function quickchart(key) {\n",
              "      const quickchartButtonEl =\n",
              "        document.querySelector('#' + key + ' button');\n",
              "      quickchartButtonEl.disabled = true;  // To prevent multiple clicks.\n",
              "      quickchartButtonEl.classList.add('colab-df-spinner');\n",
              "      try {\n",
              "        const charts = await google.colab.kernel.invokeFunction(\n",
              "            'suggestCharts', [key], {});\n",
              "      } catch (error) {\n",
              "        console.error('Error during call to suggestCharts:', error);\n",
              "      }\n",
              "      quickchartButtonEl.classList.remove('colab-df-spinner');\n",
              "      quickchartButtonEl.classList.add('colab-df-quickchart-complete');\n",
              "    }\n",
              "    (() => {\n",
              "      let quickchartButtonEl =\n",
              "        document.querySelector('#df-1eac9069-9f97-4c37-a845-9652a09efe37 button');\n",
              "      quickchartButtonEl.style.display =\n",
              "        google.colab.kernel.accessAllowed ? 'block' : 'none';\n",
              "    })();\n",
              "  </script>\n",
              "</div>\n",
              "\n",
              "    </div>\n",
              "  </div>\n"
            ]
          },
          "metadata": {},
          "execution_count": 45
        }
      ]
    },
    {
      "cell_type": "code",
      "execution_count": null,
      "metadata": {
        "colab": {
          "base_uri": "https://localhost:8080/",
          "height": 191
        },
        "outputId": "af2bce7b-691c-4c57-9f75-df61180daed0",
        "id": "dW67k-Gbh5UM"
      },
      "outputs": [
        {
          "output_type": "execute_result",
          "data": {
            "text/plain": [
              "                                         description  points\n",
              "0  This high-end bottling features fruit from 90+...      86\n",
              "1  Mild citrus and grassy aromas are quiet, while...      82\n",
              "2  Very ripe, rich and oaky, made solidly in the ...      88\n",
              "3  This medium-sweet wine is attractively perfume...      86"
            ],
            "text/html": [
              "\n",
              "  <div id=\"df-e615357e-ef6e-4fe1-bf36-e96b6e5040fc\" class=\"colab-df-container\">\n",
              "    <div>\n",
              "<style scoped>\n",
              "    .dataframe tbody tr th:only-of-type {\n",
              "        vertical-align: middle;\n",
              "    }\n",
              "\n",
              "    .dataframe tbody tr th {\n",
              "        vertical-align: top;\n",
              "    }\n",
              "\n",
              "    .dataframe thead th {\n",
              "        text-align: right;\n",
              "    }\n",
              "</style>\n",
              "<table border=\"1\" class=\"dataframe\">\n",
              "  <thead>\n",
              "    <tr style=\"text-align: right;\">\n",
              "      <th></th>\n",
              "      <th>description</th>\n",
              "      <th>points</th>\n",
              "    </tr>\n",
              "  </thead>\n",
              "  <tbody>\n",
              "    <tr>\n",
              "      <th>0</th>\n",
              "      <td>This high-end bottling features fruit from 90+...</td>\n",
              "      <td>86</td>\n",
              "    </tr>\n",
              "    <tr>\n",
              "      <th>1</th>\n",
              "      <td>Mild citrus and grassy aromas are quiet, while...</td>\n",
              "      <td>82</td>\n",
              "    </tr>\n",
              "    <tr>\n",
              "      <th>2</th>\n",
              "      <td>Very ripe, rich and oaky, made solidly in the ...</td>\n",
              "      <td>88</td>\n",
              "    </tr>\n",
              "    <tr>\n",
              "      <th>3</th>\n",
              "      <td>This medium-sweet wine is attractively perfume...</td>\n",
              "      <td>86</td>\n",
              "    </tr>\n",
              "  </tbody>\n",
              "</table>\n",
              "</div>\n",
              "    <div class=\"colab-df-buttons\">\n",
              "\n",
              "  <div class=\"colab-df-container\">\n",
              "    <button class=\"colab-df-convert\" onclick=\"convertToInteractive('df-e615357e-ef6e-4fe1-bf36-e96b6e5040fc')\"\n",
              "            title=\"Convert this dataframe to an interactive table.\"\n",
              "            style=\"display:none;\">\n",
              "\n",
              "  <svg xmlns=\"http://www.w3.org/2000/svg\" height=\"24px\" viewBox=\"0 -960 960 960\">\n",
              "    <path d=\"M120-120v-720h720v720H120Zm60-500h600v-160H180v160Zm220 220h160v-160H400v160Zm0 220h160v-160H400v160ZM180-400h160v-160H180v160Zm440 0h160v-160H620v160ZM180-180h160v-160H180v160Zm440 0h160v-160H620v160Z\"/>\n",
              "  </svg>\n",
              "    </button>\n",
              "\n",
              "  <style>\n",
              "    .colab-df-container {\n",
              "      display:flex;\n",
              "      gap: 12px;\n",
              "    }\n",
              "\n",
              "    .colab-df-convert {\n",
              "      background-color: #E8F0FE;\n",
              "      border: none;\n",
              "      border-radius: 50%;\n",
              "      cursor: pointer;\n",
              "      display: none;\n",
              "      fill: #1967D2;\n",
              "      height: 32px;\n",
              "      padding: 0 0 0 0;\n",
              "      width: 32px;\n",
              "    }\n",
              "\n",
              "    .colab-df-convert:hover {\n",
              "      background-color: #E2EBFA;\n",
              "      box-shadow: 0px 1px 2px rgba(60, 64, 67, 0.3), 0px 1px 3px 1px rgba(60, 64, 67, 0.15);\n",
              "      fill: #174EA6;\n",
              "    }\n",
              "\n",
              "    .colab-df-buttons div {\n",
              "      margin-bottom: 4px;\n",
              "    }\n",
              "\n",
              "    [theme=dark] .colab-df-convert {\n",
              "      background-color: #3B4455;\n",
              "      fill: #D2E3FC;\n",
              "    }\n",
              "\n",
              "    [theme=dark] .colab-df-convert:hover {\n",
              "      background-color: #434B5C;\n",
              "      box-shadow: 0px 1px 3px 1px rgba(0, 0, 0, 0.15);\n",
              "      filter: drop-shadow(0px 1px 2px rgba(0, 0, 0, 0.3));\n",
              "      fill: #FFFFFF;\n",
              "    }\n",
              "  </style>\n",
              "\n",
              "    <script>\n",
              "      const buttonEl =\n",
              "        document.querySelector('#df-e615357e-ef6e-4fe1-bf36-e96b6e5040fc button.colab-df-convert');\n",
              "      buttonEl.style.display =\n",
              "        google.colab.kernel.accessAllowed ? 'block' : 'none';\n",
              "\n",
              "      async function convertToInteractive(key) {\n",
              "        const element = document.querySelector('#df-e615357e-ef6e-4fe1-bf36-e96b6e5040fc');\n",
              "        const dataTable =\n",
              "          await google.colab.kernel.invokeFunction('convertToInteractive',\n",
              "                                                    [key], {});\n",
              "        if (!dataTable) return;\n",
              "\n",
              "        const docLinkHtml = 'Like what you see? Visit the ' +\n",
              "          '<a target=\"_blank\" href=https://colab.research.google.com/notebooks/data_table.ipynb>data table notebook</a>'\n",
              "          + ' to learn more about interactive tables.';\n",
              "        element.innerHTML = '';\n",
              "        dataTable['output_type'] = 'display_data';\n",
              "        await google.colab.output.renderOutput(dataTable, element);\n",
              "        const docLink = document.createElement('div');\n",
              "        docLink.innerHTML = docLinkHtml;\n",
              "        element.appendChild(docLink);\n",
              "      }\n",
              "    </script>\n",
              "  </div>\n",
              "\n",
              "\n",
              "<div id=\"df-7f7622c2-3e4e-48ac-88d0-b55524ad8f3e\">\n",
              "  <button class=\"colab-df-quickchart\" onclick=\"quickchart('df-7f7622c2-3e4e-48ac-88d0-b55524ad8f3e')\"\n",
              "            title=\"Suggest charts\"\n",
              "            style=\"display:none;\">\n",
              "\n",
              "<svg xmlns=\"http://www.w3.org/2000/svg\" height=\"24px\"viewBox=\"0 0 24 24\"\n",
              "     width=\"24px\">\n",
              "    <g>\n",
              "        <path d=\"M19 3H5c-1.1 0-2 .9-2 2v14c0 1.1.9 2 2 2h14c1.1 0 2-.9 2-2V5c0-1.1-.9-2-2-2zM9 17H7v-7h2v7zm4 0h-2V7h2v10zm4 0h-2v-4h2v4z\"/>\n",
              "    </g>\n",
              "</svg>\n",
              "  </button>\n",
              "\n",
              "<style>\n",
              "  .colab-df-quickchart {\n",
              "      --bg-color: #E8F0FE;\n",
              "      --fill-color: #1967D2;\n",
              "      --hover-bg-color: #E2EBFA;\n",
              "      --hover-fill-color: #174EA6;\n",
              "      --disabled-fill-color: #AAA;\n",
              "      --disabled-bg-color: #DDD;\n",
              "  }\n",
              "\n",
              "  [theme=dark] .colab-df-quickchart {\n",
              "      --bg-color: #3B4455;\n",
              "      --fill-color: #D2E3FC;\n",
              "      --hover-bg-color: #434B5C;\n",
              "      --hover-fill-color: #FFFFFF;\n",
              "      --disabled-bg-color: #3B4455;\n",
              "      --disabled-fill-color: #666;\n",
              "  }\n",
              "\n",
              "  .colab-df-quickchart {\n",
              "    background-color: var(--bg-color);\n",
              "    border: none;\n",
              "    border-radius: 50%;\n",
              "    cursor: pointer;\n",
              "    display: none;\n",
              "    fill: var(--fill-color);\n",
              "    height: 32px;\n",
              "    padding: 0;\n",
              "    width: 32px;\n",
              "  }\n",
              "\n",
              "  .colab-df-quickchart:hover {\n",
              "    background-color: var(--hover-bg-color);\n",
              "    box-shadow: 0 1px 2px rgba(60, 64, 67, 0.3), 0 1px 3px 1px rgba(60, 64, 67, 0.15);\n",
              "    fill: var(--button-hover-fill-color);\n",
              "  }\n",
              "\n",
              "  .colab-df-quickchart-complete:disabled,\n",
              "  .colab-df-quickchart-complete:disabled:hover {\n",
              "    background-color: var(--disabled-bg-color);\n",
              "    fill: var(--disabled-fill-color);\n",
              "    box-shadow: none;\n",
              "  }\n",
              "\n",
              "  .colab-df-spinner {\n",
              "    border: 2px solid var(--fill-color);\n",
              "    border-color: transparent;\n",
              "    border-bottom-color: var(--fill-color);\n",
              "    animation:\n",
              "      spin 1s steps(1) infinite;\n",
              "  }\n",
              "\n",
              "  @keyframes spin {\n",
              "    0% {\n",
              "      border-color: transparent;\n",
              "      border-bottom-color: var(--fill-color);\n",
              "      border-left-color: var(--fill-color);\n",
              "    }\n",
              "    20% {\n",
              "      border-color: transparent;\n",
              "      border-left-color: var(--fill-color);\n",
              "      border-top-color: var(--fill-color);\n",
              "    }\n",
              "    30% {\n",
              "      border-color: transparent;\n",
              "      border-left-color: var(--fill-color);\n",
              "      border-top-color: var(--fill-color);\n",
              "      border-right-color: var(--fill-color);\n",
              "    }\n",
              "    40% {\n",
              "      border-color: transparent;\n",
              "      border-right-color: var(--fill-color);\n",
              "      border-top-color: var(--fill-color);\n",
              "    }\n",
              "    60% {\n",
              "      border-color: transparent;\n",
              "      border-right-color: var(--fill-color);\n",
              "    }\n",
              "    80% {\n",
              "      border-color: transparent;\n",
              "      border-right-color: var(--fill-color);\n",
              "      border-bottom-color: var(--fill-color);\n",
              "    }\n",
              "    90% {\n",
              "      border-color: transparent;\n",
              "      border-bottom-color: var(--fill-color);\n",
              "    }\n",
              "  }\n",
              "</style>\n",
              "\n",
              "  <script>\n",
              "    async function quickchart(key) {\n",
              "      const quickchartButtonEl =\n",
              "        document.querySelector('#' + key + ' button');\n",
              "      quickchartButtonEl.disabled = true;  // To prevent multiple clicks.\n",
              "      quickchartButtonEl.classList.add('colab-df-spinner');\n",
              "      try {\n",
              "        const charts = await google.colab.kernel.invokeFunction(\n",
              "            'suggestCharts', [key], {});\n",
              "      } catch (error) {\n",
              "        console.error('Error during call to suggestCharts:', error);\n",
              "      }\n",
              "      quickchartButtonEl.classList.remove('colab-df-spinner');\n",
              "      quickchartButtonEl.classList.add('colab-df-quickchart-complete');\n",
              "    }\n",
              "    (() => {\n",
              "      let quickchartButtonEl =\n",
              "        document.querySelector('#df-7f7622c2-3e4e-48ac-88d0-b55524ad8f3e button');\n",
              "      quickchartButtonEl.style.display =\n",
              "        google.colab.kernel.accessAllowed ? 'block' : 'none';\n",
              "    })();\n",
              "  </script>\n",
              "</div>\n",
              "\n",
              "    </div>\n",
              "  </div>\n"
            ]
          },
          "metadata": {},
          "execution_count": 46
        }
      ],
      "source": [
        "wine_subset.sample(4,random_state=1234).reset_index(drop=True)"
      ]
    },
    {
      "cell_type": "markdown",
      "metadata": {
        "id": "x-ia8dfA92vT"
      },
      "source": [
        "### <font color='blue' size=5pt> Make text pre-processing faster\n",
        "\n",
        "<font color='red'> We want to use vectorized functions that run very efficiently!</font>"
      ]
    },
    {
      "cell_type": "code",
      "execution_count": null,
      "metadata": {
        "colab": {
          "base_uri": "https://localhost:8080/",
          "height": 35
        },
        "id": "GFwEu7iN-BAi",
        "outputId": "abd8b7f4-a9d3-4cd4-f19b-53c10e272669"
      },
      "outputs": [
        {
          "output_type": "execute_result",
          "data": {
            "text/plain": [
              "\"Aromas include tropical fruit, broom, brimstone and dried herb. The palate isn't overly expressive, offering unripened apple, citrus and dried sage alongside brisk acidity.\""
            ],
            "application/vnd.google.colaboratory.intrinsic+json": {
              "type": "string"
            }
          },
          "metadata": {},
          "execution_count": 10
        }
      ],
      "source": [
        "wine_subset.description[0]"
      ]
    },
    {
      "cell_type": "code",
      "execution_count": null,
      "metadata": {
        "id": "a_XjCCrKuriH"
      },
      "outputs": [],
      "source": [
        "# this is the trick: we included a fakeword at the end of each row for the reviews\n",
        "reviews = wine_subset.description.values + ' '+'fakeword'+' '"
      ]
    },
    {
      "cell_type": "code",
      "execution_count": null,
      "metadata": {
        "colab": {
          "base_uri": "https://localhost:8080/"
        },
        "id": "q7lFQHqDvO3h",
        "outputId": "e046e709-395f-45f9-c9bd-020c027c4e45"
      },
      "outputs": [
        {
          "output_type": "stream",
          "name": "stderr",
          "text": [
            "100%|██████████| 129971/129971 [00:00<00:00, 1018254.62it/s]\n"
          ]
        }
      ],
      "source": [
        "joined_reviews = ' '\n",
        "\n",
        "for i in tqdm(range(len(reviews))):\n",
        "  joined_reviews = joined_reviews+reviews[i]"
      ]
    },
    {
      "cell_type": "code",
      "execution_count": null,
      "metadata": {
        "colab": {
          "base_uri": "https://localhost:8080/",
          "height": 174
        },
        "id": "KzzmpwjJ-2DS",
        "outputId": "2ded4af4-ff3b-4506-fb0e-a4b7712bd8d1"
      },
      "outputs": [
        {
          "output_type": "execute_result",
          "data": {
            "text/plain": [
              "\" Aromas include tropical fruit, broom, brimstone and dried herb. The palate isn't overly expressive, offering unripened apple, citrus and dried sage alongside brisk acidity. fakeword This is ripe and fruity, a wine that is smooth while still structured. Firm tannins are filled out with juicy red berry fruits and freshened with acidity. It's  already drinkable, although it will certainly be better from 2016. fakeword Tart and snappy, the flavors of lime flesh and rind dominate. Some green pineapple pokes through, with crisp acidity underscoring the flavors. The wine was all stainless-steel fermented. fakeword Pineapple rind, lemon pith and orange blossom start off the aromas. The palate is a bit more opulent, with notes of honey-drizzled guava and mango giving way to a slightly astringent, semidry finish. fakeword Much like the regular bottling from 2012, this comes across as rather rough and tannic, with rustic, earthy, herbal characteristics. Nonetheless, if you think of it as a pleasantly unfussy country wine, it's a good companion to a hearty winter stew. fakeword Blackberry and raspberry aromas show a typical Navarran whiff of green herbs and, in this case, horseradish. In the mouth, this is fairly full bodied, with tomatoey acidity. Spicy, herbal flavors complement dark plum fruit, while the finish is fresh but grabby. fakeword Here's a bright, informal red that opens with aromas of candied berry, white pepper and savory herb that carry over to the palate. It's balanced \""
            ],
            "application/vnd.google.colaboratory.intrinsic+json": {
              "type": "string"
            }
          },
          "metadata": {},
          "execution_count": 22
        }
      ],
      "source": [
        "# here in joined_reviews we got a monster long sentence!\n",
        "joined_reviews[:1500]"
      ]
    },
    {
      "cell_type": "markdown",
      "source": [
        "## Here we apply vectorized functions"
      ],
      "metadata": {
        "id": "3zqzxx4vqA8q"
      }
    },
    {
      "cell_type": "code",
      "execution_count": null,
      "metadata": {
        "id": "mU-PoWz5mzi1"
      },
      "outputs": [],
      "source": [
        "# here we do the text pre-processing very fast\n",
        "# remove punctuation\n",
        "wine_descriptions = re.sub('[^a-zA-Z0-9 ]','',joined_reviews)\n",
        "# remove stopwords\n",
        "wine_descriptions = remove_stopwords(wine_descriptions.lower())\n",
        "# next we can stem or lemmatize\n",
        "wine_descriptions = [lemma.lemmatize(word) for word in wine_descriptions.split()]"
      ]
    },
    {
      "cell_type": "code",
      "execution_count": null,
      "metadata": {
        "id": "f_AvVsXdwzH5"
      },
      "outputs": [],
      "source": [
        "wine_descriptions = \" \".join(wine_descriptions)"
      ]
    },
    {
      "cell_type": "code",
      "execution_count": null,
      "metadata": {
        "id": "LlHnVvQww6pY"
      },
      "outputs": [],
      "source": [
        "documents = wine_descriptions.split('fakeword')"
      ]
    },
    {
      "cell_type": "code",
      "execution_count": null,
      "metadata": {
        "colab": {
          "base_uri": "https://localhost:8080/",
          "height": 56
        },
        "id": "4Agln6WC-r97",
        "outputId": "86cd1eff-19f8-4815-8343-993f57dbee74"
      },
      "outputs": [
        {
          "output_type": "execute_result",
          "data": {
            "text/plain": [
              "''"
            ],
            "application/vnd.google.colaboratory.intrinsic+json": {
              "type": "string"
            }
          },
          "metadata": {},
          "execution_count": 53
        }
      ],
      "source": [
        "documents[-1]"
      ]
    },
    {
      "cell_type": "code",
      "source": [],
      "metadata": {
        "id": "Ul8w9u-rhzgz"
      },
      "execution_count": null,
      "outputs": []
    },
    {
      "cell_type": "markdown",
      "source": [
        "# Naive Tokenization\n",
        "\n",
        "It takes too long to run!"
      ],
      "metadata": {
        "id": "yIZ2544viI2Y"
      }
    },
    {
      "cell_type": "code",
      "source": [
        "len(reviews)"
      ],
      "metadata": {
        "colab": {
          "base_uri": "https://localhost:8080/"
        },
        "outputId": "658b155c-d980-4ec2-c43d-56948c3c313e",
        "id": "LjeFcF2CiI2c"
      },
      "execution_count": null,
      "outputs": [
        {
          "output_type": "execute_result",
          "data": {
            "text/plain": [
              "129971"
            ]
          },
          "metadata": {},
          "execution_count": 12
        }
      ]
    },
    {
      "cell_type": "code",
      "source": [
        "allreviews = [] # we designate a variable for holding the pre-processed reviews\n",
        "for review in reviews:\n",
        "    txt = re.sub('[^a-zA-Z0-9 ]','',review) # removes all special characters and punctuation\n",
        "    txt = txt.lower() # we make all letters lower case\n",
        "    txt = txt.split() # extracting the different words\n",
        "    txt = [word for word in txt if not word in set(stopwords.words('english'))] # we throw all the non-important words\n",
        "    #txt = [stemmer.stem(word) for word in txt] # this would be the application of Porter Stemmer\n",
        "    txt = [lemmatizer.lemmatize(word) for word in txt] # we make unique identifiers to words that have common roots\n",
        "    txt = ' '.join(txt) # we assemble back the remaing rooted words into a pre-processed review\n",
        "    allreviews.append(txt)"
      ],
      "metadata": {
        "colab": {
          "base_uri": "https://localhost:8080/",
          "height": 391
        },
        "outputId": "1b2a96a9-bf49-465a-cd5e-60cb05257e01",
        "id": "PoT1noGJiI2c"
      },
      "execution_count": null,
      "outputs": [
        {
          "output_type": "error",
          "ename": "KeyboardInterrupt",
          "evalue": "",
          "traceback": [
            "\u001b[0;31m---------------------------------------------------------------------------\u001b[0m",
            "\u001b[0;31mKeyboardInterrupt\u001b[0m                         Traceback (most recent call last)",
            "\u001b[0;32m<ipython-input-19-b9ca9a734b1f>\u001b[0m in \u001b[0;36m<cell line: 2>\u001b[0;34m()\u001b[0m\n\u001b[1;32m      4\u001b[0m     \u001b[0mtxt\u001b[0m \u001b[0;34m=\u001b[0m \u001b[0mtxt\u001b[0m\u001b[0;34m.\u001b[0m\u001b[0mlower\u001b[0m\u001b[0;34m(\u001b[0m\u001b[0;34m)\u001b[0m \u001b[0;31m# we make all letters lower case\u001b[0m\u001b[0;34m\u001b[0m\u001b[0;34m\u001b[0m\u001b[0m\n\u001b[1;32m      5\u001b[0m     \u001b[0mtxt\u001b[0m \u001b[0;34m=\u001b[0m \u001b[0mtxt\u001b[0m\u001b[0;34m.\u001b[0m\u001b[0msplit\u001b[0m\u001b[0;34m(\u001b[0m\u001b[0;34m)\u001b[0m \u001b[0;31m# extracting the different words\u001b[0m\u001b[0;34m\u001b[0m\u001b[0;34m\u001b[0m\u001b[0m\n\u001b[0;32m----> 6\u001b[0;31m     \u001b[0mtxt\u001b[0m \u001b[0;34m=\u001b[0m \u001b[0;34m[\u001b[0m\u001b[0mword\u001b[0m \u001b[0;32mfor\u001b[0m \u001b[0mword\u001b[0m \u001b[0;32min\u001b[0m \u001b[0mtxt\u001b[0m \u001b[0;32mif\u001b[0m \u001b[0;32mnot\u001b[0m \u001b[0mword\u001b[0m \u001b[0;32min\u001b[0m \u001b[0mset\u001b[0m\u001b[0;34m(\u001b[0m\u001b[0mstopwords\u001b[0m\u001b[0;34m.\u001b[0m\u001b[0mwords\u001b[0m\u001b[0;34m(\u001b[0m\u001b[0;34m'english'\u001b[0m\u001b[0;34m)\u001b[0m\u001b[0;34m)\u001b[0m\u001b[0;34m]\u001b[0m \u001b[0;31m# we throw all the non-important words\u001b[0m\u001b[0;34m\u001b[0m\u001b[0;34m\u001b[0m\u001b[0m\n\u001b[0m\u001b[1;32m      7\u001b[0m     \u001b[0;31m#txt = [stemmer.stem(word) for word in txt] # this would be the application of Porter Stemmer\u001b[0m\u001b[0;34m\u001b[0m\u001b[0;34m\u001b[0m\u001b[0m\n\u001b[1;32m      8\u001b[0m     \u001b[0mtxt\u001b[0m \u001b[0;34m=\u001b[0m \u001b[0;34m[\u001b[0m\u001b[0mlemmatizer\u001b[0m\u001b[0;34m.\u001b[0m\u001b[0mlemmatize\u001b[0m\u001b[0;34m(\u001b[0m\u001b[0mword\u001b[0m\u001b[0;34m)\u001b[0m \u001b[0;32mfor\u001b[0m \u001b[0mword\u001b[0m \u001b[0;32min\u001b[0m \u001b[0mtxt\u001b[0m\u001b[0;34m]\u001b[0m \u001b[0;31m# we make unique identifiers to words that have common roots\u001b[0m\u001b[0;34m\u001b[0m\u001b[0;34m\u001b[0m\u001b[0m\n",
            "\u001b[0;32m<ipython-input-19-b9ca9a734b1f>\u001b[0m in \u001b[0;36m<listcomp>\u001b[0;34m(.0)\u001b[0m\n\u001b[1;32m      4\u001b[0m     \u001b[0mtxt\u001b[0m \u001b[0;34m=\u001b[0m \u001b[0mtxt\u001b[0m\u001b[0;34m.\u001b[0m\u001b[0mlower\u001b[0m\u001b[0;34m(\u001b[0m\u001b[0;34m)\u001b[0m \u001b[0;31m# we make all letters lower case\u001b[0m\u001b[0;34m\u001b[0m\u001b[0;34m\u001b[0m\u001b[0m\n\u001b[1;32m      5\u001b[0m     \u001b[0mtxt\u001b[0m \u001b[0;34m=\u001b[0m \u001b[0mtxt\u001b[0m\u001b[0;34m.\u001b[0m\u001b[0msplit\u001b[0m\u001b[0;34m(\u001b[0m\u001b[0;34m)\u001b[0m \u001b[0;31m# extracting the different words\u001b[0m\u001b[0;34m\u001b[0m\u001b[0;34m\u001b[0m\u001b[0m\n\u001b[0;32m----> 6\u001b[0;31m     \u001b[0mtxt\u001b[0m \u001b[0;34m=\u001b[0m \u001b[0;34m[\u001b[0m\u001b[0mword\u001b[0m \u001b[0;32mfor\u001b[0m \u001b[0mword\u001b[0m \u001b[0;32min\u001b[0m \u001b[0mtxt\u001b[0m \u001b[0;32mif\u001b[0m \u001b[0;32mnot\u001b[0m \u001b[0mword\u001b[0m \u001b[0;32min\u001b[0m \u001b[0mset\u001b[0m\u001b[0;34m(\u001b[0m\u001b[0mstopwords\u001b[0m\u001b[0;34m.\u001b[0m\u001b[0mwords\u001b[0m\u001b[0;34m(\u001b[0m\u001b[0;34m'english'\u001b[0m\u001b[0;34m)\u001b[0m\u001b[0;34m)\u001b[0m\u001b[0;34m]\u001b[0m \u001b[0;31m# we throw all the non-important words\u001b[0m\u001b[0;34m\u001b[0m\u001b[0;34m\u001b[0m\u001b[0m\n\u001b[0m\u001b[1;32m      7\u001b[0m     \u001b[0;31m#txt = [stemmer.stem(word) for word in txt] # this would be the application of Porter Stemmer\u001b[0m\u001b[0;34m\u001b[0m\u001b[0;34m\u001b[0m\u001b[0m\n\u001b[1;32m      8\u001b[0m     \u001b[0mtxt\u001b[0m \u001b[0;34m=\u001b[0m \u001b[0;34m[\u001b[0m\u001b[0mlemmatizer\u001b[0m\u001b[0;34m.\u001b[0m\u001b[0mlemmatize\u001b[0m\u001b[0;34m(\u001b[0m\u001b[0mword\u001b[0m\u001b[0;34m)\u001b[0m \u001b[0;32mfor\u001b[0m \u001b[0mword\u001b[0m \u001b[0;32min\u001b[0m \u001b[0mtxt\u001b[0m\u001b[0;34m]\u001b[0m \u001b[0;31m# we make unique identifiers to words that have common roots\u001b[0m\u001b[0;34m\u001b[0m\u001b[0;34m\u001b[0m\u001b[0m\n",
            "\u001b[0;32m/usr/local/lib/python3.10/dist-packages/nltk/corpus/reader/wordlist.py\u001b[0m in \u001b[0;36mwords\u001b[0;34m(self, fileids, ignore_lines_startswith)\u001b[0m\n\u001b[1;32m     19\u001b[0m         return [\n\u001b[1;32m     20\u001b[0m             \u001b[0mline\u001b[0m\u001b[0;34m\u001b[0m\u001b[0;34m\u001b[0m\u001b[0m\n\u001b[0;32m---> 21\u001b[0;31m             \u001b[0;32mfor\u001b[0m \u001b[0mline\u001b[0m \u001b[0;32min\u001b[0m \u001b[0mline_tokenize\u001b[0m\u001b[0;34m(\u001b[0m\u001b[0mself\u001b[0m\u001b[0;34m.\u001b[0m\u001b[0mraw\u001b[0m\u001b[0;34m(\u001b[0m\u001b[0mfileids\u001b[0m\u001b[0;34m)\u001b[0m\u001b[0;34m)\u001b[0m\u001b[0;34m\u001b[0m\u001b[0;34m\u001b[0m\u001b[0m\n\u001b[0m\u001b[1;32m     22\u001b[0m             \u001b[0;32mif\u001b[0m \u001b[0;32mnot\u001b[0m \u001b[0mline\u001b[0m\u001b[0;34m.\u001b[0m\u001b[0mstartswith\u001b[0m\u001b[0;34m(\u001b[0m\u001b[0mignore_lines_startswith\u001b[0m\u001b[0;34m)\u001b[0m\u001b[0;34m\u001b[0m\u001b[0;34m\u001b[0m\u001b[0m\n\u001b[1;32m     23\u001b[0m         ]\n",
            "\u001b[0;32m/usr/local/lib/python3.10/dist-packages/nltk/corpus/reader/api.py\u001b[0m in \u001b[0;36mraw\u001b[0;34m(self, fileids)\u001b[0m\n\u001b[1;32m    216\u001b[0m         \u001b[0mcontents\u001b[0m \u001b[0;34m=\u001b[0m \u001b[0;34m[\u001b[0m\u001b[0;34m]\u001b[0m\u001b[0;34m\u001b[0m\u001b[0;34m\u001b[0m\u001b[0m\n\u001b[1;32m    217\u001b[0m         \u001b[0;32mfor\u001b[0m \u001b[0mf\u001b[0m \u001b[0;32min\u001b[0m \u001b[0mfileids\u001b[0m\u001b[0;34m:\u001b[0m\u001b[0;34m\u001b[0m\u001b[0;34m\u001b[0m\u001b[0m\n\u001b[0;32m--> 218\u001b[0;31m             \u001b[0;32mwith\u001b[0m \u001b[0mself\u001b[0m\u001b[0;34m.\u001b[0m\u001b[0mopen\u001b[0m\u001b[0;34m(\u001b[0m\u001b[0mf\u001b[0m\u001b[0;34m)\u001b[0m \u001b[0;32mas\u001b[0m \u001b[0mfp\u001b[0m\u001b[0;34m:\u001b[0m\u001b[0;34m\u001b[0m\u001b[0;34m\u001b[0m\u001b[0m\n\u001b[0m\u001b[1;32m    219\u001b[0m                 \u001b[0mcontents\u001b[0m\u001b[0;34m.\u001b[0m\u001b[0mappend\u001b[0m\u001b[0;34m(\u001b[0m\u001b[0mfp\u001b[0m\u001b[0;34m.\u001b[0m\u001b[0mread\u001b[0m\u001b[0;34m(\u001b[0m\u001b[0;34m)\u001b[0m\u001b[0;34m)\u001b[0m\u001b[0;34m\u001b[0m\u001b[0;34m\u001b[0m\u001b[0m\n\u001b[1;32m    220\u001b[0m         \u001b[0;32mreturn\u001b[0m \u001b[0mconcat\u001b[0m\u001b[0;34m(\u001b[0m\u001b[0mcontents\u001b[0m\u001b[0;34m)\u001b[0m\u001b[0;34m\u001b[0m\u001b[0;34m\u001b[0m\u001b[0m\n",
            "\u001b[0;32m/usr/local/lib/python3.10/dist-packages/nltk/corpus/reader/api.py\u001b[0m in \u001b[0;36mopen\u001b[0;34m(self, file)\u001b[0m\n\u001b[1;32m    229\u001b[0m         \"\"\"\n\u001b[1;32m    230\u001b[0m         \u001b[0mencoding\u001b[0m \u001b[0;34m=\u001b[0m \u001b[0mself\u001b[0m\u001b[0;34m.\u001b[0m\u001b[0mencoding\u001b[0m\u001b[0;34m(\u001b[0m\u001b[0mfile\u001b[0m\u001b[0;34m)\u001b[0m\u001b[0;34m\u001b[0m\u001b[0;34m\u001b[0m\u001b[0m\n\u001b[0;32m--> 231\u001b[0;31m         \u001b[0mstream\u001b[0m \u001b[0;34m=\u001b[0m \u001b[0mself\u001b[0m\u001b[0;34m.\u001b[0m\u001b[0m_root\u001b[0m\u001b[0;34m.\u001b[0m\u001b[0mjoin\u001b[0m\u001b[0;34m(\u001b[0m\u001b[0mfile\u001b[0m\u001b[0;34m)\u001b[0m\u001b[0;34m.\u001b[0m\u001b[0mopen\u001b[0m\u001b[0;34m(\u001b[0m\u001b[0mencoding\u001b[0m\u001b[0;34m)\u001b[0m\u001b[0;34m\u001b[0m\u001b[0;34m\u001b[0m\u001b[0m\n\u001b[0m\u001b[1;32m    232\u001b[0m         \u001b[0;32mreturn\u001b[0m \u001b[0mstream\u001b[0m\u001b[0;34m\u001b[0m\u001b[0;34m\u001b[0m\u001b[0m\n\u001b[1;32m    233\u001b[0m \u001b[0;34m\u001b[0m\u001b[0m\n",
            "\u001b[0;32m/usr/local/lib/python3.10/dist-packages/nltk/data.py\u001b[0m in \u001b[0;36mjoin\u001b[0;34m(self, fileid)\u001b[0m\n\u001b[1;32m    332\u001b[0m     \u001b[0;32mdef\u001b[0m \u001b[0mjoin\u001b[0m\u001b[0;34m(\u001b[0m\u001b[0mself\u001b[0m\u001b[0;34m,\u001b[0m \u001b[0mfileid\u001b[0m\u001b[0;34m)\u001b[0m\u001b[0;34m:\u001b[0m\u001b[0;34m\u001b[0m\u001b[0;34m\u001b[0m\u001b[0m\n\u001b[1;32m    333\u001b[0m         \u001b[0m_path\u001b[0m \u001b[0;34m=\u001b[0m \u001b[0mos\u001b[0m\u001b[0;34m.\u001b[0m\u001b[0mpath\u001b[0m\u001b[0;34m.\u001b[0m\u001b[0mjoin\u001b[0m\u001b[0;34m(\u001b[0m\u001b[0mself\u001b[0m\u001b[0;34m.\u001b[0m\u001b[0m_path\u001b[0m\u001b[0;34m,\u001b[0m \u001b[0mfileid\u001b[0m\u001b[0;34m)\u001b[0m\u001b[0;34m\u001b[0m\u001b[0;34m\u001b[0m\u001b[0m\n\u001b[0;32m--> 334\u001b[0;31m         \u001b[0;32mreturn\u001b[0m \u001b[0mFileSystemPathPointer\u001b[0m\u001b[0;34m(\u001b[0m\u001b[0m_path\u001b[0m\u001b[0;34m)\u001b[0m\u001b[0;34m\u001b[0m\u001b[0;34m\u001b[0m\u001b[0m\n\u001b[0m\u001b[1;32m    335\u001b[0m \u001b[0;34m\u001b[0m\u001b[0m\n\u001b[1;32m    336\u001b[0m     \u001b[0;32mdef\u001b[0m \u001b[0m__repr__\u001b[0m\u001b[0;34m(\u001b[0m\u001b[0mself\u001b[0m\u001b[0;34m)\u001b[0m\u001b[0;34m:\u001b[0m\u001b[0;34m\u001b[0m\u001b[0;34m\u001b[0m\u001b[0m\n",
            "\u001b[0;32m/usr/local/lib/python3.10/dist-packages/nltk/compat.py\u001b[0m in \u001b[0;36m_decorator\u001b[0;34m(*args, **kwargs)\u001b[0m\n\u001b[1;32m     39\u001b[0m     \u001b[0;32mdef\u001b[0m \u001b[0m_decorator\u001b[0m\u001b[0;34m(\u001b[0m\u001b[0;34m*\u001b[0m\u001b[0margs\u001b[0m\u001b[0;34m,\u001b[0m \u001b[0;34m**\u001b[0m\u001b[0mkwargs\u001b[0m\u001b[0;34m)\u001b[0m\u001b[0;34m:\u001b[0m\u001b[0;34m\u001b[0m\u001b[0;34m\u001b[0m\u001b[0m\n\u001b[1;32m     40\u001b[0m         \u001b[0margs\u001b[0m \u001b[0;34m=\u001b[0m \u001b[0;34m(\u001b[0m\u001b[0margs\u001b[0m\u001b[0;34m[\u001b[0m\u001b[0;36m0\u001b[0m\u001b[0;34m]\u001b[0m\u001b[0;34m,\u001b[0m \u001b[0madd_py3_data\u001b[0m\u001b[0;34m(\u001b[0m\u001b[0margs\u001b[0m\u001b[0;34m[\u001b[0m\u001b[0;36m1\u001b[0m\u001b[0;34m]\u001b[0m\u001b[0;34m)\u001b[0m\u001b[0;34m)\u001b[0m \u001b[0;34m+\u001b[0m \u001b[0margs\u001b[0m\u001b[0;34m[\u001b[0m\u001b[0;36m2\u001b[0m\u001b[0;34m:\u001b[0m\u001b[0;34m]\u001b[0m\u001b[0;34m\u001b[0m\u001b[0;34m\u001b[0m\u001b[0m\n\u001b[0;32m---> 41\u001b[0;31m         \u001b[0;32mreturn\u001b[0m \u001b[0minit_func\u001b[0m\u001b[0;34m(\u001b[0m\u001b[0;34m*\u001b[0m\u001b[0margs\u001b[0m\u001b[0;34m,\u001b[0m \u001b[0;34m**\u001b[0m\u001b[0mkwargs\u001b[0m\u001b[0;34m)\u001b[0m\u001b[0;34m\u001b[0m\u001b[0;34m\u001b[0m\u001b[0m\n\u001b[0m\u001b[1;32m     42\u001b[0m \u001b[0;34m\u001b[0m\u001b[0m\n\u001b[1;32m     43\u001b[0m     \u001b[0;32mreturn\u001b[0m \u001b[0mwraps\u001b[0m\u001b[0;34m(\u001b[0m\u001b[0minit_func\u001b[0m\u001b[0;34m)\u001b[0m\u001b[0;34m(\u001b[0m\u001b[0m_decorator\u001b[0m\u001b[0;34m)\u001b[0m\u001b[0;34m\u001b[0m\u001b[0;34m\u001b[0m\u001b[0m\n",
            "\u001b[0;32m/usr/local/lib/python3.10/dist-packages/nltk/data.py\u001b[0m in \u001b[0;36m__init__\u001b[0;34m(self, _path)\u001b[0m\n\u001b[1;32m    309\u001b[0m \u001b[0;34m\u001b[0m\u001b[0m\n\u001b[1;32m    310\u001b[0m         \u001b[0m_path\u001b[0m \u001b[0;34m=\u001b[0m \u001b[0mos\u001b[0m\u001b[0;34m.\u001b[0m\u001b[0mpath\u001b[0m\u001b[0;34m.\u001b[0m\u001b[0mabspath\u001b[0m\u001b[0;34m(\u001b[0m\u001b[0m_path\u001b[0m\u001b[0;34m)\u001b[0m\u001b[0;34m\u001b[0m\u001b[0;34m\u001b[0m\u001b[0m\n\u001b[0;32m--> 311\u001b[0;31m         \u001b[0;32mif\u001b[0m \u001b[0;32mnot\u001b[0m \u001b[0mos\u001b[0m\u001b[0;34m.\u001b[0m\u001b[0mpath\u001b[0m\u001b[0;34m.\u001b[0m\u001b[0mexists\u001b[0m\u001b[0;34m(\u001b[0m\u001b[0m_path\u001b[0m\u001b[0;34m)\u001b[0m\u001b[0;34m:\u001b[0m\u001b[0;34m\u001b[0m\u001b[0;34m\u001b[0m\u001b[0m\n\u001b[0m\u001b[1;32m    312\u001b[0m             \u001b[0;32mraise\u001b[0m \u001b[0mOSError\u001b[0m\u001b[0;34m(\u001b[0m\u001b[0;34m\"No such file or directory: %r\"\u001b[0m \u001b[0;34m%\u001b[0m \u001b[0m_path\u001b[0m\u001b[0;34m)\u001b[0m\u001b[0;34m\u001b[0m\u001b[0;34m\u001b[0m\u001b[0m\n\u001b[1;32m    313\u001b[0m         \u001b[0mself\u001b[0m\u001b[0;34m.\u001b[0m\u001b[0m_path\u001b[0m \u001b[0;34m=\u001b[0m \u001b[0m_path\u001b[0m\u001b[0;34m\u001b[0m\u001b[0;34m\u001b[0m\u001b[0m\n",
            "\u001b[0;32m/usr/lib/python3.10/genericpath.py\u001b[0m in \u001b[0;36mexists\u001b[0;34m(path)\u001b[0m\n\u001b[1;32m     17\u001b[0m     \u001b[0;34m\"\"\"Test whether a path exists.  Returns False for broken symbolic links\"\"\"\u001b[0m\u001b[0;34m\u001b[0m\u001b[0;34m\u001b[0m\u001b[0m\n\u001b[1;32m     18\u001b[0m     \u001b[0;32mtry\u001b[0m\u001b[0;34m:\u001b[0m\u001b[0;34m\u001b[0m\u001b[0;34m\u001b[0m\u001b[0m\n\u001b[0;32m---> 19\u001b[0;31m         \u001b[0mos\u001b[0m\u001b[0;34m.\u001b[0m\u001b[0mstat\u001b[0m\u001b[0;34m(\u001b[0m\u001b[0mpath\u001b[0m\u001b[0;34m)\u001b[0m\u001b[0;34m\u001b[0m\u001b[0;34m\u001b[0m\u001b[0m\n\u001b[0m\u001b[1;32m     20\u001b[0m     \u001b[0;32mexcept\u001b[0m \u001b[0;34m(\u001b[0m\u001b[0mOSError\u001b[0m\u001b[0;34m,\u001b[0m \u001b[0mValueError\u001b[0m\u001b[0;34m)\u001b[0m\u001b[0;34m:\u001b[0m\u001b[0;34m\u001b[0m\u001b[0;34m\u001b[0m\u001b[0m\n\u001b[1;32m     21\u001b[0m         \u001b[0;32mreturn\u001b[0m \u001b[0;32mFalse\u001b[0m\u001b[0;34m\u001b[0m\u001b[0;34m\u001b[0m\u001b[0m\n",
            "\u001b[0;31mKeyboardInterrupt\u001b[0m: "
          ]
        }
      ]
    },
    {
      "cell_type": "code",
      "source": [
        "wine_subset.head()"
      ],
      "metadata": {
        "colab": {
          "base_uri": "https://localhost:8080/",
          "height": 221
        },
        "outputId": "359fe79d-67db-4b8c-f945-e38c692e05a9",
        "id": "BMNA1cg4iI2c"
      },
      "execution_count": null,
      "outputs": [
        {
          "output_type": "execute_result",
          "data": {
            "text/plain": [
              "                                         description  points\n",
              "0  Aromas include tropical fruit, broom, brimston...      87\n",
              "1  This is ripe and fruity, a wine that is smooth...      87\n",
              "2  Tart and snappy, the flavors of lime flesh and...      87\n",
              "3  Pineapple rind, lemon pith and orange blossom ...      87\n",
              "4  Much like the regular bottling from 2012, this...      87"
            ],
            "text/html": [
              "\n",
              "  <div id=\"df-c46d69d5-6768-4669-a5bc-a74f67aa55fd\" class=\"colab-df-container\">\n",
              "    <div>\n",
              "<style scoped>\n",
              "    .dataframe tbody tr th:only-of-type {\n",
              "        vertical-align: middle;\n",
              "    }\n",
              "\n",
              "    .dataframe tbody tr th {\n",
              "        vertical-align: top;\n",
              "    }\n",
              "\n",
              "    .dataframe thead th {\n",
              "        text-align: right;\n",
              "    }\n",
              "</style>\n",
              "<table border=\"1\" class=\"dataframe\">\n",
              "  <thead>\n",
              "    <tr style=\"text-align: right;\">\n",
              "      <th></th>\n",
              "      <th>description</th>\n",
              "      <th>points</th>\n",
              "    </tr>\n",
              "  </thead>\n",
              "  <tbody>\n",
              "    <tr>\n",
              "      <th>0</th>\n",
              "      <td>Aromas include tropical fruit, broom, brimston...</td>\n",
              "      <td>87</td>\n",
              "    </tr>\n",
              "    <tr>\n",
              "      <th>1</th>\n",
              "      <td>This is ripe and fruity, a wine that is smooth...</td>\n",
              "      <td>87</td>\n",
              "    </tr>\n",
              "    <tr>\n",
              "      <th>2</th>\n",
              "      <td>Tart and snappy, the flavors of lime flesh and...</td>\n",
              "      <td>87</td>\n",
              "    </tr>\n",
              "    <tr>\n",
              "      <th>3</th>\n",
              "      <td>Pineapple rind, lemon pith and orange blossom ...</td>\n",
              "      <td>87</td>\n",
              "    </tr>\n",
              "    <tr>\n",
              "      <th>4</th>\n",
              "      <td>Much like the regular bottling from 2012, this...</td>\n",
              "      <td>87</td>\n",
              "    </tr>\n",
              "  </tbody>\n",
              "</table>\n",
              "</div>\n",
              "    <div class=\"colab-df-buttons\">\n",
              "\n",
              "  <div class=\"colab-df-container\">\n",
              "    <button class=\"colab-df-convert\" onclick=\"convertToInteractive('df-c46d69d5-6768-4669-a5bc-a74f67aa55fd')\"\n",
              "            title=\"Convert this dataframe to an interactive table.\"\n",
              "            style=\"display:none;\">\n",
              "\n",
              "  <svg xmlns=\"http://www.w3.org/2000/svg\" height=\"24px\" viewBox=\"0 -960 960 960\">\n",
              "    <path d=\"M120-120v-720h720v720H120Zm60-500h600v-160H180v160Zm220 220h160v-160H400v160Zm0 220h160v-160H400v160ZM180-400h160v-160H180v160Zm440 0h160v-160H620v160ZM180-180h160v-160H180v160Zm440 0h160v-160H620v160Z\"/>\n",
              "  </svg>\n",
              "    </button>\n",
              "\n",
              "  <style>\n",
              "    .colab-df-container {\n",
              "      display:flex;\n",
              "      gap: 12px;\n",
              "    }\n",
              "\n",
              "    .colab-df-convert {\n",
              "      background-color: #E8F0FE;\n",
              "      border: none;\n",
              "      border-radius: 50%;\n",
              "      cursor: pointer;\n",
              "      display: none;\n",
              "      fill: #1967D2;\n",
              "      height: 32px;\n",
              "      padding: 0 0 0 0;\n",
              "      width: 32px;\n",
              "    }\n",
              "\n",
              "    .colab-df-convert:hover {\n",
              "      background-color: #E2EBFA;\n",
              "      box-shadow: 0px 1px 2px rgba(60, 64, 67, 0.3), 0px 1px 3px 1px rgba(60, 64, 67, 0.15);\n",
              "      fill: #174EA6;\n",
              "    }\n",
              "\n",
              "    .colab-df-buttons div {\n",
              "      margin-bottom: 4px;\n",
              "    }\n",
              "\n",
              "    [theme=dark] .colab-df-convert {\n",
              "      background-color: #3B4455;\n",
              "      fill: #D2E3FC;\n",
              "    }\n",
              "\n",
              "    [theme=dark] .colab-df-convert:hover {\n",
              "      background-color: #434B5C;\n",
              "      box-shadow: 0px 1px 3px 1px rgba(0, 0, 0, 0.15);\n",
              "      filter: drop-shadow(0px 1px 2px rgba(0, 0, 0, 0.3));\n",
              "      fill: #FFFFFF;\n",
              "    }\n",
              "  </style>\n",
              "\n",
              "    <script>\n",
              "      const buttonEl =\n",
              "        document.querySelector('#df-c46d69d5-6768-4669-a5bc-a74f67aa55fd button.colab-df-convert');\n",
              "      buttonEl.style.display =\n",
              "        google.colab.kernel.accessAllowed ? 'block' : 'none';\n",
              "\n",
              "      async function convertToInteractive(key) {\n",
              "        const element = document.querySelector('#df-c46d69d5-6768-4669-a5bc-a74f67aa55fd');\n",
              "        const dataTable =\n",
              "          await google.colab.kernel.invokeFunction('convertToInteractive',\n",
              "                                                    [key], {});\n",
              "        if (!dataTable) return;\n",
              "\n",
              "        const docLinkHtml = 'Like what you see? Visit the ' +\n",
              "          '<a target=\"_blank\" href=https://colab.research.google.com/notebooks/data_table.ipynb>data table notebook</a>'\n",
              "          + ' to learn more about interactive tables.';\n",
              "        element.innerHTML = '';\n",
              "        dataTable['output_type'] = 'display_data';\n",
              "        await google.colab.output.renderOutput(dataTable, element);\n",
              "        const docLink = document.createElement('div');\n",
              "        docLink.innerHTML = docLinkHtml;\n",
              "        element.appendChild(docLink);\n",
              "      }\n",
              "    </script>\n",
              "  </div>\n",
              "\n",
              "\n",
              "<div id=\"df-1eac9069-9f97-4c37-a845-9652a09efe37\">\n",
              "  <button class=\"colab-df-quickchart\" onclick=\"quickchart('df-1eac9069-9f97-4c37-a845-9652a09efe37')\"\n",
              "            title=\"Suggest charts\"\n",
              "            style=\"display:none;\">\n",
              "\n",
              "<svg xmlns=\"http://www.w3.org/2000/svg\" height=\"24px\"viewBox=\"0 0 24 24\"\n",
              "     width=\"24px\">\n",
              "    <g>\n",
              "        <path d=\"M19 3H5c-1.1 0-2 .9-2 2v14c0 1.1.9 2 2 2h14c1.1 0 2-.9 2-2V5c0-1.1-.9-2-2-2zM9 17H7v-7h2v7zm4 0h-2V7h2v10zm4 0h-2v-4h2v4z\"/>\n",
              "    </g>\n",
              "</svg>\n",
              "  </button>\n",
              "\n",
              "<style>\n",
              "  .colab-df-quickchart {\n",
              "      --bg-color: #E8F0FE;\n",
              "      --fill-color: #1967D2;\n",
              "      --hover-bg-color: #E2EBFA;\n",
              "      --hover-fill-color: #174EA6;\n",
              "      --disabled-fill-color: #AAA;\n",
              "      --disabled-bg-color: #DDD;\n",
              "  }\n",
              "\n",
              "  [theme=dark] .colab-df-quickchart {\n",
              "      --bg-color: #3B4455;\n",
              "      --fill-color: #D2E3FC;\n",
              "      --hover-bg-color: #434B5C;\n",
              "      --hover-fill-color: #FFFFFF;\n",
              "      --disabled-bg-color: #3B4455;\n",
              "      --disabled-fill-color: #666;\n",
              "  }\n",
              "\n",
              "  .colab-df-quickchart {\n",
              "    background-color: var(--bg-color);\n",
              "    border: none;\n",
              "    border-radius: 50%;\n",
              "    cursor: pointer;\n",
              "    display: none;\n",
              "    fill: var(--fill-color);\n",
              "    height: 32px;\n",
              "    padding: 0;\n",
              "    width: 32px;\n",
              "  }\n",
              "\n",
              "  .colab-df-quickchart:hover {\n",
              "    background-color: var(--hover-bg-color);\n",
              "    box-shadow: 0 1px 2px rgba(60, 64, 67, 0.3), 0 1px 3px 1px rgba(60, 64, 67, 0.15);\n",
              "    fill: var(--button-hover-fill-color);\n",
              "  }\n",
              "\n",
              "  .colab-df-quickchart-complete:disabled,\n",
              "  .colab-df-quickchart-complete:disabled:hover {\n",
              "    background-color: var(--disabled-bg-color);\n",
              "    fill: var(--disabled-fill-color);\n",
              "    box-shadow: none;\n",
              "  }\n",
              "\n",
              "  .colab-df-spinner {\n",
              "    border: 2px solid var(--fill-color);\n",
              "    border-color: transparent;\n",
              "    border-bottom-color: var(--fill-color);\n",
              "    animation:\n",
              "      spin 1s steps(1) infinite;\n",
              "  }\n",
              "\n",
              "  @keyframes spin {\n",
              "    0% {\n",
              "      border-color: transparent;\n",
              "      border-bottom-color: var(--fill-color);\n",
              "      border-left-color: var(--fill-color);\n",
              "    }\n",
              "    20% {\n",
              "      border-color: transparent;\n",
              "      border-left-color: var(--fill-color);\n",
              "      border-top-color: var(--fill-color);\n",
              "    }\n",
              "    30% {\n",
              "      border-color: transparent;\n",
              "      border-left-color: var(--fill-color);\n",
              "      border-top-color: var(--fill-color);\n",
              "      border-right-color: var(--fill-color);\n",
              "    }\n",
              "    40% {\n",
              "      border-color: transparent;\n",
              "      border-right-color: var(--fill-color);\n",
              "      border-top-color: var(--fill-color);\n",
              "    }\n",
              "    60% {\n",
              "      border-color: transparent;\n",
              "      border-right-color: var(--fill-color);\n",
              "    }\n",
              "    80% {\n",
              "      border-color: transparent;\n",
              "      border-right-color: var(--fill-color);\n",
              "      border-bottom-color: var(--fill-color);\n",
              "    }\n",
              "    90% {\n",
              "      border-color: transparent;\n",
              "      border-bottom-color: var(--fill-color);\n",
              "    }\n",
              "  }\n",
              "</style>\n",
              "\n",
              "  <script>\n",
              "    async function quickchart(key) {\n",
              "      const quickchartButtonEl =\n",
              "        document.querySelector('#' + key + ' button');\n",
              "      quickchartButtonEl.disabled = true;  // To prevent multiple clicks.\n",
              "      quickchartButtonEl.classList.add('colab-df-spinner');\n",
              "      try {\n",
              "        const charts = await google.colab.kernel.invokeFunction(\n",
              "            'suggestCharts', [key], {});\n",
              "      } catch (error) {\n",
              "        console.error('Error during call to suggestCharts:', error);\n",
              "      }\n",
              "      quickchartButtonEl.classList.remove('colab-df-spinner');\n",
              "      quickchartButtonEl.classList.add('colab-df-quickchart-complete');\n",
              "    }\n",
              "    (() => {\n",
              "      let quickchartButtonEl =\n",
              "        document.querySelector('#df-1eac9069-9f97-4c37-a845-9652a09efe37 button');\n",
              "      quickchartButtonEl.style.display =\n",
              "        google.colab.kernel.accessAllowed ? 'block' : 'none';\n",
              "    })();\n",
              "  </script>\n",
              "</div>\n",
              "\n",
              "    </div>\n",
              "  </div>\n"
            ]
          },
          "metadata": {},
          "execution_count": 45
        }
      ]
    },
    {
      "cell_type": "code",
      "execution_count": null,
      "metadata": {
        "colab": {
          "base_uri": "https://localhost:8080/",
          "height": 191
        },
        "outputId": "af2bce7b-691c-4c57-9f75-df61180daed0",
        "id": "j10pMBN9iI2d"
      },
      "outputs": [
        {
          "output_type": "execute_result",
          "data": {
            "text/plain": [
              "                                         description  points\n",
              "0  This high-end bottling features fruit from 90+...      86\n",
              "1  Mild citrus and grassy aromas are quiet, while...      82\n",
              "2  Very ripe, rich and oaky, made solidly in the ...      88\n",
              "3  This medium-sweet wine is attractively perfume...      86"
            ],
            "text/html": [
              "\n",
              "  <div id=\"df-e615357e-ef6e-4fe1-bf36-e96b6e5040fc\" class=\"colab-df-container\">\n",
              "    <div>\n",
              "<style scoped>\n",
              "    .dataframe tbody tr th:only-of-type {\n",
              "        vertical-align: middle;\n",
              "    }\n",
              "\n",
              "    .dataframe tbody tr th {\n",
              "        vertical-align: top;\n",
              "    }\n",
              "\n",
              "    .dataframe thead th {\n",
              "        text-align: right;\n",
              "    }\n",
              "</style>\n",
              "<table border=\"1\" class=\"dataframe\">\n",
              "  <thead>\n",
              "    <tr style=\"text-align: right;\">\n",
              "      <th></th>\n",
              "      <th>description</th>\n",
              "      <th>points</th>\n",
              "    </tr>\n",
              "  </thead>\n",
              "  <tbody>\n",
              "    <tr>\n",
              "      <th>0</th>\n",
              "      <td>This high-end bottling features fruit from 90+...</td>\n",
              "      <td>86</td>\n",
              "    </tr>\n",
              "    <tr>\n",
              "      <th>1</th>\n",
              "      <td>Mild citrus and grassy aromas are quiet, while...</td>\n",
              "      <td>82</td>\n",
              "    </tr>\n",
              "    <tr>\n",
              "      <th>2</th>\n",
              "      <td>Very ripe, rich and oaky, made solidly in the ...</td>\n",
              "      <td>88</td>\n",
              "    </tr>\n",
              "    <tr>\n",
              "      <th>3</th>\n",
              "      <td>This medium-sweet wine is attractively perfume...</td>\n",
              "      <td>86</td>\n",
              "    </tr>\n",
              "  </tbody>\n",
              "</table>\n",
              "</div>\n",
              "    <div class=\"colab-df-buttons\">\n",
              "\n",
              "  <div class=\"colab-df-container\">\n",
              "    <button class=\"colab-df-convert\" onclick=\"convertToInteractive('df-e615357e-ef6e-4fe1-bf36-e96b6e5040fc')\"\n",
              "            title=\"Convert this dataframe to an interactive table.\"\n",
              "            style=\"display:none;\">\n",
              "\n",
              "  <svg xmlns=\"http://www.w3.org/2000/svg\" height=\"24px\" viewBox=\"0 -960 960 960\">\n",
              "    <path d=\"M120-120v-720h720v720H120Zm60-500h600v-160H180v160Zm220 220h160v-160H400v160Zm0 220h160v-160H400v160ZM180-400h160v-160H180v160Zm440 0h160v-160H620v160ZM180-180h160v-160H180v160Zm440 0h160v-160H620v160Z\"/>\n",
              "  </svg>\n",
              "    </button>\n",
              "\n",
              "  <style>\n",
              "    .colab-df-container {\n",
              "      display:flex;\n",
              "      gap: 12px;\n",
              "    }\n",
              "\n",
              "    .colab-df-convert {\n",
              "      background-color: #E8F0FE;\n",
              "      border: none;\n",
              "      border-radius: 50%;\n",
              "      cursor: pointer;\n",
              "      display: none;\n",
              "      fill: #1967D2;\n",
              "      height: 32px;\n",
              "      padding: 0 0 0 0;\n",
              "      width: 32px;\n",
              "    }\n",
              "\n",
              "    .colab-df-convert:hover {\n",
              "      background-color: #E2EBFA;\n",
              "      box-shadow: 0px 1px 2px rgba(60, 64, 67, 0.3), 0px 1px 3px 1px rgba(60, 64, 67, 0.15);\n",
              "      fill: #174EA6;\n",
              "    }\n",
              "\n",
              "    .colab-df-buttons div {\n",
              "      margin-bottom: 4px;\n",
              "    }\n",
              "\n",
              "    [theme=dark] .colab-df-convert {\n",
              "      background-color: #3B4455;\n",
              "      fill: #D2E3FC;\n",
              "    }\n",
              "\n",
              "    [theme=dark] .colab-df-convert:hover {\n",
              "      background-color: #434B5C;\n",
              "      box-shadow: 0px 1px 3px 1px rgba(0, 0, 0, 0.15);\n",
              "      filter: drop-shadow(0px 1px 2px rgba(0, 0, 0, 0.3));\n",
              "      fill: #FFFFFF;\n",
              "    }\n",
              "  </style>\n",
              "\n",
              "    <script>\n",
              "      const buttonEl =\n",
              "        document.querySelector('#df-e615357e-ef6e-4fe1-bf36-e96b6e5040fc button.colab-df-convert');\n",
              "      buttonEl.style.display =\n",
              "        google.colab.kernel.accessAllowed ? 'block' : 'none';\n",
              "\n",
              "      async function convertToInteractive(key) {\n",
              "        const element = document.querySelector('#df-e615357e-ef6e-4fe1-bf36-e96b6e5040fc');\n",
              "        const dataTable =\n",
              "          await google.colab.kernel.invokeFunction('convertToInteractive',\n",
              "                                                    [key], {});\n",
              "        if (!dataTable) return;\n",
              "\n",
              "        const docLinkHtml = 'Like what you see? Visit the ' +\n",
              "          '<a target=\"_blank\" href=https://colab.research.google.com/notebooks/data_table.ipynb>data table notebook</a>'\n",
              "          + ' to learn more about interactive tables.';\n",
              "        element.innerHTML = '';\n",
              "        dataTable['output_type'] = 'display_data';\n",
              "        await google.colab.output.renderOutput(dataTable, element);\n",
              "        const docLink = document.createElement('div');\n",
              "        docLink.innerHTML = docLinkHtml;\n",
              "        element.appendChild(docLink);\n",
              "      }\n",
              "    </script>\n",
              "  </div>\n",
              "\n",
              "\n",
              "<div id=\"df-7f7622c2-3e4e-48ac-88d0-b55524ad8f3e\">\n",
              "  <button class=\"colab-df-quickchart\" onclick=\"quickchart('df-7f7622c2-3e4e-48ac-88d0-b55524ad8f3e')\"\n",
              "            title=\"Suggest charts\"\n",
              "            style=\"display:none;\">\n",
              "\n",
              "<svg xmlns=\"http://www.w3.org/2000/svg\" height=\"24px\"viewBox=\"0 0 24 24\"\n",
              "     width=\"24px\">\n",
              "    <g>\n",
              "        <path d=\"M19 3H5c-1.1 0-2 .9-2 2v14c0 1.1.9 2 2 2h14c1.1 0 2-.9 2-2V5c0-1.1-.9-2-2-2zM9 17H7v-7h2v7zm4 0h-2V7h2v10zm4 0h-2v-4h2v4z\"/>\n",
              "    </g>\n",
              "</svg>\n",
              "  </button>\n",
              "\n",
              "<style>\n",
              "  .colab-df-quickchart {\n",
              "      --bg-color: #E8F0FE;\n",
              "      --fill-color: #1967D2;\n",
              "      --hover-bg-color: #E2EBFA;\n",
              "      --hover-fill-color: #174EA6;\n",
              "      --disabled-fill-color: #AAA;\n",
              "      --disabled-bg-color: #DDD;\n",
              "  }\n",
              "\n",
              "  [theme=dark] .colab-df-quickchart {\n",
              "      --bg-color: #3B4455;\n",
              "      --fill-color: #D2E3FC;\n",
              "      --hover-bg-color: #434B5C;\n",
              "      --hover-fill-color: #FFFFFF;\n",
              "      --disabled-bg-color: #3B4455;\n",
              "      --disabled-fill-color: #666;\n",
              "  }\n",
              "\n",
              "  .colab-df-quickchart {\n",
              "    background-color: var(--bg-color);\n",
              "    border: none;\n",
              "    border-radius: 50%;\n",
              "    cursor: pointer;\n",
              "    display: none;\n",
              "    fill: var(--fill-color);\n",
              "    height: 32px;\n",
              "    padding: 0;\n",
              "    width: 32px;\n",
              "  }\n",
              "\n",
              "  .colab-df-quickchart:hover {\n",
              "    background-color: var(--hover-bg-color);\n",
              "    box-shadow: 0 1px 2px rgba(60, 64, 67, 0.3), 0 1px 3px 1px rgba(60, 64, 67, 0.15);\n",
              "    fill: var(--button-hover-fill-color);\n",
              "  }\n",
              "\n",
              "  .colab-df-quickchart-complete:disabled,\n",
              "  .colab-df-quickchart-complete:disabled:hover {\n",
              "    background-color: var(--disabled-bg-color);\n",
              "    fill: var(--disabled-fill-color);\n",
              "    box-shadow: none;\n",
              "  }\n",
              "\n",
              "  .colab-df-spinner {\n",
              "    border: 2px solid var(--fill-color);\n",
              "    border-color: transparent;\n",
              "    border-bottom-color: var(--fill-color);\n",
              "    animation:\n",
              "      spin 1s steps(1) infinite;\n",
              "  }\n",
              "\n",
              "  @keyframes spin {\n",
              "    0% {\n",
              "      border-color: transparent;\n",
              "      border-bottom-color: var(--fill-color);\n",
              "      border-left-color: var(--fill-color);\n",
              "    }\n",
              "    20% {\n",
              "      border-color: transparent;\n",
              "      border-left-color: var(--fill-color);\n",
              "      border-top-color: var(--fill-color);\n",
              "    }\n",
              "    30% {\n",
              "      border-color: transparent;\n",
              "      border-left-color: var(--fill-color);\n",
              "      border-top-color: var(--fill-color);\n",
              "      border-right-color: var(--fill-color);\n",
              "    }\n",
              "    40% {\n",
              "      border-color: transparent;\n",
              "      border-right-color: var(--fill-color);\n",
              "      border-top-color: var(--fill-color);\n",
              "    }\n",
              "    60% {\n",
              "      border-color: transparent;\n",
              "      border-right-color: var(--fill-color);\n",
              "    }\n",
              "    80% {\n",
              "      border-color: transparent;\n",
              "      border-right-color: var(--fill-color);\n",
              "      border-bottom-color: var(--fill-color);\n",
              "    }\n",
              "    90% {\n",
              "      border-color: transparent;\n",
              "      border-bottom-color: var(--fill-color);\n",
              "    }\n",
              "  }\n",
              "</style>\n",
              "\n",
              "  <script>\n",
              "    async function quickchart(key) {\n",
              "      const quickchartButtonEl =\n",
              "        document.querySelector('#' + key + ' button');\n",
              "      quickchartButtonEl.disabled = true;  // To prevent multiple clicks.\n",
              "      quickchartButtonEl.classList.add('colab-df-spinner');\n",
              "      try {\n",
              "        const charts = await google.colab.kernel.invokeFunction(\n",
              "            'suggestCharts', [key], {});\n",
              "      } catch (error) {\n",
              "        console.error('Error during call to suggestCharts:', error);\n",
              "      }\n",
              "      quickchartButtonEl.classList.remove('colab-df-spinner');\n",
              "      quickchartButtonEl.classList.add('colab-df-quickchart-complete');\n",
              "    }\n",
              "    (() => {\n",
              "      let quickchartButtonEl =\n",
              "        document.querySelector('#df-7f7622c2-3e4e-48ac-88d0-b55524ad8f3e button');\n",
              "      quickchartButtonEl.style.display =\n",
              "        google.colab.kernel.accessAllowed ? 'block' : 'none';\n",
              "    })();\n",
              "  </script>\n",
              "</div>\n",
              "\n",
              "    </div>\n",
              "  </div>\n"
            ]
          },
          "metadata": {},
          "execution_count": 46
        }
      ],
      "source": [
        "wine_subset.sample(4,random_state=1234).reset_index(drop=True)"
      ]
    },
    {
      "cell_type": "markdown",
      "metadata": {
        "id": "xAc_vQMaiI2d"
      },
      "source": [
        "### <font color='blue' size=5pt>The Trick\n",
        "\n",
        "<font color='red'> We want to use vectorized functions that run very efficiently!</font>"
      ]
    },
    {
      "cell_type": "code",
      "execution_count": null,
      "metadata": {
        "colab": {
          "base_uri": "https://localhost:8080/",
          "height": 35
        },
        "outputId": "abd8b7f4-a9d3-4cd4-f19b-53c10e272669",
        "id": "7hYF2WQtiI2d"
      },
      "outputs": [
        {
          "output_type": "execute_result",
          "data": {
            "text/plain": [
              "\"Aromas include tropical fruit, broom, brimstone and dried herb. The palate isn't overly expressive, offering unripened apple, citrus and dried sage alongside brisk acidity.\""
            ],
            "application/vnd.google.colaboratory.intrinsic+json": {
              "type": "string"
            }
          },
          "metadata": {},
          "execution_count": 10
        }
      ],
      "source": [
        "wine_subset.description[0]"
      ]
    },
    {
      "cell_type": "code",
      "execution_count": null,
      "metadata": {
        "id": "N7snxSAtiI2d"
      },
      "outputs": [],
      "source": [
        "# this is the trick: we included a fakeword at the end of each row for the reviews\n",
        "reviews = wine_subset.description.values + ' '+'fakeword'+' '"
      ]
    },
    {
      "cell_type": "code",
      "execution_count": null,
      "metadata": {
        "colab": {
          "base_uri": "https://localhost:8080/"
        },
        "outputId": "e046e709-395f-45f9-c9bd-020c027c4e45",
        "id": "s4VCw7fxiI2d"
      },
      "outputs": [
        {
          "output_type": "stream",
          "name": "stderr",
          "text": [
            "100%|██████████| 129971/129971 [00:00<00:00, 1018254.62it/s]\n"
          ]
        }
      ],
      "source": [
        "joined_reviews = ' '\n",
        "\n",
        "for i in tqdm(range(len(reviews))):\n",
        "  joined_reviews = joined_reviews+reviews[i]"
      ]
    },
    {
      "cell_type": "code",
      "execution_count": null,
      "metadata": {
        "colab": {
          "base_uri": "https://localhost:8080/",
          "height": 174
        },
        "outputId": "2ded4af4-ff3b-4506-fb0e-a4b7712bd8d1",
        "id": "mQdRh3EdiI2d"
      },
      "outputs": [
        {
          "output_type": "execute_result",
          "data": {
            "text/plain": [
              "\" Aromas include tropical fruit, broom, brimstone and dried herb. The palate isn't overly expressive, offering unripened apple, citrus and dried sage alongside brisk acidity. fakeword This is ripe and fruity, a wine that is smooth while still structured. Firm tannins are filled out with juicy red berry fruits and freshened with acidity. It's  already drinkable, although it will certainly be better from 2016. fakeword Tart and snappy, the flavors of lime flesh and rind dominate. Some green pineapple pokes through, with crisp acidity underscoring the flavors. The wine was all stainless-steel fermented. fakeword Pineapple rind, lemon pith and orange blossom start off the aromas. The palate is a bit more opulent, with notes of honey-drizzled guava and mango giving way to a slightly astringent, semidry finish. fakeword Much like the regular bottling from 2012, this comes across as rather rough and tannic, with rustic, earthy, herbal characteristics. Nonetheless, if you think of it as a pleasantly unfussy country wine, it's a good companion to a hearty winter stew. fakeword Blackberry and raspberry aromas show a typical Navarran whiff of green herbs and, in this case, horseradish. In the mouth, this is fairly full bodied, with tomatoey acidity. Spicy, herbal flavors complement dark plum fruit, while the finish is fresh but grabby. fakeword Here's a bright, informal red that opens with aromas of candied berry, white pepper and savory herb that carry over to the palate. It's balanced \""
            ],
            "application/vnd.google.colaboratory.intrinsic+json": {
              "type": "string"
            }
          },
          "metadata": {},
          "execution_count": 22
        }
      ],
      "source": [
        "# here in joined_reviews we got a monster long sentence!\n",
        "joined_reviews[:1500]"
      ]
    },
    {
      "cell_type": "markdown",
      "source": [
        "## Here we apply vectorized functions"
      ],
      "metadata": {
        "id": "gT9YBjDPiI2d"
      }
    },
    {
      "cell_type": "code",
      "execution_count": null,
      "metadata": {
        "id": "GHFgn2KziI2d"
      },
      "outputs": [],
      "source": [
        "# here we do the text pre-processing very fast\n",
        "# remove punctuation\n",
        "wine_descriptions = re.sub('[^a-zA-Z0-9 ]','',joined_reviews)\n",
        "# remove stopwords\n",
        "wine_descriptions = remove_stopwords(wine_descriptions.lower())\n",
        "# next we can stem or lemmatize\n",
        "wine_descriptions = [lemma.lemmatize(word) for word in wine_descriptions.split()]"
      ]
    },
    {
      "cell_type": "code",
      "execution_count": null,
      "metadata": {
        "id": "RZZRXCfviI2d"
      },
      "outputs": [],
      "source": [
        "wine_descriptions = \" \".join(wine_descriptions)"
      ]
    },
    {
      "cell_type": "code",
      "execution_count": null,
      "metadata": {
        "id": "kzREeO0hiI2d"
      },
      "outputs": [],
      "source": [
        "documents = wine_descriptions.split('fakeword')"
      ]
    },
    {
      "cell_type": "code",
      "execution_count": null,
      "metadata": {
        "colab": {
          "base_uri": "https://localhost:8080/",
          "height": 56
        },
        "outputId": "86cd1eff-19f8-4815-8343-993f57dbee74",
        "id": "t_nbRL7SiI2d"
      },
      "outputs": [
        {
          "output_type": "execute_result",
          "data": {
            "text/plain": [
              "''"
            ],
            "application/vnd.google.colaboratory.intrinsic+json": {
              "type": "string"
            }
          },
          "metadata": {},
          "execution_count": 53
        }
      ],
      "source": [
        "documents[-1]"
      ]
    },
    {
      "cell_type": "markdown",
      "metadata": {
        "id": "z3aXJDIuWxvY"
      },
      "source": [
        "###<font color='blue'> We create a function for fast text pre-processing"
      ]
    },
    {
      "cell_type": "code",
      "execution_count": null,
      "metadata": {
        "id": "nEQJZgtRW91W"
      },
      "outputs": [],
      "source": [
        "def text_preprocess(original_documents):\n",
        "  reviews = original_documents.values + ' '+'fakeword'+' '\n",
        "  joined_reviews = ' '\n",
        "  for i in range(len(reviews)):\n",
        "    joined_reviews = joined_reviews+reviews[i]\n",
        "  # here we do the text pre-processing very fast\n",
        "  # remove punctuation\n",
        "  descriptions = re.sub('[^a-zA-Z0-9 ]','',joined_reviews)\n",
        "  # remove stopwords\n",
        "  descriptions = remove_stopwords(wine_descriptions.lower())\n",
        "  # we can use Porter Stemmer or we can Lemmatize\n",
        "  # for Porter Stemmer\n",
        "  descriptions = [stemmer.stem(word) for word in descriptions.split()]\n",
        "  # next we can stem or lemmatize\n",
        "  #descriptions = [lemma.lemmatize(word) for word in descriptions.split()]\n",
        "  descriptions = \" \".join(descriptions)\n",
        "  documents = wine_descriptions.split('fakeword')\n",
        "  documents = documents[:-1]\n",
        "  return documents"
      ]
    },
    {
      "cell_type": "code",
      "execution_count": null,
      "metadata": {
        "id": "PbHZlJbMW-Ld"
      },
      "outputs": [],
      "source": [
        "documents = text_preprocess(wine_subset.description)"
      ]
    },
    {
      "cell_type": "markdown",
      "source": [
        "# Embedding for the Tokens"
      ],
      "metadata": {
        "id": "SQKZF20cqwr0"
      }
    },
    {
      "cell_type": "code",
      "source": [
        "embedding = TfidfVectorizer()\n",
        "x = embedding.fit_transform(documents)"
      ],
      "metadata": {
        "id": "QeT6Vq_Pq0iJ"
      },
      "execution_count": null,
      "outputs": []
    },
    {
      "cell_type": "code",
      "source": [],
      "metadata": {
        "id": "u_rigJCJiVGj"
      },
      "execution_count": null,
      "outputs": []
    },
    {
      "cell_type": "markdown",
      "source": [
        "## Binning the Classes"
      ],
      "metadata": {
        "id": "GIbRvw6-PVra"
      }
    },
    {
      "cell_type": "code",
      "source": [],
      "metadata": {
        "id": "-2gfkg2NPVYs"
      },
      "execution_count": null,
      "outputs": []
    },
    {
      "cell_type": "code",
      "execution_count": null,
      "metadata": {
        "id": "M0UO1fr-Dezp"
      },
      "outputs": [],
      "source": [
        "pts = wine_subset.points\n",
        "y = pts.copy().values\n",
        "y[pts>=92] = 4\n",
        "y[(pts>=90) & (pts<=91)] = 3\n",
        "y[(pts>=88) & (pts<=89)] = 2\n",
        "y[(pts>=86) & (pts<=87)] = 1\n",
        "y[(pts>=80) & (pts<=85)] = 0"
      ]
    },
    {
      "cell_type": "markdown",
      "metadata": {
        "id": "C3OezBA_uxf-"
      },
      "source": [
        "Message: If we make fewer categories we can see an improvement in prediction."
      ]
    },
    {
      "cell_type": "code",
      "execution_count": null,
      "metadata": {
        "id": "RLDguclvu5qu"
      },
      "outputs": [],
      "source": [
        "pts = wine_subset.points\n",
        "y = pts.copy().values\n",
        "y[pts>=93] = 2\n",
        "y[(pts>=88) & (pts<=92)] = 1\n",
        "y[(pts<=87)] = 0\n"
      ]
    },
    {
      "cell_type": "markdown",
      "source": [
        "## Assemble the preprocessed data"
      ],
      "metadata": {
        "id": "ups9X3BhPpd3"
      }
    },
    {
      "cell_type": "code",
      "execution_count": null,
      "metadata": {
        "id": "f0TCTsSpIa53"
      },
      "outputs": [],
      "source": [
        "df = pd.DataFrame(data=documents,columns = ['Reviews'])\n",
        "df['Category'] = y"
      ]
    },
    {
      "cell_type": "code",
      "execution_count": null,
      "metadata": {
        "colab": {
          "base_uri": "https://localhost:8080/",
          "height": 206
        },
        "id": "TOFEgteNqVby",
        "outputId": "460ab7a1-eb70-4e43-a34c-7b0f845bc56e"
      },
      "outputs": [
        {
          "output_type": "execute_result",
          "data": {
            "text/plain": [
              "                                             Reviews  Category\n",
              "0  aroma include tropical fruit broom brimstone d...         1\n",
              "1   ripe fruity wine smooth structured firm tanni...         1\n",
              "2   tart snappy flavor lime flesh rind dominate g...         1\n",
              "3   pineapple rind lemon pith orange blossom star...         1\n",
              "4   like regular bottling 2012 come rough tannic ...         1"
            ],
            "text/html": [
              "\n",
              "  <div id=\"df-3e5bf317-9d5a-4c92-8a8c-5a512eeac90a\" class=\"colab-df-container\">\n",
              "    <div>\n",
              "<style scoped>\n",
              "    .dataframe tbody tr th:only-of-type {\n",
              "        vertical-align: middle;\n",
              "    }\n",
              "\n",
              "    .dataframe tbody tr th {\n",
              "        vertical-align: top;\n",
              "    }\n",
              "\n",
              "    .dataframe thead th {\n",
              "        text-align: right;\n",
              "    }\n",
              "</style>\n",
              "<table border=\"1\" class=\"dataframe\">\n",
              "  <thead>\n",
              "    <tr style=\"text-align: right;\">\n",
              "      <th></th>\n",
              "      <th>Reviews</th>\n",
              "      <th>Category</th>\n",
              "    </tr>\n",
              "  </thead>\n",
              "  <tbody>\n",
              "    <tr>\n",
              "      <th>0</th>\n",
              "      <td>aroma include tropical fruit broom brimstone d...</td>\n",
              "      <td>1</td>\n",
              "    </tr>\n",
              "    <tr>\n",
              "      <th>1</th>\n",
              "      <td>ripe fruity wine smooth structured firm tanni...</td>\n",
              "      <td>1</td>\n",
              "    </tr>\n",
              "    <tr>\n",
              "      <th>2</th>\n",
              "      <td>tart snappy flavor lime flesh rind dominate g...</td>\n",
              "      <td>1</td>\n",
              "    </tr>\n",
              "    <tr>\n",
              "      <th>3</th>\n",
              "      <td>pineapple rind lemon pith orange blossom star...</td>\n",
              "      <td>1</td>\n",
              "    </tr>\n",
              "    <tr>\n",
              "      <th>4</th>\n",
              "      <td>like regular bottling 2012 come rough tannic ...</td>\n",
              "      <td>1</td>\n",
              "    </tr>\n",
              "  </tbody>\n",
              "</table>\n",
              "</div>\n",
              "    <div class=\"colab-df-buttons\">\n",
              "\n",
              "  <div class=\"colab-df-container\">\n",
              "    <button class=\"colab-df-convert\" onclick=\"convertToInteractive('df-3e5bf317-9d5a-4c92-8a8c-5a512eeac90a')\"\n",
              "            title=\"Convert this dataframe to an interactive table.\"\n",
              "            style=\"display:none;\">\n",
              "\n",
              "  <svg xmlns=\"http://www.w3.org/2000/svg\" height=\"24px\" viewBox=\"0 -960 960 960\">\n",
              "    <path d=\"M120-120v-720h720v720H120Zm60-500h600v-160H180v160Zm220 220h160v-160H400v160Zm0 220h160v-160H400v160ZM180-400h160v-160H180v160Zm440 0h160v-160H620v160ZM180-180h160v-160H180v160Zm440 0h160v-160H620v160Z\"/>\n",
              "  </svg>\n",
              "    </button>\n",
              "\n",
              "  <style>\n",
              "    .colab-df-container {\n",
              "      display:flex;\n",
              "      gap: 12px;\n",
              "    }\n",
              "\n",
              "    .colab-df-convert {\n",
              "      background-color: #E8F0FE;\n",
              "      border: none;\n",
              "      border-radius: 50%;\n",
              "      cursor: pointer;\n",
              "      display: none;\n",
              "      fill: #1967D2;\n",
              "      height: 32px;\n",
              "      padding: 0 0 0 0;\n",
              "      width: 32px;\n",
              "    }\n",
              "\n",
              "    .colab-df-convert:hover {\n",
              "      background-color: #E2EBFA;\n",
              "      box-shadow: 0px 1px 2px rgba(60, 64, 67, 0.3), 0px 1px 3px 1px rgba(60, 64, 67, 0.15);\n",
              "      fill: #174EA6;\n",
              "    }\n",
              "\n",
              "    .colab-df-buttons div {\n",
              "      margin-bottom: 4px;\n",
              "    }\n",
              "\n",
              "    [theme=dark] .colab-df-convert {\n",
              "      background-color: #3B4455;\n",
              "      fill: #D2E3FC;\n",
              "    }\n",
              "\n",
              "    [theme=dark] .colab-df-convert:hover {\n",
              "      background-color: #434B5C;\n",
              "      box-shadow: 0px 1px 3px 1px rgba(0, 0, 0, 0.15);\n",
              "      filter: drop-shadow(0px 1px 2px rgba(0, 0, 0, 0.3));\n",
              "      fill: #FFFFFF;\n",
              "    }\n",
              "  </style>\n",
              "\n",
              "    <script>\n",
              "      const buttonEl =\n",
              "        document.querySelector('#df-3e5bf317-9d5a-4c92-8a8c-5a512eeac90a button.colab-df-convert');\n",
              "      buttonEl.style.display =\n",
              "        google.colab.kernel.accessAllowed ? 'block' : 'none';\n",
              "\n",
              "      async function convertToInteractive(key) {\n",
              "        const element = document.querySelector('#df-3e5bf317-9d5a-4c92-8a8c-5a512eeac90a');\n",
              "        const dataTable =\n",
              "          await google.colab.kernel.invokeFunction('convertToInteractive',\n",
              "                                                    [key], {});\n",
              "        if (!dataTable) return;\n",
              "\n",
              "        const docLinkHtml = 'Like what you see? Visit the ' +\n",
              "          '<a target=\"_blank\" href=https://colab.research.google.com/notebooks/data_table.ipynb>data table notebook</a>'\n",
              "          + ' to learn more about interactive tables.';\n",
              "        element.innerHTML = '';\n",
              "        dataTable['output_type'] = 'display_data';\n",
              "        await google.colab.output.renderOutput(dataTable, element);\n",
              "        const docLink = document.createElement('div');\n",
              "        docLink.innerHTML = docLinkHtml;\n",
              "        element.appendChild(docLink);\n",
              "      }\n",
              "    </script>\n",
              "  </div>\n",
              "\n",
              "\n",
              "<div id=\"df-6b1b759e-3a82-4d15-83db-e802b012c05e\">\n",
              "  <button class=\"colab-df-quickchart\" onclick=\"quickchart('df-6b1b759e-3a82-4d15-83db-e802b012c05e')\"\n",
              "            title=\"Suggest charts\"\n",
              "            style=\"display:none;\">\n",
              "\n",
              "<svg xmlns=\"http://www.w3.org/2000/svg\" height=\"24px\"viewBox=\"0 0 24 24\"\n",
              "     width=\"24px\">\n",
              "    <g>\n",
              "        <path d=\"M19 3H5c-1.1 0-2 .9-2 2v14c0 1.1.9 2 2 2h14c1.1 0 2-.9 2-2V5c0-1.1-.9-2-2-2zM9 17H7v-7h2v7zm4 0h-2V7h2v10zm4 0h-2v-4h2v4z\"/>\n",
              "    </g>\n",
              "</svg>\n",
              "  </button>\n",
              "\n",
              "<style>\n",
              "  .colab-df-quickchart {\n",
              "      --bg-color: #E8F0FE;\n",
              "      --fill-color: #1967D2;\n",
              "      --hover-bg-color: #E2EBFA;\n",
              "      --hover-fill-color: #174EA6;\n",
              "      --disabled-fill-color: #AAA;\n",
              "      --disabled-bg-color: #DDD;\n",
              "  }\n",
              "\n",
              "  [theme=dark] .colab-df-quickchart {\n",
              "      --bg-color: #3B4455;\n",
              "      --fill-color: #D2E3FC;\n",
              "      --hover-bg-color: #434B5C;\n",
              "      --hover-fill-color: #FFFFFF;\n",
              "      --disabled-bg-color: #3B4455;\n",
              "      --disabled-fill-color: #666;\n",
              "  }\n",
              "\n",
              "  .colab-df-quickchart {\n",
              "    background-color: var(--bg-color);\n",
              "    border: none;\n",
              "    border-radius: 50%;\n",
              "    cursor: pointer;\n",
              "    display: none;\n",
              "    fill: var(--fill-color);\n",
              "    height: 32px;\n",
              "    padding: 0;\n",
              "    width: 32px;\n",
              "  }\n",
              "\n",
              "  .colab-df-quickchart:hover {\n",
              "    background-color: var(--hover-bg-color);\n",
              "    box-shadow: 0 1px 2px rgba(60, 64, 67, 0.3), 0 1px 3px 1px rgba(60, 64, 67, 0.15);\n",
              "    fill: var(--button-hover-fill-color);\n",
              "  }\n",
              "\n",
              "  .colab-df-quickchart-complete:disabled,\n",
              "  .colab-df-quickchart-complete:disabled:hover {\n",
              "    background-color: var(--disabled-bg-color);\n",
              "    fill: var(--disabled-fill-color);\n",
              "    box-shadow: none;\n",
              "  }\n",
              "\n",
              "  .colab-df-spinner {\n",
              "    border: 2px solid var(--fill-color);\n",
              "    border-color: transparent;\n",
              "    border-bottom-color: var(--fill-color);\n",
              "    animation:\n",
              "      spin 1s steps(1) infinite;\n",
              "  }\n",
              "\n",
              "  @keyframes spin {\n",
              "    0% {\n",
              "      border-color: transparent;\n",
              "      border-bottom-color: var(--fill-color);\n",
              "      border-left-color: var(--fill-color);\n",
              "    }\n",
              "    20% {\n",
              "      border-color: transparent;\n",
              "      border-left-color: var(--fill-color);\n",
              "      border-top-color: var(--fill-color);\n",
              "    }\n",
              "    30% {\n",
              "      border-color: transparent;\n",
              "      border-left-color: var(--fill-color);\n",
              "      border-top-color: var(--fill-color);\n",
              "      border-right-color: var(--fill-color);\n",
              "    }\n",
              "    40% {\n",
              "      border-color: transparent;\n",
              "      border-right-color: var(--fill-color);\n",
              "      border-top-color: var(--fill-color);\n",
              "    }\n",
              "    60% {\n",
              "      border-color: transparent;\n",
              "      border-right-color: var(--fill-color);\n",
              "    }\n",
              "    80% {\n",
              "      border-color: transparent;\n",
              "      border-right-color: var(--fill-color);\n",
              "      border-bottom-color: var(--fill-color);\n",
              "    }\n",
              "    90% {\n",
              "      border-color: transparent;\n",
              "      border-bottom-color: var(--fill-color);\n",
              "    }\n",
              "  }\n",
              "</style>\n",
              "\n",
              "  <script>\n",
              "    async function quickchart(key) {\n",
              "      const quickchartButtonEl =\n",
              "        document.querySelector('#' + key + ' button');\n",
              "      quickchartButtonEl.disabled = true;  // To prevent multiple clicks.\n",
              "      quickchartButtonEl.classList.add('colab-df-spinner');\n",
              "      try {\n",
              "        const charts = await google.colab.kernel.invokeFunction(\n",
              "            'suggestCharts', [key], {});\n",
              "      } catch (error) {\n",
              "        console.error('Error during call to suggestCharts:', error);\n",
              "      }\n",
              "      quickchartButtonEl.classList.remove('colab-df-spinner');\n",
              "      quickchartButtonEl.classList.add('colab-df-quickchart-complete');\n",
              "    }\n",
              "    (() => {\n",
              "      let quickchartButtonEl =\n",
              "        document.querySelector('#df-6b1b759e-3a82-4d15-83db-e802b012c05e button');\n",
              "      quickchartButtonEl.style.display =\n",
              "        google.colab.kernel.accessAllowed ? 'block' : 'none';\n",
              "    })();\n",
              "  </script>\n",
              "</div>\n",
              "\n",
              "    </div>\n",
              "  </div>\n"
            ],
            "application/vnd.google.colaboratory.intrinsic+json": {
              "type": "dataframe",
              "variable_name": "df"
            }
          },
          "metadata": {},
          "execution_count": 27
        }
      ],
      "source": [
        "df.head()"
      ]
    },
    {
      "cell_type": "code",
      "execution_count": null,
      "metadata": {
        "id": "mN4XUhhWZnIH"
      },
      "outputs": [],
      "source": [
        "# here we can make a TF-IDF approach\n",
        "vectorizer = TfidfVectorizer()\n",
        "x = vectorizer.fit_transform(df['Reviews'])"
      ]
    },
    {
      "cell_type": "code",
      "source": [
        "x.shape"
      ],
      "metadata": {
        "colab": {
          "base_uri": "https://localhost:8080/"
        },
        "id": "X8CLH_6URlKR",
        "outputId": "70126b65-6379-4a02-d71f-89714941d512"
      },
      "execution_count": null,
      "outputs": [
        {
          "output_type": "execute_result",
          "data": {
            "text/plain": [
              "(129971, 42813)"
            ]
          },
          "metadata": {},
          "execution_count": 32
        }
      ]
    },
    {
      "cell_type": "code",
      "source": [
        "model = LogisticRegression(C=100,solver='saga')\n",
        "model.fit(x,y)"
      ],
      "metadata": {
        "colab": {
          "base_uri": "https://localhost:8080/",
          "height": 74
        },
        "id": "rXRfe4sr-Gsa",
        "outputId": "f4f35905-c69b-4514-9263-747473330d58"
      },
      "execution_count": null,
      "outputs": [
        {
          "output_type": "execute_result",
          "data": {
            "text/plain": [
              "LogisticRegression(C=100, solver='saga')"
            ],
            "text/html": [
              "<style>#sk-container-id-1 {color: black;background-color: white;}#sk-container-id-1 pre{padding: 0;}#sk-container-id-1 div.sk-toggleable {background-color: white;}#sk-container-id-1 label.sk-toggleable__label {cursor: pointer;display: block;width: 100%;margin-bottom: 0;padding: 0.3em;box-sizing: border-box;text-align: center;}#sk-container-id-1 label.sk-toggleable__label-arrow:before {content: \"▸\";float: left;margin-right: 0.25em;color: #696969;}#sk-container-id-1 label.sk-toggleable__label-arrow:hover:before {color: black;}#sk-container-id-1 div.sk-estimator:hover label.sk-toggleable__label-arrow:before {color: black;}#sk-container-id-1 div.sk-toggleable__content {max-height: 0;max-width: 0;overflow: hidden;text-align: left;background-color: #f0f8ff;}#sk-container-id-1 div.sk-toggleable__content pre {margin: 0.2em;color: black;border-radius: 0.25em;background-color: #f0f8ff;}#sk-container-id-1 input.sk-toggleable__control:checked~div.sk-toggleable__content {max-height: 200px;max-width: 100%;overflow: auto;}#sk-container-id-1 input.sk-toggleable__control:checked~label.sk-toggleable__label-arrow:before {content: \"▾\";}#sk-container-id-1 div.sk-estimator input.sk-toggleable__control:checked~label.sk-toggleable__label {background-color: #d4ebff;}#sk-container-id-1 div.sk-label input.sk-toggleable__control:checked~label.sk-toggleable__label {background-color: #d4ebff;}#sk-container-id-1 input.sk-hidden--visually {border: 0;clip: rect(1px 1px 1px 1px);clip: rect(1px, 1px, 1px, 1px);height: 1px;margin: -1px;overflow: hidden;padding: 0;position: absolute;width: 1px;}#sk-container-id-1 div.sk-estimator {font-family: monospace;background-color: #f0f8ff;border: 1px dotted black;border-radius: 0.25em;box-sizing: border-box;margin-bottom: 0.5em;}#sk-container-id-1 div.sk-estimator:hover {background-color: #d4ebff;}#sk-container-id-1 div.sk-parallel-item::after {content: \"\";width: 100%;border-bottom: 1px solid gray;flex-grow: 1;}#sk-container-id-1 div.sk-label:hover label.sk-toggleable__label {background-color: #d4ebff;}#sk-container-id-1 div.sk-serial::before {content: \"\";position: absolute;border-left: 1px solid gray;box-sizing: border-box;top: 0;bottom: 0;left: 50%;z-index: 0;}#sk-container-id-1 div.sk-serial {display: flex;flex-direction: column;align-items: center;background-color: white;padding-right: 0.2em;padding-left: 0.2em;position: relative;}#sk-container-id-1 div.sk-item {position: relative;z-index: 1;}#sk-container-id-1 div.sk-parallel {display: flex;align-items: stretch;justify-content: center;background-color: white;position: relative;}#sk-container-id-1 div.sk-item::before, #sk-container-id-1 div.sk-parallel-item::before {content: \"\";position: absolute;border-left: 1px solid gray;box-sizing: border-box;top: 0;bottom: 0;left: 50%;z-index: -1;}#sk-container-id-1 div.sk-parallel-item {display: flex;flex-direction: column;z-index: 1;position: relative;background-color: white;}#sk-container-id-1 div.sk-parallel-item:first-child::after {align-self: flex-end;width: 50%;}#sk-container-id-1 div.sk-parallel-item:last-child::after {align-self: flex-start;width: 50%;}#sk-container-id-1 div.sk-parallel-item:only-child::after {width: 0;}#sk-container-id-1 div.sk-dashed-wrapped {border: 1px dashed gray;margin: 0 0.4em 0.5em 0.4em;box-sizing: border-box;padding-bottom: 0.4em;background-color: white;}#sk-container-id-1 div.sk-label label {font-family: monospace;font-weight: bold;display: inline-block;line-height: 1.2em;}#sk-container-id-1 div.sk-label-container {text-align: center;}#sk-container-id-1 div.sk-container {/* jupyter's `normalize.less` sets `[hidden] { display: none; }` but bootstrap.min.css set `[hidden] { display: none !important; }` so we also need the `!important` here to be able to override the default hidden behavior on the sphinx rendered scikit-learn.org. See: https://github.com/scikit-learn/scikit-learn/issues/21755 */display: inline-block !important;position: relative;}#sk-container-id-1 div.sk-text-repr-fallback {display: none;}</style><div id=\"sk-container-id-1\" class=\"sk-top-container\"><div class=\"sk-text-repr-fallback\"><pre>LogisticRegression(C=100, solver=&#x27;saga&#x27;)</pre><b>In a Jupyter environment, please rerun this cell to show the HTML representation or trust the notebook. <br />On GitHub, the HTML representation is unable to render, please try loading this page with nbviewer.org.</b></div><div class=\"sk-container\" hidden><div class=\"sk-item\"><div class=\"sk-estimator sk-toggleable\"><input class=\"sk-toggleable__control sk-hidden--visually\" id=\"sk-estimator-id-1\" type=\"checkbox\" checked><label for=\"sk-estimator-id-1\" class=\"sk-toggleable__label sk-toggleable__label-arrow\">LogisticRegression</label><div class=\"sk-toggleable__content\"><pre>LogisticRegression(C=100, solver=&#x27;saga&#x27;)</pre></div></div></div></div></div>"
            ]
          },
          "metadata": {},
          "execution_count": 28
        }
      ]
    },
    {
      "cell_type": "code",
      "source": [
        "model.score(x,y)"
      ],
      "metadata": {
        "colab": {
          "base_uri": "https://localhost:8080/"
        },
        "id": "Of-XGLxW-ZEH",
        "outputId": "85871cd5-734c-44d3-c63d-52fb659efc9d"
      },
      "execution_count": null,
      "outputs": [
        {
          "output_type": "execute_result",
          "data": {
            "text/plain": [
              "0.78105885158997"
            ]
          },
          "metadata": {},
          "execution_count": 29
        }
      ]
    },
    {
      "cell_type": "code",
      "source": [],
      "metadata": {
        "id": "DCm-hcwIiic6"
      },
      "execution_count": null,
      "outputs": []
    },
    {
      "cell_type": "code",
      "source": [
        "pd.DataFrame(data=confusion_matrix(y,model.predict(x)),index=np.arange(0,5),columns=np.arange(0,5))"
      ],
      "metadata": {
        "id": "we0AeCkrl5Lt",
        "colab": {
          "base_uri": "https://localhost:8080/",
          "height": 206
        },
        "outputId": "48815b0c-8916-4cb1-9a8e-d452f8300a06"
      },
      "execution_count": null,
      "outputs": [
        {
          "output_type": "execute_result",
          "data": {
            "text/plain": [
              "       0      1      2      3      4\n",
              "0  18168   3057    645     81      9\n",
              "1   2568  22064   3791    962    148\n",
              "2    567   3912  21341   3002    611\n",
              "3    113    923   3211  20426   2096\n",
              "4     10    118    599   2033  19516"
            ],
            "text/html": [
              "\n",
              "  <div id=\"df-13740fa6-0fae-4c16-9ddd-76eb3eb4cdeb\" class=\"colab-df-container\">\n",
              "    <div>\n",
              "<style scoped>\n",
              "    .dataframe tbody tr th:only-of-type {\n",
              "        vertical-align: middle;\n",
              "    }\n",
              "\n",
              "    .dataframe tbody tr th {\n",
              "        vertical-align: top;\n",
              "    }\n",
              "\n",
              "    .dataframe thead th {\n",
              "        text-align: right;\n",
              "    }\n",
              "</style>\n",
              "<table border=\"1\" class=\"dataframe\">\n",
              "  <thead>\n",
              "    <tr style=\"text-align: right;\">\n",
              "      <th></th>\n",
              "      <th>0</th>\n",
              "      <th>1</th>\n",
              "      <th>2</th>\n",
              "      <th>3</th>\n",
              "      <th>4</th>\n",
              "    </tr>\n",
              "  </thead>\n",
              "  <tbody>\n",
              "    <tr>\n",
              "      <th>0</th>\n",
              "      <td>18168</td>\n",
              "      <td>3057</td>\n",
              "      <td>645</td>\n",
              "      <td>81</td>\n",
              "      <td>9</td>\n",
              "    </tr>\n",
              "    <tr>\n",
              "      <th>1</th>\n",
              "      <td>2568</td>\n",
              "      <td>22064</td>\n",
              "      <td>3791</td>\n",
              "      <td>962</td>\n",
              "      <td>148</td>\n",
              "    </tr>\n",
              "    <tr>\n",
              "      <th>2</th>\n",
              "      <td>567</td>\n",
              "      <td>3912</td>\n",
              "      <td>21341</td>\n",
              "      <td>3002</td>\n",
              "      <td>611</td>\n",
              "    </tr>\n",
              "    <tr>\n",
              "      <th>3</th>\n",
              "      <td>113</td>\n",
              "      <td>923</td>\n",
              "      <td>3211</td>\n",
              "      <td>20426</td>\n",
              "      <td>2096</td>\n",
              "    </tr>\n",
              "    <tr>\n",
              "      <th>4</th>\n",
              "      <td>10</td>\n",
              "      <td>118</td>\n",
              "      <td>599</td>\n",
              "      <td>2033</td>\n",
              "      <td>19516</td>\n",
              "    </tr>\n",
              "  </tbody>\n",
              "</table>\n",
              "</div>\n",
              "    <div class=\"colab-df-buttons\">\n",
              "\n",
              "  <div class=\"colab-df-container\">\n",
              "    <button class=\"colab-df-convert\" onclick=\"convertToInteractive('df-13740fa6-0fae-4c16-9ddd-76eb3eb4cdeb')\"\n",
              "            title=\"Convert this dataframe to an interactive table.\"\n",
              "            style=\"display:none;\">\n",
              "\n",
              "  <svg xmlns=\"http://www.w3.org/2000/svg\" height=\"24px\" viewBox=\"0 -960 960 960\">\n",
              "    <path d=\"M120-120v-720h720v720H120Zm60-500h600v-160H180v160Zm220 220h160v-160H400v160Zm0 220h160v-160H400v160ZM180-400h160v-160H180v160Zm440 0h160v-160H620v160ZM180-180h160v-160H180v160Zm440 0h160v-160H620v160Z\"/>\n",
              "  </svg>\n",
              "    </button>\n",
              "\n",
              "  <style>\n",
              "    .colab-df-container {\n",
              "      display:flex;\n",
              "      gap: 12px;\n",
              "    }\n",
              "\n",
              "    .colab-df-convert {\n",
              "      background-color: #E8F0FE;\n",
              "      border: none;\n",
              "      border-radius: 50%;\n",
              "      cursor: pointer;\n",
              "      display: none;\n",
              "      fill: #1967D2;\n",
              "      height: 32px;\n",
              "      padding: 0 0 0 0;\n",
              "      width: 32px;\n",
              "    }\n",
              "\n",
              "    .colab-df-convert:hover {\n",
              "      background-color: #E2EBFA;\n",
              "      box-shadow: 0px 1px 2px rgba(60, 64, 67, 0.3), 0px 1px 3px 1px rgba(60, 64, 67, 0.15);\n",
              "      fill: #174EA6;\n",
              "    }\n",
              "\n",
              "    .colab-df-buttons div {\n",
              "      margin-bottom: 4px;\n",
              "    }\n",
              "\n",
              "    [theme=dark] .colab-df-convert {\n",
              "      background-color: #3B4455;\n",
              "      fill: #D2E3FC;\n",
              "    }\n",
              "\n",
              "    [theme=dark] .colab-df-convert:hover {\n",
              "      background-color: #434B5C;\n",
              "      box-shadow: 0px 1px 3px 1px rgba(0, 0, 0, 0.15);\n",
              "      filter: drop-shadow(0px 1px 2px rgba(0, 0, 0, 0.3));\n",
              "      fill: #FFFFFF;\n",
              "    }\n",
              "  </style>\n",
              "\n",
              "    <script>\n",
              "      const buttonEl =\n",
              "        document.querySelector('#df-13740fa6-0fae-4c16-9ddd-76eb3eb4cdeb button.colab-df-convert');\n",
              "      buttonEl.style.display =\n",
              "        google.colab.kernel.accessAllowed ? 'block' : 'none';\n",
              "\n",
              "      async function convertToInteractive(key) {\n",
              "        const element = document.querySelector('#df-13740fa6-0fae-4c16-9ddd-76eb3eb4cdeb');\n",
              "        const dataTable =\n",
              "          await google.colab.kernel.invokeFunction('convertToInteractive',\n",
              "                                                    [key], {});\n",
              "        if (!dataTable) return;\n",
              "\n",
              "        const docLinkHtml = 'Like what you see? Visit the ' +\n",
              "          '<a target=\"_blank\" href=https://colab.research.google.com/notebooks/data_table.ipynb>data table notebook</a>'\n",
              "          + ' to learn more about interactive tables.';\n",
              "        element.innerHTML = '';\n",
              "        dataTable['output_type'] = 'display_data';\n",
              "        await google.colab.output.renderOutput(dataTable, element);\n",
              "        const docLink = document.createElement('div');\n",
              "        docLink.innerHTML = docLinkHtml;\n",
              "        element.appendChild(docLink);\n",
              "      }\n",
              "    </script>\n",
              "  </div>\n",
              "\n",
              "\n",
              "<div id=\"df-a6e4e492-612f-4b2e-8a06-ced2d72db448\">\n",
              "  <button class=\"colab-df-quickchart\" onclick=\"quickchart('df-a6e4e492-612f-4b2e-8a06-ced2d72db448')\"\n",
              "            title=\"Suggest charts\"\n",
              "            style=\"display:none;\">\n",
              "\n",
              "<svg xmlns=\"http://www.w3.org/2000/svg\" height=\"24px\"viewBox=\"0 0 24 24\"\n",
              "     width=\"24px\">\n",
              "    <g>\n",
              "        <path d=\"M19 3H5c-1.1 0-2 .9-2 2v14c0 1.1.9 2 2 2h14c1.1 0 2-.9 2-2V5c0-1.1-.9-2-2-2zM9 17H7v-7h2v7zm4 0h-2V7h2v10zm4 0h-2v-4h2v4z\"/>\n",
              "    </g>\n",
              "</svg>\n",
              "  </button>\n",
              "\n",
              "<style>\n",
              "  .colab-df-quickchart {\n",
              "      --bg-color: #E8F0FE;\n",
              "      --fill-color: #1967D2;\n",
              "      --hover-bg-color: #E2EBFA;\n",
              "      --hover-fill-color: #174EA6;\n",
              "      --disabled-fill-color: #AAA;\n",
              "      --disabled-bg-color: #DDD;\n",
              "  }\n",
              "\n",
              "  [theme=dark] .colab-df-quickchart {\n",
              "      --bg-color: #3B4455;\n",
              "      --fill-color: #D2E3FC;\n",
              "      --hover-bg-color: #434B5C;\n",
              "      --hover-fill-color: #FFFFFF;\n",
              "      --disabled-bg-color: #3B4455;\n",
              "      --disabled-fill-color: #666;\n",
              "  }\n",
              "\n",
              "  .colab-df-quickchart {\n",
              "    background-color: var(--bg-color);\n",
              "    border: none;\n",
              "    border-radius: 50%;\n",
              "    cursor: pointer;\n",
              "    display: none;\n",
              "    fill: var(--fill-color);\n",
              "    height: 32px;\n",
              "    padding: 0;\n",
              "    width: 32px;\n",
              "  }\n",
              "\n",
              "  .colab-df-quickchart:hover {\n",
              "    background-color: var(--hover-bg-color);\n",
              "    box-shadow: 0 1px 2px rgba(60, 64, 67, 0.3), 0 1px 3px 1px rgba(60, 64, 67, 0.15);\n",
              "    fill: var(--button-hover-fill-color);\n",
              "  }\n",
              "\n",
              "  .colab-df-quickchart-complete:disabled,\n",
              "  .colab-df-quickchart-complete:disabled:hover {\n",
              "    background-color: var(--disabled-bg-color);\n",
              "    fill: var(--disabled-fill-color);\n",
              "    box-shadow: none;\n",
              "  }\n",
              "\n",
              "  .colab-df-spinner {\n",
              "    border: 2px solid var(--fill-color);\n",
              "    border-color: transparent;\n",
              "    border-bottom-color: var(--fill-color);\n",
              "    animation:\n",
              "      spin 1s steps(1) infinite;\n",
              "  }\n",
              "\n",
              "  @keyframes spin {\n",
              "    0% {\n",
              "      border-color: transparent;\n",
              "      border-bottom-color: var(--fill-color);\n",
              "      border-left-color: var(--fill-color);\n",
              "    }\n",
              "    20% {\n",
              "      border-color: transparent;\n",
              "      border-left-color: var(--fill-color);\n",
              "      border-top-color: var(--fill-color);\n",
              "    }\n",
              "    30% {\n",
              "      border-color: transparent;\n",
              "      border-left-color: var(--fill-color);\n",
              "      border-top-color: var(--fill-color);\n",
              "      border-right-color: var(--fill-color);\n",
              "    }\n",
              "    40% {\n",
              "      border-color: transparent;\n",
              "      border-right-color: var(--fill-color);\n",
              "      border-top-color: var(--fill-color);\n",
              "    }\n",
              "    60% {\n",
              "      border-color: transparent;\n",
              "      border-right-color: var(--fill-color);\n",
              "    }\n",
              "    80% {\n",
              "      border-color: transparent;\n",
              "      border-right-color: var(--fill-color);\n",
              "      border-bottom-color: var(--fill-color);\n",
              "    }\n",
              "    90% {\n",
              "      border-color: transparent;\n",
              "      border-bottom-color: var(--fill-color);\n",
              "    }\n",
              "  }\n",
              "</style>\n",
              "\n",
              "  <script>\n",
              "    async function quickchart(key) {\n",
              "      const quickchartButtonEl =\n",
              "        document.querySelector('#' + key + ' button');\n",
              "      quickchartButtonEl.disabled = true;  // To prevent multiple clicks.\n",
              "      quickchartButtonEl.classList.add('colab-df-spinner');\n",
              "      try {\n",
              "        const charts = await google.colab.kernel.invokeFunction(\n",
              "            'suggestCharts', [key], {});\n",
              "      } catch (error) {\n",
              "        console.error('Error during call to suggestCharts:', error);\n",
              "      }\n",
              "      quickchartButtonEl.classList.remove('colab-df-spinner');\n",
              "      quickchartButtonEl.classList.add('colab-df-quickchart-complete');\n",
              "    }\n",
              "    (() => {\n",
              "      let quickchartButtonEl =\n",
              "        document.querySelector('#df-a6e4e492-612f-4b2e-8a06-ced2d72db448 button');\n",
              "      quickchartButtonEl.style.display =\n",
              "        google.colab.kernel.accessAllowed ? 'block' : 'none';\n",
              "    })();\n",
              "  </script>\n",
              "</div>\n",
              "\n",
              "    </div>\n",
              "  </div>\n"
            ],
            "application/vnd.google.colaboratory.intrinsic+json": {
              "type": "dataframe",
              "summary": "{\n  \"name\": \"pd\",\n  \"rows\": 5,\n  \"fields\": [\n    {\n      \"column\": 0,\n      \"properties\": {\n        \"dtype\": \"number\",\n        \"std\": 7829,\n        \"min\": 10,\n        \"max\": 18168,\n        \"num_unique_values\": 5,\n        \"samples\": [\n          2568,\n          10,\n          567\n        ],\n        \"semantic_type\": \"\",\n        \"description\": \"\"\n      }\n    },\n    {\n      \"column\": 1,\n      \"properties\": {\n        \"dtype\": \"number\",\n        \"std\": 9102,\n        \"min\": 118,\n        \"max\": 22064,\n        \"num_unique_values\": 5,\n        \"samples\": [\n          22064,\n          118,\n          3912\n        ],\n        \"semantic_type\": \"\",\n        \"description\": \"\"\n      }\n    },\n    {\n      \"column\": 2,\n      \"properties\": {\n        \"dtype\": \"number\",\n        \"std\": 8743,\n        \"min\": 599,\n        \"max\": 21341,\n        \"num_unique_values\": 5,\n        \"samples\": [\n          3791,\n          599,\n          21341\n        ],\n        \"semantic_type\": \"\",\n        \"description\": \"\"\n      }\n    },\n    {\n      \"column\": 3,\n      \"properties\": {\n        \"dtype\": \"number\",\n        \"std\": 8526,\n        \"min\": 81,\n        \"max\": 20426,\n        \"num_unique_values\": 5,\n        \"samples\": [\n          962,\n          2033,\n          3002\n        ],\n        \"semantic_type\": \"\",\n        \"description\": \"\"\n      }\n    },\n    {\n      \"column\": 4,\n      \"properties\": {\n        \"dtype\": \"number\",\n        \"std\": 8448,\n        \"min\": 9,\n        \"max\": 19516,\n        \"num_unique_values\": 5,\n        \"samples\": [\n          148,\n          19516,\n          611\n        ],\n        \"semantic_type\": \"\",\n        \"description\": \"\"\n      }\n    }\n  ]\n}"
            }
          },
          "metadata": {},
          "execution_count": 34
        }
      ]
    },
    {
      "cell_type": "code",
      "source": [
        "from sklearn.model_selection import train_test_split"
      ],
      "metadata": {
        "id": "MsQTSmiFtBR9"
      },
      "execution_count": null,
      "outputs": []
    },
    {
      "cell_type": "code",
      "source": [
        "# let's do a train/test split of the whole data\n",
        "xtrain, xtes, ytrain, ytest = train_test_split(x,y,test_size=0.2,shuffle=True,random_state=123)"
      ],
      "metadata": {
        "id": "1MxCPjIzsrJk"
      },
      "execution_count": null,
      "outputs": []
    },
    {
      "cell_type": "code",
      "execution_count": null,
      "metadata": {
        "id": "aWbBzfFzZnKt"
      },
      "outputs": [],
      "source": [
        "model = LogisticRegression(solver='lbfgs',C=10,max_iter=10000)"
      ]
    },
    {
      "cell_type": "code",
      "execution_count": null,
      "metadata": {
        "colab": {
          "base_uri": "https://localhost:8080/",
          "height": 74
        },
        "id": "fuaH2s_nZnNk",
        "outputId": "8af5569a-200f-43b9-9851-fb5528d4c370"
      },
      "outputs": [
        {
          "output_type": "execute_result",
          "data": {
            "text/plain": [
              "LogisticRegression(C=10, max_iter=10000)"
            ],
            "text/html": [
              "<style>#sk-container-id-2 {color: black;background-color: white;}#sk-container-id-2 pre{padding: 0;}#sk-container-id-2 div.sk-toggleable {background-color: white;}#sk-container-id-2 label.sk-toggleable__label {cursor: pointer;display: block;width: 100%;margin-bottom: 0;padding: 0.3em;box-sizing: border-box;text-align: center;}#sk-container-id-2 label.sk-toggleable__label-arrow:before {content: \"▸\";float: left;margin-right: 0.25em;color: #696969;}#sk-container-id-2 label.sk-toggleable__label-arrow:hover:before {color: black;}#sk-container-id-2 div.sk-estimator:hover label.sk-toggleable__label-arrow:before {color: black;}#sk-container-id-2 div.sk-toggleable__content {max-height: 0;max-width: 0;overflow: hidden;text-align: left;background-color: #f0f8ff;}#sk-container-id-2 div.sk-toggleable__content pre {margin: 0.2em;color: black;border-radius: 0.25em;background-color: #f0f8ff;}#sk-container-id-2 input.sk-toggleable__control:checked~div.sk-toggleable__content {max-height: 200px;max-width: 100%;overflow: auto;}#sk-container-id-2 input.sk-toggleable__control:checked~label.sk-toggleable__label-arrow:before {content: \"▾\";}#sk-container-id-2 div.sk-estimator input.sk-toggleable__control:checked~label.sk-toggleable__label {background-color: #d4ebff;}#sk-container-id-2 div.sk-label input.sk-toggleable__control:checked~label.sk-toggleable__label {background-color: #d4ebff;}#sk-container-id-2 input.sk-hidden--visually {border: 0;clip: rect(1px 1px 1px 1px);clip: rect(1px, 1px, 1px, 1px);height: 1px;margin: -1px;overflow: hidden;padding: 0;position: absolute;width: 1px;}#sk-container-id-2 div.sk-estimator {font-family: monospace;background-color: #f0f8ff;border: 1px dotted black;border-radius: 0.25em;box-sizing: border-box;margin-bottom: 0.5em;}#sk-container-id-2 div.sk-estimator:hover {background-color: #d4ebff;}#sk-container-id-2 div.sk-parallel-item::after {content: \"\";width: 100%;border-bottom: 1px solid gray;flex-grow: 1;}#sk-container-id-2 div.sk-label:hover label.sk-toggleable__label {background-color: #d4ebff;}#sk-container-id-2 div.sk-serial::before {content: \"\";position: absolute;border-left: 1px solid gray;box-sizing: border-box;top: 0;bottom: 0;left: 50%;z-index: 0;}#sk-container-id-2 div.sk-serial {display: flex;flex-direction: column;align-items: center;background-color: white;padding-right: 0.2em;padding-left: 0.2em;position: relative;}#sk-container-id-2 div.sk-item {position: relative;z-index: 1;}#sk-container-id-2 div.sk-parallel {display: flex;align-items: stretch;justify-content: center;background-color: white;position: relative;}#sk-container-id-2 div.sk-item::before, #sk-container-id-2 div.sk-parallel-item::before {content: \"\";position: absolute;border-left: 1px solid gray;box-sizing: border-box;top: 0;bottom: 0;left: 50%;z-index: -1;}#sk-container-id-2 div.sk-parallel-item {display: flex;flex-direction: column;z-index: 1;position: relative;background-color: white;}#sk-container-id-2 div.sk-parallel-item:first-child::after {align-self: flex-end;width: 50%;}#sk-container-id-2 div.sk-parallel-item:last-child::after {align-self: flex-start;width: 50%;}#sk-container-id-2 div.sk-parallel-item:only-child::after {width: 0;}#sk-container-id-2 div.sk-dashed-wrapped {border: 1px dashed gray;margin: 0 0.4em 0.5em 0.4em;box-sizing: border-box;padding-bottom: 0.4em;background-color: white;}#sk-container-id-2 div.sk-label label {font-family: monospace;font-weight: bold;display: inline-block;line-height: 1.2em;}#sk-container-id-2 div.sk-label-container {text-align: center;}#sk-container-id-2 div.sk-container {/* jupyter's `normalize.less` sets `[hidden] { display: none; }` but bootstrap.min.css set `[hidden] { display: none !important; }` so we also need the `!important` here to be able to override the default hidden behavior on the sphinx rendered scikit-learn.org. See: https://github.com/scikit-learn/scikit-learn/issues/21755 */display: inline-block !important;position: relative;}#sk-container-id-2 div.sk-text-repr-fallback {display: none;}</style><div id=\"sk-container-id-2\" class=\"sk-top-container\"><div class=\"sk-text-repr-fallback\"><pre>LogisticRegression(C=10, max_iter=10000)</pre><b>In a Jupyter environment, please rerun this cell to show the HTML representation or trust the notebook. <br />On GitHub, the HTML representation is unable to render, please try loading this page with nbviewer.org.</b></div><div class=\"sk-container\" hidden><div class=\"sk-item\"><div class=\"sk-estimator sk-toggleable\"><input class=\"sk-toggleable__control sk-hidden--visually\" id=\"sk-estimator-id-2\" type=\"checkbox\" checked><label for=\"sk-estimator-id-2\" class=\"sk-toggleable__label sk-toggleable__label-arrow\">LogisticRegression</label><div class=\"sk-toggleable__content\"><pre>LogisticRegression(C=10, max_iter=10000)</pre></div></div></div></div></div>"
            ]
          },
          "metadata": {},
          "execution_count": 39
        }
      ],
      "source": [
        "model.fit(xtrain,ytrain)"
      ]
    },
    {
      "cell_type": "code",
      "execution_count": null,
      "metadata": {
        "id": "SpDzawbqZnPP",
        "colab": {
          "base_uri": "https://localhost:8080/"
        },
        "outputId": "6597a112-2ac1-49e4-8dc5-c2c7b7835de7"
      },
      "outputs": [
        {
          "output_type": "execute_result",
          "data": {
            "text/plain": [
              "0.5187536064627813"
            ]
          },
          "metadata": {},
          "execution_count": 41
        }
      ],
      "source": [
        "model.score(xtes,ytest)"
      ]
    },
    {
      "cell_type": "code",
      "execution_count": null,
      "metadata": {
        "colab": {
          "base_uri": "https://localhost:8080/",
          "height": 160
        },
        "id": "uNLZ_13KbPE0",
        "outputId": "cfe25acd-8058-4830-ad55-8496a0fefefd"
      },
      "outputs": [
        {
          "output_type": "execute_result",
          "data": {
            "text/plain": [
              "       0      1     2\n",
              "0  41620   9853    20\n",
              "1   7720  56985  1110\n",
              "2     93   6972  5598"
            ],
            "text/html": [
              "\n",
              "  <div id=\"df-7395d8b4-77b7-425d-b633-f9d3c3588180\" class=\"colab-df-container\">\n",
              "    <div>\n",
              "<style scoped>\n",
              "    .dataframe tbody tr th:only-of-type {\n",
              "        vertical-align: middle;\n",
              "    }\n",
              "\n",
              "    .dataframe tbody tr th {\n",
              "        vertical-align: top;\n",
              "    }\n",
              "\n",
              "    .dataframe thead th {\n",
              "        text-align: right;\n",
              "    }\n",
              "</style>\n",
              "<table border=\"1\" class=\"dataframe\">\n",
              "  <thead>\n",
              "    <tr style=\"text-align: right;\">\n",
              "      <th></th>\n",
              "      <th>0</th>\n",
              "      <th>1</th>\n",
              "      <th>2</th>\n",
              "    </tr>\n",
              "  </thead>\n",
              "  <tbody>\n",
              "    <tr>\n",
              "      <th>0</th>\n",
              "      <td>41620</td>\n",
              "      <td>9853</td>\n",
              "      <td>20</td>\n",
              "    </tr>\n",
              "    <tr>\n",
              "      <th>1</th>\n",
              "      <td>7720</td>\n",
              "      <td>56985</td>\n",
              "      <td>1110</td>\n",
              "    </tr>\n",
              "    <tr>\n",
              "      <th>2</th>\n",
              "      <td>93</td>\n",
              "      <td>6972</td>\n",
              "      <td>5598</td>\n",
              "    </tr>\n",
              "  </tbody>\n",
              "</table>\n",
              "</div>\n",
              "    <div class=\"colab-df-buttons\">\n",
              "\n",
              "  <div class=\"colab-df-container\">\n",
              "    <button class=\"colab-df-convert\" onclick=\"convertToInteractive('df-7395d8b4-77b7-425d-b633-f9d3c3588180')\"\n",
              "            title=\"Convert this dataframe to an interactive table.\"\n",
              "            style=\"display:none;\">\n",
              "\n",
              "  <svg xmlns=\"http://www.w3.org/2000/svg\" height=\"24px\" viewBox=\"0 -960 960 960\">\n",
              "    <path d=\"M120-120v-720h720v720H120Zm60-500h600v-160H180v160Zm220 220h160v-160H400v160Zm0 220h160v-160H400v160ZM180-400h160v-160H180v160Zm440 0h160v-160H620v160ZM180-180h160v-160H180v160Zm440 0h160v-160H620v160Z\"/>\n",
              "  </svg>\n",
              "    </button>\n",
              "\n",
              "  <style>\n",
              "    .colab-df-container {\n",
              "      display:flex;\n",
              "      gap: 12px;\n",
              "    }\n",
              "\n",
              "    .colab-df-convert {\n",
              "      background-color: #E8F0FE;\n",
              "      border: none;\n",
              "      border-radius: 50%;\n",
              "      cursor: pointer;\n",
              "      display: none;\n",
              "      fill: #1967D2;\n",
              "      height: 32px;\n",
              "      padding: 0 0 0 0;\n",
              "      width: 32px;\n",
              "    }\n",
              "\n",
              "    .colab-df-convert:hover {\n",
              "      background-color: #E2EBFA;\n",
              "      box-shadow: 0px 1px 2px rgba(60, 64, 67, 0.3), 0px 1px 3px 1px rgba(60, 64, 67, 0.15);\n",
              "      fill: #174EA6;\n",
              "    }\n",
              "\n",
              "    .colab-df-buttons div {\n",
              "      margin-bottom: 4px;\n",
              "    }\n",
              "\n",
              "    [theme=dark] .colab-df-convert {\n",
              "      background-color: #3B4455;\n",
              "      fill: #D2E3FC;\n",
              "    }\n",
              "\n",
              "    [theme=dark] .colab-df-convert:hover {\n",
              "      background-color: #434B5C;\n",
              "      box-shadow: 0px 1px 3px 1px rgba(0, 0, 0, 0.15);\n",
              "      filter: drop-shadow(0px 1px 2px rgba(0, 0, 0, 0.3));\n",
              "      fill: #FFFFFF;\n",
              "    }\n",
              "  </style>\n",
              "\n",
              "    <script>\n",
              "      const buttonEl =\n",
              "        document.querySelector('#df-7395d8b4-77b7-425d-b633-f9d3c3588180 button.colab-df-convert');\n",
              "      buttonEl.style.display =\n",
              "        google.colab.kernel.accessAllowed ? 'block' : 'none';\n",
              "\n",
              "      async function convertToInteractive(key) {\n",
              "        const element = document.querySelector('#df-7395d8b4-77b7-425d-b633-f9d3c3588180');\n",
              "        const dataTable =\n",
              "          await google.colab.kernel.invokeFunction('convertToInteractive',\n",
              "                                                    [key], {});\n",
              "        if (!dataTable) return;\n",
              "\n",
              "        const docLinkHtml = 'Like what you see? Visit the ' +\n",
              "          '<a target=\"_blank\" href=https://colab.research.google.com/notebooks/data_table.ipynb>data table notebook</a>'\n",
              "          + ' to learn more about interactive tables.';\n",
              "        element.innerHTML = '';\n",
              "        dataTable['output_type'] = 'display_data';\n",
              "        await google.colab.output.renderOutput(dataTable, element);\n",
              "        const docLink = document.createElement('div');\n",
              "        docLink.innerHTML = docLinkHtml;\n",
              "        element.appendChild(docLink);\n",
              "      }\n",
              "    </script>\n",
              "  </div>\n",
              "\n",
              "\n",
              "<div id=\"df-4b4d7301-246e-4f81-97e9-ebf6f1e7f7bf\">\n",
              "  <button class=\"colab-df-quickchart\" onclick=\"quickchart('df-4b4d7301-246e-4f81-97e9-ebf6f1e7f7bf')\"\n",
              "            title=\"Suggest charts\"\n",
              "            style=\"display:none;\">\n",
              "\n",
              "<svg xmlns=\"http://www.w3.org/2000/svg\" height=\"24px\"viewBox=\"0 0 24 24\"\n",
              "     width=\"24px\">\n",
              "    <g>\n",
              "        <path d=\"M19 3H5c-1.1 0-2 .9-2 2v14c0 1.1.9 2 2 2h14c1.1 0 2-.9 2-2V5c0-1.1-.9-2-2-2zM9 17H7v-7h2v7zm4 0h-2V7h2v10zm4 0h-2v-4h2v4z\"/>\n",
              "    </g>\n",
              "</svg>\n",
              "  </button>\n",
              "\n",
              "<style>\n",
              "  .colab-df-quickchart {\n",
              "      --bg-color: #E8F0FE;\n",
              "      --fill-color: #1967D2;\n",
              "      --hover-bg-color: #E2EBFA;\n",
              "      --hover-fill-color: #174EA6;\n",
              "      --disabled-fill-color: #AAA;\n",
              "      --disabled-bg-color: #DDD;\n",
              "  }\n",
              "\n",
              "  [theme=dark] .colab-df-quickchart {\n",
              "      --bg-color: #3B4455;\n",
              "      --fill-color: #D2E3FC;\n",
              "      --hover-bg-color: #434B5C;\n",
              "      --hover-fill-color: #FFFFFF;\n",
              "      --disabled-bg-color: #3B4455;\n",
              "      --disabled-fill-color: #666;\n",
              "  }\n",
              "\n",
              "  .colab-df-quickchart {\n",
              "    background-color: var(--bg-color);\n",
              "    border: none;\n",
              "    border-radius: 50%;\n",
              "    cursor: pointer;\n",
              "    display: none;\n",
              "    fill: var(--fill-color);\n",
              "    height: 32px;\n",
              "    padding: 0;\n",
              "    width: 32px;\n",
              "  }\n",
              "\n",
              "  .colab-df-quickchart:hover {\n",
              "    background-color: var(--hover-bg-color);\n",
              "    box-shadow: 0 1px 2px rgba(60, 64, 67, 0.3), 0 1px 3px 1px rgba(60, 64, 67, 0.15);\n",
              "    fill: var(--button-hover-fill-color);\n",
              "  }\n",
              "\n",
              "  .colab-df-quickchart-complete:disabled,\n",
              "  .colab-df-quickchart-complete:disabled:hover {\n",
              "    background-color: var(--disabled-bg-color);\n",
              "    fill: var(--disabled-fill-color);\n",
              "    box-shadow: none;\n",
              "  }\n",
              "\n",
              "  .colab-df-spinner {\n",
              "    border: 2px solid var(--fill-color);\n",
              "    border-color: transparent;\n",
              "    border-bottom-color: var(--fill-color);\n",
              "    animation:\n",
              "      spin 1s steps(1) infinite;\n",
              "  }\n",
              "\n",
              "  @keyframes spin {\n",
              "    0% {\n",
              "      border-color: transparent;\n",
              "      border-bottom-color: var(--fill-color);\n",
              "      border-left-color: var(--fill-color);\n",
              "    }\n",
              "    20% {\n",
              "      border-color: transparent;\n",
              "      border-left-color: var(--fill-color);\n",
              "      border-top-color: var(--fill-color);\n",
              "    }\n",
              "    30% {\n",
              "      border-color: transparent;\n",
              "      border-left-color: var(--fill-color);\n",
              "      border-top-color: var(--fill-color);\n",
              "      border-right-color: var(--fill-color);\n",
              "    }\n",
              "    40% {\n",
              "      border-color: transparent;\n",
              "      border-right-color: var(--fill-color);\n",
              "      border-top-color: var(--fill-color);\n",
              "    }\n",
              "    60% {\n",
              "      border-color: transparent;\n",
              "      border-right-color: var(--fill-color);\n",
              "    }\n",
              "    80% {\n",
              "      border-color: transparent;\n",
              "      border-right-color: var(--fill-color);\n",
              "      border-bottom-color: var(--fill-color);\n",
              "    }\n",
              "    90% {\n",
              "      border-color: transparent;\n",
              "      border-bottom-color: var(--fill-color);\n",
              "    }\n",
              "  }\n",
              "</style>\n",
              "\n",
              "  <script>\n",
              "    async function quickchart(key) {\n",
              "      const quickchartButtonEl =\n",
              "        document.querySelector('#' + key + ' button');\n",
              "      quickchartButtonEl.disabled = true;  // To prevent multiple clicks.\n",
              "      quickchartButtonEl.classList.add('colab-df-spinner');\n",
              "      try {\n",
              "        const charts = await google.colab.kernel.invokeFunction(\n",
              "            'suggestCharts', [key], {});\n",
              "      } catch (error) {\n",
              "        console.error('Error during call to suggestCharts:', error);\n",
              "      }\n",
              "      quickchartButtonEl.classList.remove('colab-df-spinner');\n",
              "      quickchartButtonEl.classList.add('colab-df-quickchart-complete');\n",
              "    }\n",
              "    (() => {\n",
              "      let quickchartButtonEl =\n",
              "        document.querySelector('#df-4b4d7301-246e-4f81-97e9-ebf6f1e7f7bf button');\n",
              "      quickchartButtonEl.style.display =\n",
              "        google.colab.kernel.accessAllowed ? 'block' : 'none';\n",
              "    })();\n",
              "  </script>\n",
              "</div>\n",
              "\n",
              "    </div>\n",
              "  </div>\n"
            ]
          },
          "metadata": {},
          "execution_count": 65
        }
      ],
      "source": [
        "pd.DataFrame(data=CM(y,ypred),index=['0','1','2'],columns=['0','1','2'])"
      ]
    },
    {
      "cell_type": "code",
      "source": [
        "CMD(CM(y,ypred)).plot()\n",
        "plt.show()"
      ],
      "metadata": {
        "colab": {
          "base_uri": "https://localhost:8080/",
          "height": 686
        },
        "id": "pJhJZGcJdY3Z",
        "outputId": "523f1370-7ec5-4abd-eaad-c5da70b2ea4e"
      },
      "execution_count": null,
      "outputs": [
        {
          "output_type": "display_data",
          "data": {
            "text/plain": [
              "<Figure size 960x720 with 2 Axes>"
            ],
            "image/png": "[encoded data removed]"
          },
          "metadata": {
            "image/png": {
              "width": 787,
              "height": 649
            }
          }
        }
      ]
    },
    {
      "cell_type": "code",
      "execution_count": null,
      "metadata": {
        "colab": {
          "base_uri": "https://localhost:8080/"
        },
        "id": "6h5jouJgbPLd",
        "outputId": "f204051f-7869-4ccc-b278-e3fe0d531a30"
      },
      "outputs": [
        {
          "output_type": "execute_result",
          "data": {
            "text/plain": [
              "0.8017403882404537"
            ]
          },
          "metadata": {},
          "execution_count": 37
        }
      ],
      "source": [
        "ac(y,ypred)"
      ]
    }
  ]
}