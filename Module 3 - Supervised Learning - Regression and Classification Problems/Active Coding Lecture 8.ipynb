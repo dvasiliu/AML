{
 "cells": [
  {
   "cell_type": "code",
   "execution_count": 1,
   "id": "2d152ee8-2145-4442-ab77-9f3ab2be4975",
   "metadata": {},
   "outputs": [],
   "source": [
    "# Setup\n",
    "import numpy as np\n",
    "import pandas as pd\n",
    "import matplotlib.pyplot as plt\n",
    "import seaborn as sns\n",
    "from scipy.stats import norm, kstest, anderson, shapiro\n",
    "# for comparison only\n",
    "from sklearn.linear_model import LinearRegression, Ridge, ElasticNet"
   ]
  },
  {
   "cell_type": "code",
   "execution_count": 2,
   "id": "11dc5560-5b9e-4e53-8fdd-7d6a851fc4bf",
   "metadata": {},
   "outputs": [],
   "source": [
    "# import data\n",
    "data = pd.read_csv('https://raw.githubusercontent.com/dvasiliu/AML/main/Data%20Sets/Advertising.csv?raw=true')"
   ]
  },
  {
   "cell_type": "code",
   "execution_count": 3,
   "id": "b9aed134-3261-43d5-8cf3-f100d2abfb6c",
   "metadata": {},
   "outputs": [],
   "source": [
    "# here the goal is to predict the Sales (cont. variable) by using values from TV, Radio and Newspaper advertising\n",
    "x = data.loc[:,['TV','Radio','Newspaper']].values\n",
    "y = data['Sales'].values"
   ]
  },
  {
   "cell_type": "code",
   "execution_count": 4,
   "id": "ea943e82-00ca-4a06-826a-57eb8b239663",
   "metadata": {},
   "outputs": [],
   "source": [
    "def zscore(x):\n",
    "    return (x- np.mean(x,axis=0))/np.std(x,axis=0)"
   ]
  },
  {
   "cell_type": "code",
   "execution_count": 5,
   "id": "3bc9b3dd-65a5-421c-af7c-24445292d4e9",
   "metadata": {},
   "outputs": [],
   "source": [
    "xscaled = zscore(x)"
   ]
  },
  {
   "cell_type": "markdown",
   "id": "806acab1-3059-4be1-a0d1-3443ec38f049",
   "metadata": {},
   "source": [
    "## Demonstrate the Elastic Net Regularization"
   ]
  },
  {
   "cell_type": "code",
   "execution_count": 9,
   "id": "82fe5b6f-ce01-413b-a0c4-e2d8af61ee2a",
   "metadata": {},
   "outputs": [],
   "source": [
    "def MSE(w,b,x,y):\n",
    "    predictions = x@w + b\n",
    "    errors = y-predictions\n",
    "    return np.mean(errors**2)"
   ]
  },
  {
   "cell_type": "code",
   "execution_count": 28,
   "id": "d7926cb9-fb62-41fb-a42b-36c22ebfdca3",
   "metadata": {},
   "outputs": [],
   "source": [
    "def gradient_enet(w,b,x,y,alpha,lam):\n",
    "    predictions = x@w + b\n",
    "    errors = y - predictions\n",
    "    return -2/len(y)*errors@x + alpha*(lam*np.sign(w) + (1-lam)*np.array(w)), -2/len(y)*sum(errors)"
   ]
  },
  {
   "cell_type": "code",
   "execution_count": 30,
   "id": "30662293-9536-4f00-a60c-084b0bd8f235",
   "metadata": {},
   "outputs": [],
   "source": [
    "# we want the \"optimal\" value for the weights\n",
    "maxiter = 2000\n",
    "learning_rate = 0.01\n",
    "# we want some stopping criteria, for example if the weights are no longer significantly updated\n",
    "# we measure the difference between w_new and w_old vs epsilon -> tolerance for deciding convergence.\n",
    "tol = 1e-6\n",
    "w_old = [1,2,3]\n",
    "b_old = 0\n",
    "alpha = 0.01\n",
    "lam = 0.5"
   ]
  },
  {
   "cell_type": "code",
   "execution_count": 33,
   "id": "d138dbfc-6323-4dd5-b616-cd018318ce8a",
   "metadata": {},
   "outputs": [
    {
     "name": "stdout",
     "output_type": "stream",
     "text": [
      "The MSE is : 2.877187046786579\n",
      "The MSE is : 2.7880588407635423\n",
      "The MSE is : 2.7847385787653525\n",
      "The MSE is : 2.7844645780848447\n",
      "The MSE is : 2.7844156083395437\n",
      "The algorithm has converged!\n"
     ]
    }
   ],
   "source": [
    "# how to implement the gradient descent\n",
    "for it in range(maxiter):\n",
    "    gw, gb =  gradient_enet(w_old,b_old,xscaled,y,alpha,lam)\n",
    "    w_new = w_old - learning_rate*gw\n",
    "    b_new = b_old - learning_rate*gb\n",
    "\n",
    "    if max(abs(w_new-w_old))<tol or abs(b_new-b_old)<tol:\n",
    "        print(\"The algorithm has converged!\")\n",
    "        break\n",
    "\n",
    "    w_old = w_new\n",
    "    b_old = b_new\n",
    "    if (it+1)%100==0:\n",
    "        print('The MSE is : '+str(MSE(w_old,b_old,xscaled,y)))\n",
    "w_trained = w_old\n",
    "b_trained = b_old"
   ]
  },
  {
   "cell_type": "code",
   "execution_count": 34,
   "id": "91566888-71e1-4410-bf2a-a72c73100ac1",
   "metadata": {},
   "outputs": [
    {
     "data": {
      "text/plain": [
       "array([ 3.90718497,  2.78024098, -0.01482842])"
      ]
     },
     "execution_count": 34,
     "metadata": {},
     "output_type": "execute_result"
    }
   ],
   "source": [
    "w_trained"
   ]
  },
  {
   "cell_type": "code",
   "execution_count": 35,
   "id": "44e90b80-62c8-4772-955c-68ba1ea127f7",
   "metadata": {},
   "outputs": [
    {
     "data": {
      "text/plain": [
       "np.float64(14.022450086450641)"
      ]
     },
     "execution_count": 35,
     "metadata": {},
     "output_type": "execute_result"
    }
   ],
   "source": [
    "b_trained"
   ]
  },
  {
   "cell_type": "code",
   "execution_count": 19,
   "id": "2e6d1b94-b7a1-4203-99a5-7407568545b4",
   "metadata": {},
   "outputs": [],
   "source": [
    "# to do k-fold CV from scratch\n",
    "# shuffle the data\n",
    "ind = np.random.permutation(len(x))\n",
    "# subdivide into k folds\n",
    "k = 5\n",
    "folds = np.array_split(ind,k)\n",
    "\n",
    "# the actual CV loop\n",
    "\n",
    "for fold in folds:\n",
    "    testind = ind[fold]\n",
    "    trainind = np.delete(ind,testind)\n",
    "    ####"
   ]
  },
  {
   "cell_type": "code",
   "execution_count": 24,
   "id": "fc1cce8b-a92a-473e-8432-39842da36c84",
   "metadata": {},
   "outputs": [
    {
     "data": {
      "text/plain": [
       "array([460192.19099444,  64893.70172274,  74493.40650196])"
      ]
     },
     "execution_count": 24,
     "metadata": {},
     "output_type": "execute_result"
    }
   ],
   "source": [
    "errors@x"
   ]
  },
  {
   "cell_type": "code",
   "execution_count": null,
   "id": "2bf14178-701b-4bcc-9163-4cf3d4d54094",
   "metadata": {},
   "outputs": [],
   "source": []
  }
 ],
 "metadata": {
  "kernelspec": {
   "display_name": "Python 3 (ipykernel)",
   "language": "python",
   "name": "python3"
  },
  "language_info": {
   "codemirror_mode": {
    "name": "ipython",
    "version": 3
   },
   "file_extension": ".py",
   "mimetype": "text/x-python",
   "name": "python",
   "nbconvert_exporter": "python",
   "pygments_lexer": "ipython3",
   "version": "3.13.5"
  }
 },
 "nbformat": 4,
 "nbformat_minor": 5
}
