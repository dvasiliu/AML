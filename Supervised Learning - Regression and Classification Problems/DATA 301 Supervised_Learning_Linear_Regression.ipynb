{
  "cells": [
    {
      "cell_type": "markdown",
      "metadata": {
        "id": "BdEj-c5xelK7"
      },
      "source": [
        "## <font color='blue'> Supervised Machine Learning: Linear Regression"
      ]
    },
    {
      "cell_type": "markdown",
      "metadata": {
        "id": "rmYpr9HlfDR5"
      },
      "source": [
        "### <font color='blue'> Introduction </font>\n",
        "\n",
        "**Main Idea**:\n",
        " - the output (dependent) variable is continuous and we want to \"predict\" its value within the range of the input features. (<font color='red'>WARNING: doing otherwise could lead to flawed inferences</font>).\n",
        " - there is \"noise\" which means that for essentially the same input values there may be different slightly different values of the output variable or there is \"noise\" in the measurement of all the variables.  \n",
        " - we assume that the noise (i.e. the errors in measurement) are following a normal distribution with mean 0 and some unknown standard deviation.\n",
        "\n",
        "**Seminal Work**:\n",
        " The linear correlation coefficient between two variables was introduced by Pearson, Karl (20 June 1895). \"Notes on regression and inheritance in the case of two parents\". Proceedings of the Royal Society of London. 58: 240–242.)\n",
        "\n",
        "$$\\large r: = \\frac{1}{n-1}\\sum_{i=1}^{n} \\left(\\frac{x_i - \\bar{x}}{s_x}\\right)\\left(\\frac{y_i - \\bar{y}}{s_y}\\right)$$\n",
        "\n",
        "Here $\\bar{x}$ is the mean of $x$, $\\bar{y}$ is the mean of $y$ and, $s_x$ is the standard deviation of $x$ and $s_y$ is the standard deviation of $y.$\n",
        "\n",
        "**Visual Intuition**:\n",
        "\n",
        "<figure>\n",
        "<center>\n",
        "<img src='https://i.imgur.com/djs0rro.png' width='600px' />\n",
        "<figcaption>The Linear Correlation Concept</figcaption></center>\n",
        "</figure>\n",
        "\n",
        "**Test statistic** for the corelation coefficient:\n",
        "\n",
        "$$\\large t=\\frac{r\\sqrt{n-2}}{\\sqrt{1-r^2}}$$\n",
        "\n",
        "where $n$ is the number of observations and $r$ represents the correlation coefficient computed from the data.\n",
        "\n",
        "The slope of the regression line is\n",
        "\n",
        "$$\\large m = r\\cdot\\frac{s_y}{s_x}$$\n",
        "\n",
        "\n",
        "**Theoretical Perspective**:\n",
        "- we want to estimate the expected value of the dependent variable as a function of the input features. Thus we want to approximate a conditional expectation $\\mathbb{E}(Y|\\text{input features})$ as a function of the input features such as\n",
        "\n",
        "$$\\large\\mathbb{E}(Y|X=x) = f(x)$$\n",
        "\n",
        "- we want to determine the simplest form of the function $f$ (principle of parsimony) and we assume that\n",
        "\n",
        "$$\\large Y = f(X) + \\sigma \\epsilon$$\n",
        "\n",
        "where $\\epsilon$ is the \"noise\", in statistical terms, $\\epsilon$ is independent and identically distributed, it follows a standard normal distribution and, $\\sigma>0$ is generally unknown.\n",
        "\n",
        "**The Coefficient of Determination**\n",
        "\n",
        "$$\\large R^2:=1-\\frac{\\sum (residual_i)^2}{\\sum(y_i-\\bar{y})^2}$$\n"
      ]
    },
    {
      "cell_type": "markdown",
      "metadata": {
        "id": "7GfG8XnR6qVm"
      },
      "source": [
        "### <font color='blue'>Multiple Linear Regression (Linear models with more features)</font>\n",
        "\n",
        "**Important** The matrix vector product is a linear combination of the columns of the matrix:\n",
        "\n",
        "$$\\large Xw =w_1\\begin{bmatrix}\n",
        "           x_{11} \\\\\n",
        "           x_{21} \\\\\n",
        "           \\vdots \\\\\n",
        "           x_{n1}\n",
        "         \\end{bmatrix}\n",
        "         +\n",
        "         w_2\\begin{bmatrix}\n",
        "           x_{11} \\\\\n",
        "           x_{21} \\\\\n",
        "           \\vdots \\\\\n",
        "           x_{n1}\n",
        "         \\end{bmatrix}\n",
        "                  + ...\n",
        "         w_p\\begin{bmatrix}\n",
        "           x_{1p} \\\\\n",
        "           x_{2p} \\\\\n",
        "           \\vdots \\\\\n",
        "           x_{np}\n",
        "         \\end{bmatrix}\n",
        "$$\n",
        "where\n",
        "\n",
        "$$\\large X = \\begin{bmatrix}\n",
        "x_{11}, x_{12}, ... x_{1p} \\\\\n",
        "x_{21},x_{22}, ...x_{2p} \\\\\n",
        "\\vdots \\\\\n",
        "x_{n1}, x_{n2}, ... x_{np}\n",
        "\\end{bmatrix}\n",
        "$$\n",
        "\n",
        "### <font color='blue'> Vector Spaces </font>\n",
        "\n",
        "#### Intuition\n",
        "\n",
        "* A vector represents a way of encoding information in an organized way that allows also useful operations to be carried out.\n",
        "\n",
        "* Building intuition: think of position vectors. The addition/subtraction operations can be carried out componentwise. Multiplication by scalars (e.g. real numbers) are also distributed to all of the vector's commponents.\n",
        "\n",
        "\n",
        "\n",
        "<figure>\n",
        "<center>\n",
        "<img src='https://i.imgur.com/hL5eCrq.png'width='300px'/>\n",
        "<figcaption>Vector Addition</figcaption></center>\n",
        "</figure>\n",
        "\n",
        "\n",
        "* Example: an array of prescribed dimensionality can be regarded as a vector.\n",
        "\n",
        "* More abstract objects, such as continuous or integrable functions can be regarded as vectors, as well.\n",
        "\n",
        "### Vector Spaces - Formal Definition\n",
        "\n",
        "<font color='red' size =4pt>A vector space $V$ is a set whose elements can be multiplied with scalars and combined among themselves by using a $\"\\cdot\"$ and a $\"+\"$ operation, respectively.  These operations mentioned above, must satisfy the following properties:</font>\n",
        "\n",
        "\n",
        "| **Axiom**                                                                                                                                | **Meaning**                                                                                                                                                                                                  |\n",
        "| ---------------------------------------------------------------------------------------------------------------------------------------- | ------------------------------------------------------------------------------------------------------------------------------------------------------------------------------------------------------------ |\n",
        "| [Associativity](https://en.wikipedia.org/wiki/Associativity \"Associativity\") of vector addition                                          | **u** + (**v** + **w**) = (**u** + **v**) + **w**                                                                                                                                                            |\n",
        "| [Commutativity](https://en.wikipedia.org/wiki/Commutativity \"Commutativity\") of vector addition                                          | **u** + **v** = **v** + **u**                                                                                                                                                                                |\n",
        "| [Identity element](https://en.wikipedia.org/wiki/Identity_element \"Identity element\") of vector addition                                 | There exists an element **0**∈ _V_, called the _[zero vector](https://en.wikipedia.org/wiki/Zero_vector \"Zero vector\")_, such that **v** + **0** = **v** for all **v**∈ _V_.                                 |\n",
        "| [Inverse elements](https://en.wikipedia.org/wiki/Inverse_element \"Inverse element\") of vector addition                                   | For every **v**∈ _V_, there exists an element −**v** ∈ _V_, called the _[additive inverse](https://en.wikipedia.org/wiki/Additive_inverse \"Additive inverse\")_ of **v**, such that **v** + (−**v**) = **0**. |\n",
        "| Compatibility of scalar multiplication with field multiplication                                                                         | _a_(_b_**v**) = (_ab_)**v**<sup>[\\[nb 3\\]](https://en.wikipedia.org/wiki/Vector_space#cite_note-4)</sup>                                                                                                     |\n",
        "| Identity element of scalar multiplication                                                                                                | 1**v** = **v**, where 1 denotes the [multiplicative identity](https://en.wikipedia.org/wiki/Multiplicative_identity \"Multiplicative identity\") in _F_.                                                       |\n",
        "| [Distributivity](https://en.wikipedia.org/wiki/Distributivity \"Distributivity\") of scalar multiplication with respect to vector addition | _a_(**u** + **v**) = _a_**u** + _a_**v**                                                                                                                                                                     |\n",
        "| Distributivity of scalar multiplication with respect to field addition                                                                   | (_a_ + _b_)**v** = _a_**v** + _b_**v**                                      \n",
        "\n",
        "\n",
        "\n",
        "\n",
        "\n",
        "An example of a linear model with two features is $\\hat{y}_i = 1+3x_{i1}+5x_{i2}.$\n",
        "\n",
        "In this example the value $1$ is referred to as the *intercept*.\n",
        "\n",
        "\n",
        "If $p$ features in the data and we want to create a linear model, the *input-output* mechanism is\n",
        "\n",
        "$$\n",
        "\\underbrace{Y}_\\text{Output}  = \\underbrace{w_1 X_1+w_2 X_2+...+w_p X_p}_\\text{Linear combination of features}\n",
        "$$\n",
        "\n",
        "This could represented as a matrix-vector product:\n",
        "\n",
        "$$\n",
        "\\underbrace{Y}_\\text{Output}  = \\underbrace{X\\cdot w}_\\text{Linear combination of the columns of matrix X}\n",
        "$$\n",
        "\n",
        "In this model the features are $X_1, X_2, ...X_p$ and $w_1, w_2,...w_p$ are a set of weights (real numbers).\n",
        "\n",
        "The assumption for multiple linear regression is\n",
        "\n",
        "$$\\large\n",
        "Y = Xw + \\sigma \\epsilon\n",
        "$$\n",
        "\n",
        "where $\\sigma$ is the standard deviatin of the noise. Further, we assume that the \"noise\" $\\epsilon$ is independent and identically distributed with a zero mean.\n",
        "\n",
        "We believe that the output is a linear combination of the input features.\n",
        "\n",
        "Thus, if we would like to solve for the \"weights\" $w$ we may consider\n",
        "\n",
        "$$\\large\n",
        "X^tY = X^tXw+\\sigma X^t\\epsilon\n",
        "$$\n",
        "\n",
        "And if the matrix $X^tX$ is invertible then we can solve for expected value of $w$:\n",
        "\n",
        "$$\\large\n",
        "\\mathbb{E}(w) = (X^tX)^{-1}X^t Y\n",
        "$$\n",
        "\n",
        "We can show by using *Linear Algebra* that the OLS solution obtained form minimizing the sum of the square residuals is equivalent.\n",
        "\n",
        "\n",
        "### <font color='blue'>Linear vs Non-linear models</font>\n",
        "\n",
        "This is a linear model in terms of the weights $w$:\n",
        "\n",
        "\n",
        "$$\\large\n",
        "\\hat{y} = w_0 + w_1x_1 + w_2x_2 - w_3x_3\n",
        "$$\n",
        "\n",
        "An example for what linear in weights means\n",
        "<font color='forestgreen'>\n",
        "$$\n",
        "\\hat{y}(2w+3\\alpha) = 2\\hat{y}(w)+3\\hat{y}(\\alpha)\n",
        "$$</font>\n",
        "\n",
        "The following is a non-linear model in terms of the coefficients (weights):\n",
        "\n",
        "\n",
        "$$\\large\n",
        "\\hat{y} = w_0 + w_1^3x_1 + \\frac{1}{w_2+w_3}x_2 - e^{w_3}x_3\n",
        "$$\n",
        "\n",
        "<font color='magenta'>\n",
        "$$\n",
        "\\hat{y}(2w+3\\alpha) \\neq 2\\hat{y}(w)+3\\hat{y}(\\alpha)\n",
        "$$</font>\n",
        "\n",
        "The main point of linear regression is to assume that predictions can ben made by using a linear combination of the features.\n",
        "\n",
        "For example, if the data from feature $j$ is a column vector, e.g.\n",
        "\\begin{bmatrix}\n",
        "           x_{1j} \\\\\n",
        "           x_{2j} \\\\\n",
        "           \\vdots \\\\\n",
        "           x_{nj}\n",
        "         \\end{bmatrix}  \n",
        "then we assume that the depdendent variable is predicted by a linear combination of these columns populated with features' data. Each column represents a feature and each row an independent observation.\n",
        "\n",
        "The predicted value is denoted by $\\hat{y}$ and\n",
        "\n",
        "\n",
        "$$\n",
        "\\hat{y} = w_1\\begin{bmatrix}\n",
        "           x_{11} \\\\\n",
        "           x_{21} \\\\\n",
        "           \\vdots \\\\\n",
        "           x_{n1}\n",
        "         \\end{bmatrix}\n",
        "         +\n",
        "         w_2\\begin{bmatrix}\n",
        "           x_{11} \\\\\n",
        "           x_{21} \\\\\n",
        "           \\vdots \\\\\n",
        "           x_{n1}\n",
        "         \\end{bmatrix}\n",
        "                  + ...\n",
        "         w_p\\begin{bmatrix}\n",
        "           x_{1p} \\\\\n",
        "           x_{2p} \\\\\n",
        "           \\vdots \\\\\n",
        "           x_{np}\n",
        "         \\end{bmatrix}\n",
        "$$\n",
        "\n",
        "### We have a vector of weights:\n",
        "\n",
        "$$\n",
        "w = \\begin{bmatrix}\n",
        "           w_{1} \\\\\n",
        "           w_{2} \\\\\n",
        "           \\vdots \\\\\n",
        "           w_{p}\n",
        "         \\end{bmatrix}\n",
        "$$\n",
        "\n",
        "#### <span style=\"color:green;font-size:14pt\"> Critical thinking: what exactly is $\\hat{y}$? </span>\n",
        "\n",
        "<font color='magenta'> The matrix-vector product between the feaures and the weights\n",
        "$$\n",
        "\\hat{y} = X\\cdot w\n",
        "$$\n",
        "</font>\n",
        "\n",
        "The main idea is that\n",
        "\n",
        "$$\n",
        "\\hat{y}= \\begin{bmatrix}\n",
        "           \\hat{y}_{1} \\\\\n",
        "            \\hat{y}_{2}  \\\\\n",
        "           \\vdots \\\\\n",
        "             \\hat{y}_{n}\n",
        "         \\end{bmatrix}\n",
        "$$\n",
        "\n",
        "represents the predictions we make by training (or as we say in ML *learning*) the weights $w.$\n",
        "\n",
        "Training means running an optimization algorithm and determining the values of the weights that minimize an objective function.\n",
        "\n",
        "### <font color='darkgreen'> We want to *learn* the weights $w_1,w_2,...w_p$ that minimize the sum of the squared residuals:\n",
        "\n",
        "$$\\large\n",
        "\\sum\\limits_{i=1}^{n}\\left(y_i-\\sum\\limits_{j=1}^{p}X_{i,j}\\cdot w_j\\right)^2\n",
        " = \\sum\\limits_{i=1}^{n}\\left(y_i-X_{i,1}w_1-X_{i,2}w_2 - ...X_{i,p}w_p\\right)^2 $$\n",
        "</font>\n",
        "\n",
        "### <font color='red'> How do we know we are on the right track after we perform the minimization of the square residuals? <font>"
      ]
    },
    {
      "cell_type": "markdown",
      "metadata": {
        "id": "b5S06aTYG3JC"
      },
      "source": [
        "### <font color='blue'>Ordinary Least Squares Regression (OLS) with Gradient Descent</font>\n",
        "\n",
        "First, we assume the simplest case: data has only one input feature that is continuous.\n",
        "\n",
        "The main idea of linear regression is the expected value of the output is a linear function of the input variable(s).\n",
        "\n",
        "$$\\mathbb{E}(Y|X=x)\\approx m\\cdot x + b$$\n",
        "\n",
        "To determine the line of best fit the goal is to minimize the sum of squared residuals:\n",
        "\n",
        "<font color='navy'>\n",
        "$$\n",
        "\\min_{m,b} \\sum\\limits_{i=1}^{n}(y_i-mx_i-b)^2\n",
        "$$\n",
        "</font>\n",
        "\n",
        "So the sum of the squared residuals is\n",
        "\n",
        "$$\n",
        "\\sum\\limits_{i=1}^{n}(y_i-mx_i-b)^2\n",
        "$$\n",
        "\n",
        "If $N$ represents the number of observations (the number of rows in the data) then the cost function may be defined\n",
        "<font color='red'>\n",
        "$$\n",
        "L(m,b) = \\frac{1}{N} \\sum\\limits_{i=1}^{N}(y_i-mx_i-b)^2\n",
        "$$</font>\n",
        "\n",
        "where\n",
        "\n",
        "$$\\hat{y_i} = m\\cdot x_i +b.$$\n",
        "\n",
        "If we get our predictions $\\hat{y}_i$ then we have that the Mean Squared Error is\n",
        "\n",
        "$$\n",
        "\\frac{1}{N} \\sum\\limits_{i=1}^{N}(y_i-\\hat{y}_i)^2\n",
        "$$\n",
        "\n",
        "<font color='forestgreen'> Critical Thinking: at the optimal values $(m,b)$ the partial derivatives of the cost function $L$ are equal to 0.</font>\n",
        "\n",
        "The <font color='deepskyblue'>*gradient descent algorithm*</font> is based on this idea.\n"
      ]
    },
    {
      "cell_type": "markdown",
      "metadata": {
        "id": "-uCucbG6SgM2"
      },
      "source": [
        "Thus, the equation of the best fit line is $$y = mx + b.$$\n",
        "\n",
        "<font color='red'> CRITICAL THINKING: How *exactly* are we obtaining the slope and the intercept?</font>\n",
        "\n",
        "<font color='forestgreen'>ANSWER: One way to obtain the slope and the intercept is by applying the *Ordinary Least Squares* method.</font>\n",
        "\n",
        "We determine the values of <font color='blue'>$m$</font> and <font color='red'>$b$</font> such that the sum of the square distances between the points and the line is *minimal*.</font>\n",
        "\n",
        "An example of a loss function with two coefficients is\n",
        "\n",
        "$$L(w_1,w_2): = \\frac{1}{n}\\sum (y_i - w_1\\cdot x_{i1} - w_2\\cdot x_{i2})^2$$\n",
        "\n",
        "Here we have a vector $$\\vec{w}:=(w_1,w_2)$$\n",
        "\n",
        "We can think of the vector $\\vec{w}$ having (in this case) two components and a perturbation of $\\vec{w}$ in some direction such as $\\vec{v}.$\n",
        "\n",
        "We consider the function $g(t):=L(\\vec{w}+t\\cdot \\vec{v})$ we get some important ideas:\n",
        "\n",
        "i. if $\\vec{w}$ is ideal for the cost then $t=0$ is min of the function $g$ and so $g'(0)=0.$\n",
        "\n",
        "ii. if $\\vec{w}$ is not minimizing the cost then we want to decrease the function $g$\n",
        "\n",
        "Here we have that $$g'(t):= \\nabla L \\cdot \\vec{v}$$ should be negative (because we want to decrease $g$) and we get a good outcome if\n",
        "\n",
        "$$\\vec{v}:= - \\nabla L$$\n",
        "\n",
        "This means that the coefficients should be updated in the negative direction of the gradient, such as:\n",
        "\n",
        "$$ \\vec{w}_{new} := \\vec{w}_{old} - \\text{lr}\\cdot\\nabla L$$\n",
        "\n",
        "where \"lr\" stands for \"learning rate.\"\n",
        "\n",
        "<figure>\n",
        "<center>\n",
        "<img src='https://i.imgur.com/KzUuU3q.gif'width='650px'/>\n",
        "<figcaption>Gradient Descent Animation</figcaption></center>\n",
        "</figure>\n",
        "\n",
        "<figure>\n",
        "<center>\n",
        "<img src='https://i.imgur.com/6S1weRY.gif'\n",
        "width='600px' />\n",
        "<figcaption>Source: Simple Linear Regression (Tobias Roeschl)</figcaption></center>\n",
        "</figure>\n",
        "\n"
      ]
    },
    {
      "cell_type": "markdown",
      "metadata": {},
      "source": [
        "### <font color='blue'> Polynomial Regression</font>\n",
        "\n",
        "<font color='slateblue'> Main idea: Linear combination of different powers of the feature values. </font>\n",
        "\n",
        "$$\\large\n",
        "P(x):= \\beta_px^p+\\beta_{p-1}x^{p-1}+...+\\beta_1x+\\beta_0\n",
        "$$\n",
        "\n",
        "**IMPORTANT**: P(x) is nonlinear in x. However if x is fixed (x is your data) and $\\beta$ is the input we have\n",
        "$$\\large\n",
        "L(\\beta):= \\beta_px^p+\\beta_{p-1}x^{p-1}+...+\\beta_1x+\\beta_0\n",
        "$$\n",
        "\n",
        "is linear in $\\beta$\n",
        "\n",
        "**Critical Thinking**: How does a cubic polynomial in two variables look like?"
      ]
    },
    {
      "cell_type": "markdown",
      "metadata": {},
      "source": [
        "### <font color='blue'> Support Vector Regression </font>\n",
        "\n",
        "\n",
        "Support Vector Machines Seminal Paper (1992): http://www.svms.org/training/BOGV92.pdf\n",
        "\n",
        "\n",
        "\n",
        "Support Vectors is a method used in Machine Learning for both regression and classification problmes. The main idea is to map the input features into a higher dimensional space and then, in that higher dimensional space, address the problem to solve.\n",
        "\n",
        "For regression, SVM consists of an algorithm that solves a quadratic optimization problem with constraints:\n",
        "\n",
        "$$\n",
        "\\text{minimize}\\frac{1}{2}\\|w\\|^2\n",
        "$$\n",
        "\n",
        "subject to\n",
        "\n",
        "$$\n",
        "\\left\\{ \n",
        "    \\begin{array}{l}\n",
        "        y_i -wx_i - b\\leq\\epsilon &\\\\\n",
        "        wx_i+b-y_i \\leq \\epsilon\n",
        "    \\end{array} \n",
        "\\right.\n",
        "$$\n",
        "\n",
        "We can express the constraints as:\n",
        "\n",
        "$$\\large |y_i - (wx_i+b)|\\leq\\epsilon$$\n",
        "Intuitively we have\n",
        "\n",
        "\n",
        "<figure>\n",
        "<center>\n",
        "<img src='https://i.imgur.com/1dJCvHw.png'\n",
        "width='600px' />\n",
        "<figcaption>Main Idea for SVR in 1-D</figcaption></center>\n",
        "</figure>\n",
        "\n",
        "#### Slack Variables\n",
        "\n",
        "SVR with slack variables consists of an algorithm that solves a quadratic optimization problem with constraints:\n",
        "\n",
        "$$\n",
        "\\text{minimize}\\frac{1}{2}\\|w\\|^2 + C\\sum_{i=1}^{n}|\\xi_i|\n",
        "$$\n",
        "\n",
        "subject to\n",
        "\n",
        "$$\n",
        "|y_i - x_i\\cdot w - b|\\leq\\epsilon + |\\xi_i|\n",
        "$$\n",
        "\n",
        "where $x_i = (x_{i1},x_{i2},...x_{ip})$ represents the ith observation that has $p$ features and $w$ is the vector of the weights. We have $1\\times p \\cdot p\\times 1 = 1\\times 1$ The main idea is that the slack variables will accommodate points that are \"close\" to the epsilon margins and that may influence the influence the value of the weights.\n",
        "\n",
        "<font color='green'> This means that we have at least two different hyperparameters in this case such as $\\epsilon$ and $C$.</font>"
      ]
    },
    {
      "cell_type": "markdown",
      "metadata": {
        "id": "Ki67APi_p3M8"
      },
      "source": [
        "### <font color='blue'> Diagnostics for Regression </font>\n",
        "\n",
        "#### <font color='blue'> The Coefficient of Determination </font>\n",
        "\n",
        "$$\\large R^2:=1-\\frac{\\sum (residual_i)^2}{\\sum(y_i-\\bar{y})^2}$$\n",
        "\n",
        "We know we make a good job when R2 is very close to 1. We make a very poor job if R2 is close to 0 or even negative."
      ]
    },
    {
      "cell_type": "markdown",
      "metadata": {
        "id": "Sg4F4120M_WN"
      },
      "source": [
        "### <font color='blue' size=5pt> Tests for Normality </font>\n",
        "\n",
        "We believe that, if the residuals are normally distributed, then the average of the errors is a meaningful estimator for the model's performance.\n",
        "\n",
        "####  <font color='blue'> What is a Normality Test? </font>\n",
        "\n",
        "Assume we have a univariate set of values ( we have a sample from a univariate distribution.) We are checking, based on some calculations with the sample data, if the univariate distribution is a normal one.\n",
        "\n",
        "**Main Idea**: We are measuring the nonlinear correlation between the empirical density function of the data vs the theoretical density of a standard normal distribution.\n",
        "\n",
        "We want to recast this matching procedure onto the backdrop of a linear correlation situation; this means we want to compare the two cumulative distribution functions. To explain, we want the empirical percentiles to correlate linearly with the theoretical percentiles of a standard normal distribution.\n",
        "\n"
      ]
    },
    {
      "cell_type": "markdown",
      "metadata": {
        "id": "hrOzLlSzq0h6"
      },
      "source": [
        "### <font color='blue'> The Kolmogorov-Smirnov test </font>\n",
        "\n",
        "The Kolmogorov-Smirnov test uses the concept of cummulative distribution functions:\n",
        "\n",
        "$$CDF(x):= P(X<x) = \\int_{-∞}^{x}f(t)dt$$\n",
        "\n",
        "The concept is useful in applications where we want to check if a random variable follows a certain distribution.\n",
        "\n",
        "IMPORTANT: In most cases we standardize the values of the random variable, e.g we compute z-scores.\n",
        "\n",
        "The test is defined as:\n",
        "\n",
        "  **H0 (the null hypothesis):**\tThe data follow a specified distribution.\n",
        "\n",
        "  **H1 (the alternative hypothesis):** The data do not follow the specified distribution\n",
        "\n",
        "The main idea is that we focus on how much the empirical cummulative distribution function is different from the theoretical cummulative distribution function, and we may consider:\n",
        "\n",
        "$$\\sup_{x} |ECDF(x) - CDF(x)|$$\n",
        "\n",
        "where $\\text{ECDF}(x)$ means the emprirical cummulative distribution function:\n",
        "\n",
        "$$ ECDF(x):= \\frac{1}{n}\\sum \\mathbb{1}(t)_{t<x} $$\n",
        "\n",
        "and, $CDF$ stands for the cummulative distribution function:\n",
        "\n",
        "$$CDF(x):= \\int_{-\\infty}^{x}f(t)dt.$$  Here $f$ is the probability density function.\n",
        "\n",
        "If we order the observations, such as $x_i\\leq x_j$ when $i\\leq j$, then the test statistic is formally defined by:\n",
        "\n",
        "$$D:=\\max_{1\\leq i\\leq n}\\left\\{CDF(x_i)-\\frac{i-1}{n},\\frac{i}{n}-CDF(x_i)\\right\\}$$\n",
        "\n",
        "The mathematical notation means that we add $1$ for each $t$ less than $x$ and $n$ represents the sample size.\n",
        "\n",
        "\n",
        "If the p-value is high (much greater then 5%) we do not reject the null hypethesis which means that the normality assumption is not violated."
      ]
    },
    {
      "cell_type": "markdown",
      "metadata": {
        "id": "Cf0FHoBFz8Fz"
      },
      "source": [
        "#### <font color='blue'> The Anderson-Darling Test</font>\n",
        "\n",
        "The test is defined as:\n",
        "\n",
        "  **H0 (the null hypothesis)**:\tThe data follow a specified distribution.\n",
        "\n",
        "  **H1 (the alternative hypothesis)**: The data do not follow the specified distribution\n",
        "\n",
        "  The test statistic is defined as:\n",
        "\n",
        "  $$\\large AD := -n - \\sum_{i=1}^{n} \\frac{2i-1}{n}\\left[\\ln(CDF(x_i))+\\ln(1-CDF(x_{n+1-i})\\right] $$\n",
        "\n",
        "The critical values for the Anderson-Darling test are dependent on the specific distribution that is being tested."
      ]
    },
    {
      "cell_type": "markdown",
      "metadata": {
        "id": "rJ0PzvREGcl0"
      },
      "source": [
        "\n",
        "### <font color='blue' > Error Metrics\n",
        "\n",
        "#### <font color='blue'> MSE\n",
        "\n",
        "$$\\text{MSE}:=\\frac{1}{n}\\sum_{i=1}^{n}(y_i-x_i\\cdot\\vec{w})^2$$\n",
        "\n",
        "here the i-th observation has multiple features:\n",
        "\n",
        "$$x_i = \\left(x_{i1},x_{i2},...x_{ip}\\right)$$\n",
        "\n",
        "where the \"dot\" product is defined as\n",
        "\n",
        "$$x_i\\cdot\\vec{w} = \\sum_{j=1}^{p} x_{ij}w_j$$"
      ]
    },
    {
      "cell_type": "markdown",
      "metadata": {
        "id": "ciwxxXZUH-fF"
      },
      "source": [
        "### <font color='blue'> RMSE\n",
        "\n",
        "Root mean squared error:\n",
        "\n",
        "$$\\text{RMSE}:=\\left(\\frac{1}{n}\\sum_{i=1}^{n}(y_i-x_i\\cdot\\vec{w})^2\\right)^{1/2}$$"
      ]
    },
    {
      "cell_type": "markdown",
      "metadata": {
        "id": "64p_iWDNIJTi"
      },
      "source": [
        "### <font color='blue'> MAE\n",
        "\n",
        "Mean absolute error:\n",
        "\n",
        "$$\\text{MAE}:=\\frac{1}{n}\\sum_{i=1}^{n}\\left|y_i-x_i\\cdot\\vec{w}\\right|$$"
      ]
    },
    {
      "cell_type": "markdown",
      "metadata": {
        "id": "lK_eaWoRTJE8"
      },
      "source": [
        "###  <font color='blue' size=5pt> Code Applications </font>\n",
        "\n",
        "---\n",
        "\n",
        "In the following example we learn how to write a code in Python for determining the line of best fit given one dependent variable and one input feature. That is to say we are going to determine a slope  𝑚  and an intercept  𝑛 , the equation of the best fit line being  𝑦=𝑚𝑥+𝑏.\n",
        "\n",
        "We are going to analyze a real data set that was extracted from the 1974 Motor Trend US magazine and comprises fuel consumption and 10 aspects of automobile design and performance for 32 automobiles (1973-1974 models)."
      ]
    },
    {
      "cell_type": "markdown",
      "metadata": {
        "id": "QOxTd1MTUdrO"
      },
      "source": [
        "#### Setup"
      ]
    },
    {
      "cell_type": "code",
      "execution_count": null,
      "metadata": {
        "id": "OrmeT637UaA5"
      },
      "outputs": [],
      "source": [
        "import os\n",
        "if 'google.colab' in str(get_ipython()):\n",
        "  print('Running on CoLab')\n",
        "  from google.colab import drive\n",
        "  drive.mount('/content/drive')\n",
        "  os.chdir('/content/drive/My Drive/Data Sets')\n",
        "  !pip install -q pygam\n",
        "else:\n",
        "  print('Running locally')\n",
        "  os.chdir('../Data')"
      ]
    },
    {
      "cell_type": "code",
      "execution_count": 2,
      "metadata": {
        "id": "DLFMvCHueIZe"
      },
      "outputs": [],
      "source": [
        "# Library Setup\n",
        "%matplotlib inline\n",
        "%config InlineBackend.figure_format = 'retina'\n",
        "import matplotlib.pyplot as plt\n",
        "import numpy as np\n",
        "import pandas as pd\n",
        "from sklearn.linear_model import LinearRegression\n",
        "from scipy.stats import pearsonr\n",
        "from __future__ import print_function\n",
        "from scipy.stats import ksone"
      ]
    },
    {
      "cell_type": "markdown",
      "metadata": {
        "id": "ApMJU6NbUnhX"
      },
      "source": [
        "#### Data Import"
      ]
    },
    {
      "cell_type": "code",
      "execution_count": 3,
      "metadata": {
        "id": "JZLXKkKLDWaT"
      },
      "outputs": [],
      "source": [
        "# data\n",
        "cars = pd.read_csv('https://github.com/dvasiliu/AML/blob/main/Data%20Sets/mtcars.csv?raw=true')"
      ]
    },
    {
      "cell_type": "code",
      "execution_count": null,
      "metadata": {
        "colab": {
          "base_uri": "https://localhost:8080/",
          "height": 1000
        },
        "id": "_ypcI2C-Dczd",
        "outputId": "084f8637-b778-4f2b-f392-a2f62b8f30cd"
      },
      "outputs": [
        {
          "data": {
            "text/html": [
              "\n",
              "  <div id=\"df-882f07c1-0c67-4251-b433-6ccb0460ba8c\">\n",
              "    <div class=\"colab-df-container\">\n",
              "      <div>\n",
              "<style scoped>\n",
              "    .dataframe tbody tr th:only-of-type {\n",
              "        vertical-align: middle;\n",
              "    }\n",
              "\n",
              "    .dataframe tbody tr th {\n",
              "        vertical-align: top;\n",
              "    }\n",
              "\n",
              "    .dataframe thead th {\n",
              "        text-align: right;\n",
              "    }\n",
              "</style>\n",
              "<table border=\"1\" class=\"dataframe\">\n",
              "  <thead>\n",
              "    <tr style=\"text-align: right;\">\n",
              "      <th></th>\n",
              "      <th>model</th>\n",
              "      <th>mpg</th>\n",
              "      <th>cyl</th>\n",
              "      <th>disp</th>\n",
              "      <th>hp</th>\n",
              "      <th>drat</th>\n",
              "      <th>wt</th>\n",
              "      <th>qsec</th>\n",
              "      <th>vs</th>\n",
              "      <th>am</th>\n",
              "      <th>gear</th>\n",
              "      <th>carb</th>\n",
              "    </tr>\n",
              "  </thead>\n",
              "  <tbody>\n",
              "    <tr>\n",
              "      <th>0</th>\n",
              "      <td>Mazda RX4</td>\n",
              "      <td>21.0</td>\n",
              "      <td>6</td>\n",
              "      <td>160.0</td>\n",
              "      <td>110</td>\n",
              "      <td>3.90</td>\n",
              "      <td>2.620</td>\n",
              "      <td>16.46</td>\n",
              "      <td>0</td>\n",
              "      <td>1</td>\n",
              "      <td>4</td>\n",
              "      <td>4</td>\n",
              "    </tr>\n",
              "    <tr>\n",
              "      <th>1</th>\n",
              "      <td>Mazda RX4 Wag</td>\n",
              "      <td>21.0</td>\n",
              "      <td>6</td>\n",
              "      <td>160.0</td>\n",
              "      <td>110</td>\n",
              "      <td>3.90</td>\n",
              "      <td>2.875</td>\n",
              "      <td>17.02</td>\n",
              "      <td>0</td>\n",
              "      <td>1</td>\n",
              "      <td>4</td>\n",
              "      <td>4</td>\n",
              "    </tr>\n",
              "    <tr>\n",
              "      <th>2</th>\n",
              "      <td>Datsun 710</td>\n",
              "      <td>22.8</td>\n",
              "      <td>4</td>\n",
              "      <td>108.0</td>\n",
              "      <td>93</td>\n",
              "      <td>3.85</td>\n",
              "      <td>2.320</td>\n",
              "      <td>18.61</td>\n",
              "      <td>1</td>\n",
              "      <td>1</td>\n",
              "      <td>4</td>\n",
              "      <td>1</td>\n",
              "    </tr>\n",
              "    <tr>\n",
              "      <th>3</th>\n",
              "      <td>Hornet 4 Drive</td>\n",
              "      <td>21.4</td>\n",
              "      <td>6</td>\n",
              "      <td>258.0</td>\n",
              "      <td>110</td>\n",
              "      <td>3.08</td>\n",
              "      <td>3.215</td>\n",
              "      <td>19.44</td>\n",
              "      <td>1</td>\n",
              "      <td>0</td>\n",
              "      <td>3</td>\n",
              "      <td>1</td>\n",
              "    </tr>\n",
              "    <tr>\n",
              "      <th>4</th>\n",
              "      <td>Hornet Sportabout</td>\n",
              "      <td>18.7</td>\n",
              "      <td>8</td>\n",
              "      <td>360.0</td>\n",
              "      <td>175</td>\n",
              "      <td>3.15</td>\n",
              "      <td>3.440</td>\n",
              "      <td>17.02</td>\n",
              "      <td>0</td>\n",
              "      <td>0</td>\n",
              "      <td>3</td>\n",
              "      <td>2</td>\n",
              "    </tr>\n",
              "    <tr>\n",
              "      <th>5</th>\n",
              "      <td>Valiant</td>\n",
              "      <td>18.1</td>\n",
              "      <td>6</td>\n",
              "      <td>225.0</td>\n",
              "      <td>105</td>\n",
              "      <td>2.76</td>\n",
              "      <td>3.460</td>\n",
              "      <td>20.22</td>\n",
              "      <td>1</td>\n",
              "      <td>0</td>\n",
              "      <td>3</td>\n",
              "      <td>1</td>\n",
              "    </tr>\n",
              "    <tr>\n",
              "      <th>6</th>\n",
              "      <td>Duster 360</td>\n",
              "      <td>14.3</td>\n",
              "      <td>8</td>\n",
              "      <td>360.0</td>\n",
              "      <td>245</td>\n",
              "      <td>3.21</td>\n",
              "      <td>3.570</td>\n",
              "      <td>15.84</td>\n",
              "      <td>0</td>\n",
              "      <td>0</td>\n",
              "      <td>3</td>\n",
              "      <td>4</td>\n",
              "    </tr>\n",
              "    <tr>\n",
              "      <th>7</th>\n",
              "      <td>Merc 240D</td>\n",
              "      <td>24.4</td>\n",
              "      <td>4</td>\n",
              "      <td>146.7</td>\n",
              "      <td>62</td>\n",
              "      <td>3.69</td>\n",
              "      <td>3.190</td>\n",
              "      <td>20.00</td>\n",
              "      <td>1</td>\n",
              "      <td>0</td>\n",
              "      <td>4</td>\n",
              "      <td>2</td>\n",
              "    </tr>\n",
              "    <tr>\n",
              "      <th>8</th>\n",
              "      <td>Merc 230</td>\n",
              "      <td>22.8</td>\n",
              "      <td>4</td>\n",
              "      <td>140.8</td>\n",
              "      <td>95</td>\n",
              "      <td>3.92</td>\n",
              "      <td>3.150</td>\n",
              "      <td>22.90</td>\n",
              "      <td>1</td>\n",
              "      <td>0</td>\n",
              "      <td>4</td>\n",
              "      <td>2</td>\n",
              "    </tr>\n",
              "    <tr>\n",
              "      <th>9</th>\n",
              "      <td>Merc 280</td>\n",
              "      <td>19.2</td>\n",
              "      <td>6</td>\n",
              "      <td>167.6</td>\n",
              "      <td>123</td>\n",
              "      <td>3.92</td>\n",
              "      <td>3.440</td>\n",
              "      <td>18.30</td>\n",
              "      <td>1</td>\n",
              "      <td>0</td>\n",
              "      <td>4</td>\n",
              "      <td>4</td>\n",
              "    </tr>\n",
              "    <tr>\n",
              "      <th>10</th>\n",
              "      <td>Merc 280C</td>\n",
              "      <td>17.8</td>\n",
              "      <td>6</td>\n",
              "      <td>167.6</td>\n",
              "      <td>123</td>\n",
              "      <td>3.92</td>\n",
              "      <td>3.440</td>\n",
              "      <td>18.90</td>\n",
              "      <td>1</td>\n",
              "      <td>0</td>\n",
              "      <td>4</td>\n",
              "      <td>4</td>\n",
              "    </tr>\n",
              "    <tr>\n",
              "      <th>11</th>\n",
              "      <td>Merc 450SE</td>\n",
              "      <td>16.4</td>\n",
              "      <td>8</td>\n",
              "      <td>275.8</td>\n",
              "      <td>180</td>\n",
              "      <td>3.07</td>\n",
              "      <td>4.070</td>\n",
              "      <td>17.40</td>\n",
              "      <td>0</td>\n",
              "      <td>0</td>\n",
              "      <td>3</td>\n",
              "      <td>3</td>\n",
              "    </tr>\n",
              "    <tr>\n",
              "      <th>12</th>\n",
              "      <td>Merc 450SL</td>\n",
              "      <td>17.3</td>\n",
              "      <td>8</td>\n",
              "      <td>275.8</td>\n",
              "      <td>180</td>\n",
              "      <td>3.07</td>\n",
              "      <td>3.730</td>\n",
              "      <td>17.60</td>\n",
              "      <td>0</td>\n",
              "      <td>0</td>\n",
              "      <td>3</td>\n",
              "      <td>3</td>\n",
              "    </tr>\n",
              "    <tr>\n",
              "      <th>13</th>\n",
              "      <td>Merc 450SLC</td>\n",
              "      <td>15.2</td>\n",
              "      <td>8</td>\n",
              "      <td>275.8</td>\n",
              "      <td>180</td>\n",
              "      <td>3.07</td>\n",
              "      <td>3.780</td>\n",
              "      <td>18.00</td>\n",
              "      <td>0</td>\n",
              "      <td>0</td>\n",
              "      <td>3</td>\n",
              "      <td>3</td>\n",
              "    </tr>\n",
              "    <tr>\n",
              "      <th>14</th>\n",
              "      <td>Cadillac Fleetwood</td>\n",
              "      <td>10.4</td>\n",
              "      <td>8</td>\n",
              "      <td>472.0</td>\n",
              "      <td>205</td>\n",
              "      <td>2.93</td>\n",
              "      <td>5.250</td>\n",
              "      <td>17.98</td>\n",
              "      <td>0</td>\n",
              "      <td>0</td>\n",
              "      <td>3</td>\n",
              "      <td>4</td>\n",
              "    </tr>\n",
              "    <tr>\n",
              "      <th>15</th>\n",
              "      <td>Lincoln Continental</td>\n",
              "      <td>10.4</td>\n",
              "      <td>8</td>\n",
              "      <td>460.0</td>\n",
              "      <td>215</td>\n",
              "      <td>3.00</td>\n",
              "      <td>5.424</td>\n",
              "      <td>17.82</td>\n",
              "      <td>0</td>\n",
              "      <td>0</td>\n",
              "      <td>3</td>\n",
              "      <td>4</td>\n",
              "    </tr>\n",
              "    <tr>\n",
              "      <th>16</th>\n",
              "      <td>Chrysler Imperial</td>\n",
              "      <td>14.7</td>\n",
              "      <td>8</td>\n",
              "      <td>440.0</td>\n",
              "      <td>230</td>\n",
              "      <td>3.23</td>\n",
              "      <td>5.345</td>\n",
              "      <td>17.42</td>\n",
              "      <td>0</td>\n",
              "      <td>0</td>\n",
              "      <td>3</td>\n",
              "      <td>4</td>\n",
              "    </tr>\n",
              "    <tr>\n",
              "      <th>17</th>\n",
              "      <td>Fiat 128</td>\n",
              "      <td>32.4</td>\n",
              "      <td>4</td>\n",
              "      <td>78.7</td>\n",
              "      <td>66</td>\n",
              "      <td>4.08</td>\n",
              "      <td>2.200</td>\n",
              "      <td>19.47</td>\n",
              "      <td>1</td>\n",
              "      <td>1</td>\n",
              "      <td>4</td>\n",
              "      <td>1</td>\n",
              "    </tr>\n",
              "    <tr>\n",
              "      <th>18</th>\n",
              "      <td>Honda Civic</td>\n",
              "      <td>30.4</td>\n",
              "      <td>4</td>\n",
              "      <td>75.7</td>\n",
              "      <td>52</td>\n",
              "      <td>4.93</td>\n",
              "      <td>1.615</td>\n",
              "      <td>18.52</td>\n",
              "      <td>1</td>\n",
              "      <td>1</td>\n",
              "      <td>4</td>\n",
              "      <td>2</td>\n",
              "    </tr>\n",
              "    <tr>\n",
              "      <th>19</th>\n",
              "      <td>Toyota Corolla</td>\n",
              "      <td>33.9</td>\n",
              "      <td>4</td>\n",
              "      <td>71.1</td>\n",
              "      <td>65</td>\n",
              "      <td>4.22</td>\n",
              "      <td>1.835</td>\n",
              "      <td>19.90</td>\n",
              "      <td>1</td>\n",
              "      <td>1</td>\n",
              "      <td>4</td>\n",
              "      <td>1</td>\n",
              "    </tr>\n",
              "    <tr>\n",
              "      <th>20</th>\n",
              "      <td>Toyota Corona</td>\n",
              "      <td>21.5</td>\n",
              "      <td>4</td>\n",
              "      <td>120.1</td>\n",
              "      <td>97</td>\n",
              "      <td>3.70</td>\n",
              "      <td>2.465</td>\n",
              "      <td>20.01</td>\n",
              "      <td>1</td>\n",
              "      <td>0</td>\n",
              "      <td>3</td>\n",
              "      <td>1</td>\n",
              "    </tr>\n",
              "    <tr>\n",
              "      <th>21</th>\n",
              "      <td>Dodge Challenger</td>\n",
              "      <td>15.5</td>\n",
              "      <td>8</td>\n",
              "      <td>318.0</td>\n",
              "      <td>150</td>\n",
              "      <td>2.76</td>\n",
              "      <td>3.520</td>\n",
              "      <td>16.87</td>\n",
              "      <td>0</td>\n",
              "      <td>0</td>\n",
              "      <td>3</td>\n",
              "      <td>2</td>\n",
              "    </tr>\n",
              "    <tr>\n",
              "      <th>22</th>\n",
              "      <td>AMC Javelin</td>\n",
              "      <td>15.2</td>\n",
              "      <td>8</td>\n",
              "      <td>304.0</td>\n",
              "      <td>150</td>\n",
              "      <td>3.15</td>\n",
              "      <td>3.435</td>\n",
              "      <td>17.30</td>\n",
              "      <td>0</td>\n",
              "      <td>0</td>\n",
              "      <td>3</td>\n",
              "      <td>2</td>\n",
              "    </tr>\n",
              "    <tr>\n",
              "      <th>23</th>\n",
              "      <td>Camaro Z28</td>\n",
              "      <td>13.3</td>\n",
              "      <td>8</td>\n",
              "      <td>350.0</td>\n",
              "      <td>245</td>\n",
              "      <td>3.73</td>\n",
              "      <td>3.840</td>\n",
              "      <td>15.41</td>\n",
              "      <td>0</td>\n",
              "      <td>0</td>\n",
              "      <td>3</td>\n",
              "      <td>4</td>\n",
              "    </tr>\n",
              "    <tr>\n",
              "      <th>24</th>\n",
              "      <td>Pontiac Firebird</td>\n",
              "      <td>19.2</td>\n",
              "      <td>8</td>\n",
              "      <td>400.0</td>\n",
              "      <td>175</td>\n",
              "      <td>3.08</td>\n",
              "      <td>3.845</td>\n",
              "      <td>17.05</td>\n",
              "      <td>0</td>\n",
              "      <td>0</td>\n",
              "      <td>3</td>\n",
              "      <td>2</td>\n",
              "    </tr>\n",
              "    <tr>\n",
              "      <th>25</th>\n",
              "      <td>Fiat X1-9</td>\n",
              "      <td>27.3</td>\n",
              "      <td>4</td>\n",
              "      <td>79.0</td>\n",
              "      <td>66</td>\n",
              "      <td>4.08</td>\n",
              "      <td>1.935</td>\n",
              "      <td>18.90</td>\n",
              "      <td>1</td>\n",
              "      <td>1</td>\n",
              "      <td>4</td>\n",
              "      <td>1</td>\n",
              "    </tr>\n",
              "    <tr>\n",
              "      <th>26</th>\n",
              "      <td>Porsche 914-2</td>\n",
              "      <td>26.0</td>\n",
              "      <td>4</td>\n",
              "      <td>120.3</td>\n",
              "      <td>91</td>\n",
              "      <td>4.43</td>\n",
              "      <td>2.140</td>\n",
              "      <td>16.70</td>\n",
              "      <td>0</td>\n",
              "      <td>1</td>\n",
              "      <td>5</td>\n",
              "      <td>2</td>\n",
              "    </tr>\n",
              "    <tr>\n",
              "      <th>27</th>\n",
              "      <td>Lotus Europa</td>\n",
              "      <td>30.4</td>\n",
              "      <td>4</td>\n",
              "      <td>95.1</td>\n",
              "      <td>113</td>\n",
              "      <td>3.77</td>\n",
              "      <td>1.513</td>\n",
              "      <td>16.90</td>\n",
              "      <td>1</td>\n",
              "      <td>1</td>\n",
              "      <td>5</td>\n",
              "      <td>2</td>\n",
              "    </tr>\n",
              "    <tr>\n",
              "      <th>28</th>\n",
              "      <td>Ford Pantera L</td>\n",
              "      <td>15.8</td>\n",
              "      <td>8</td>\n",
              "      <td>351.0</td>\n",
              "      <td>264</td>\n",
              "      <td>4.22</td>\n",
              "      <td>3.170</td>\n",
              "      <td>14.50</td>\n",
              "      <td>0</td>\n",
              "      <td>1</td>\n",
              "      <td>5</td>\n",
              "      <td>4</td>\n",
              "    </tr>\n",
              "    <tr>\n",
              "      <th>29</th>\n",
              "      <td>Ferrari Dino</td>\n",
              "      <td>19.7</td>\n",
              "      <td>6</td>\n",
              "      <td>145.0</td>\n",
              "      <td>175</td>\n",
              "      <td>3.62</td>\n",
              "      <td>2.770</td>\n",
              "      <td>15.50</td>\n",
              "      <td>0</td>\n",
              "      <td>1</td>\n",
              "      <td>5</td>\n",
              "      <td>6</td>\n",
              "    </tr>\n",
              "    <tr>\n",
              "      <th>30</th>\n",
              "      <td>Maserati Bora</td>\n",
              "      <td>15.0</td>\n",
              "      <td>8</td>\n",
              "      <td>301.0</td>\n",
              "      <td>335</td>\n",
              "      <td>3.54</td>\n",
              "      <td>3.570</td>\n",
              "      <td>14.60</td>\n",
              "      <td>0</td>\n",
              "      <td>1</td>\n",
              "      <td>5</td>\n",
              "      <td>8</td>\n",
              "    </tr>\n",
              "    <tr>\n",
              "      <th>31</th>\n",
              "      <td>Volvo 142E</td>\n",
              "      <td>21.4</td>\n",
              "      <td>4</td>\n",
              "      <td>121.0</td>\n",
              "      <td>109</td>\n",
              "      <td>4.11</td>\n",
              "      <td>2.780</td>\n",
              "      <td>18.60</td>\n",
              "      <td>1</td>\n",
              "      <td>1</td>\n",
              "      <td>4</td>\n",
              "      <td>2</td>\n",
              "    </tr>\n",
              "  </tbody>\n",
              "</table>\n",
              "</div>\n",
              "      <button class=\"colab-df-convert\" onclick=\"convertToInteractive('df-882f07c1-0c67-4251-b433-6ccb0460ba8c')\"\n",
              "              title=\"Convert this dataframe to an interactive table.\"\n",
              "              style=\"display:none;\">\n",
              "        \n",
              "  <svg xmlns=\"http://www.w3.org/2000/svg\" height=\"24px\"viewBox=\"0 0 24 24\"\n",
              "       width=\"24px\">\n",
              "    <path d=\"M0 0h24v24H0V0z\" fill=\"none\"/>\n",
              "    <path d=\"M18.56 5.44l.94 2.06.94-2.06 2.06-.94-2.06-.94-.94-2.06-.94 2.06-2.06.94zm-11 1L8.5 8.5l.94-2.06 2.06-.94-2.06-.94L8.5 2.5l-.94 2.06-2.06.94zm10 10l.94 2.06.94-2.06 2.06-.94-2.06-.94-.94-2.06-.94 2.06-2.06.94z\"/><path d=\"M17.41 7.96l-1.37-1.37c-.4-.4-.92-.59-1.43-.59-.52 0-1.04.2-1.43.59L10.3 9.45l-7.72 7.72c-.78.78-.78 2.05 0 2.83L4 21.41c.39.39.9.59 1.41.59.51 0 1.02-.2 1.41-.59l7.78-7.78 2.81-2.81c.8-.78.8-2.07 0-2.86zM5.41 20L4 18.59l7.72-7.72 1.47 1.35L5.41 20z\"/>\n",
              "  </svg>\n",
              "      </button>\n",
              "      \n",
              "  <style>\n",
              "    .colab-df-container {\n",
              "      display:flex;\n",
              "      flex-wrap:wrap;\n",
              "      gap: 12px;\n",
              "    }\n",
              "\n",
              "    .colab-df-convert {\n",
              "      background-color: #E8F0FE;\n",
              "      border: none;\n",
              "      border-radius: 50%;\n",
              "      cursor: pointer;\n",
              "      display: none;\n",
              "      fill: #1967D2;\n",
              "      height: 32px;\n",
              "      padding: 0 0 0 0;\n",
              "      width: 32px;\n",
              "    }\n",
              "\n",
              "    .colab-df-convert:hover {\n",
              "      background-color: #E2EBFA;\n",
              "      box-shadow: 0px 1px 2px rgba(60, 64, 67, 0.3), 0px 1px 3px 1px rgba(60, 64, 67, 0.15);\n",
              "      fill: #174EA6;\n",
              "    }\n",
              "\n",
              "    [theme=dark] .colab-df-convert {\n",
              "      background-color: #3B4455;\n",
              "      fill: #D2E3FC;\n",
              "    }\n",
              "\n",
              "    [theme=dark] .colab-df-convert:hover {\n",
              "      background-color: #434B5C;\n",
              "      box-shadow: 0px 1px 3px 1px rgba(0, 0, 0, 0.15);\n",
              "      filter: drop-shadow(0px 1px 2px rgba(0, 0, 0, 0.3));\n",
              "      fill: #FFFFFF;\n",
              "    }\n",
              "  </style>\n",
              "\n",
              "      <script>\n",
              "        const buttonEl =\n",
              "          document.querySelector('#df-882f07c1-0c67-4251-b433-6ccb0460ba8c button.colab-df-convert');\n",
              "        buttonEl.style.display =\n",
              "          google.colab.kernel.accessAllowed ? 'block' : 'none';\n",
              "\n",
              "        async function convertToInteractive(key) {\n",
              "          const element = document.querySelector('#df-882f07c1-0c67-4251-b433-6ccb0460ba8c');\n",
              "          const dataTable =\n",
              "            await google.colab.kernel.invokeFunction('convertToInteractive',\n",
              "                                                     [key], {});\n",
              "          if (!dataTable) return;\n",
              "\n",
              "          const docLinkHtml = 'Like what you see? Visit the ' +\n",
              "            '<a target=\"_blank\" href=https://colab.research.google.com/notebooks/data_table.ipynb>data table notebook</a>'\n",
              "            + ' to learn more about interactive tables.';\n",
              "          element.innerHTML = '';\n",
              "          dataTable['output_type'] = 'display_data';\n",
              "          await google.colab.output.renderOutput(dataTable, element);\n",
              "          const docLink = document.createElement('div');\n",
              "          docLink.innerHTML = docLinkHtml;\n",
              "          element.appendChild(docLink);\n",
              "        }\n",
              "      </script>\n",
              "    </div>\n",
              "  </div>\n",
              "  "
            ],
            "text/plain": [
              "                  model   mpg  cyl   disp   hp  drat     wt   qsec  vs  am  \\\n",
              "0             Mazda RX4  21.0    6  160.0  110  3.90  2.620  16.46   0   1   \n",
              "1         Mazda RX4 Wag  21.0    6  160.0  110  3.90  2.875  17.02   0   1   \n",
              "2            Datsun 710  22.8    4  108.0   93  3.85  2.320  18.61   1   1   \n",
              "3        Hornet 4 Drive  21.4    6  258.0  110  3.08  3.215  19.44   1   0   \n",
              "4     Hornet Sportabout  18.7    8  360.0  175  3.15  3.440  17.02   0   0   \n",
              "5               Valiant  18.1    6  225.0  105  2.76  3.460  20.22   1   0   \n",
              "6            Duster 360  14.3    8  360.0  245  3.21  3.570  15.84   0   0   \n",
              "7             Merc 240D  24.4    4  146.7   62  3.69  3.190  20.00   1   0   \n",
              "8              Merc 230  22.8    4  140.8   95  3.92  3.150  22.90   1   0   \n",
              "9              Merc 280  19.2    6  167.6  123  3.92  3.440  18.30   1   0   \n",
              "10            Merc 280C  17.8    6  167.6  123  3.92  3.440  18.90   1   0   \n",
              "11           Merc 450SE  16.4    8  275.8  180  3.07  4.070  17.40   0   0   \n",
              "12           Merc 450SL  17.3    8  275.8  180  3.07  3.730  17.60   0   0   \n",
              "13          Merc 450SLC  15.2    8  275.8  180  3.07  3.780  18.00   0   0   \n",
              "14   Cadillac Fleetwood  10.4    8  472.0  205  2.93  5.250  17.98   0   0   \n",
              "15  Lincoln Continental  10.4    8  460.0  215  3.00  5.424  17.82   0   0   \n",
              "16    Chrysler Imperial  14.7    8  440.0  230  3.23  5.345  17.42   0   0   \n",
              "17             Fiat 128  32.4    4   78.7   66  4.08  2.200  19.47   1   1   \n",
              "18          Honda Civic  30.4    4   75.7   52  4.93  1.615  18.52   1   1   \n",
              "19       Toyota Corolla  33.9    4   71.1   65  4.22  1.835  19.90   1   1   \n",
              "20        Toyota Corona  21.5    4  120.1   97  3.70  2.465  20.01   1   0   \n",
              "21     Dodge Challenger  15.5    8  318.0  150  2.76  3.520  16.87   0   0   \n",
              "22          AMC Javelin  15.2    8  304.0  150  3.15  3.435  17.30   0   0   \n",
              "23           Camaro Z28  13.3    8  350.0  245  3.73  3.840  15.41   0   0   \n",
              "24     Pontiac Firebird  19.2    8  400.0  175  3.08  3.845  17.05   0   0   \n",
              "25            Fiat X1-9  27.3    4   79.0   66  4.08  1.935  18.90   1   1   \n",
              "26        Porsche 914-2  26.0    4  120.3   91  4.43  2.140  16.70   0   1   \n",
              "27         Lotus Europa  30.4    4   95.1  113  3.77  1.513  16.90   1   1   \n",
              "28       Ford Pantera L  15.8    8  351.0  264  4.22  3.170  14.50   0   1   \n",
              "29         Ferrari Dino  19.7    6  145.0  175  3.62  2.770  15.50   0   1   \n",
              "30        Maserati Bora  15.0    8  301.0  335  3.54  3.570  14.60   0   1   \n",
              "31           Volvo 142E  21.4    4  121.0  109  4.11  2.780  18.60   1   1   \n",
              "\n",
              "    gear  carb  \n",
              "0      4     4  \n",
              "1      4     4  \n",
              "2      4     1  \n",
              "3      3     1  \n",
              "4      3     2  \n",
              "5      3     1  \n",
              "6      3     4  \n",
              "7      4     2  \n",
              "8      4     2  \n",
              "9      4     4  \n",
              "10     4     4  \n",
              "11     3     3  \n",
              "12     3     3  \n",
              "13     3     3  \n",
              "14     3     4  \n",
              "15     3     4  \n",
              "16     3     4  \n",
              "17     4     1  \n",
              "18     4     2  \n",
              "19     4     1  \n",
              "20     3     1  \n",
              "21     3     2  \n",
              "22     3     2  \n",
              "23     3     4  \n",
              "24     3     2  \n",
              "25     4     1  \n",
              "26     5     2  \n",
              "27     5     2  \n",
              "28     5     4  \n",
              "29     5     6  \n",
              "30     5     8  \n",
              "31     4     2  "
            ]
          },
          "execution_count": 4,
          "metadata": {},
          "output_type": "execute_result"
        }
      ],
      "source": [
        "cars"
      ]
    },
    {
      "cell_type": "markdown",
      "metadata": {
        "id": "HfMPvx_MDyod"
      },
      "source": [
        "**Objective 1**: We want to to know if there is any association between the weight of the car and the mileage."
      ]
    },
    {
      "cell_type": "code",
      "execution_count": null,
      "metadata": {
        "colab": {
          "base_uri": "https://localhost:8080/"
        },
        "id": "koBVq1GVYb1B",
        "outputId": "0239ed9c-9dac-4765-8f22-9b389e8808da"
      },
      "outputs": [
        {
          "data": {
            "text/plain": [
              "array([21. , 21. , 22.8, 21.4, 18.7, 18.1, 14.3, 24.4, 22.8, 19.2, 17.8,\n",
              "       16.4, 17.3, 15.2, 10.4, 10.4, 14.7, 32.4, 30.4, 33.9, 21.5, 15.5,\n",
              "       15.2, 13.3, 19.2, 27.3, 26. , 30.4, 15.8, 19.7, 15. , 21.4])"
            ]
          },
          "execution_count": 6,
          "metadata": {},
          "output_type": "execute_result"
        }
      ],
      "source": [
        "cars['mpg'].values"
      ]
    },
    {
      "cell_type": "code",
      "execution_count": null,
      "metadata": {
        "id": "qWdjANE_Di87"
      },
      "outputs": [],
      "source": [
        "y = cars.mpg.values\n",
        "x = cars.wt.values"
      ]
    },
    {
      "cell_type": "code",
      "execution_count": null,
      "metadata": {
        "id": "gRkLqT1-qvJA"
      },
      "outputs": [],
      "source": [
        "model = LinearRegression()"
      ]
    },
    {
      "cell_type": "code",
      "execution_count": null,
      "metadata": {
        "colab": {
          "base_uri": "https://localhost:8080/",
          "height": 75
        },
        "id": "eVUVhPHQqvLC",
        "outputId": "10e7e64b-454d-4fb7-bca6-96966a526c31"
      },
      "outputs": [
        {
          "data": {
            "text/html": [
              "<style>#sk-container-id-1 {color: black;background-color: white;}#sk-container-id-1 pre{padding: 0;}#sk-container-id-1 div.sk-toggleable {background-color: white;}#sk-container-id-1 label.sk-toggleable__label {cursor: pointer;display: block;width: 100%;margin-bottom: 0;padding: 0.3em;box-sizing: border-box;text-align: center;}#sk-container-id-1 label.sk-toggleable__label-arrow:before {content: \"▸\";float: left;margin-right: 0.25em;color: #696969;}#sk-container-id-1 label.sk-toggleable__label-arrow:hover:before {color: black;}#sk-container-id-1 div.sk-estimator:hover label.sk-toggleable__label-arrow:before {color: black;}#sk-container-id-1 div.sk-toggleable__content {max-height: 0;max-width: 0;overflow: hidden;text-align: left;background-color: #f0f8ff;}#sk-container-id-1 div.sk-toggleable__content pre {margin: 0.2em;color: black;border-radius: 0.25em;background-color: #f0f8ff;}#sk-container-id-1 input.sk-toggleable__control:checked~div.sk-toggleable__content {max-height: 200px;max-width: 100%;overflow: auto;}#sk-container-id-1 input.sk-toggleable__control:checked~label.sk-toggleable__label-arrow:before {content: \"▾\";}#sk-container-id-1 div.sk-estimator input.sk-toggleable__control:checked~label.sk-toggleable__label {background-color: #d4ebff;}#sk-container-id-1 div.sk-label input.sk-toggleable__control:checked~label.sk-toggleable__label {background-color: #d4ebff;}#sk-container-id-1 input.sk-hidden--visually {border: 0;clip: rect(1px 1px 1px 1px);clip: rect(1px, 1px, 1px, 1px);height: 1px;margin: -1px;overflow: hidden;padding: 0;position: absolute;width: 1px;}#sk-container-id-1 div.sk-estimator {font-family: monospace;background-color: #f0f8ff;border: 1px dotted black;border-radius: 0.25em;box-sizing: border-box;margin-bottom: 0.5em;}#sk-container-id-1 div.sk-estimator:hover {background-color: #d4ebff;}#sk-container-id-1 div.sk-parallel-item::after {content: \"\";width: 100%;border-bottom: 1px solid gray;flex-grow: 1;}#sk-container-id-1 div.sk-label:hover label.sk-toggleable__label {background-color: #d4ebff;}#sk-container-id-1 div.sk-serial::before {content: \"\";position: absolute;border-left: 1px solid gray;box-sizing: border-box;top: 0;bottom: 0;left: 50%;z-index: 0;}#sk-container-id-1 div.sk-serial {display: flex;flex-direction: column;align-items: center;background-color: white;padding-right: 0.2em;padding-left: 0.2em;position: relative;}#sk-container-id-1 div.sk-item {position: relative;z-index: 1;}#sk-container-id-1 div.sk-parallel {display: flex;align-items: stretch;justify-content: center;background-color: white;position: relative;}#sk-container-id-1 div.sk-item::before, #sk-container-id-1 div.sk-parallel-item::before {content: \"\";position: absolute;border-left: 1px solid gray;box-sizing: border-box;top: 0;bottom: 0;left: 50%;z-index: -1;}#sk-container-id-1 div.sk-parallel-item {display: flex;flex-direction: column;z-index: 1;position: relative;background-color: white;}#sk-container-id-1 div.sk-parallel-item:first-child::after {align-self: flex-end;width: 50%;}#sk-container-id-1 div.sk-parallel-item:last-child::after {align-self: flex-start;width: 50%;}#sk-container-id-1 div.sk-parallel-item:only-child::after {width: 0;}#sk-container-id-1 div.sk-dashed-wrapped {border: 1px dashed gray;margin: 0 0.4em 0.5em 0.4em;box-sizing: border-box;padding-bottom: 0.4em;background-color: white;}#sk-container-id-1 div.sk-label label {font-family: monospace;font-weight: bold;display: inline-block;line-height: 1.2em;}#sk-container-id-1 div.sk-label-container {text-align: center;}#sk-container-id-1 div.sk-container {/* jupyter's `normalize.less` sets `[hidden] { display: none; }` but bootstrap.min.css set `[hidden] { display: none !important; }` so we also need the `!important` here to be able to override the default hidden behavior on the sphinx rendered scikit-learn.org. See: https://github.com/scikit-learn/scikit-learn/issues/21755 */display: inline-block !important;position: relative;}#sk-container-id-1 div.sk-text-repr-fallback {display: none;}</style><div id=\"sk-container-id-1\" class=\"sk-top-container\"><div class=\"sk-text-repr-fallback\"><pre>LinearRegression()</pre><b>In a Jupyter environment, please rerun this cell to show the HTML representation or trust the notebook. <br />On GitHub, the HTML representation is unable to render, please try loading this page with nbviewer.org.</b></div><div class=\"sk-container\" hidden><div class=\"sk-item\"><div class=\"sk-estimator sk-toggleable\"><input class=\"sk-toggleable__control sk-hidden--visually\" id=\"sk-estimator-id-1\" type=\"checkbox\" checked><label for=\"sk-estimator-id-1\" class=\"sk-toggleable__label sk-toggleable__label-arrow\">LinearRegression</label><div class=\"sk-toggleable__content\"><pre>LinearRegression()</pre></div></div></div></div></div>"
            ],
            "text/plain": [
              "LinearRegression()"
            ]
          },
          "execution_count": 12,
          "metadata": {},
          "output_type": "execute_result"
        }
      ],
      "source": [
        "model.fit(x.reshape(-1,1),y)"
      ]
    },
    {
      "cell_type": "code",
      "execution_count": null,
      "metadata": {
        "colab": {
          "base_uri": "https://localhost:8080/"
        },
        "id": "apSdUPGxrZS3",
        "outputId": "a86a6a22-9488-418c-fa31-08b1cb6bb9fb"
      },
      "outputs": [
        {
          "data": {
            "text/plain": [
              "array([-5.34447157])"
            ]
          },
          "execution_count": 13,
          "metadata": {},
          "output_type": "execute_result"
        }
      ],
      "source": [
        "model.coef_"
      ]
    },
    {
      "cell_type": "code",
      "execution_count": null,
      "metadata": {
        "id": "ORWCBRFHrZcd"
      },
      "outputs": [],
      "source": []
    },
    {
      "cell_type": "markdown",
      "metadata": {
        "id": "IvZkBKyjBwT2"
      },
      "source": [
        "## Relationship between x and y"
      ]
    },
    {
      "cell_type": "code",
      "execution_count": null,
      "metadata": {
        "id": "9LVjvuJzzlG_"
      },
      "outputs": [],
      "source": [
        "y = cars['mpg'].values\n",
        "x = cars['wt'].values"
      ]
    },
    {
      "cell_type": "code",
      "execution_count": null,
      "metadata": {
        "id": "IOaWJqusFhZE"
      },
      "outputs": [],
      "source": [
        "xb, yb = np.mean(x) , np.mean(y) # here we compute the center of mass"
      ]
    },
    {
      "cell_type": "code",
      "execution_count": null,
      "metadata": {
        "colab": {
          "base_uri": "https://localhost:8080/"
        },
        "id": "fvdfAlbUFpP_",
        "outputId": "6f4c6741-bd3f-41dd-b358-16f4b3aa3e62"
      },
      "outputs": [
        {
          "data": {
            "text/plain": [
              "3.21725"
            ]
          },
          "execution_count": 7,
          "metadata": {},
          "output_type": "execute_result"
        }
      ],
      "source": [
        "xb"
      ]
    },
    {
      "cell_type": "code",
      "execution_count": null,
      "metadata": {
        "id": "i0cZj7xDEJbk"
      },
      "outputs": [],
      "source": [
        "fig, ax = plt.subplots(figsize=(6,4))\n",
        "ax.scatter(x,y,color='cyan',s=50,ec='black',alpha=0.7)\n",
        "ax.set_xlim(0, 6)\n",
        "ax.set_ylim(0, 50)\n",
        "ax.set_xlabel('Weight of the car in 1000lbs',fontsize=14,color='navy')\n",
        "ax.set_ylabel('Miles Per Gallon',fontsize=14,color='navy')\n",
        "ax.grid(which='major', color ='grey', linestyle='-', alpha=0.8)\n",
        "ax.grid(which='minor', color ='grey', linestyle='--', alpha=0.2)\n",
        "plt.axvline(x=xb, color='red',linestyle='dashed')\n",
        "plt.axhline(y=yb, color='red',linestyle='dashed')\n",
        "plt.tick_params(axis='x', color='navy')\n",
        "plt.tick_params(axis='y', color='navy')\n",
        "ax.minorticks_on()\n",
        "plt.show()"
      ]
    },
    {
      "cell_type": "code",
      "execution_count": null,
      "metadata": {
        "id": "DTOdx3e51OI2"
      },
      "outputs": [],
      "source": [
        "# here we make x a column vector or a matrix\n",
        "x = x.reshape(-1,1) #technical"
      ]
    },
    {
      "cell_type": "code",
      "execution_count": null,
      "metadata": {
        "colab": {
          "base_uri": "https://localhost:8080/",
          "height": 74
        },
        "id": "Pu3VlnAP08lt",
        "outputId": "9f8d4efe-f484-402a-ff08-aa053f6a41da"
      },
      "outputs": [
        {
          "data": {
            "text/html": [
              "<style>#sk-container-id-1 {color: black;background-color: white;}#sk-container-id-1 pre{padding: 0;}#sk-container-id-1 div.sk-toggleable {background-color: white;}#sk-container-id-1 label.sk-toggleable__label {cursor: pointer;display: block;width: 100%;margin-bottom: 0;padding: 0.3em;box-sizing: border-box;text-align: center;}#sk-container-id-1 label.sk-toggleable__label-arrow:before {content: \"▸\";float: left;margin-right: 0.25em;color: #696969;}#sk-container-id-1 label.sk-toggleable__label-arrow:hover:before {color: black;}#sk-container-id-1 div.sk-estimator:hover label.sk-toggleable__label-arrow:before {color: black;}#sk-container-id-1 div.sk-toggleable__content {max-height: 0;max-width: 0;overflow: hidden;text-align: left;background-color: #f0f8ff;}#sk-container-id-1 div.sk-toggleable__content pre {margin: 0.2em;color: black;border-radius: 0.25em;background-color: #f0f8ff;}#sk-container-id-1 input.sk-toggleable__control:checked~div.sk-toggleable__content {max-height: 200px;max-width: 100%;overflow: auto;}#sk-container-id-1 input.sk-toggleable__control:checked~label.sk-toggleable__label-arrow:before {content: \"▾\";}#sk-container-id-1 div.sk-estimator input.sk-toggleable__control:checked~label.sk-toggleable__label {background-color: #d4ebff;}#sk-container-id-1 div.sk-label input.sk-toggleable__control:checked~label.sk-toggleable__label {background-color: #d4ebff;}#sk-container-id-1 input.sk-hidden--visually {border: 0;clip: rect(1px 1px 1px 1px);clip: rect(1px, 1px, 1px, 1px);height: 1px;margin: -1px;overflow: hidden;padding: 0;position: absolute;width: 1px;}#sk-container-id-1 div.sk-estimator {font-family: monospace;background-color: #f0f8ff;border: 1px dotted black;border-radius: 0.25em;box-sizing: border-box;margin-bottom: 0.5em;}#sk-container-id-1 div.sk-estimator:hover {background-color: #d4ebff;}#sk-container-id-1 div.sk-parallel-item::after {content: \"\";width: 100%;border-bottom: 1px solid gray;flex-grow: 1;}#sk-container-id-1 div.sk-label:hover label.sk-toggleable__label {background-color: #d4ebff;}#sk-container-id-1 div.sk-serial::before {content: \"\";position: absolute;border-left: 1px solid gray;box-sizing: border-box;top: 0;bottom: 0;left: 50%;z-index: 0;}#sk-container-id-1 div.sk-serial {display: flex;flex-direction: column;align-items: center;background-color: white;padding-right: 0.2em;padding-left: 0.2em;position: relative;}#sk-container-id-1 div.sk-item {position: relative;z-index: 1;}#sk-container-id-1 div.sk-parallel {display: flex;align-items: stretch;justify-content: center;background-color: white;position: relative;}#sk-container-id-1 div.sk-item::before, #sk-container-id-1 div.sk-parallel-item::before {content: \"\";position: absolute;border-left: 1px solid gray;box-sizing: border-box;top: 0;bottom: 0;left: 50%;z-index: -1;}#sk-container-id-1 div.sk-parallel-item {display: flex;flex-direction: column;z-index: 1;position: relative;background-color: white;}#sk-container-id-1 div.sk-parallel-item:first-child::after {align-self: flex-end;width: 50%;}#sk-container-id-1 div.sk-parallel-item:last-child::after {align-self: flex-start;width: 50%;}#sk-container-id-1 div.sk-parallel-item:only-child::after {width: 0;}#sk-container-id-1 div.sk-dashed-wrapped {border: 1px dashed gray;margin: 0 0.4em 0.5em 0.4em;box-sizing: border-box;padding-bottom: 0.4em;background-color: white;}#sk-container-id-1 div.sk-label label {font-family: monospace;font-weight: bold;display: inline-block;line-height: 1.2em;}#sk-container-id-1 div.sk-label-container {text-align: center;}#sk-container-id-1 div.sk-container {/* jupyter's `normalize.less` sets `[hidden] { display: none; }` but bootstrap.min.css set `[hidden] { display: none !important; }` so we also need the `!important` here to be able to override the default hidden behavior on the sphinx rendered scikit-learn.org. See: https://github.com/scikit-learn/scikit-learn/issues/21755 */display: inline-block !important;position: relative;}#sk-container-id-1 div.sk-text-repr-fallback {display: none;}</style><div id=\"sk-container-id-1\" class=\"sk-top-container\"><div class=\"sk-text-repr-fallback\"><pre>LinearRegression()</pre><b>In a Jupyter environment, please rerun this cell to show the HTML representation or trust the notebook. <br />On GitHub, the HTML representation is unable to render, please try loading this page with nbviewer.org.</b></div><div class=\"sk-container\" hidden><div class=\"sk-item\"><div class=\"sk-estimator sk-toggleable\"><input class=\"sk-toggleable__control sk-hidden--visually\" id=\"sk-estimator-id-1\" type=\"checkbox\" checked><label for=\"sk-estimator-id-1\" class=\"sk-toggleable__label sk-toggleable__label-arrow\">LinearRegression</label><div class=\"sk-toggleable__content\"><pre>LinearRegression()</pre></div></div></div></div></div>"
            ],
            "text/plain": [
              "LinearRegression()"
            ]
          },
          "execution_count": 10,
          "metadata": {},
          "output_type": "execute_result"
        }
      ],
      "source": [
        "model = LinearRegression()\n",
        "model.fit(x,y)"
      ]
    },
    {
      "cell_type": "code",
      "execution_count": null,
      "metadata": {
        "id": "mhAcpUaf1Zy-"
      },
      "outputs": [],
      "source": [
        "m = model.coef_\n",
        "b = model.intercept_"
      ]
    },
    {
      "cell_type": "code",
      "execution_count": null,
      "metadata": {
        "colab": {
          "base_uri": "https://localhost:8080/"
        },
        "id": "eEvW42Wo1fly",
        "outputId": "5101f923-28a2-495f-a8da-8fe147d21313"
      },
      "outputs": [
        {
          "name": "stdout",
          "output_type": "stream",
          "text": [
            "The Slope is :[-5.34447157]  and the intercept is :37.28512616734204\n"
          ]
        }
      ],
      "source": [
        "print('The Slope is :'+str(m),' and the intercept is :' +str(b))"
      ]
    },
    {
      "cell_type": "code",
      "execution_count": null,
      "metadata": {
        "id": "Jgm35yp3FsB3"
      },
      "outputs": [],
      "source": [
        "from scipy.stats import pearsonr"
      ]
    },
    {
      "cell_type": "code",
      "execution_count": null,
      "metadata": {
        "id": "a9J9Ajr6qQo2"
      },
      "outputs": [],
      "source": [
        "# we have to \"ravel\" back the x\n",
        "x = x.ravel()"
      ]
    },
    {
      "cell_type": "code",
      "execution_count": null,
      "metadata": {
        "colab": {
          "base_uri": "https://localhost:8080/"
        },
        "id": "PxUb1qvvLTJ1",
        "outputId": "5d78bd91-2385-4a2b-f928-3cb1f4b6ab6c"
      },
      "outputs": [
        {
          "name": "stdout",
          "output_type": "stream",
          "text": [
            "The correlation coefficient is :-0.8676593765172278  and the pvalue for significance is :1.293958701350513e-10\n"
          ]
        }
      ],
      "source": [
        "r, pval = pearsonr(x,y)\n",
        "print('The correlation coefficient is :'+str(r)+'  and the pvalue for significance is :'+str(pval))"
      ]
    },
    {
      "cell_type": "code",
      "execution_count": null,
      "metadata": {
        "id": "J_jGsFoHLoRj"
      },
      "outputs": [],
      "source": [
        "m = r*np.std(y)/np.std(x)"
      ]
    },
    {
      "cell_type": "code",
      "execution_count": null,
      "metadata": {
        "colab": {
          "base_uri": "https://localhost:8080/"
        },
        "id": "6SeMEV4UMyw9",
        "outputId": "8b74c9b8-455d-430e-9224-2a56e3ea416e"
      },
      "outputs": [
        {
          "name": "stdout",
          "output_type": "stream",
          "text": [
            "The slope of the trend is :-5.344471572722676\n"
          ]
        }
      ],
      "source": [
        "print('The slope of the trend is :' +str(m))"
      ]
    },
    {
      "cell_type": "markdown",
      "metadata": {
        "id": "7XI7DQqWNCCa"
      },
      "source": [
        "The equation of the line passing through the center of mass and that captires the trend is:\n",
        "$$y-\\bar{y} = m\\cdot(x-\\bar{x})$$\n",
        "\n",
        "In short, $$y=m\\cdot x + b$$ where $b = \\bar{y} -m\\cdot\\bar{x}$"
      ]
    },
    {
      "cell_type": "code",
      "execution_count": null,
      "metadata": {
        "colab": {
          "base_uri": "https://localhost:8080/"
        },
        "id": "s-R1RZOQMzeO",
        "outputId": "71df46e9-6134-43b6-e803-6e6ee57416f7"
      },
      "outputs": [
        {
          "name": "stdout",
          "output_type": "stream",
          "text": [
            "In our case the intercept is: 37.285126167342035\n"
          ]
        }
      ],
      "source": [
        "b = yb-m*xb\n",
        "print('In our case the intercept is: ' +str(b)) # what is the meaning of the intercept?"
      ]
    },
    {
      "cell_type": "markdown",
      "metadata": {
        "id": "eX1gUS03SyN2"
      },
      "source": [
        "#### <font color='blue'> OLS Equivalence </font>\n",
        "\n",
        "The main idea is that in 1-D the OLS estimation is equivalence with the calculation of the slope via the Pearson correlation coefficient."
      ]
    },
    {
      "cell_type": "code",
      "execution_count": null,
      "metadata": {
        "id": "t7pjHbgzFXRT"
      },
      "outputs": [],
      "source": []
    },
    {
      "cell_type": "code",
      "execution_count": null,
      "metadata": {
        "id": "w5h5qXsgSh3I"
      },
      "outputs": [],
      "source": [
        "def loss(b, m, data): # this is also called \"loss\" function\n",
        "    total_cost = 0\n",
        "\n",
        "    # number of datapoints in training data\n",
        "    N = float(len(data))\n",
        "\n",
        "    # Compute sum of squared errors\n",
        "    for i in range(0, len(data)):\n",
        "        x = data[i, 0]\n",
        "        y = data[i, 1]\n",
        "        total_cost += (y - (m * x + b)) ** 2\n",
        "\n",
        "    # Return average of squared error\n",
        "    return total_cost/N"
      ]
    },
    {
      "cell_type": "code",
      "execution_count": null,
      "metadata": {
        "id": "RDrLwQcuSmU3"
      },
      "outputs": [],
      "source": [
        "# this is the actual gradient descent\n",
        "def step_gradient(b_current, m_current, data, alpha):\n",
        "    \"\"\"takes one step down towards the minima\n",
        "\n",
        "    Args:\n",
        "        b_current (float): current value of b\n",
        "        m_current (float): current value of m\n",
        "        data (np.array): array containing the training data (x,y)\n",
        "        alpha (float): learning rate / step size\n",
        "\n",
        "    Returns:\n",
        "        tuple: (b,m) new values of b,m\n",
        "    \"\"\"\n",
        "\n",
        "    m_gradient = 0\n",
        "    b_gradient = 0\n",
        "    N = float(len(data))\n",
        "\n",
        "    # Calculate Gradient - assuming you know partial derivatives\n",
        "    for i in range(0, len(data)):\n",
        "        x = data[i, 0]\n",
        "        y = data[i, 1]\n",
        "        m_gradient += - (2/N) * x * (y - (m_current * x + b_current)) # is the partial derivative with respect to m\n",
        "        b_gradient += - (2/N) * (y - (m_current * x + b_current)) # is the partial derivative with respect to b\n",
        "\n",
        "    # Update current m and b, alpha stands for learning rate\n",
        "    # we proceed in the direction of the negative gradient\n",
        "    m_updated = m_current - alpha * m_gradient\n",
        "    b_updated = b_current - alpha * b_gradient\n",
        "\n",
        "    #Return updated parameters\n",
        "    return b_updated, m_updated\n",
        "\n",
        "def gradient_descent(data, starting_b, starting_m, learning_rate, num_iterations):\n",
        "    \"\"\"runs gradient descent\n",
        "\n",
        "    Args:\n",
        "        data (np.array): training data, containing x,y\n",
        "        starting_b (float): initial value of b (random)\n",
        "        starting_m (float): initial value of m (random)\n",
        "        learning_rate (float): hyperparameter to adjust the step size during descent\n",
        "        num_iterations (int): hyperparameter, decides the number of iterations for which gradient descent would run\n",
        "\n",
        "    Returns:\n",
        "        list : the first and second item are b, m respectively at which the best fit curve is obtained, the third and fourth items are two lists, which store the value of b,m as gradient descent proceeded.\n",
        "    \"\"\"\n",
        "\n",
        "    # initial values\n",
        "    b = starting_b\n",
        "    m = starting_m\n",
        "\n",
        "    # to store the cost after each iteration\n",
        "    cost_graph = []\n",
        "\n",
        "    # to store the value of b -> bias unit, m-> slope of line after each iteration (pred = m*x + b)\n",
        "    b_progress = []\n",
        "    m_progress = []\n",
        "\n",
        "    # For every iteration, optimize b, m and compute its cost\n",
        "    for i in range(num_iterations):\n",
        "        cost_graph.append(loss(b, m, data))\n",
        "        b, m = step_gradient(b, m, data, learning_rate)\n",
        "        b_progress.append(b)\n",
        "        m_progress.append(m)\n",
        "\n",
        "    return [b, m, cost_graph,b_progress,m_progress]"
      ]
    },
    {
      "cell_type": "code",
      "execution_count": null,
      "metadata": {
        "id": "-spva5JJ34_T"
      },
      "outputs": [],
      "source": [
        "#hyperparamters\n",
        "learning_rate = 0.001\n",
        "initial_b = 12\n",
        "initial_m = 3\n",
        "num_iterations = 50000\n",
        "data = np.column_stack([x,y])"
      ]
    },
    {
      "cell_type": "code",
      "execution_count": null,
      "metadata": {
        "colab": {
          "base_uri": "https://localhost:8080/"
        },
        "id": "SndGj-4ISsZv",
        "outputId": "3e1eeb31-b607-4892-93df-98f739f1252a"
      },
      "outputs": [
        {
          "name": "stdout",
          "output_type": "stream",
          "text": [
            "Optimized b: 37.27234604666433\n",
            "Optimized m: -5.340801130745784\n",
            "Minimized cost: 8.697573986717137\n"
          ]
        }
      ],
      "source": [
        "b, m, cost_graph,b_progress,m_progress = gradient_descent(data, initial_b, initial_m, learning_rate, num_iterations)\n",
        "\n",
        "#Print optimized parameters\n",
        "print ('Optimized b:', b)\n",
        "print ('Optimized m:', m)\n",
        "\n",
        "#Print error with optimized parameters\n",
        "print ('Minimized cost:', loss(b, m, data))"
      ]
    },
    {
      "cell_type": "code",
      "execution_count": null,
      "metadata": {
        "colab": {
          "base_uri": "https://localhost:8080/",
          "height": 413
        },
        "id": "QbfGcmwcl5AW",
        "outputId": "66911c0d-f0af-48a7-b4af-d1cfbf044c3b"
      },
      "outputs": [
        {
          "data": {
            "image/png": "[encoded data removed]",
            "text/plain": [
              "<Figure size 720x432 with 1 Axes>"
            ]
          },
          "metadata": {
            "needs_background": "light"
          },
          "output_type": "display_data"
        }
      ],
      "source": [
        "fig, ax = plt.subplots(figsize=(10,6))\n",
        "plt.plot(cost_graph)\n",
        "ax.set_xlabel('No. of iterations',fontsize=14,color='blue')\n",
        "ax.set_ylabel('Cost',fontsize=14,color='blue')\n",
        "plt.title('Cost per iteration',color='red',fontsize=14)\n",
        "plt.xticks(fontsize=14)\n",
        "plt.yticks(fontsize=14)\n",
        "ax.tick_params(axis='x', colors='forestgreen')\n",
        "ax.tick_params(axis='y', colors='forestgreen')\n",
        "plt.show()"
      ]
    },
    {
      "cell_type": "code",
      "execution_count": null,
      "metadata": {
        "id": "RzmQPzgsex9S"
      },
      "outputs": [],
      "source": [
        "from sklearn.linear_model import LinearRegression"
      ]
    },
    {
      "cell_type": "code",
      "execution_count": null,
      "metadata": {
        "colab": {
          "base_uri": "https://localhost:8080/"
        },
        "id": "2UL7-5RQf9kt",
        "outputId": "c6c07d2c-444b-4670-f30b-b9fd82816c02"
      },
      "outputs": [
        {
          "data": {
            "text/plain": [
              "(32,)"
            ]
          },
          "execution_count": 39,
          "metadata": {},
          "output_type": "execute_result"
        }
      ],
      "source": [
        "# what is the shape of x?\n",
        "x.shape"
      ]
    },
    {
      "cell_type": "code",
      "execution_count": null,
      "metadata": {
        "colab": {
          "base_uri": "https://localhost:8080/",
          "height": 74
        },
        "id": "LXf3u8nae3r1",
        "outputId": "31ee42bc-a3cd-43a4-c26f-c1261e4d8ecc"
      },
      "outputs": [
        {
          "data": {
            "text/html": [
              "<style>#sk-container-id-1 {color: black;background-color: white;}#sk-container-id-1 pre{padding: 0;}#sk-container-id-1 div.sk-toggleable {background-color: white;}#sk-container-id-1 label.sk-toggleable__label {cursor: pointer;display: block;width: 100%;margin-bottom: 0;padding: 0.3em;box-sizing: border-box;text-align: center;}#sk-container-id-1 label.sk-toggleable__label-arrow:before {content: \"▸\";float: left;margin-right: 0.25em;color: #696969;}#sk-container-id-1 label.sk-toggleable__label-arrow:hover:before {color: black;}#sk-container-id-1 div.sk-estimator:hover label.sk-toggleable__label-arrow:before {color: black;}#sk-container-id-1 div.sk-toggleable__content {max-height: 0;max-width: 0;overflow: hidden;text-align: left;background-color: #f0f8ff;}#sk-container-id-1 div.sk-toggleable__content pre {margin: 0.2em;color: black;border-radius: 0.25em;background-color: #f0f8ff;}#sk-container-id-1 input.sk-toggleable__control:checked~div.sk-toggleable__content {max-height: 200px;max-width: 100%;overflow: auto;}#sk-container-id-1 input.sk-toggleable__control:checked~label.sk-toggleable__label-arrow:before {content: \"▾\";}#sk-container-id-1 div.sk-estimator input.sk-toggleable__control:checked~label.sk-toggleable__label {background-color: #d4ebff;}#sk-container-id-1 div.sk-label input.sk-toggleable__control:checked~label.sk-toggleable__label {background-color: #d4ebff;}#sk-container-id-1 input.sk-hidden--visually {border: 0;clip: rect(1px 1px 1px 1px);clip: rect(1px, 1px, 1px, 1px);height: 1px;margin: -1px;overflow: hidden;padding: 0;position: absolute;width: 1px;}#sk-container-id-1 div.sk-estimator {font-family: monospace;background-color: #f0f8ff;border: 1px dotted black;border-radius: 0.25em;box-sizing: border-box;margin-bottom: 0.5em;}#sk-container-id-1 div.sk-estimator:hover {background-color: #d4ebff;}#sk-container-id-1 div.sk-parallel-item::after {content: \"\";width: 100%;border-bottom: 1px solid gray;flex-grow: 1;}#sk-container-id-1 div.sk-label:hover label.sk-toggleable__label {background-color: #d4ebff;}#sk-container-id-1 div.sk-serial::before {content: \"\";position: absolute;border-left: 1px solid gray;box-sizing: border-box;top: 0;bottom: 0;left: 50%;z-index: 0;}#sk-container-id-1 div.sk-serial {display: flex;flex-direction: column;align-items: center;background-color: white;padding-right: 0.2em;padding-left: 0.2em;position: relative;}#sk-container-id-1 div.sk-item {position: relative;z-index: 1;}#sk-container-id-1 div.sk-parallel {display: flex;align-items: stretch;justify-content: center;background-color: white;position: relative;}#sk-container-id-1 div.sk-item::before, #sk-container-id-1 div.sk-parallel-item::before {content: \"\";position: absolute;border-left: 1px solid gray;box-sizing: border-box;top: 0;bottom: 0;left: 50%;z-index: -1;}#sk-container-id-1 div.sk-parallel-item {display: flex;flex-direction: column;z-index: 1;position: relative;background-color: white;}#sk-container-id-1 div.sk-parallel-item:first-child::after {align-self: flex-end;width: 50%;}#sk-container-id-1 div.sk-parallel-item:last-child::after {align-self: flex-start;width: 50%;}#sk-container-id-1 div.sk-parallel-item:only-child::after {width: 0;}#sk-container-id-1 div.sk-dashed-wrapped {border: 1px dashed gray;margin: 0 0.4em 0.5em 0.4em;box-sizing: border-box;padding-bottom: 0.4em;background-color: white;}#sk-container-id-1 div.sk-label label {font-family: monospace;font-weight: bold;display: inline-block;line-height: 1.2em;}#sk-container-id-1 div.sk-label-container {text-align: center;}#sk-container-id-1 div.sk-container {/* jupyter's `normalize.less` sets `[hidden] { display: none; }` but bootstrap.min.css set `[hidden] { display: none !important; }` so we also need the `!important` here to be able to override the default hidden behavior on the sphinx rendered scikit-learn.org. See: https://github.com/scikit-learn/scikit-learn/issues/21755 */display: inline-block !important;position: relative;}#sk-container-id-1 div.sk-text-repr-fallback {display: none;}</style><div id=\"sk-container-id-1\" class=\"sk-top-container\"><div class=\"sk-text-repr-fallback\"><pre>LinearRegression()</pre><b>In a Jupyter environment, please rerun this cell to show the HTML representation or trust the notebook. <br />On GitHub, the HTML representation is unable to render, please try loading this page with nbviewer.org.</b></div><div class=\"sk-container\" hidden><div class=\"sk-item\"><div class=\"sk-estimator sk-toggleable\"><input class=\"sk-toggleable__control sk-hidden--visually\" id=\"sk-estimator-id-1\" type=\"checkbox\" checked><label for=\"sk-estimator-id-1\" class=\"sk-toggleable__label sk-toggleable__label-arrow\">LinearRegression</label><div class=\"sk-toggleable__content\"><pre>LinearRegression()</pre></div></div></div></div></div>"
            ],
            "text/plain": [
              "LinearRegression()"
            ]
          },
          "execution_count": 11,
          "metadata": {},
          "output_type": "execute_result"
        }
      ],
      "source": [
        "model = LinearRegression()\n",
        "model.fit(x.reshape(-1,1),y)"
      ]
    },
    {
      "cell_type": "code",
      "execution_count": null,
      "metadata": {
        "colab": {
          "base_uri": "https://localhost:8080/"
        },
        "id": "OeO0_qwOfB3m",
        "outputId": "857ae3ee-ab13-4a8e-9073-97ff5dcc7f82"
      },
      "outputs": [
        {
          "data": {
            "text/plain": [
              "(array([-5.34447157]), 37.28512616734204)"
            ]
          },
          "execution_count": 21,
          "metadata": {},
          "output_type": "execute_result"
        }
      ],
      "source": [
        "model.coef_ , model.intercept_ # this is what the has learned"
      ]
    },
    {
      "cell_type": "code",
      "execution_count": null,
      "metadata": {
        "id": "hekTRDL5ep5s"
      },
      "outputs": [],
      "source": [
        "x_range = np.linspace(np.min(x)-1,np.max(x)+1,2)\n",
        "yhat = model.predict(x_range.reshape(-1,1))"
      ]
    },
    {
      "cell_type": "code",
      "execution_count": null,
      "metadata": {
        "id": "DsAlBKPMW3sA"
      },
      "outputs": [],
      "source": [
        "#Plot dataset\n",
        "plt.scatter(x, y,ec='k',color='cyan',alpha=0.6)\n",
        "#Predict y values\n",
        "pred = model.coef_ * x_range + model.intercept_\n",
        "#Plot predictions as line of best fit\n",
        "plt.plot(x_range, pred, c='g')\n",
        "plt.xlim(0, 6)\n",
        "plt.ylim(0, 50)\n",
        "plt.xlabel('Independent Variable $X$',fontsize=14,color='navy')\n",
        "plt.ylabel('Dependent Variable $Y$',fontsize=14,color='navy')\n",
        "plt.grid(which='major', color ='grey', linestyle='-', alpha=0.8)\n",
        "plt.grid(which='minor', color ='grey', linestyle='--', alpha=0.2)\n",
        "plt.axvline(x=xb, color='red',linestyle='dashed')\n",
        "plt.axhline(y=yb, color='purple',linestyle='dashed')\n",
        "plt.tick_params(axis='x', color='navy')\n",
        "plt.tick_params(axis='y', color='navy')\n",
        "plt.minorticks_on()\n",
        "plt.title('Line of best fit',fontsize=14)\n",
        "plt.legend(['Data','Trend','Mean of $X$','Mean of $Y$'])\n",
        "plt.savefig('lineacorrelation.png',dpi=300)\n",
        "plt.show()"
      ]
    },
    {
      "cell_type": "code",
      "execution_count": null,
      "metadata": {
        "colab": {
          "base_uri": "https://localhost:8080/"
        },
        "id": "pcVC2P0YMyJu",
        "outputId": "c5a809f2-20db-4271-dd0b-77884a8d6b94"
      },
      "outputs": [
        {
          "data": {
            "text/plain": [
              "0.7528327936582646"
            ]
          },
          "execution_count": 59,
          "metadata": {},
          "output_type": "execute_result"
        }
      ],
      "source": [
        "model.score(x.reshape(-1,1),y)"
      ]
    },
    {
      "cell_type": "code",
      "execution_count": null,
      "metadata": {
        "colab": {
          "base_uri": "https://localhost:8080/"
        },
        "id": "aFmLGZ9whQou",
        "outputId": "d95e0f48-25b2-40b7-936d-053e5a8c0144"
      },
      "outputs": [
        {
          "data": {
            "text/plain": [
              "0.7528327936582647"
            ]
          },
          "execution_count": 44,
          "metadata": {},
          "output_type": "execute_result"
        }
      ],
      "source": [
        "r**2"
      ]
    },
    {
      "cell_type": "markdown",
      "metadata": {
        "id": "Yb0uKwp4jYCY"
      },
      "source": [
        "####   <font color='blue'>Test the Residuals for Goodness of fit</font>\n",
        "\n",
        "We investigate the distribution of the residuals, plot a histogram and apply a normality test"
      ]
    },
    {
      "cell_type": "code",
      "execution_count": null,
      "metadata": {
        "id": "Zsa8qnNkjXUL"
      },
      "outputs": [],
      "source": [
        "residuals = y - model.predict(x.reshape(-1,1))"
      ]
    },
    {
      "cell_type": "code",
      "execution_count": null,
      "metadata": {
        "id": "nzGjzAGjfykI"
      },
      "outputs": [],
      "source": [
        "import seaborn as sns\n",
        "\n",
        "# import uniform distribution\n",
        "from scipy import stats\n",
        "from scipy.stats import norm"
      ]
    },
    {
      "cell_type": "code",
      "execution_count": null,
      "metadata": {
        "colab": {
          "base_uri": "https://localhost:8080/",
          "height": 336
        },
        "id": "QRE1MmBQkLVH",
        "outputId": "c32a037a-d738-4cb4-d25a-6f365b8d998f"
      },
      "outputs": [
        {
          "name": "stderr",
          "output_type": "stream",
          "text": [
            "/usr/local/lib/python3.7/dist-packages/seaborn/distributions.py:2619: FutureWarning: `distplot` is a deprecated function and will be removed in a future version. Please adapt your code to use either `displot` (a figure-level function with similar flexibility) or `histplot` (an axes-level function for histograms).\n",
            "  warnings.warn(msg, FutureWarning)\n"
          ]
        },
        {
          "data": {
            "image/png": "[encoded data removed]",
            "text/plain": [
              "<Figure size 432x288 with 1 Axes>"
            ]
          },
          "metadata": {
            "needs_background": "light"
          },
          "output_type": "display_data"
        }
      ],
      "source": [
        "ax1 = sns.distplot(residuals,\n",
        "\n",
        "                  bins=8,\n",
        "                  kde=False,\n",
        "                  color='deepskyblue',\n",
        "                  hist_kws={\"color\":'green','ec':'black'},\n",
        "                  fit=stats.norm,\n",
        "                  fit_kws={\"color\":'red'})\n",
        "ax1.set(xlabel='Residuals', ylabel='Frequency')\n",
        "plt.show()"
      ]
    },
    {
      "cell_type": "markdown",
      "metadata": {
        "id": "VRhxtHEKmNB2"
      },
      "source": [
        "### Message: The histogram does not quite look like a normal distribution. We can also consider a Q-Q Plot:"
      ]
    },
    {
      "cell_type": "code",
      "execution_count": null,
      "metadata": {
        "colab": {
          "base_uri": "https://localhost:8080/",
          "height": 334
        },
        "id": "ChZACQ4_kQoS",
        "outputId": "bb4b31e0-445d-4c0b-8f36-828927c5140a"
      },
      "outputs": [
        {
          "name": "stderr",
          "output_type": "stream",
          "text": [
            "/usr/local/lib/python3.7/dist-packages/ipykernel_launcher.py:5: MatplotlibDeprecationWarning: Adding an axes using the same arguments as a previous axes currently reuses the earlier instance.  In a future version, a new instance will always be created and returned.  Meanwhile, this warning can be suppressed, and the future behavior ensured, by passing a unique label to each axes instance.\n",
            "  \"\"\"\n"
          ]
        },
        {
          "data": {
            "image/png": "[encoded data removed]",
            "text/plain": [
              "<Figure size 432x288 with 1 Axes>"
            ]
          },
          "metadata": {
            "needs_background": "light"
          },
          "output_type": "display_data"
        }
      ],
      "source": [
        "import statsmodels.api as sm\n",
        "sm.qqplot(residuals/np.std(residuals), loc = 0, scale = 1, line='s',alpha=0.5)\n",
        "plt.xlim([-2.5,2.5])\n",
        "plt.ylim([-2.5,2.5])\n",
        "plt.axes().set_aspect('equal')\n",
        "plt.grid(b=True,which='major', color ='grey', linestyle='-', alpha=0.5)\n",
        "plt.grid(b=True,which='minor', color ='grey', linestyle='--', alpha=0.15)\n",
        "plt.minorticks_on()\n",
        "plt.show()"
      ]
    },
    {
      "cell_type": "markdown",
      "metadata": {
        "id": "uEHnMOojpBpS"
      },
      "source": []
    },
    {
      "cell_type": "code",
      "execution_count": null,
      "metadata": {
        "id": "wBwqN6kCoCzp"
      },
      "outputs": [],
      "source": [
        "dist = getattr(stats, 'norm')\n",
        "params = dist.fit(residuals)"
      ]
    },
    {
      "cell_type": "code",
      "execution_count": null,
      "metadata": {
        "colab": {
          "base_uri": "https://localhost:8080/"
        },
        "id": "BJOIDR2OE4Hr",
        "outputId": "b15dd523-dff1-4fbb-e294-6b1c7fd8cf23"
      },
      "outputs": [
        {
          "data": {
            "text/plain": [
              "(-8.215650382226158e-15, 2.949162685955028)"
            ]
          },
          "execution_count": 65,
          "metadata": {},
          "output_type": "execute_result"
        }
      ],
      "source": [
        "params"
      ]
    },
    {
      "cell_type": "code",
      "execution_count": null,
      "metadata": {
        "colab": {
          "base_uri": "https://localhost:8080/"
        },
        "id": "eLVsgtnrFBW0",
        "outputId": "2124b262-e881-4669-d451-80720e3a1d56"
      },
      "outputs": [
        {
          "data": {
            "text/plain": [
              "KstestResult(statistic=0.08217402470387336, pvalue=0.9821261392158506)"
            ]
          },
          "execution_count": 66,
          "metadata": {},
          "output_type": "execute_result"
        }
      ],
      "source": [
        "# here we apply the test\n",
        "stats.kstest(residuals, \"norm\", params)"
      ]
    },
    {
      "cell_type": "markdown",
      "metadata": {
        "id": "2aEaWL6gHHHr"
      },
      "source": [
        "### The conclusion, in our case, is that the normality assumption is not violated."
      ]
    },
    {
      "cell_type": "code",
      "execution_count": null,
      "metadata": {
        "id": "Q1PMImCpFIv2"
      },
      "outputs": [],
      "source": [
        "# for your convenience, this is the table with the critical values for the\n",
        "# Kolmogorov-Smirnov test\n",
        "\n",
        "def ks_critical_value(n_trials, alpha):\n",
        "    return ksone.ppf(1-alpha/2, n_trials)\n",
        "\n",
        "trials = range(1, 40)\n",
        "alphas = [0.1, 0.05, 0.02, 0.01]\n",
        "\n",
        "# Print table headers\n",
        "print('{:<6}|{:<6} Level of significance, alpha'.format(' ', ' '))\n",
        "print('{:<6}|{:>8} {:>8} {:>8} {:>8}'.format(*['Trials'] + alphas))\n",
        "print('-' * 42)\n",
        "# Print critical values for each n_trials x alpha combination\n",
        "for t in trials:\n",
        "    print('{:6d}|{:>8.5f} {:>8.5f} {:>8.5f} {:>8.5f}'\n",
        "          .format(*[t] + [ks_critical_value(t, a) for a in alphas]))\n",
        "    if t % 10 == 0:\n",
        "        print()"
      ]
    },
    {
      "cell_type": "code",
      "execution_count": null,
      "metadata": {
        "colab": {
          "base_uri": "https://localhost:8080/"
        },
        "id": "-eFvUaD3F7kX",
        "outputId": "ddcb1e95-ae24-4d7c-ba58-15fe6a12f8fd"
      },
      "outputs": [
        {
          "data": {
            "text/plain": [
              "0.15594527177147208"
            ]
          },
          "execution_count": 168,
          "metadata": {},
          "output_type": "execute_result"
        }
      ],
      "source": [
        "ks_critical_value(31,0.4)"
      ]
    },
    {
      "cell_type": "markdown",
      "metadata": {
        "id": "Vd1uHXYmJy_g"
      },
      "source": [
        "### A different normality test indicates the same thing"
      ]
    },
    {
      "cell_type": "code",
      "execution_count": null,
      "metadata": {
        "colab": {
          "base_uri": "https://localhost:8080/"
        },
        "id": "uGqzhCE3GDkm",
        "outputId": "3fb0f9a5-7207-45b8-9ae4-6a9926fefeb8"
      },
      "outputs": [
        {
          "data": {
            "text/plain": [
              "AndersonResult(statistic=0.46842144463906266, critical_values=array([0.523, 0.596, 0.715, 0.834, 0.992]), significance_level=array([15. , 10. ,  5. ,  2.5,  1. ]))"
            ]
          },
          "execution_count": 67,
          "metadata": {},
          "output_type": "execute_result"
        }
      ],
      "source": [
        "stats.anderson(residuals,dist='norm')"
      ]
    },
    {
      "cell_type": "code",
      "execution_count": null,
      "metadata": {
        "colab": {
          "base_uri": "https://localhost:8080/"
        },
        "id": "tKVITrWjJj7_",
        "outputId": "1585fdbe-a678-42eb-9d62-43d34b7d92d6"
      },
      "outputs": [
        {
          "data": {
            "text/plain": [
              "(0.9450768828392029, 0.10438867658376694)"
            ]
          },
          "execution_count": 132,
          "metadata": {},
          "output_type": "execute_result"
        }
      ],
      "source": [
        "stats.shapiro(residuals)"
      ]
    },
    {
      "cell_type": "code",
      "execution_count": null,
      "metadata": {
        "cellView": "form",
        "id": "uDo5OvQEKLlZ"
      },
      "outputs": [],
      "source": [
        "#@title\n",
        "model = sm.OLS(y, x)\n",
        "results = model.fit()\n",
        "print(results.summary())"
      ]
    },
    {
      "cell_type": "code",
      "execution_count": null,
      "metadata": {
        "colab": {
          "base_uri": "https://localhost:8080/",
          "height": 1000
        },
        "id": "AL4G_vR3LXd2",
        "outputId": "2d2232b3-59b7-4008-ec2b-1cb9def6e303"
      },
      "outputs": [
        {
          "data": {
            "text/html": [
              "<div>\n",
              "<style scoped>\n",
              "    .dataframe tbody tr th:only-of-type {\n",
              "        vertical-align: middle;\n",
              "    }\n",
              "\n",
              "    .dataframe tbody tr th {\n",
              "        vertical-align: top;\n",
              "    }\n",
              "\n",
              "    .dataframe thead th {\n",
              "        text-align: right;\n",
              "    }\n",
              "</style>\n",
              "<table border=\"1\" class=\"dataframe\">\n",
              "  <thead>\n",
              "    <tr style=\"text-align: right;\">\n",
              "      <th></th>\n",
              "      <th>cyl</th>\n",
              "      <th>disp</th>\n",
              "      <th>hp</th>\n",
              "      <th>drat</th>\n",
              "      <th>wt</th>\n",
              "      <th>qsec</th>\n",
              "    </tr>\n",
              "  </thead>\n",
              "  <tbody>\n",
              "    <tr>\n",
              "      <th>0</th>\n",
              "      <td>6</td>\n",
              "      <td>160.0</td>\n",
              "      <td>110</td>\n",
              "      <td>3.90</td>\n",
              "      <td>2.620</td>\n",
              "      <td>16.46</td>\n",
              "    </tr>\n",
              "    <tr>\n",
              "      <th>1</th>\n",
              "      <td>6</td>\n",
              "      <td>160.0</td>\n",
              "      <td>110</td>\n",
              "      <td>3.90</td>\n",
              "      <td>2.875</td>\n",
              "      <td>17.02</td>\n",
              "    </tr>\n",
              "    <tr>\n",
              "      <th>2</th>\n",
              "      <td>4</td>\n",
              "      <td>108.0</td>\n",
              "      <td>93</td>\n",
              "      <td>3.85</td>\n",
              "      <td>2.320</td>\n",
              "      <td>18.61</td>\n",
              "    </tr>\n",
              "    <tr>\n",
              "      <th>3</th>\n",
              "      <td>6</td>\n",
              "      <td>258.0</td>\n",
              "      <td>110</td>\n",
              "      <td>3.08</td>\n",
              "      <td>3.215</td>\n",
              "      <td>19.44</td>\n",
              "    </tr>\n",
              "    <tr>\n",
              "      <th>4</th>\n",
              "      <td>8</td>\n",
              "      <td>360.0</td>\n",
              "      <td>175</td>\n",
              "      <td>3.15</td>\n",
              "      <td>3.440</td>\n",
              "      <td>17.02</td>\n",
              "    </tr>\n",
              "    <tr>\n",
              "      <th>5</th>\n",
              "      <td>6</td>\n",
              "      <td>225.0</td>\n",
              "      <td>105</td>\n",
              "      <td>2.76</td>\n",
              "      <td>3.460</td>\n",
              "      <td>20.22</td>\n",
              "    </tr>\n",
              "    <tr>\n",
              "      <th>6</th>\n",
              "      <td>8</td>\n",
              "      <td>360.0</td>\n",
              "      <td>245</td>\n",
              "      <td>3.21</td>\n",
              "      <td>3.570</td>\n",
              "      <td>15.84</td>\n",
              "    </tr>\n",
              "    <tr>\n",
              "      <th>7</th>\n",
              "      <td>4</td>\n",
              "      <td>146.7</td>\n",
              "      <td>62</td>\n",
              "      <td>3.69</td>\n",
              "      <td>3.190</td>\n",
              "      <td>20.00</td>\n",
              "    </tr>\n",
              "    <tr>\n",
              "      <th>8</th>\n",
              "      <td>4</td>\n",
              "      <td>140.8</td>\n",
              "      <td>95</td>\n",
              "      <td>3.92</td>\n",
              "      <td>3.150</td>\n",
              "      <td>22.90</td>\n",
              "    </tr>\n",
              "    <tr>\n",
              "      <th>9</th>\n",
              "      <td>6</td>\n",
              "      <td>167.6</td>\n",
              "      <td>123</td>\n",
              "      <td>3.92</td>\n",
              "      <td>3.440</td>\n",
              "      <td>18.30</td>\n",
              "    </tr>\n",
              "    <tr>\n",
              "      <th>10</th>\n",
              "      <td>6</td>\n",
              "      <td>167.6</td>\n",
              "      <td>123</td>\n",
              "      <td>3.92</td>\n",
              "      <td>3.440</td>\n",
              "      <td>18.90</td>\n",
              "    </tr>\n",
              "    <tr>\n",
              "      <th>11</th>\n",
              "      <td>8</td>\n",
              "      <td>275.8</td>\n",
              "      <td>180</td>\n",
              "      <td>3.07</td>\n",
              "      <td>4.070</td>\n",
              "      <td>17.40</td>\n",
              "    </tr>\n",
              "    <tr>\n",
              "      <th>12</th>\n",
              "      <td>8</td>\n",
              "      <td>275.8</td>\n",
              "      <td>180</td>\n",
              "      <td>3.07</td>\n",
              "      <td>3.730</td>\n",
              "      <td>17.60</td>\n",
              "    </tr>\n",
              "    <tr>\n",
              "      <th>13</th>\n",
              "      <td>8</td>\n",
              "      <td>275.8</td>\n",
              "      <td>180</td>\n",
              "      <td>3.07</td>\n",
              "      <td>3.780</td>\n",
              "      <td>18.00</td>\n",
              "    </tr>\n",
              "    <tr>\n",
              "      <th>14</th>\n",
              "      <td>8</td>\n",
              "      <td>472.0</td>\n",
              "      <td>205</td>\n",
              "      <td>2.93</td>\n",
              "      <td>5.250</td>\n",
              "      <td>17.98</td>\n",
              "    </tr>\n",
              "    <tr>\n",
              "      <th>15</th>\n",
              "      <td>8</td>\n",
              "      <td>460.0</td>\n",
              "      <td>215</td>\n",
              "      <td>3.00</td>\n",
              "      <td>5.424</td>\n",
              "      <td>17.82</td>\n",
              "    </tr>\n",
              "    <tr>\n",
              "      <th>16</th>\n",
              "      <td>8</td>\n",
              "      <td>440.0</td>\n",
              "      <td>230</td>\n",
              "      <td>3.23</td>\n",
              "      <td>5.345</td>\n",
              "      <td>17.42</td>\n",
              "    </tr>\n",
              "    <tr>\n",
              "      <th>17</th>\n",
              "      <td>4</td>\n",
              "      <td>78.7</td>\n",
              "      <td>66</td>\n",
              "      <td>4.08</td>\n",
              "      <td>2.200</td>\n",
              "      <td>19.47</td>\n",
              "    </tr>\n",
              "    <tr>\n",
              "      <th>18</th>\n",
              "      <td>4</td>\n",
              "      <td>75.7</td>\n",
              "      <td>52</td>\n",
              "      <td>4.93</td>\n",
              "      <td>1.615</td>\n",
              "      <td>18.52</td>\n",
              "    </tr>\n",
              "    <tr>\n",
              "      <th>19</th>\n",
              "      <td>4</td>\n",
              "      <td>71.1</td>\n",
              "      <td>65</td>\n",
              "      <td>4.22</td>\n",
              "      <td>1.835</td>\n",
              "      <td>19.90</td>\n",
              "    </tr>\n",
              "    <tr>\n",
              "      <th>20</th>\n",
              "      <td>4</td>\n",
              "      <td>120.1</td>\n",
              "      <td>97</td>\n",
              "      <td>3.70</td>\n",
              "      <td>2.465</td>\n",
              "      <td>20.01</td>\n",
              "    </tr>\n",
              "    <tr>\n",
              "      <th>21</th>\n",
              "      <td>8</td>\n",
              "      <td>318.0</td>\n",
              "      <td>150</td>\n",
              "      <td>2.76</td>\n",
              "      <td>3.520</td>\n",
              "      <td>16.87</td>\n",
              "    </tr>\n",
              "    <tr>\n",
              "      <th>22</th>\n",
              "      <td>8</td>\n",
              "      <td>304.0</td>\n",
              "      <td>150</td>\n",
              "      <td>3.15</td>\n",
              "      <td>3.435</td>\n",
              "      <td>17.30</td>\n",
              "    </tr>\n",
              "    <tr>\n",
              "      <th>23</th>\n",
              "      <td>8</td>\n",
              "      <td>350.0</td>\n",
              "      <td>245</td>\n",
              "      <td>3.73</td>\n",
              "      <td>3.840</td>\n",
              "      <td>15.41</td>\n",
              "    </tr>\n",
              "    <tr>\n",
              "      <th>24</th>\n",
              "      <td>8</td>\n",
              "      <td>400.0</td>\n",
              "      <td>175</td>\n",
              "      <td>3.08</td>\n",
              "      <td>3.845</td>\n",
              "      <td>17.05</td>\n",
              "    </tr>\n",
              "    <tr>\n",
              "      <th>25</th>\n",
              "      <td>4</td>\n",
              "      <td>79.0</td>\n",
              "      <td>66</td>\n",
              "      <td>4.08</td>\n",
              "      <td>1.935</td>\n",
              "      <td>18.90</td>\n",
              "    </tr>\n",
              "    <tr>\n",
              "      <th>26</th>\n",
              "      <td>4</td>\n",
              "      <td>120.3</td>\n",
              "      <td>91</td>\n",
              "      <td>4.43</td>\n",
              "      <td>2.140</td>\n",
              "      <td>16.70</td>\n",
              "    </tr>\n",
              "    <tr>\n",
              "      <th>27</th>\n",
              "      <td>4</td>\n",
              "      <td>95.1</td>\n",
              "      <td>113</td>\n",
              "      <td>3.77</td>\n",
              "      <td>1.513</td>\n",
              "      <td>16.90</td>\n",
              "    </tr>\n",
              "    <tr>\n",
              "      <th>28</th>\n",
              "      <td>8</td>\n",
              "      <td>351.0</td>\n",
              "      <td>264</td>\n",
              "      <td>4.22</td>\n",
              "      <td>3.170</td>\n",
              "      <td>14.50</td>\n",
              "    </tr>\n",
              "    <tr>\n",
              "      <th>29</th>\n",
              "      <td>6</td>\n",
              "      <td>145.0</td>\n",
              "      <td>175</td>\n",
              "      <td>3.62</td>\n",
              "      <td>2.770</td>\n",
              "      <td>15.50</td>\n",
              "    </tr>\n",
              "    <tr>\n",
              "      <th>30</th>\n",
              "      <td>8</td>\n",
              "      <td>301.0</td>\n",
              "      <td>335</td>\n",
              "      <td>3.54</td>\n",
              "      <td>3.570</td>\n",
              "      <td>14.60</td>\n",
              "    </tr>\n",
              "    <tr>\n",
              "      <th>31</th>\n",
              "      <td>4</td>\n",
              "      <td>121.0</td>\n",
              "      <td>109</td>\n",
              "      <td>4.11</td>\n",
              "      <td>2.780</td>\n",
              "      <td>18.60</td>\n",
              "    </tr>\n",
              "  </tbody>\n",
              "</table>\n",
              "</div>"
            ],
            "text/plain": [
              "    cyl   disp   hp  drat     wt   qsec\n",
              "0     6  160.0  110  3.90  2.620  16.46\n",
              "1     6  160.0  110  3.90  2.875  17.02\n",
              "2     4  108.0   93  3.85  2.320  18.61\n",
              "3     6  258.0  110  3.08  3.215  19.44\n",
              "4     8  360.0  175  3.15  3.440  17.02\n",
              "5     6  225.0  105  2.76  3.460  20.22\n",
              "6     8  360.0  245  3.21  3.570  15.84\n",
              "7     4  146.7   62  3.69  3.190  20.00\n",
              "8     4  140.8   95  3.92  3.150  22.90\n",
              "9     6  167.6  123  3.92  3.440  18.30\n",
              "10    6  167.6  123  3.92  3.440  18.90\n",
              "11    8  275.8  180  3.07  4.070  17.40\n",
              "12    8  275.8  180  3.07  3.730  17.60\n",
              "13    8  275.8  180  3.07  3.780  18.00\n",
              "14    8  472.0  205  2.93  5.250  17.98\n",
              "15    8  460.0  215  3.00  5.424  17.82\n",
              "16    8  440.0  230  3.23  5.345  17.42\n",
              "17    4   78.7   66  4.08  2.200  19.47\n",
              "18    4   75.7   52  4.93  1.615  18.52\n",
              "19    4   71.1   65  4.22  1.835  19.90\n",
              "20    4  120.1   97  3.70  2.465  20.01\n",
              "21    8  318.0  150  2.76  3.520  16.87\n",
              "22    8  304.0  150  3.15  3.435  17.30\n",
              "23    8  350.0  245  3.73  3.840  15.41\n",
              "24    8  400.0  175  3.08  3.845  17.05\n",
              "25    4   79.0   66  4.08  1.935  18.90\n",
              "26    4  120.3   91  4.43  2.140  16.70\n",
              "27    4   95.1  113  3.77  1.513  16.90\n",
              "28    8  351.0  264  4.22  3.170  14.50\n",
              "29    6  145.0  175  3.62  2.770  15.50\n",
              "30    8  301.0  335  3.54  3.570  14.60\n",
              "31    4  121.0  109  4.11  2.780  18.60"
            ]
          },
          "execution_count": 153,
          "metadata": {},
          "output_type": "execute_result"
        }
      ],
      "source": [
        "x = cars.iloc[:,2:8]\n",
        "x"
      ]
    },
    {
      "cell_type": "code",
      "execution_count": null,
      "metadata": {
        "colab": {
          "base_uri": "https://localhost:8080/"
        },
        "id": "BAZDhXJHN-9M",
        "outputId": "91df7ac7-16a3-4f84-86e3-3a3255742f6c"
      },
      "outputs": [
        {
          "data": {
            "text/plain": [
              "LinearRegression(copy_X=True, fit_intercept=True, n_jobs=None, normalize=False)"
            ]
          },
          "execution_count": 154,
          "metadata": {},
          "output_type": "execute_result"
        }
      ],
      "source": [
        "model.fit(x,y)"
      ]
    },
    {
      "cell_type": "code",
      "execution_count": null,
      "metadata": {
        "colab": {
          "base_uri": "https://localhost:8080/"
        },
        "id": "LRWJRfWrOKIF",
        "outputId": "30b7e180-14fe-45eb-9732-61df8e5badc1"
      },
      "outputs": [
        {
          "data": {
            "text/plain": [
              "0.8548224115848234"
            ]
          },
          "execution_count": 155,
          "metadata": {},
          "output_type": "execute_result"
        }
      ],
      "source": [
        "model.score(x,y)"
      ]
    },
    {
      "cell_type": "code",
      "execution_count": null,
      "metadata": {
        "id": "cxF2w93WOLox"
      },
      "outputs": [],
      "source": [
        "residuals = y - model.predict(x)"
      ]
    },
    {
      "cell_type": "code",
      "execution_count": null,
      "metadata": {
        "colab": {
          "base_uri": "https://localhost:8080/",
          "height": 485
        },
        "id": "3hqzinEQOa9O",
        "outputId": "05056a46-6d43-46b4-8f9e-39edeb46089a"
      },
      "outputs": [
        {
          "name": "stderr",
          "output_type": "stream",
          "text": [
            "/usr/local/lib/python3.7/dist-packages/seaborn/distributions.py:2619: FutureWarning: `distplot` is a deprecated function and will be removed in a future version. Please adapt your code to use either `displot` (a figure-level function with similar flexibility) or `histplot` (an axes-level function for histograms).\n",
            "  warnings.warn(msg, FutureWarning)\n"
          ]
        },
        {
          "data": {
            "image/png": "[encoded data removed]",
            "text/plain": [
              "<Figure size 720x480 with 1 Axes>"
            ]
          },
          "metadata": {
            "image/png": {
              "height": 414,
              "width": 630
            },
            "needs_background": "light"
          },
          "output_type": "display_data"
        }
      ],
      "source": [
        "\n",
        "sns.distplot(residuals,\n",
        "                  bins=8,\n",
        "                  kde=False,\n",
        "                  color='deepskyblue',\n",
        "                  hist_kws={\"color\":'green','ec':'black'},\n",
        "                  fit=stats.norm,\n",
        "                  fit_kws={\"color\":'red'})\n",
        "plt.show()"
      ]
    },
    {
      "cell_type": "code",
      "execution_count": null,
      "metadata": {
        "id": "XjvC8x4AOdCB"
      },
      "outputs": [],
      "source": [
        "dist = getattr(stats, 'norm')\n",
        "params = dist.fit(residuals)"
      ]
    },
    {
      "cell_type": "code",
      "execution_count": null,
      "metadata": {
        "colab": {
          "base_uri": "https://localhost:8080/"
        },
        "id": "unTiR0ZGPK-1",
        "outputId": "5543c918-5030-4680-cec0-bdfba6c44ba4"
      },
      "outputs": [
        {
          "data": {
            "text/plain": [
              "KstestResult(statistic=0.15722261669146254, pvalue=0.37091468826166857)"
            ]
          },
          "execution_count": 165,
          "metadata": {},
          "output_type": "execute_result"
        }
      ],
      "source": [
        "# here we apply the Kolmogorov-Smirnov test\n",
        "stats.kstest(residuals, \"norm\", params) # the confidence has increased compared to the case of using only one input feature."
      ]
    },
    {
      "cell_type": "code",
      "execution_count": null,
      "metadata": {
        "id": "liBp0fLEjd8B"
      },
      "outputs": [],
      "source": []
    }
  ],
  "metadata": {
    "colab": {
      "provenance": []
    },
    "kernelspec": {
      "display_name": "Python 3",
      "name": "python3"
    },
    "language_info": {
      "codemirror_mode": {
        "name": "ipython",
        "version": 3
      },
      "file_extension": ".py",
      "mimetype": "text/x-python",
      "name": "python",
      "nbconvert_exporter": "python",
      "pygments_lexer": "ipython3",
      "version": "3.10.9"
    }
  },
  "nbformat": 4,
  "nbformat_minor": 0
}
